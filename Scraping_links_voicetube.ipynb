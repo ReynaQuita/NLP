{
  "nbformat": 4,
  "nbformat_minor": 0,
  "metadata": {
    "colab": {
      "name": "Scraping_links_voicetube.ipynb",
      "provenance": [],
      "collapsed_sections": [
        "iLLwYjk5S-vv"
      ],
      "authorship_tag": "ABX9TyN2MjSCHLjDF0buYfmOR04K",
      "include_colab_link": true
    },
    "kernelspec": {
      "name": "python3",
      "display_name": "Python 3"
    },
    "language_info": {
      "name": "python"
    }
  },
  "cells": [
    {
      "cell_type": "markdown",
      "metadata": {
        "id": "view-in-github",
        "colab_type": "text"
      },
      "source": [
        "<a href=\"https://colab.research.google.com/github/ReynaQuita/NLP/blob/main/Scraping_links_voicetube.ipynb\" target=\"_parent\"><img src=\"https://colab.research.google.com/assets/colab-badge.svg\" alt=\"Open In Colab\"/></a>"
      ]
    },
    {
      "cell_type": "code",
      "metadata": {
        "colab": {
          "base_uri": "https://localhost:8080/"
        },
        "id": "heNj1F_o_Se_",
        "outputId": "a7c0a50e-6804-4cbe-e6d8-c119fefeefb4"
      },
      "source": [
        "!pip install bs4 requests"
      ],
      "execution_count": 1,
      "outputs": [
        {
          "output_type": "stream",
          "text": [
            "Requirement already satisfied: bs4 in /usr/local/lib/python3.7/dist-packages (0.0.1)\n",
            "Requirement already satisfied: requests in /usr/local/lib/python3.7/dist-packages (2.23.0)\n",
            "Requirement already satisfied: beautifulsoup4 in /usr/local/lib/python3.7/dist-packages (from bs4) (4.6.3)\n",
            "Requirement already satisfied: certifi>=2017.4.17 in /usr/local/lib/python3.7/dist-packages (from requests) (2021.5.30)\n",
            "Requirement already satisfied: idna<3,>=2.5 in /usr/local/lib/python3.7/dist-packages (from requests) (2.10)\n",
            "Requirement already satisfied: chardet<4,>=3.0.2 in /usr/local/lib/python3.7/dist-packages (from requests) (3.0.4)\n",
            "Requirement already satisfied: urllib3!=1.25.0,!=1.25.1,<1.26,>=1.21.1 in /usr/local/lib/python3.7/dist-packages (from requests) (1.24.3)\n"
          ],
          "name": "stdout"
        }
      ]
    },
    {
      "cell_type": "code",
      "metadata": {
        "id": "yxhwgEyE_WIg"
      },
      "source": [
        "import requests\n",
        "from bs4 import BeautifulSoup\n",
        "import re"
      ],
      "execution_count": 2,
      "outputs": []
    },
    {
      "cell_type": "code",
      "metadata": {
        "id": "8e8YWg_qRJnr"
      },
      "source": [
        "url = [\n",
        "       'https://tw.voicetube.com/channels/business-and-finance/1?sortBy=publishedAt',\n",
        "       'https://tw.voicetube.com/channels/business-and-finance/2?sortBy=publishedAt',\n",
        "       'https://tw.voicetube.com/channels/business-and-finance/3?sortBy=publishedAt',\n",
        "       'https://tw.voicetube.com/channels/business-and-finance/4?sortBy=publishedAt',\n",
        "       'https://tw.voicetube.com/channels/business-and-finance/5?sortBy=publishedAt',\n",
        "       'https://tw.voicetube.com/channels/business-and-finance/6?sortBy=publishedAt'\n",
        "]"
      ],
      "execution_count": 3,
      "outputs": []
    },
    {
      "cell_type": "markdown",
      "metadata": {
        "id": "GdxOqpZGTDzC"
      },
      "source": [
        "### **Clean Version**"
      ]
    },
    {
      "cell_type": "code",
      "metadata": {
        "id": "knRM81mdRpAP"
      },
      "source": [
        "def scrap_link(url):\n",
        "  reqs = requests.get(url)\n",
        "  soup = BeautifulSoup(reqs.text, 'html.parser')\n",
        "\n",
        "  urls = []\n",
        "  for link in soup.find_all('a'):\n",
        "    link = str(link.get('href'))\n",
        "    # print(link)\n",
        "    m = re.match(r\"/videos/[0-9]+\",link)\n",
        "    if m:\n",
        "      urls.append(m.group(0))\n",
        "\n",
        "  new_urls = []\n",
        "  for i in urls:\n",
        "    l = 'https://tw.voicetube.com' + i +'/print'\n",
        "    request = requests.get(l)\n",
        "  \n",
        "    #checking if the website exists or not\n",
        "    if request.status_code == 200:\n",
        "      new_urls.append(l)\n",
        "      \n",
        "  return new_urls"
      ],
      "execution_count": 4,
      "outputs": []
    },
    {
      "cell_type": "code",
      "metadata": {
        "id": "gAi7n3sqRUs7"
      },
      "source": [
        "b = [] \n",
        "for u in url:\n",
        "  a = scrap_link(u)\n",
        "  b.extend(a)"
      ],
      "execution_count": 5,
      "outputs": []
    },
    {
      "cell_type": "code",
      "metadata": {
        "colab": {
          "base_uri": "https://localhost:8080/"
        },
        "id": "_upCtVwYS8Vn",
        "outputId": "01e6e1df-adde-4043-a3f7-102d45ccfe95"
      },
      "source": [
        "len(b)"
      ],
      "execution_count": 6,
      "outputs": [
        {
          "output_type": "execute_result",
          "data": {
            "text/plain": [
              "225"
            ]
          },
          "metadata": {
            "tags": []
          },
          "execution_count": 6
        }
      ]
    },
    {
      "cell_type": "code",
      "metadata": {
        "id": "vqlw6TGPViXs"
      },
      "source": [
        "with open('business_links.txt', 'w', encoding=\"utf-8\") as filehandle:\n",
        "    for listitem in b:\n",
        "        filehandle.write('%s\\n' % listitem)"
      ],
      "execution_count": 7,
      "outputs": []
    },
    {
      "cell_type": "markdown",
      "metadata": {
        "id": "iLLwYjk5S-vv"
      },
      "source": [
        "# **Messy Version**"
      ]
    },
    {
      "cell_type": "code",
      "metadata": {
        "id": "qTHrsPYzJGml"
      },
      "source": [
        "url = 'https://tw.voicetube.com/channels/business-and-finance/1?sortBy=publishedAt'\n",
        "reqs = requests.get(url)\n",
        "soup = BeautifulSoup(reqs.text, 'html.parser')"
      ],
      "execution_count": 3,
      "outputs": []
    },
    {
      "cell_type": "code",
      "metadata": {
        "id": "tZf30u2THyeC"
      },
      "source": [
        "urls = []\n",
        "for link in soup.find_all('a'):\n",
        "  link = str(link.get('href'))\n",
        "  # print(link)\n",
        "  m = re.match(r\"/videos/[0-9]+\",link)\n",
        "  if m:\n",
        "    urls.append(m.group(0))"
      ],
      "execution_count": 4,
      "outputs": []
    },
    {
      "cell_type": "code",
      "metadata": {
        "colab": {
          "base_uri": "https://localhost:8080/"
        },
        "id": "q-HPHXTpI7-l",
        "outputId": "f51ed594-b7d6-4d4a-e91f-d633a23859c3"
      },
      "source": [
        "urls"
      ],
      "execution_count": 5,
      "outputs": [
        {
          "output_type": "execute_result",
          "data": {
            "text/plain": [
              "['/videos/35171',\n",
              " '/videos/163360',\n",
              " '/videos/14476',\n",
              " '/videos/34293',\n",
              " '/videos/33891',\n",
              " '/videos/33780',\n",
              " '/videos/33718',\n",
              " '/videos/162546',\n",
              " '/videos/162570',\n",
              " '/videos/33448',\n",
              " '/videos/33963',\n",
              " '/videos/33262',\n",
              " '/videos/162245',\n",
              " '/videos/161235',\n",
              " '/videos/161063',\n",
              " '/videos/6054',\n",
              " '/videos/159447',\n",
              " '/videos/159121',\n",
              " '/videos/159215',\n",
              " '/videos/67962',\n",
              " '/videos/157029',\n",
              " '/videos/157742',\n",
              " '/videos/65260',\n",
              " '/videos/36906',\n",
              " '/videos/151481',\n",
              " '/videos/152123',\n",
              " '/videos/12111',\n",
              " '/videos/47220',\n",
              " '/videos/134614',\n",
              " '/videos/132739',\n",
              " '/videos/132637',\n",
              " '/videos/127295',\n",
              " '/videos/125764',\n",
              " '/videos/118405',\n",
              " '/videos/47269',\n",
              " '/videos/61967',\n",
              " '/videos/21284',\n",
              " '/videos/27723',\n",
              " '/videos/69486',\n",
              " '/videos/71478',\n",
              " '/videos/85642',\n",
              " '/videos/131693',\n",
              " '/videos/17346',\n",
              " '/videos/131470',\n",
              " '/videos/28940',\n",
              " '/videos/77146']"
            ]
          },
          "metadata": {
            "tags": []
          },
          "execution_count": 5
        }
      ]
    },
    {
      "cell_type": "code",
      "metadata": {
        "colab": {
          "base_uri": "https://localhost:8080/"
        },
        "id": "zgb-DYOqLeLH",
        "outputId": "9b278564-a4c4-474a-e414-301553a74e80"
      },
      "source": [
        "len(urls)"
      ],
      "execution_count": 6,
      "outputs": [
        {
          "output_type": "execute_result",
          "data": {
            "text/plain": [
              "46"
            ]
          },
          "metadata": {
            "tags": []
          },
          "execution_count": 6
        }
      ]
    },
    {
      "cell_type": "code",
      "metadata": {
        "id": "5ZG51wnUI8i5"
      },
      "source": [
        "new_urls = []\n",
        "for i in urls:\n",
        "  l = 'https://tw.voicetube.com' + i +'/print'\n",
        "  request = requests.get(l)\n",
        "  \n",
        "  #checking if the website exists or not\n",
        "  if request.status_code == 200:\n",
        "    new_urls.append(l)"
      ],
      "execution_count": 7,
      "outputs": []
    },
    {
      "cell_type": "code",
      "metadata": {
        "colab": {
          "base_uri": "https://localhost:8080/"
        },
        "id": "2vB4s5PZLbTJ",
        "outputId": "67d705dd-2c2f-44a7-cecf-186347e1bc1d"
      },
      "source": [
        "len(new_urls)"
      ],
      "execution_count": 8,
      "outputs": [
        {
          "output_type": "execute_result",
          "data": {
            "text/plain": [
              "40"
            ]
          },
          "metadata": {
            "tags": []
          },
          "execution_count": 8
        }
      ]
    },
    {
      "cell_type": "code",
      "metadata": {
        "id": "6eKm7HpxLcIo"
      },
      "source": [
        ""
      ],
      "execution_count": 8,
      "outputs": []
    }
  ]
}