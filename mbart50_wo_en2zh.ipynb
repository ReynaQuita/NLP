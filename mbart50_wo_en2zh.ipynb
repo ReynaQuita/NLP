{
  "nbformat": 4,
  "nbformat_minor": 0,
  "metadata": {
    "colab": {
      "name": "mbart50_wo_en2zh.ipynb",
      "provenance": [],
      "collapsed_sections": [],
      "machine_shape": "hm",
      "include_colab_link": true
    },
    "kernelspec": {
      "name": "python3",
      "display_name": "Python 3"
    },
    "language_info": {
      "name": "python"
    },
    "accelerator": "GPU",
    "widgets": {
      "application/vnd.jupyter.widget-state+json": {
        "39d58df5e7c544df8a77bd3273a1bda9": {
          "model_module": "@jupyter-widgets/controls",
          "model_name": "HBoxModel",
          "state": {
            "_view_name": "HBoxView",
            "_dom_classes": [],
            "_model_name": "HBoxModel",
            "_view_module": "@jupyter-widgets/controls",
            "_model_module_version": "1.5.0",
            "_view_count": null,
            "_view_module_version": "1.5.0",
            "box_style": "",
            "layout": "IPY_MODEL_c50021b6448f45ab917910ee146f7866",
            "_model_module": "@jupyter-widgets/controls",
            "children": [
              "IPY_MODEL_6b35b0e1b46d421c887542cd19f6a26b",
              "IPY_MODEL_8330ea3aadf94cfe9cdaa77b93b136da"
            ]
          }
        },
        "c50021b6448f45ab917910ee146f7866": {
          "model_module": "@jupyter-widgets/base",
          "model_name": "LayoutModel",
          "state": {
            "_view_name": "LayoutView",
            "grid_template_rows": null,
            "right": null,
            "justify_content": null,
            "_view_module": "@jupyter-widgets/base",
            "overflow": null,
            "_model_module_version": "1.2.0",
            "_view_count": null,
            "flex_flow": null,
            "width": null,
            "min_width": null,
            "border": null,
            "align_items": null,
            "bottom": null,
            "_model_module": "@jupyter-widgets/base",
            "top": null,
            "grid_column": null,
            "overflow_y": null,
            "overflow_x": null,
            "grid_auto_flow": null,
            "grid_area": null,
            "grid_template_columns": null,
            "flex": null,
            "_model_name": "LayoutModel",
            "justify_items": null,
            "grid_row": null,
            "max_height": null,
            "align_content": null,
            "visibility": null,
            "align_self": null,
            "height": null,
            "min_height": null,
            "padding": null,
            "grid_auto_rows": null,
            "grid_gap": null,
            "max_width": null,
            "order": null,
            "_view_module_version": "1.2.0",
            "grid_template_areas": null,
            "object_position": null,
            "object_fit": null,
            "grid_auto_columns": null,
            "margin": null,
            "display": null,
            "left": null
          }
        },
        "6b35b0e1b46d421c887542cd19f6a26b": {
          "model_module": "@jupyter-widgets/controls",
          "model_name": "FloatProgressModel",
          "state": {
            "_view_name": "ProgressView",
            "style": "IPY_MODEL_0c22d5ddc803489fb427e51ca39904a5",
            "_dom_classes": [],
            "description": "Downloading: 100%",
            "_model_name": "FloatProgressModel",
            "bar_style": "success",
            "max": 1429,
            "_view_module": "@jupyter-widgets/controls",
            "_model_module_version": "1.5.0",
            "value": 1429,
            "_view_count": null,
            "_view_module_version": "1.5.0",
            "orientation": "horizontal",
            "min": 0,
            "description_tooltip": null,
            "_model_module": "@jupyter-widgets/controls",
            "layout": "IPY_MODEL_9b48ecacbf1f447d9c7c130016bdfed9"
          }
        },
        "8330ea3aadf94cfe9cdaa77b93b136da": {
          "model_module": "@jupyter-widgets/controls",
          "model_name": "HTMLModel",
          "state": {
            "_view_name": "HTMLView",
            "style": "IPY_MODEL_f09e1950d7e640ab818d742041e8c16e",
            "_dom_classes": [],
            "description": "",
            "_model_name": "HTMLModel",
            "placeholder": "​",
            "_view_module": "@jupyter-widgets/controls",
            "_model_module_version": "1.5.0",
            "value": " 1.43k/1.43k [00:00&lt;00:00, 4.93kB/s]",
            "_view_count": null,
            "_view_module_version": "1.5.0",
            "description_tooltip": null,
            "_model_module": "@jupyter-widgets/controls",
            "layout": "IPY_MODEL_71fe3c2fbd5e4711a089d3bd4399f07a"
          }
        },
        "0c22d5ddc803489fb427e51ca39904a5": {
          "model_module": "@jupyter-widgets/controls",
          "model_name": "ProgressStyleModel",
          "state": {
            "_view_name": "StyleView",
            "_model_name": "ProgressStyleModel",
            "description_width": "initial",
            "_view_module": "@jupyter-widgets/base",
            "_model_module_version": "1.5.0",
            "_view_count": null,
            "_view_module_version": "1.2.0",
            "bar_color": null,
            "_model_module": "@jupyter-widgets/controls"
          }
        },
        "9b48ecacbf1f447d9c7c130016bdfed9": {
          "model_module": "@jupyter-widgets/base",
          "model_name": "LayoutModel",
          "state": {
            "_view_name": "LayoutView",
            "grid_template_rows": null,
            "right": null,
            "justify_content": null,
            "_view_module": "@jupyter-widgets/base",
            "overflow": null,
            "_model_module_version": "1.2.0",
            "_view_count": null,
            "flex_flow": null,
            "width": null,
            "min_width": null,
            "border": null,
            "align_items": null,
            "bottom": null,
            "_model_module": "@jupyter-widgets/base",
            "top": null,
            "grid_column": null,
            "overflow_y": null,
            "overflow_x": null,
            "grid_auto_flow": null,
            "grid_area": null,
            "grid_template_columns": null,
            "flex": null,
            "_model_name": "LayoutModel",
            "justify_items": null,
            "grid_row": null,
            "max_height": null,
            "align_content": null,
            "visibility": null,
            "align_self": null,
            "height": null,
            "min_height": null,
            "padding": null,
            "grid_auto_rows": null,
            "grid_gap": null,
            "max_width": null,
            "order": null,
            "_view_module_version": "1.2.0",
            "grid_template_areas": null,
            "object_position": null,
            "object_fit": null,
            "grid_auto_columns": null,
            "margin": null,
            "display": null,
            "left": null
          }
        },
        "f09e1950d7e640ab818d742041e8c16e": {
          "model_module": "@jupyter-widgets/controls",
          "model_name": "DescriptionStyleModel",
          "state": {
            "_view_name": "StyleView",
            "_model_name": "DescriptionStyleModel",
            "description_width": "",
            "_view_module": "@jupyter-widgets/base",
            "_model_module_version": "1.5.0",
            "_view_count": null,
            "_view_module_version": "1.2.0",
            "_model_module": "@jupyter-widgets/controls"
          }
        },
        "71fe3c2fbd5e4711a089d3bd4399f07a": {
          "model_module": "@jupyter-widgets/base",
          "model_name": "LayoutModel",
          "state": {
            "_view_name": "LayoutView",
            "grid_template_rows": null,
            "right": null,
            "justify_content": null,
            "_view_module": "@jupyter-widgets/base",
            "overflow": null,
            "_model_module_version": "1.2.0",
            "_view_count": null,
            "flex_flow": null,
            "width": null,
            "min_width": null,
            "border": null,
            "align_items": null,
            "bottom": null,
            "_model_module": "@jupyter-widgets/base",
            "top": null,
            "grid_column": null,
            "overflow_y": null,
            "overflow_x": null,
            "grid_auto_flow": null,
            "grid_area": null,
            "grid_template_columns": null,
            "flex": null,
            "_model_name": "LayoutModel",
            "justify_items": null,
            "grid_row": null,
            "max_height": null,
            "align_content": null,
            "visibility": null,
            "align_self": null,
            "height": null,
            "min_height": null,
            "padding": null,
            "grid_auto_rows": null,
            "grid_gap": null,
            "max_width": null,
            "order": null,
            "_view_module_version": "1.2.0",
            "grid_template_areas": null,
            "object_position": null,
            "object_fit": null,
            "grid_auto_columns": null,
            "margin": null,
            "display": null,
            "left": null
          }
        },
        "fe9f898d408e4d38a9953b65f30ca65b": {
          "model_module": "@jupyter-widgets/controls",
          "model_name": "HBoxModel",
          "state": {
            "_view_name": "HBoxView",
            "_dom_classes": [],
            "_model_name": "HBoxModel",
            "_view_module": "@jupyter-widgets/controls",
            "_model_module_version": "1.5.0",
            "_view_count": null,
            "_view_module_version": "1.5.0",
            "box_style": "",
            "layout": "IPY_MODEL_03c56ef6f27f4c99a41e4b19f956aed0",
            "_model_module": "@jupyter-widgets/controls",
            "children": [
              "IPY_MODEL_6efb930b83a64f61bec66839b51b11d4",
              "IPY_MODEL_8c7dc2daac764b44855f83131b31267e"
            ]
          }
        },
        "03c56ef6f27f4c99a41e4b19f956aed0": {
          "model_module": "@jupyter-widgets/base",
          "model_name": "LayoutModel",
          "state": {
            "_view_name": "LayoutView",
            "grid_template_rows": null,
            "right": null,
            "justify_content": null,
            "_view_module": "@jupyter-widgets/base",
            "overflow": null,
            "_model_module_version": "1.2.0",
            "_view_count": null,
            "flex_flow": null,
            "width": null,
            "min_width": null,
            "border": null,
            "align_items": null,
            "bottom": null,
            "_model_module": "@jupyter-widgets/base",
            "top": null,
            "grid_column": null,
            "overflow_y": null,
            "overflow_x": null,
            "grid_auto_flow": null,
            "grid_area": null,
            "grid_template_columns": null,
            "flex": null,
            "_model_name": "LayoutModel",
            "justify_items": null,
            "grid_row": null,
            "max_height": null,
            "align_content": null,
            "visibility": null,
            "align_self": null,
            "height": null,
            "min_height": null,
            "padding": null,
            "grid_auto_rows": null,
            "grid_gap": null,
            "max_width": null,
            "order": null,
            "_view_module_version": "1.2.0",
            "grid_template_areas": null,
            "object_position": null,
            "object_fit": null,
            "grid_auto_columns": null,
            "margin": null,
            "display": null,
            "left": null
          }
        },
        "6efb930b83a64f61bec66839b51b11d4": {
          "model_module": "@jupyter-widgets/controls",
          "model_name": "FloatProgressModel",
          "state": {
            "_view_name": "ProgressView",
            "style": "IPY_MODEL_19fdc50ef0e040f6b66d3423d061bf96",
            "_dom_classes": [],
            "description": "Downloading: 100%",
            "_model_name": "FloatProgressModel",
            "bar_style": "success",
            "max": 2444714899,
            "_view_module": "@jupyter-widgets/controls",
            "_model_module_version": "1.5.0",
            "value": 2444714899,
            "_view_count": null,
            "_view_module_version": "1.5.0",
            "orientation": "horizontal",
            "min": 0,
            "description_tooltip": null,
            "_model_module": "@jupyter-widgets/controls",
            "layout": "IPY_MODEL_9f5eb02dccec42729c8fb1fb1507c60a"
          }
        },
        "8c7dc2daac764b44855f83131b31267e": {
          "model_module": "@jupyter-widgets/controls",
          "model_name": "HTMLModel",
          "state": {
            "_view_name": "HTMLView",
            "style": "IPY_MODEL_7191ee2b9927401f826406661182612f",
            "_dom_classes": [],
            "description": "",
            "_model_name": "HTMLModel",
            "placeholder": "​",
            "_view_module": "@jupyter-widgets/controls",
            "_model_module_version": "1.5.0",
            "value": " 2.44G/2.44G [00:54&lt;00:00, 44.6MB/s]",
            "_view_count": null,
            "_view_module_version": "1.5.0",
            "description_tooltip": null,
            "_model_module": "@jupyter-widgets/controls",
            "layout": "IPY_MODEL_1ae74b034298449eb0359f287a78b914"
          }
        },
        "19fdc50ef0e040f6b66d3423d061bf96": {
          "model_module": "@jupyter-widgets/controls",
          "model_name": "ProgressStyleModel",
          "state": {
            "_view_name": "StyleView",
            "_model_name": "ProgressStyleModel",
            "description_width": "initial",
            "_view_module": "@jupyter-widgets/base",
            "_model_module_version": "1.5.0",
            "_view_count": null,
            "_view_module_version": "1.2.0",
            "bar_color": null,
            "_model_module": "@jupyter-widgets/controls"
          }
        },
        "9f5eb02dccec42729c8fb1fb1507c60a": {
          "model_module": "@jupyter-widgets/base",
          "model_name": "LayoutModel",
          "state": {
            "_view_name": "LayoutView",
            "grid_template_rows": null,
            "right": null,
            "justify_content": null,
            "_view_module": "@jupyter-widgets/base",
            "overflow": null,
            "_model_module_version": "1.2.0",
            "_view_count": null,
            "flex_flow": null,
            "width": null,
            "min_width": null,
            "border": null,
            "align_items": null,
            "bottom": null,
            "_model_module": "@jupyter-widgets/base",
            "top": null,
            "grid_column": null,
            "overflow_y": null,
            "overflow_x": null,
            "grid_auto_flow": null,
            "grid_area": null,
            "grid_template_columns": null,
            "flex": null,
            "_model_name": "LayoutModel",
            "justify_items": null,
            "grid_row": null,
            "max_height": null,
            "align_content": null,
            "visibility": null,
            "align_self": null,
            "height": null,
            "min_height": null,
            "padding": null,
            "grid_auto_rows": null,
            "grid_gap": null,
            "max_width": null,
            "order": null,
            "_view_module_version": "1.2.0",
            "grid_template_areas": null,
            "object_position": null,
            "object_fit": null,
            "grid_auto_columns": null,
            "margin": null,
            "display": null,
            "left": null
          }
        },
        "7191ee2b9927401f826406661182612f": {
          "model_module": "@jupyter-widgets/controls",
          "model_name": "DescriptionStyleModel",
          "state": {
            "_view_name": "StyleView",
            "_model_name": "DescriptionStyleModel",
            "description_width": "",
            "_view_module": "@jupyter-widgets/base",
            "_model_module_version": "1.5.0",
            "_view_count": null,
            "_view_module_version": "1.2.0",
            "_model_module": "@jupyter-widgets/controls"
          }
        },
        "1ae74b034298449eb0359f287a78b914": {
          "model_module": "@jupyter-widgets/base",
          "model_name": "LayoutModel",
          "state": {
            "_view_name": "LayoutView",
            "grid_template_rows": null,
            "right": null,
            "justify_content": null,
            "_view_module": "@jupyter-widgets/base",
            "overflow": null,
            "_model_module_version": "1.2.0",
            "_view_count": null,
            "flex_flow": null,
            "width": null,
            "min_width": null,
            "border": null,
            "align_items": null,
            "bottom": null,
            "_model_module": "@jupyter-widgets/base",
            "top": null,
            "grid_column": null,
            "overflow_y": null,
            "overflow_x": null,
            "grid_auto_flow": null,
            "grid_area": null,
            "grid_template_columns": null,
            "flex": null,
            "_model_name": "LayoutModel",
            "justify_items": null,
            "grid_row": null,
            "max_height": null,
            "align_content": null,
            "visibility": null,
            "align_self": null,
            "height": null,
            "min_height": null,
            "padding": null,
            "grid_auto_rows": null,
            "grid_gap": null,
            "max_width": null,
            "order": null,
            "_view_module_version": "1.2.0",
            "grid_template_areas": null,
            "object_position": null,
            "object_fit": null,
            "grid_auto_columns": null,
            "margin": null,
            "display": null,
            "left": null
          }
        },
        "0bf99f2d795c484fa4537788fb3bb418": {
          "model_module": "@jupyter-widgets/controls",
          "model_name": "HBoxModel",
          "state": {
            "_view_name": "HBoxView",
            "_dom_classes": [],
            "_model_name": "HBoxModel",
            "_view_module": "@jupyter-widgets/controls",
            "_model_module_version": "1.5.0",
            "_view_count": null,
            "_view_module_version": "1.5.0",
            "box_style": "",
            "layout": "IPY_MODEL_b32a17a6afe345e885dfeef0da387638",
            "_model_module": "@jupyter-widgets/controls",
            "children": [
              "IPY_MODEL_6553613c3ac64902863b72850b9aeb83",
              "IPY_MODEL_4618bb19af1a4b77b2142d6a0853a00d"
            ]
          }
        },
        "b32a17a6afe345e885dfeef0da387638": {
          "model_module": "@jupyter-widgets/base",
          "model_name": "LayoutModel",
          "state": {
            "_view_name": "LayoutView",
            "grid_template_rows": null,
            "right": null,
            "justify_content": null,
            "_view_module": "@jupyter-widgets/base",
            "overflow": null,
            "_model_module_version": "1.2.0",
            "_view_count": null,
            "flex_flow": null,
            "width": null,
            "min_width": null,
            "border": null,
            "align_items": null,
            "bottom": null,
            "_model_module": "@jupyter-widgets/base",
            "top": null,
            "grid_column": null,
            "overflow_y": null,
            "overflow_x": null,
            "grid_auto_flow": null,
            "grid_area": null,
            "grid_template_columns": null,
            "flex": null,
            "_model_name": "LayoutModel",
            "justify_items": null,
            "grid_row": null,
            "max_height": null,
            "align_content": null,
            "visibility": null,
            "align_self": null,
            "height": null,
            "min_height": null,
            "padding": null,
            "grid_auto_rows": null,
            "grid_gap": null,
            "max_width": null,
            "order": null,
            "_view_module_version": "1.2.0",
            "grid_template_areas": null,
            "object_position": null,
            "object_fit": null,
            "grid_auto_columns": null,
            "margin": null,
            "display": null,
            "left": null
          }
        },
        "6553613c3ac64902863b72850b9aeb83": {
          "model_module": "@jupyter-widgets/controls",
          "model_name": "FloatProgressModel",
          "state": {
            "_view_name": "ProgressView",
            "style": "IPY_MODEL_b4cd5d51d8894ee4a7687f805dd58ed5",
            "_dom_classes": [],
            "description": "100%",
            "_model_name": "FloatProgressModel",
            "bar_style": "success",
            "max": 13,
            "_view_module": "@jupyter-widgets/controls",
            "_model_module_version": "1.5.0",
            "value": 13,
            "_view_count": null,
            "_view_module_version": "1.5.0",
            "orientation": "horizontal",
            "min": 0,
            "description_tooltip": null,
            "_model_module": "@jupyter-widgets/controls",
            "layout": "IPY_MODEL_48147872296b45dda524c8ecc42d3417"
          }
        },
        "4618bb19af1a4b77b2142d6a0853a00d": {
          "model_module": "@jupyter-widgets/controls",
          "model_name": "HTMLModel",
          "state": {
            "_view_name": "HTMLView",
            "style": "IPY_MODEL_6ebbfd77e7a14ca89e005c8815714bb5",
            "_dom_classes": [],
            "description": "",
            "_model_name": "HTMLModel",
            "placeholder": "​",
            "_view_module": "@jupyter-widgets/controls",
            "_model_module_version": "1.5.0",
            "value": " 13/13 [11:29&lt;00:00, 53.07s/ba]",
            "_view_count": null,
            "_view_module_version": "1.5.0",
            "description_tooltip": null,
            "_model_module": "@jupyter-widgets/controls",
            "layout": "IPY_MODEL_4e277484e21544b48f5f7f906816669a"
          }
        },
        "b4cd5d51d8894ee4a7687f805dd58ed5": {
          "model_module": "@jupyter-widgets/controls",
          "model_name": "ProgressStyleModel",
          "state": {
            "_view_name": "StyleView",
            "_model_name": "ProgressStyleModel",
            "description_width": "initial",
            "_view_module": "@jupyter-widgets/base",
            "_model_module_version": "1.5.0",
            "_view_count": null,
            "_view_module_version": "1.2.0",
            "bar_color": null,
            "_model_module": "@jupyter-widgets/controls"
          }
        },
        "48147872296b45dda524c8ecc42d3417": {
          "model_module": "@jupyter-widgets/base",
          "model_name": "LayoutModel",
          "state": {
            "_view_name": "LayoutView",
            "grid_template_rows": null,
            "right": null,
            "justify_content": null,
            "_view_module": "@jupyter-widgets/base",
            "overflow": null,
            "_model_module_version": "1.2.0",
            "_view_count": null,
            "flex_flow": null,
            "width": null,
            "min_width": null,
            "border": null,
            "align_items": null,
            "bottom": null,
            "_model_module": "@jupyter-widgets/base",
            "top": null,
            "grid_column": null,
            "overflow_y": null,
            "overflow_x": null,
            "grid_auto_flow": null,
            "grid_area": null,
            "grid_template_columns": null,
            "flex": null,
            "_model_name": "LayoutModel",
            "justify_items": null,
            "grid_row": null,
            "max_height": null,
            "align_content": null,
            "visibility": null,
            "align_self": null,
            "height": null,
            "min_height": null,
            "padding": null,
            "grid_auto_rows": null,
            "grid_gap": null,
            "max_width": null,
            "order": null,
            "_view_module_version": "1.2.0",
            "grid_template_areas": null,
            "object_position": null,
            "object_fit": null,
            "grid_auto_columns": null,
            "margin": null,
            "display": null,
            "left": null
          }
        },
        "6ebbfd77e7a14ca89e005c8815714bb5": {
          "model_module": "@jupyter-widgets/controls",
          "model_name": "DescriptionStyleModel",
          "state": {
            "_view_name": "StyleView",
            "_model_name": "DescriptionStyleModel",
            "description_width": "",
            "_view_module": "@jupyter-widgets/base",
            "_model_module_version": "1.5.0",
            "_view_count": null,
            "_view_module_version": "1.2.0",
            "_model_module": "@jupyter-widgets/controls"
          }
        },
        "4e277484e21544b48f5f7f906816669a": {
          "model_module": "@jupyter-widgets/base",
          "model_name": "LayoutModel",
          "state": {
            "_view_name": "LayoutView",
            "grid_template_rows": null,
            "right": null,
            "justify_content": null,
            "_view_module": "@jupyter-widgets/base",
            "overflow": null,
            "_model_module_version": "1.2.0",
            "_view_count": null,
            "flex_flow": null,
            "width": null,
            "min_width": null,
            "border": null,
            "align_items": null,
            "bottom": null,
            "_model_module": "@jupyter-widgets/base",
            "top": null,
            "grid_column": null,
            "overflow_y": null,
            "overflow_x": null,
            "grid_auto_flow": null,
            "grid_area": null,
            "grid_template_columns": null,
            "flex": null,
            "_model_name": "LayoutModel",
            "justify_items": null,
            "grid_row": null,
            "max_height": null,
            "align_content": null,
            "visibility": null,
            "align_self": null,
            "height": null,
            "min_height": null,
            "padding": null,
            "grid_auto_rows": null,
            "grid_gap": null,
            "max_width": null,
            "order": null,
            "_view_module_version": "1.2.0",
            "grid_template_areas": null,
            "object_position": null,
            "object_fit": null,
            "grid_auto_columns": null,
            "margin": null,
            "display": null,
            "left": null
          }
        }
      }
    }
  },
  "cells": [
    {
      "cell_type": "markdown",
      "metadata": {
        "id": "view-in-github",
        "colab_type": "text"
      },
      "source": [
        "<a href=\"https://colab.research.google.com/github/ReynaQuita/NLP/blob/main/mbart50_wo_en2zh.ipynb\" target=\"_parent\"><img src=\"https://colab.research.google.com/assets/colab-badge.svg\" alt=\"Open In Colab\"/></a>"
      ]
    },
    {
      "cell_type": "code",
      "metadata": {
        "colab": {
          "base_uri": "https://localhost:8080/"
        },
        "id": "c5hJGmd3WT5I",
        "outputId": "2cd41146-beac-4679-d832-44e9ceea4b10"
      },
      "source": [
        "! pip install datasets transformers sacrebleu sentencepiece jieba"
      ],
      "execution_count": 1,
      "outputs": [
        {
          "output_type": "stream",
          "text": [
            "Requirement already satisfied: datasets in /usr/local/lib/python3.7/dist-packages (1.9.0)\n",
            "Requirement already satisfied: transformers in /usr/local/lib/python3.7/dist-packages (4.8.2)\n",
            "Requirement already satisfied: sacrebleu in /usr/local/lib/python3.7/dist-packages (1.5.1)\n",
            "Collecting sentencepiece\n",
            "\u001b[?25l  Downloading https://files.pythonhosted.org/packages/ac/aa/1437691b0c7c83086ebb79ce2da16e00bef024f24fec2a5161c35476f499/sentencepiece-0.1.96-cp37-cp37m-manylinux_2_17_x86_64.manylinux2014_x86_64.whl (1.2MB)\n",
            "\u001b[K     |████████████████████████████████| 1.2MB 24.8MB/s \n",
            "\u001b[?25hRequirement already satisfied: jieba in /usr/local/lib/python3.7/dist-packages (0.42.1)\n",
            "Requirement already satisfied: numpy>=1.17 in /usr/local/lib/python3.7/dist-packages (from datasets) (1.19.5)\n",
            "Requirement already satisfied: xxhash in /usr/local/lib/python3.7/dist-packages (from datasets) (2.0.2)\n",
            "Requirement already satisfied: dill in /usr/local/lib/python3.7/dist-packages (from datasets) (0.3.4)\n",
            "Requirement already satisfied: multiprocess in /usr/local/lib/python3.7/dist-packages (from datasets) (0.70.12.2)\n",
            "Requirement already satisfied: tqdm>=4.27 in /usr/local/lib/python3.7/dist-packages (from datasets) (4.41.1)\n",
            "Requirement already satisfied: importlib-metadata; python_version < \"3.8\" in /usr/local/lib/python3.7/dist-packages (from datasets) (4.6.1)\n",
            "Requirement already satisfied: packaging in /usr/local/lib/python3.7/dist-packages (from datasets) (21.0)\n",
            "Requirement already satisfied: fsspec>=2021.05.0 in /usr/local/lib/python3.7/dist-packages (from datasets) (2021.7.0)\n",
            "Requirement already satisfied: pandas in /usr/local/lib/python3.7/dist-packages (from datasets) (1.1.5)\n",
            "Requirement already satisfied: huggingface-hub<0.1.0 in /usr/local/lib/python3.7/dist-packages (from datasets) (0.0.14)\n",
            "Requirement already satisfied: pyarrow!=4.0.0,>=1.0.0 in /usr/local/lib/python3.7/dist-packages (from datasets) (3.0.0)\n",
            "Requirement already satisfied: requests>=2.19.0 in /usr/local/lib/python3.7/dist-packages (from datasets) (2.23.0)\n",
            "Requirement already satisfied: pyyaml in /usr/local/lib/python3.7/dist-packages (from transformers) (3.13)\n",
            "Requirement already satisfied: sacremoses in /usr/local/lib/python3.7/dist-packages (from transformers) (0.0.45)\n",
            "Requirement already satisfied: tokenizers<0.11,>=0.10.1 in /usr/local/lib/python3.7/dist-packages (from transformers) (0.10.3)\n",
            "Requirement already satisfied: filelock in /usr/local/lib/python3.7/dist-packages (from transformers) (3.0.12)\n",
            "Requirement already satisfied: regex!=2019.12.17 in /usr/local/lib/python3.7/dist-packages (from transformers) (2019.12.20)\n",
            "Requirement already satisfied: portalocker==2.0.0 in /usr/local/lib/python3.7/dist-packages (from sacrebleu) (2.0.0)\n",
            "Requirement already satisfied: zipp>=0.5 in /usr/local/lib/python3.7/dist-packages (from importlib-metadata; python_version < \"3.8\"->datasets) (3.5.0)\n",
            "Requirement already satisfied: typing-extensions>=3.6.4; python_version < \"3.8\" in /usr/local/lib/python3.7/dist-packages (from importlib-metadata; python_version < \"3.8\"->datasets) (3.7.4.3)\n",
            "Requirement already satisfied: pyparsing>=2.0.2 in /usr/local/lib/python3.7/dist-packages (from packaging->datasets) (2.4.7)\n",
            "Requirement already satisfied: pytz>=2017.2 in /usr/local/lib/python3.7/dist-packages (from pandas->datasets) (2018.9)\n",
            "Requirement already satisfied: python-dateutil>=2.7.3 in /usr/local/lib/python3.7/dist-packages (from pandas->datasets) (2.8.1)\n",
            "Requirement already satisfied: urllib3!=1.25.0,!=1.25.1,<1.26,>=1.21.1 in /usr/local/lib/python3.7/dist-packages (from requests>=2.19.0->datasets) (1.24.3)\n",
            "Requirement already satisfied: chardet<4,>=3.0.2 in /usr/local/lib/python3.7/dist-packages (from requests>=2.19.0->datasets) (3.0.4)\n",
            "Requirement already satisfied: certifi>=2017.4.17 in /usr/local/lib/python3.7/dist-packages (from requests>=2.19.0->datasets) (2021.5.30)\n",
            "Requirement already satisfied: idna<3,>=2.5 in /usr/local/lib/python3.7/dist-packages (from requests>=2.19.0->datasets) (2.10)\n",
            "Requirement already satisfied: joblib in /usr/local/lib/python3.7/dist-packages (from sacremoses->transformers) (1.0.1)\n",
            "Requirement already satisfied: click in /usr/local/lib/python3.7/dist-packages (from sacremoses->transformers) (7.1.2)\n",
            "Requirement already satisfied: six in /usr/local/lib/python3.7/dist-packages (from sacremoses->transformers) (1.15.0)\n",
            "Installing collected packages: sentencepiece\n",
            "Successfully installed sentencepiece-0.1.96\n"
          ],
          "name": "stdout"
        }
      ]
    },
    {
      "cell_type": "code",
      "metadata": {
        "colab": {
          "base_uri": "https://localhost:8080/"
        },
        "id": "cHnDn0QgWaWM",
        "outputId": "04ad9de0-9773-46bc-b134-2a9c1578a2a5"
      },
      "source": [
        "from google.colab import drive\n",
        "drive.mount('/content/gdrive')"
      ],
      "execution_count": 2,
      "outputs": [
        {
          "output_type": "stream",
          "text": [
            "Drive already mounted at /content/gdrive; to attempt to forcibly remount, call drive.mount(\"/content/gdrive\", force_remount=True).\n"
          ],
          "name": "stdout"
        }
      ]
    },
    {
      "cell_type": "code",
      "metadata": {
        "id": "p9CdzDqXWbfV"
      },
      "source": [
        "import pandas as pd"
      ],
      "execution_count": 3,
      "outputs": []
    },
    {
      "cell_type": "code",
      "metadata": {
        "colab": {
          "base_uri": "https://localhost:8080/"
        },
        "id": "P_YW_O6AWdBH",
        "outputId": "cadcd3ab-dc61-4d8b-9d72-929d2fb4d1df"
      },
      "source": [
        "# df = pd.read_csv('/content/gdrive/MyDrive/ccmt2019-news.en2zh/ccmt2019-news.en2zh.en.txt', delimiter = \"\\t\" )\n",
        "df = pd.read_csv('/content/gdrive/MyDrive/Colab Notebooks/ccmt2019-newsen2zhsource.txt', delimiter = \"\\t\" )\n",
        "df_en = df.rename(columns={\"I really don't like when people can't be themselves because they feel ... threatened, Discua says.\": 'en'})\n",
        "# df2 = pd.read_csv('/content/gdrive/MyDrive/ccmt2019-news.en2zh/ccmt2019-news.en2zh.zh.txt', delimiter = \"\\t\" )\n",
        "df2 = pd.read_csv('/content/gdrive/MyDrive/Colab Notebooks/ccmt2019-news.en2zh.ref1.txt', delimiter = \"\\t\" )\n",
        "df_zh = df2.rename(columns={\"“我真的不喜欢人们因为感觉……受到威胁而不能做自己，”迪斯库说。\": 'zh'})\n",
        "df_en_zh = pd.concat([df_en, df_zh], axis=1)\n",
        "dictionaryObject = df_en_zh.to_dict('record')"
      ],
      "execution_count": 4,
      "outputs": [
        {
          "output_type": "stream",
          "text": [
            "/usr/local/lib/python3.7/dist-packages/pandas/core/frame.py:1490: FutureWarning: Using short name for 'orient' is deprecated. Only the options: ('dict', list, 'series', 'split', 'records', 'index') will be used in a future version. Use one of the above to silence this warning.\n",
            "  FutureWarning,\n"
          ],
          "name": "stderr"
        }
      ]
    },
    {
      "cell_type": "code",
      "metadata": {
        "colab": {
          "base_uri": "https://localhost:8080/"
        },
        "id": "1dEsCA75t-jg",
        "outputId": "48465f27-2757-413e-9d3a-730c0bd3af31"
      },
      "source": [
        "dictionaryObject[:3]"
      ],
      "execution_count": 5,
      "outputs": [
        {
          "output_type": "execute_result",
          "data": {
            "text/plain": [
              "[{'en': 'Court packing is integral to any effort to restore democracy, asserts Aaron Belkin, a San Francisco State University political science professor who is executive director of Pack the Courts, a group advocating an expanded bench.',\n",
              "  'zh': '“法院填塞对于恢复民主是不可或缺的，”旧金山州立大学政治学教授亚伦·贝尔金说，他是“法院填塞”计划的执行理事，该组织主张扩大替补席。'},\n",
              " {'en': 'Two others are a good fit: unemployment and access to social safety nets.',\n",
              "  'zh': '另外两方面非常匹配：即失业与获得社会保障。'},\n",
              " {'en': 'I really wanted to win that race so much that when I did it in the last few meters, I could not believe it myself!',\n",
              "  'zh': '我真的很想赢得那场比赛，以至于当我跑到还有最后几米的时候，我自己都不敢相信！'}]"
            ]
          },
          "metadata": {
            "tags": []
          },
          "execution_count": 5
        }
      ]
    },
    {
      "cell_type": "code",
      "metadata": {
        "colab": {
          "base_uri": "https://localhost:8080/"
        },
        "id": "QhR9-gMaWfPf",
        "outputId": "f59f526b-76a5-412b-db34-cc2c29a2f767"
      },
      "source": [
        "from datasets import load_dataset\n",
        "from datasets import Dataset\n",
        "\n",
        "x_dic={}\n",
        "x_dic['translation'] = dictionaryObject\n",
        "dff = pd.DataFrame( data = x_dic )\n",
        "dff = dff[:50]\n",
        "test_data = Dataset.from_dict( dff )\n",
        "test_data"
      ],
      "execution_count": 6,
      "outputs": [
        {
          "output_type": "execute_result",
          "data": {
            "text/plain": [
              "Dataset({\n",
              "    features: ['translation'],\n",
              "    num_rows: 50\n",
              "})"
            ]
          },
          "metadata": {
            "tags": []
          },
          "execution_count": 6
        }
      ]
    },
    {
      "cell_type": "code",
      "metadata": {
        "id": "UHMT4qVUWgXM"
      },
      "source": [
        "import datasets\n",
        "\n",
        "metric = datasets.load_metric(\"sacrebleu\")"
      ],
      "execution_count": 7,
      "outputs": []
    },
    {
      "cell_type": "code",
      "metadata": {
        "id": "B9WqWPBnXoEG"
      },
      "source": [
        "model_checkpoint = \"facebook/mbart-large-50-many-to-many-mmt\""
      ],
      "execution_count": 8,
      "outputs": []
    },
    {
      "cell_type": "code",
      "metadata": {
        "id": "XL1rlh-uWnik"
      },
      "source": [
        "from transformers import AutoTokenizer, MBart50TokenizerFast\n",
        "    \n",
        "tokenizer = MBart50TokenizerFast.from_pretrained(model_checkpoint)"
      ],
      "execution_count": 9,
      "outputs": []
    },
    {
      "cell_type": "code",
      "metadata": {
        "id": "KtSKQ74iZTIk"
      },
      "source": [
        "# ! pip install sentencepiece"
      ],
      "execution_count": null,
      "outputs": []
    },
    {
      "cell_type": "code",
      "metadata": {
        "id": "DWDo2JsnXv3q",
        "colab": {
          "base_uri": "https://localhost:8080/",
          "height": 116,
          "referenced_widgets": [
            "39d58df5e7c544df8a77bd3273a1bda9",
            "c50021b6448f45ab917910ee146f7866",
            "6b35b0e1b46d421c887542cd19f6a26b",
            "8330ea3aadf94cfe9cdaa77b93b136da",
            "0c22d5ddc803489fb427e51ca39904a5",
            "9b48ecacbf1f447d9c7c130016bdfed9",
            "f09e1950d7e640ab818d742041e8c16e",
            "71fe3c2fbd5e4711a089d3bd4399f07a",
            "fe9f898d408e4d38a9953b65f30ca65b",
            "03c56ef6f27f4c99a41e4b19f956aed0",
            "6efb930b83a64f61bec66839b51b11d4",
            "8c7dc2daac764b44855f83131b31267e",
            "19fdc50ef0e040f6b66d3423d061bf96",
            "9f5eb02dccec42729c8fb1fb1507c60a",
            "7191ee2b9927401f826406661182612f",
            "1ae74b034298449eb0359f287a78b914"
          ]
        },
        "outputId": "37611f08-a872-435e-ed7c-b705207b7fcd"
      },
      "source": [
        "#from transformers import AutoModelForSeq2SeqLM, DataCollatorForSeq2Seq, Seq2SeqTrainingArguments, Seq2SeqTrainer\n",
        "\n",
        "#model = AutoModelForSeq2SeqLM.from_pretrained(model_checkpoint)\n",
        "\n",
        "from transformers import MBartForConditionalGeneration\n",
        "\n",
        "model = MBartForConditionalGeneration.from_pretrained(model_checkpoint)"
      ],
      "execution_count": 10,
      "outputs": [
        {
          "output_type": "display_data",
          "data": {
            "application/vnd.jupyter.widget-view+json": {
              "model_id": "39d58df5e7c544df8a77bd3273a1bda9",
              "version_minor": 0,
              "version_major": 2
            },
            "text/plain": [
              "HBox(children=(FloatProgress(value=0.0, description='Downloading', max=1429.0, style=ProgressStyle(description…"
            ]
          },
          "metadata": {
            "tags": []
          }
        },
        {
          "output_type": "stream",
          "text": [
            "\n"
          ],
          "name": "stdout"
        },
        {
          "output_type": "display_data",
          "data": {
            "application/vnd.jupyter.widget-view+json": {
              "model_id": "fe9f898d408e4d38a9953b65f30ca65b",
              "version_minor": 0,
              "version_major": 2
            },
            "text/plain": [
              "HBox(children=(FloatProgress(value=0.0, description='Downloading', max=2444714899.0, style=ProgressStyle(descr…"
            ]
          },
          "metadata": {
            "tags": []
          }
        },
        {
          "output_type": "stream",
          "text": [
            "\n"
          ],
          "name": "stdout"
        }
      ]
    },
    {
      "cell_type": "code",
      "metadata": {
        "id": "3RSW8eOTWqB3"
      },
      "source": [
        "# if \"mbart\" in model_checkpoint:\n",
        "#     tokenizer.src_lang = \"en_XX\"\n",
        "#     tokenizer.tgt_lang = \"zh_CN\""
      ],
      "execution_count": null,
      "outputs": []
    },
    {
      "cell_type": "code",
      "metadata": {
        "id": "IQmqlEhIW265"
      },
      "source": [
        "def generate_translation(batch):\n",
        "    # cut off at BERT max length 512\n",
        "\n",
        "#    english = [\"translate english to chinese: \" + ex[\"en\"] for ex in batch[\"translation\"]]\n",
        "    english = [ex[\"en\"] for ex in batch[\"translation\"]]\n",
        "\n",
        "    inputs = tokenizer(english, padding=\"max_length\", truncation=True, max_length=512, return_tensors=\"pt\")\n",
        "    input_ids = inputs.input_ids\n",
        "\n",
        "    attention_mask = inputs.attention_mask\n",
        "\n",
        "    outputs = model.generate(input_ids, attention_mask=attention_mask, forced_bos_token_id = tokenizer.lang_code_to_id[\"zh_CN\"])\n",
        " #   outputs = model.generate(input_ids, attention_mask=attention_mask)\n",
        "    output_str = tokenizer.batch_decode(outputs, skip_special_tokens=True)\n",
        "\n",
        "    batch[\"pred_translation\"] = output_str\n",
        "\n",
        "    return batch"
      ],
      "execution_count": 11,
      "outputs": []
    },
    {
      "cell_type": "code",
      "metadata": {
        "colab": {
          "base_uri": "https://localhost:8080/",
          "height": 140,
          "referenced_widgets": [
            "0bf99f2d795c484fa4537788fb3bb418",
            "b32a17a6afe345e885dfeef0da387638",
            "6553613c3ac64902863b72850b9aeb83",
            "4618bb19af1a4b77b2142d6a0853a00d",
            "b4cd5d51d8894ee4a7687f805dd58ed5",
            "48147872296b45dda524c8ecc42d3417",
            "6ebbfd77e7a14ca89e005c8815714bb5",
            "4e277484e21544b48f5f7f906816669a"
          ]
        },
        "id": "FdeCYEfoW44G",
        "outputId": "6061ca9b-216a-4aa9-94e3-3362f45460e8"
      },
      "source": [
        "batch_size = 4 # change to 64 for full evaluation\n",
        "\n",
        "results = test_data.map(generate_translation, batched=True, batch_size=batch_size)"
      ],
      "execution_count": 12,
      "outputs": [
        {
          "output_type": "display_data",
          "data": {
            "application/vnd.jupyter.widget-view+json": {
              "model_id": "0bf99f2d795c484fa4537788fb3bb418",
              "version_minor": 0,
              "version_major": 2
            },
            "text/plain": [
              "HBox(children=(FloatProgress(value=0.0, max=13.0), HTML(value='')))"
            ]
          },
          "metadata": {
            "tags": []
          }
        },
        {
          "output_type": "stream",
          "text": [
            "/usr/local/lib/python3.7/dist-packages/torch/_tensor.py:575: UserWarning: floor_divide is deprecated, and will be removed in a future version of pytorch. It currently rounds toward 0 (like the 'trunc' function NOT 'floor'). This results in incorrect rounding for negative values.\n",
            "To keep the current behavior, use torch.div(a, b, rounding_mode='trunc'), or for actual floor division, use torch.div(a, b, rounding_mode='floor'). (Triggered internally at  /pytorch/aten/src/ATen/native/BinaryOps.cpp:467.)\n",
            "  return torch.floor_divide(self, other)\n"
          ],
          "name": "stderr"
        },
        {
          "output_type": "stream",
          "text": [
            "\n"
          ],
          "name": "stdout"
        }
      ]
    },
    {
      "cell_type": "code",
      "metadata": {
        "id": "waHRRw2n3UHP"
      },
      "source": [
        "import jieba\n",
        "import nltk.translate.bleu_score as bleu"
      ],
      "execution_count": 31,
      "outputs": []
    },
    {
      "cell_type": "code",
      "metadata": {
        "id": "tnvzi08kW8cz",
        "colab": {
          "base_uri": "https://localhost:8080/"
        },
        "outputId": "9ab1a665-cd22-416d-fabc-8dcbebe9819a"
      },
      "source": [
        "bleu_score = 0\n",
        "\n",
        "for i in range(len(results)):\n",
        "  print(i)\n",
        "  ref = results[\"translation\"][i][\"zh\"]\n",
        "  pred = results[\"pred_translation\"][i]\n",
        "\n",
        "  ref_segment = jieba.lcut(ref)\n",
        "  pred_segment = jieba.lcut(pred) \n",
        "  print('Real Translation Segmentation: {}'.format(ref_segment))\n",
        "  print('Prediction Translation Segmentation: {}'.format(pred_segment))\n",
        "  # print(ref_segment)\n",
        "  # print(pred_segment)\n",
        "\n",
        "  bleu_ = bleu.sentence_bleu([ref_segment], pred_segment,weights=(0.25, 0.25, 0.25, 0.25)) * 100\n",
        "  bleu_score += bleu_\n",
        "  print(\"BLEU Score: \", bleu_)\n",
        "  print(\"-------\" * 20)"
      ],
      "execution_count": 29,
      "outputs": [
        {
          "output_type": "stream",
          "text": [
            "0\n",
            "Real Translation Segmentation: ['“', '法院', '填塞', '对于', '恢复', '民主', '是', '不可或缺', '的', '，', '”', '旧金山', '州立大学', '政治学', '教授', '亚伦', '·', '贝尔金', '说', '，', '他', '是', '“', '法院', '填塞', '”', '计划', '的', '执行', '理事', '，', '该', '组织', '主张', '扩大', '替补席', '。']\n",
            "Prediction Translation Segmentation: ['旧金山', '州立大学', '政治', '科学', '教授', 'Aaron', ' ', 'Belkin', '(', 'Aaron', ' ', 'Belkin', ')', '声称', ',', '法院', '包办', '是', '恢复', '民主', '的', '任何', '努力', '中', '不可分割', '的', '一部分', '。']\n",
            "BLEU Score:  29.243705060308383\n",
            "--------------------------------------------------------------------------------------------------------------------------------------------\n",
            "1\n",
            "Real Translation Segmentation: ['另外', '两', '方面', '非常', '匹配', '：', '即', '失业', '与', '获得', '社会保障', '。']\n",
            "Prediction Translation Segmentation: ['其他', '两个', '是', '合适', '的', ':', '失业', '和', '获得', '社会', '安全网', '的', '机会', '。']\n",
            "BLEU Score:  68.03749333171201\n",
            "--------------------------------------------------------------------------------------------------------------------------------------------\n",
            "2\n",
            "Real Translation Segmentation: ['我', '真的', '很想', '赢得', '那场', '比赛', '，', '以至于', '当', '我', '跑', '到', '还有', '最后', '几米', '的', '时候', '，', '我', '自己', '都', '不敢相信', '！']\n",
            "Prediction Translation Segmentation: ['我', '真想', '赢得', '那场', '比赛', ',', '当', '我', '在', '最后', '几米', '跑', '的', '时候', ',', '我', '真', '不敢相信', '!']\n",
            "BLEU Score:  26.34384515882043\n",
            "--------------------------------------------------------------------------------------------------------------------------------------------\n",
            "3\n",
            "Real Translation Segmentation: ['就', '像', '那些', '追随', '英国', '托特纳姆热刺', '队', '的', '球迷', '一样', '，', '这', '被', '看作', '是', '对', '使用', '反', '犹太主义', '攻击', '支持', '阿贾克斯', '的', '对手', '球迷', '的', '回应', '。']\n",
            "Prediction Translation Segmentation: ['与', '英国', '俱乐部', ' ', 'Tottenham', ' ', 'Hotspur', '的', '追随者', '一样', ',', '这', '被', '视为', '对', '使用', '反犹主义', '攻击', '阿贾克斯', '支持', '的', '对手', '球迷', '的', '反应', '。']\n",
            "BLEU Score:  13.240440631732053\n",
            "--------------------------------------------------------------------------------------------------------------------------------------------\n",
            "4\n",
            "Real Translation Segmentation: ['领养', '协调员', '告诉', '他', '，', '他们', '有', '很多', '共同之处', '，', '都', '需要', '进行', '同样', '的', '工作', '。']\n",
            "Prediction Translation Segmentation: ['收养', '协调员', '告诉', '他', ',', '他们', '有', '很多', '共同之处', ',', '他们', '都', '需要', '在', '同样', '的', '事情', '上', '工作', '。']\n",
            "BLEU Score:  22.75948301279327\n",
            "--------------------------------------------------------------------------------------------------------------------------------------------\n",
            "5\n",
            "Real Translation Segmentation: ['自', '那', '以后', '，', '该', '公司', '对', '其', '算法', '进行', '了', '改进', '，', '并', '聘请', '了', '内容', '管理人员', '。']\n",
            "Prediction Translation Segmentation: ['自', '那时', '起', ',', '公司', '重新', '修改', '了', '算法', ',', '并', '聘请', '内容', '调制', '员', '。']\n",
            "BLEU Score:  35.4233370122613\n",
            "--------------------------------------------------------------------------------------------------------------------------------------------\n",
            "6\n",
            "Real Translation Segmentation: ['曾于', '2016', '年', '出席', '《', '嘻哈', '帝国', '》', '活动', '的', '演员', '兼', '歌手', '朱西', '·', '斯莫', '列特', '被控', '扰乱', '秩序', '，', '因为', '他', '提交', '了', '一份', '虚假', '的', '警方', '报告', '，', '称', '自己', '是', '一起', '由', '偏见', '引发', '的', '袭击', '的', '受害者', '。']\n",
            "Prediction Translation Segmentation: ['演员', '和', '歌手', '朱西', '·', '斯莫', '列特', '(', 'Jussie', ' ', 'Smollett', ')', '在', '2016', '年', '在', '帝国', '事件', '中', '被', '指控', '犯有', '不当', '行为', ',', '涉嫌', '向', '警方', '提出', '虚假', '的', '报告', ',', '称', '自己', '是', '偏见', '性', '攻击', '的', '受害者', '。']\n",
            "BLEU Score:  16.12975302931772\n",
            "--------------------------------------------------------------------------------------------------------------------------------------------\n",
            "7\n",
            "Real Translation Segmentation: ['他', '对', '部长', '所说', '的', '有', '争议', '的', '回应', '表示', '怀疑', '，', '这本', '应该', '是', '一个', '直截了当', '回答', '的', '问题', '。']\n",
            "Prediction Translation Segmentation: ['他', '对', '这位', '部长', '对', '他', '所说', '的', '应该', '是', '一个', '直截了当', '的', '问题', '所作', '的', '争议性', '的', '回答', '表示', '不', '信任', '。']\n",
            "BLEU Score:  17.059573701616802\n",
            "--------------------------------------------------------------------------------------------------------------------------------------------\n",
            "8\n",
            "Real Translation Segmentation: ['在', '整场', '锦标赛', '中', '，', '美国', '、', '排名', '世界', '第四', '的', '英国', '、', '排名', '第八', '的', '日本', '和', '排名', '第十', '的', '巴西', '势均力敌', '。']\n",
            "Prediction Translation Segmentation: ['在', '整个', '锦标赛', '中', ',', '美国', '、', '英格兰', '(', '世界排名', '第四', ')', '、', '日本', '(', '第', '8', '名', ')', '和', '巴西', '(', '第', '10', '名', ')', '均位', '相配', '。']\n",
            "BLEU Score:  40.57108879449503\n",
            "--------------------------------------------------------------------------------------------------------------------------------------------\n",
            "9\n",
            "Real Translation Segmentation: ['他', '在', '参议院', '司法', '委员会', '听证会', '上', '指责', '民主党人', '在', '玩', '政治', '游戏', '，', '并', '试图', '“', '摧毁', '”', '卡瓦', '诺', '。']\n",
            "Prediction Translation Segmentation: ['在', '参议院', '司法', '委员会', '听证', '期间', ',', '他', '指控', '民主党', '正在', '玩', '政治', '游戏', '并', '试图', '“', '摧毁', '”', '卡瓦', '诺', '。']\n",
            "BLEU Score:  49.29664394953522\n",
            "--------------------------------------------------------------------------------------------------------------------------------------------\n",
            "10\n",
            "Real Translation Segmentation: ['当', '沏茶', '的', '务实', '女主人', '知道', '米莱', '来自', '未来', '的', '时候', '，', '她', '表示', '不屑', '理睬', '，', '这种', '反应', '感觉', '合情合理', '，', '而', '不仅仅', '是', '出于', '方便', '。']\n",
            "Prediction Translation Segmentation: ['当', '大地', '的', '茶', '女夏思', '一无所知', '地耸', '耸耸肩', ',', '发现', '美瑞是', '来自', '未来', '时', ',', '就', '觉得', '恰当', ',', '而', '不是', '仅仅', '是', '方便', '。']\n",
            "BLEU Score:  35.84072987603157\n",
            "--------------------------------------------------------------------------------------------------------------------------------------------\n",
            "11\n",
            "Real Translation Segmentation: ['金', '的', '律师', '兼', '演讲稿', '撰写', '人', '克拉伦斯', '·', '琼斯', '说', '：', '“', '他', '深信', '一些', '听', '起来', '几乎', '是', '愚蠢', '且', '陈腐', '的', '东西', '，', '但', '他', '真的', '相信', '救赎', '之爱', '的', '力量', '。', '”']\n",
            "Prediction Translation Segmentation: ['克莱', '伦斯', '·', '琼斯', '(', 'Clarence', ' ', 'Jones', ')', '说', ',', '他', '深信', '几乎', '听', '起来', '很', '愚蠢', ',', '几乎', '听', '起来', '很', '琐碎', '的', '东西', ',', '但是', '他', '确实', '相信', '救赎', '的', '爱', '的', '力量', '。']\n",
            "BLEU Score:  22.80077290159341\n",
            "--------------------------------------------------------------------------------------------------------------------------------------------\n",
            "12\n",
            "Real Translation Segmentation: ['罗宾', '·', '赖特', '饰演', '的', '角色', '克莱尔', '·', '安', '德伍德', '在', '《', '纸牌', '屋', '》', '的', '最后', '一季', '登上', '总统', '宝座', '。']\n",
            "Prediction Translation Segmentation: ['罗宾', '·', '赖特', '的', '角色', '克莱尔', '·', '安', '德伍德', '(', '英语', ':', 'Claire', ' ', 'Underwood', ')', '(', '中心', ')', '在', '《', '卡片', '屋', '》', '的', '最后', '一季', '登台', '担任', '总统', '。']\n",
            "BLEU Score:  32.70534171825075\n",
            "--------------------------------------------------------------------------------------------------------------------------------------------\n",
            "13\n",
            "Real Translation Segmentation: ['作为', '世界', '上', '最', '成功', '的', '女子', '球队', '之一', '的', '一员', '，', '就要', '肩负起', '责任', '，', '美国', '足球', '运动员', '利用', '其', '平台', '推动', '全球', '变化', '。']\n",
            "Prediction Translation Segmentation: ['成为', '世界', '最', '成功', '的', '女子', '球队', '的', '一员', '意味着', '责任', ',', '美国', '足球', '运动员', '利用', '自己', '的', '平台', '推动', '全球', '变革', '。']\n",
            "BLEU Score:  30.404180243685403\n",
            "--------------------------------------------------------------------------------------------------------------------------------------------\n",
            "14\n",
            "Real Translation Segmentation: ['“', '你', '很快', '就', '会', '发现', '的', '，', '”', '萨哈', '娜', '·', '斯瑞尼瓦山', '在', 'Netflix', '新', '科学', '节目', '《', '智囊团', '》', '的', '预告片', '中', '承诺', '。']\n",
            "Prediction Translation Segmentation: ['在', 'Netflix', '的', '新', '科学', '节目', '“', 'Brainchild', '”', '的', '预告片', '中', ',', '萨哈', '纳', '·', '西尼', '西亚', '文森', '承诺', ',', '你', '会', '发现', '。']\n",
            "BLEU Score:  33.98379590981417\n",
            "--------------------------------------------------------------------------------------------------------------------------------------------\n",
            "15\n",
            "Real Translation Segmentation: ['肯尼迪', '补充', '说', '，', '“', '一些', '人', '显然', '有', '组织', '地', '试图', '把', '他们', '的', '意愿', '强加', '给', '这个', '委员会', '的', '成员', '”', '，', '这', '让', '他', '感到', '被', '冒犯', '并且', '对此', '感到', '厌倦', '。']\n",
            "Prediction Translation Segmentation: ['肯尼迪', '还', '补充', '说', ',', '他', '被', '“', '显然', '有', '组织', '的', '某些', '人', '”', '“', '强加', '他们', '对', '委员会', '成员', '的', '意愿', '”', '所', '激怒', ',', '他', '说', '他', '已经', '厌倦', '了', '。']\n",
            "BLEU Score:  21.096646257992916\n",
            "--------------------------------------------------------------------------------------------------------------------------------------------\n",
            "16\n",
            "Real Translation Segmentation: ['这是', '两名', '球员', '进行', '的', '首场', '决赛', '，', '德雷尔', '在', '追冠', '路上', '六次', '打破', '这位', '加拿大', '球员', '的', '纪录', '。']\n",
            "Prediction Translation Segmentation: ['这是', '双方', '球员', '的', '首场', '决赛', ',', '杰雷', '在', '胜利', '的', '道路', '上', '打破', '了', '加拿大', '的', '6', '次', '。']\n",
            "BLEU Score:  25.734532801908834\n",
            "--------------------------------------------------------------------------------------------------------------------------------------------\n",
            "17\n",
            "Real Translation Segmentation: ['比赛', '重新', '开始', '后', '不到', '两分钟', '，', '由于', '乔希', '·', '亚当斯', '一记', '精彩', '的', '射门', '，', '客队', '占据', '领先', '位置', '。']\n",
            "Prediction Translation Segmentation: ['在', '重新启动', '后', '不到', '两分钟', ',', '游客', '们', '因为', '乔什', '·', '亚当斯', '(', 'Josh', ' ', 'Adams', ')', '的', '精彩', '完成', '而', '站', '在', '前面', '。']\n",
            "BLEU Score:  20.42128370387497\n",
            "--------------------------------------------------------------------------------------------------------------------------------------------\n",
            "18\n",
            "Real Translation Segmentation: ['他', '补充', '说', '，', '患者', '物理', '损伤', '的', '风险', '要', '比', '再次', '心脏病', '发作', '风险', '高', '。']\n",
            "Prediction Translation Segmentation: ['他', '补充', '说', ',', '病人', '比', '其他', '心脏病', '患者', '更', '容易', '受到', '身体', '伤害', '。']\n",
            "BLEU Score:  23.419920485587316\n",
            "--------------------------------------------------------------------------------------------------------------------------------------------\n",
            "19\n",
            "Real Translation Segmentation: ['马哈蒂尔', '驳斥', '了', '有关', '飞行员', '在', '飞机', '失踪', '事件', '中所扮', '角色', '的', '猜测', '，', '他', '指出', '该', '飞行员', '职业生涯', '很长', '，', '并且', '缺乏', '明确', '动机', '。']\n",
            "Prediction Translation Segmentation: ['马哈迪', '驳斥', '了', '关于', '飞机', '飞行员', '在', '失踪', '中', '的', '角色', '的', '猜测', ',', '指出', '该', '男子', '的', '长寿', '和', '缺乏', '明确', '的', '动机', '。']\n",
            "BLEU Score:  28.37630045433526\n",
            "--------------------------------------------------------------------------------------------------------------------------------------------\n",
            "20\n",
            "Real Translation Segmentation: ['它', '意味着', '学习', '人性', '的', '政治学', '是', '为了', '生存', '，', '也', '是', '为了', '丰富', '自身', '。']\n",
            "Prediction Translation Segmentation: ['它', '意味着', '学习', '人类', '生存', '和', '富饶', '的', '本性', '政治', '。']\n",
            "BLEU Score:  21.06104568447835\n",
            "--------------------------------------------------------------------------------------------------------------------------------------------\n",
            "21\n",
            "Real Translation Segmentation: ['索尔特', '在', '众议院', '经济', '和', '消费者', '政策', '小组', '委员会', '作证', '，', '该', '小组', '委员会', '希望', '能够', '更', '深入', '地', '研究', '滑石', '与', '癌症', '相关联', '的', '科学', '内容', '。']\n",
            "Prediction Translation Segmentation: ['萨特', '在', '众议院', '经济', '及', '消费者', '政策', '小组', '委员会', '面前', '作证', ',', '该', '小组', '希望', '更', '深入', '地', '研究', '可能', '与', '结核', '有关', '的', '科学', '。']\n",
            "BLEU Score:  24.978595997703234\n",
            "--------------------------------------------------------------------------------------------------------------------------------------------\n",
            "22\n",
            "Real Translation Segmentation: ['在', '丹麦', '哥本哈根', '的', '比斯', '贝杰格', '公墓', '，', '一个', '孩子', '在', '盛开', '的', '日本', '樱花树', '下', '欣赏', '风景', '。']\n",
            "Prediction Translation Segmentation: ['一个', '小孩', '在', '丹麦', '哥本哈根', '的', '比', '斯伯格', '尔', '墓地', '的', '日本', '樱桃树', '下', '观光', '。']\n",
            "BLEU Score:  16.704452708541158\n",
            "--------------------------------------------------------------------------------------------------------------------------------------------\n",
            "23\n",
            "Real Translation Segmentation: ['埃塞俄比亚', '富尔', '在', '东非', '和', '中东地区', '非常', '受欢迎', '，', '它', '是', '一种', '炖制', '和', '风味', '蚕豆', '的', '混合物', '，', '许多', '埃塞俄比亚人', '将', '其', '作为', '早餐', '食用', '。']\n",
            "Prediction Translation Segmentation: ['埃塞俄比亚', '胡尔', '(', '英语', ':', 'Ethiopian', ' ', 'fuul', ')', '是', '埃塞俄比亚人', '在', '早餐', '时', '食用', '的', '蒸煮', '和', '香辛', '的', '咖啡豆', '。']\n",
            "BLEU Score:  63.716463935562906\n",
            "--------------------------------------------------------------------------------------------------------------------------------------------\n",
            "24\n",
            "Real Translation Segmentation: ['而且', '，', '教师', '在', '年复一年', '地', '做', '课程计划', '的', '时候', '，', '可以', '更', '容易', '地', '对', '自己', '已经', '熟悉', '的', '书籍', '做出', '优先', '等级', '判断', '。']\n",
            "Prediction Translation Segmentation: ['每年', '计划', '课时', ',', '老师', '更', '容易', '把', '已经', '熟悉', '的', '书', '作为', '优先', '事项', '。']\n",
            "BLEU Score:  15.049981051832415\n",
            "--------------------------------------------------------------------------------------------------------------------------------------------\n",
            "25\n",
            "Real Translation Segmentation: ['“', '我', '简直', '不敢相信', '，', '天', '啊', '，', '我要', '向', '你', '和', '你', '的', '家人', '表达', '诚挚', '的', '爱', '！', '你', '如此', '善良', '，', '如此', '慷慨', '，', '你', '教会', '了', '我', '很多', '。', '”']\n",
            "Prediction Translation Segmentation: ['真', '不敢相信', ',', '没有', '一句', '话', ',', '给', '你', '和', '你', '的', '家人', '送上', '我', '所', '得到', '的', '一切', '爱', ',', '你', '真是', '仁慈', '和', '慷慨', ',', '你', '教', '了', '我', '很多', '东西', '。']\n",
            "BLEU Score:  16.20743067850084\n",
            "--------------------------------------------------------------------------------------------------------------------------------------------\n",
            "26\n",
            "Real Translation Segmentation: ['米尔德', '里德', '声称', '自己', '知道', '的', '也', '一样', '多', '，', '但是', '“', '就', '在', '下', '一刻', '，', '无论是', '我', '自己', '还是', '由于', '它', '的', '缘故', '”', '再', '一次', '警醒', '了', '他', '，', '“', '但是', '它', '最终', '一定', '会成', '真的', '。', '”']\n",
            "Prediction Translation Segmentation: ['米尔德', '雷德', '声称', '他', '知道', '多少', ',', '但', '“', '即使', '我', '自己', '还是', '因为', '它', ',', '”', '他', '又', '一次', '警告', '他', ',', '“', '但', '它', '将', '实现', '。', '”']\n",
            "BLEU Score:  14.367873558538536\n",
            "--------------------------------------------------------------------------------------------------------------------------------------------\n",
            "27\n",
            "Real Translation Segmentation: ['格雷厄姆', '说', '：', '“', '我', '从未', '像', '在', '布雷特', '·', '卡瓦', '诺', '听证会', '期间', '那样', '为', '特朗普', '总统', '感到', '骄傲', '。', '”']\n",
            "Prediction Translation Segmentation: ['格', '拉汉姆', '说', ':', '“', '我', '从来', '没有', '比', '在', '布雷特', '·', '卡瓦', '诺', '听证', '期间', '更为', '特朗普', '总统', '感到', '骄傲', '。']\n",
            "BLEU Score:  36.227557436010244\n",
            "--------------------------------------------------------------------------------------------------------------------------------------------\n",
            "28\n",
            "Real Translation Segmentation: ['然而', '，', '当', '一些', '倡导', '团体', '提到', '这份', '报告', '时', '，', '他们', '说', '，', '不', '使用', '卫生巾', '的', '妇女', '正', '转向', '使用', '诸如', '抹布', '、', '沙子', '、', '灰烬', '和', '木屑', '等', '作为', '替代品', '。']\n",
            "Prediction Translation Segmentation: ['然而', ',', ' ', '当', ' ', '一些', ' ', '宣传', ' ', '团体', ' ', '提到', ' ', '该', ' ', '报告', ' ', '时', ',', ' ', '他们', ' ', '说', ',', ' ', '没有', ' ', '使用', ' ', '卫生巾', ' ', '的', ' ', '妇女', ' ', '正', ' ', '转向', ' ', '如', ' ', '毛布', ' ', '、', ' ', '沙子', ' ', '、', ' ', '灰尘', ' ', '和', ' ', '木头', ' ', '剃刀', ' ', '等', ' ', '替代品', ' ', '。']\n",
            "BLEU Score:  77.18052844994459\n",
            "--------------------------------------------------------------------------------------------------------------------------------------------\n",
            "29\n",
            "Real Translation Segmentation: ['刮去', '肥肉', '可以', '使', '汤汁', '更加', '透明', '，', '并且', '可以', '使', '肉汁', '的', '风味', '完全', '浸入', '，', '也', '不会', '产生', '油脂', '感', '或者', '苦涩', '的', '余味', '。']\n",
            "Prediction Translation Segmentation: ['脱脂', '可以', '产生', '更', '清晰', '的', '液体', ',', '使', '肉汁', '的', '全部', '味道', '不会', '有', '脂肪', '或', '苦味', '的', '余味', '。']\n",
            "BLEU Score:  23.160517740918294\n",
            "--------------------------------------------------------------------------------------------------------------------------------------------\n",
            "30\n",
            "Real Translation Segmentation: ['两次', '获得', '冠军', '的', '瓦莱里', '娅', '·', '霍林格', '清楚', '地', '知道', '如何', '在', '这样', '一个', '独特', '的', '训练', '中', '竞争', '。']\n",
            "Prediction Translation Segmentation: ['两届', '冠军', '瓦莱里', '亚', '·', '霍林格', '(', 'Valeria', ' ', 'Holinger', ')', '知道', '如何', '才能', '在', '如此', '独特', '的', '学科', '中', '竞争', '。']\n",
            "BLEU Score:  28.387021048806442\n",
            "--------------------------------------------------------------------------------------------------------------------------------------------\n",
            "31\n",
            "Real Translation Segmentation: ['阿米', '森', '的', '母亲', '是', '委内瑞拉人', '，', '父亲', '是', '德', '韩', '混血', '，', '2008', '年', '，', '他', '告诉', '《', '纽约', '杂志', '》', '的', '“', '情报', '”', '专栏', '，', '他', '使用', '蜂蜜', '色', '的', '化妆品', '来', '刻画', '奥巴马', '形象', '，', '因为', '奥巴马', '是', '混血儿', '。']\n",
            "Prediction Translation Segmentation: ['2008', '年', ',', '阿米', '森', '的', '母亲', '是', '委内瑞拉人', ',', '父亲', '是', '德国', '和', '韩国', '人', ',', '在', '纽约', '杂志', '的', '“', '情报员', '”', '专栏', '上', '表示', ',', '他', '穿着', '蜂蜜', '色', '化妆', ',', '以', '描绘', '奥巴马', ',', '他', '是', '种鸟', '的', '。']\n",
            "BLEU Score:  17.668758023551256\n",
            "--------------------------------------------------------------------------------------------------------------------------------------------\n",
            "32\n",
            "Real Translation Segmentation: ['这部', '网络', '连续剧', '聚焦', '于', '两位', '美国', '穆斯林', '女性', '，', '是', '一部', '以', '穆斯林', '角色', '为', '特点', '的', '新剧', '集', '之一', '。']\n",
            "Prediction Translation Segmentation: ['该', '网络', '系列', '主要', '关注', '两个', '穆斯林', '美国', '女性', ',', '是', '一部', '新', '系列', '的', '穆斯林', '角色', '之一', '。']\n",
            "BLEU Score:  47.59366457650679\n",
            "--------------------------------------------------------------------------------------------------------------------------------------------\n",
            "33\n",
            "Real Translation Segmentation: ['给', '土著', '客人', '的', '房间', '没有', '按照', '与', '其他', '房间', '一样', '的', '标准', '进行', '打扫', '，', '而是', '配备', '了', '低质量', '的', '以及', '有', '污垢', '的', '床上用品', '，', '而且', '房间', '也', '没有', '进行', '适当', '维护', '。']\n",
            "Prediction Translation Segmentation: ['给', ' ', '土著', ' ', '居民', ' ', '的', ' ', '房间', ' ', '没有', ' ', '按照', ' ', '其他', ' ', '房间', ' ', '的', ' ', '标准', ' ', '进行', ' ', '清洁', ',', ' ', '有', ' ', '较', '低', ' ', '质量', ' ', '的', ' ', '和', ' ', '染色', ' ', '的', ' ', '床单', ',', ' ', '而且', ' ', '没有', ' ', '适当', ' ', '的', ' ', '维护', ' ', '。']\n",
            "BLEU Score:  76.32053278841269\n",
            "--------------------------------------------------------------------------------------------------------------------------------------------\n",
            "34\n",
            "Real Translation Segmentation: ['她', '补充', '说', '，', '四肢', '爬行', '前进', '，', '膝盖', '离', '地', '，', '可以', '进一步', '激活', '核心', '肌肉', '以及', '身体', '的', '平衡', '能力', '。']\n",
            "Prediction Translation Segmentation: ['她', '补充', '说', ',', '四肢', '爬行', ',', '膝盖', '从', '地板', '上', '掉下来', ',', '进一步', '激活', '核心', '肌肉', '和', '身体', '的', '平衡', '能力', '。']\n",
            "BLEU Score:  33.573064840973224\n",
            "--------------------------------------------------------------------------------------------------------------------------------------------\n",
            "35\n",
            "Real Translation Segmentation: ['这项', '研究', '并', '不是', '对', '每个', '人', '都', '有效', '，', '要', '证明', '它', '的', '有效性', '还有', '很长', '的', '路', '要', '走', '，', '但', '它', '提供', '了', '一种', '十分', '吸引', '人', '的', '替代疗法', '，', '而且', '它', '是从', '一种', '不同', '的', '方式', '去', '思考', '疼痛', '开始', '的', '。']\n",
            "Prediction Translation Segmentation: ['它', '不适', '用于', '所有人', ',', '而且', '研究', '还有', '很长', '的', '路', '要', '走', '才能', '证明', '它', '有效', ' ', '—', ' ', '—', ' ', '但', '它', '提供', '了', '一个', '令人', '感兴趣', '的', '替代', '治疗', '方法', ',', '它', '从', '不同', '的', '角度', '来', '思考', '疼痛', '。']\n",
            "BLEU Score:  19.62531509930252\n",
            "--------------------------------------------------------------------------------------------------------------------------------------------\n",
            "36\n",
            "Real Translation Segmentation: ['从那以后', '，', 'Netflix', '一直', '在', '积极', '地', '寻求', '电影', '制作', '人', '以及', '业界', '的', '尊重', '，', '这该', '行业', '一直', '将', 'Netflix', '视为', '传统', '电影', '模式', '的', '主要', '颠覆者', '。']\n",
            "Prediction Translation Segmentation: ['自', '那时', '起', ',', 'Netflix', '一直', '积极', '地', '追求', '电影', '制作者', '和', '在', '传统', '电影', '模式', '中', '扮演', '主要', '破坏者', '的', '角色', '的', '行业', '中', '的', '尊重', '。']\n",
            "BLEU Score:  23.98175781061152\n",
            "--------------------------------------------------------------------------------------------------------------------------------------------\n",
            "37\n",
            "Real Translation Segmentation: ['对于', '像', '我', '这样', '的', '人', '来说', '，', '有时候', '这种', '想法', '很', '无聊', '，', '这', '对', '我', '有', '好处', '。']\n",
            "Prediction Translation Segmentation: ['对', '像', '我', '这样', '的', '人', '来说', ',', '这种', '想法', '有时', '会', '使', '事情', '变得', '乏味', ',', '这', '对', '我', '来说', '是', '好事', '。']\n",
            "BLEU Score:  27.41229265391949\n",
            "--------------------------------------------------------------------------------------------------------------------------------------------\n",
            "38\n",
            "Real Translation Segmentation: ['然而', '，', '当', '我', '还是', '个', '孩子', '的', '时候', '，', '对', '我', '来说', '显而易见', '的', '是', '，', '从', '美国', '种族', '的', '角度', '来看', '，', '黄色', '就', '代表', '着', '亚洲', '人', '。']\n",
            "Prediction Translation Segmentation: ['然而', ',', '当', '我', '还是', '个', '孩子', '时', ',', '我', '觉得', '很', '明显', ',', '根据', '美国', '种族', '的', '计算', ',', '黄色', '意味着', '亚洲', '人', '。']\n",
            "BLEU Score:  19.386454410530256\n",
            "--------------------------------------------------------------------------------------------------------------------------------------------\n",
            "39\n",
            "Real Translation Segmentation: ['我们', '从', '事实', '中', '可以', '看到', '，', '现在', '那些', '对', '移民', '采取', '强硬态度', '的', '人', '，', '往往', '就是', '很早以前', '本会', '受到', '歧视', '的', '人', '。']\n",
            "Prediction Translation Segmentation: ['事实上', ',', '我们', '看到', '这', '一点', '是因为', '那些', '现在', '对', '移民', '采取', '强硬态度', '的', '人', '往往', '是', '那些', '在', '较', '早', '的', '年龄', '里', '受到', '歧视', '的', '人', '。']\n",
            "BLEU Score:  30.66439134043059\n",
            "--------------------------------------------------------------------------------------------------------------------------------------------\n",
            "40\n",
            "Real Translation Segmentation: ['阿布', '•', '贾乌德', '表示', '，', '它们', '并', '不会', '被', '视为', '政治', '评论', '，', '而', '只是', '纯粹', '的', '娱乐', '方式', '和', '逃避现实', '的', '手段', '；', '他', '指出', '，', '尽管', '在', '过去', '几十年', '里', '，', '一直', '很', '流行', '白人', '救世主', '的', '叙事', '故事', '，', '但', '这些', '中世纪', '电影', '中', '的', '大多数', '反派人物', '要么', '是', '神话', '了', '的', '恶棍', '，', '要么', '是', '苏联', '间谍', '。']\n",
            "Prediction Translation Segmentation: ['Abou', ' ', 'Jaoud', 'é', ' ', '说', ',', ' ', '这些', ' ', '电影', ' ', '不是', ' ', '被', ' ', '视为', ' ', '政治', ' ', '评论', ',', ' ', '而是', ' ', '纯粹', ' ', '的', ' ', '娱乐', ' ', '和', ' ', '逃避', ' ', ';', ' ', '他', ' ', '指出', ',', ' ', '尽管', ' ', '白人', ' ', '的', ' ', '勇敢', ' ', '的', ' ', '叙述', ' ', '在', ' ', '各', ' ', '年代', ' ', '都', ' ', '普遍', ',', ' ', '但', ' ', '这些', ' ', '世纪', ' ', '中期', ' ', '电影', ' ', '中', ' ', '的', ' ', '大多数', ' ', '敌对', ' ', '者', ' ', '要么', ' ', '是', ' ', '童话', ' ', '的', ' ', '恶棍', ',', ' ', '要么', ' ', '是', ' ', '苏联', ' ', '间谍', ' ', '。']\n",
            "BLEU Score:  73.11104457090248\n",
            "--------------------------------------------------------------------------------------------------------------------------------------------\n",
            "41\n",
            "Real Translation Segmentation: ['它', '说', '：', '“', '之前', '在', 'Facebook', '公司', '之间', '共享', '数据', '的', '提议', '引起', '了', '人们', '对', '数据保护', '的', '强烈', '担忧', '，', '爱尔兰', '数据保护', '委员会', '将', '尽快', '寻求', '保证', '，', '确保', '其', '将', '对', '所有', '这些', '担忧', '进行', '充分考虑', '。', '”']\n",
            "Prediction Translation Segmentation: ['该', '机构', '表示', ',', '此前', '关于', 'Facebook', '公司', '之间', '分享', '数据', '的', '提议', '引发', '了', '大量', '有关', '数据保护', '的', '关注', ',', '爱尔兰', '的', 'DPC', '将', '尽早', '寻求', '保证', '所有', '这些', '关注', '将', '得到', '充分考虑', '。']\n",
            "BLEU Score:  24.653717431552824\n",
            "--------------------------------------------------------------------------------------------------------------------------------------------\n",
            "42\n",
            "Real Translation Segmentation: ['简妮特', '·', '马尔科', '姆', '的', '新作', '《', '无人', '在', '看', '你', '》', '将', '之前', '未', '编译', '的', '那些', '文章', '整合', '到', '一起', '，', '在', '某种程度', '上', '来说', '，', '她', '是', '失败', '的', '，', '而', '这', '本书', '又', '很', '吸引', '人', '。']\n",
            "Prediction Translation Segmentation: ['在', '她', '新', '收藏', '的', 'Nobody', \"'\", 's', ' ', 'Looking', ' ', 'at', ' ', 'You', '中', ',', '在', '收集', '以前', '未', '编写', '的', '文章', '时', ',', '雅妮特', '·', '马尔科', '姆', '失败', ' ', '—', ' ', '—', ' ', '这', '真是', '令人', '印象', '深刻', '。']\n",
            "BLEU Score:  14.199276729340054\n",
            "--------------------------------------------------------------------------------------------------------------------------------------------\n",
            "43\n",
            "Real Translation Segmentation: ['科恩', '补充', '道', '，', '“', '进行', '轻度', '锻炼', '后', '，', '在', '完成', '后', '的', '两到', '三个', '小时', '内要', '均衡', '膳食', '，', '包括', '优质', '蛋白质', '和', '碳水化合物', '，', '并且', '喝', '大量', '水来', '弥补', '水', '流失', '。', '”']\n",
            "Prediction Translation Segmentation: ['科恩', '补充', '说', ',', '在', '较', '轻', '的', '训练', '之后', ',', '在', '完成', '后', '两到', '三', '小时', '内', '吃', '均衡', '的', '食物', '--', '包括', '高质量', '的', '蛋白质', '和', '碳水化合物', '--', '并', '喝', '足够', '的', '液体', '来', '代替', '损失', '。']\n",
            "BLEU Score:  22.869692900326314\n",
            "--------------------------------------------------------------------------------------------------------------------------------------------\n",
            "44\n",
            "Real Translation Segmentation: ['有时', '她', '会', '把', '一排排', '破旧', '的', '房子', '变成', '一群', '整洁', '有序', '的', '小盒子', '，', '有时', '她', '还', '会', '用', '垂直', '空间', '来', '模仿', '日本', '山水画', '常用', '的', '阶梯式', '手法', '。']\n",
            "Prediction Translation Segmentation: ['有时', '她', '会', '把', '街头', '满是', '倒塌', '的', '房子', '变成', '整洁', '的', '小盒子', '的', '和谐', ';', '有时', '她', '会', '模仿', '日本', '风景画', '采用', '垂直', '空间', '的', '方式', '。']\n",
            "BLEU Score:  16.148753360203973\n",
            "--------------------------------------------------------------------------------------------------------------------------------------------\n",
            "45\n",
            "Real Translation Segmentation: ['所有', '的', '一切', '—', '—', '所有', '—', '—', '都', '是', '那么', '美丽', '，', '让', '人', '不敢相信', '。']\n",
            "Prediction Translation Segmentation: ['这', '一切', ' ', '—', ' ', '—', ' ', '这', '一切', ' ', '—', ' ', '—', ' ', '简直', '是', '荒谬', '的', '美丽', '。']\n",
            "BLEU Score:  81.903625881272\n",
            "--------------------------------------------------------------------------------------------------------------------------------------------\n",
            "46\n",
            "Real Translation Segmentation: ['戴维斯', '凭借', '在', '美国广播公司', '的', '《', '逍遥法外', '》', '中', '扮演', '的', '角色', '，', '获得', '了', '2015', '年', '艾美奖', '最佳', '女', '主角奖', '。']\n",
            "Prediction Translation Segmentation: ['2015', '年', ',', '戴维斯', '因', '她', '在', 'ABC', '的', '《', '如何', '逃离', '谋杀', '》', '中', '扮演', '的', '角色', '而', '获得', '电视剧', '艾美奖', '最佳', '女', '主角奖', '。']\n",
            "BLEU Score:  32.65516873506877\n",
            "--------------------------------------------------------------------------------------------------------------------------------------------\n",
            "47\n",
            "Real Translation Segmentation: ['一些', '人', '认为', '这', '创造', '了', '一种', '双重', '政策', '，', '在', '这种', '政策', '下', '，', '拥有', '另', '一种', '公民', '身份', '(', '或', '潜在', '的', '另', '一种', '公民', '身份', ')', '的', '英国人', '，', '其', '英国', '公民', '身份', '就', '不', '那么', '有', '保障', '了', '。']\n",
            "Prediction Translation Segmentation: ['一些', '人', '认为', ',', '这', '创造', '了', '一种', '双层', '政策', ',', '在', '这', '一', '政策', '下', ',', '拥有', '另', '一个', '公民', '(', '或', '潜在', '的', '另', '一个', '公民', ')', '的', '英国人', '公民', '身份', '不太', '可靠', '。']\n",
            "BLEU Score:  22.32508750555591\n",
            "--------------------------------------------------------------------------------------------------------------------------------------------\n",
            "48\n",
            "Real Translation Segmentation: ['用水', '均匀', '且', '轻轻地', '刷', '拭', '覆盖', '着', '杏仁', '蛋白', '糖', '的', '蛋糕', '表面', '。']\n",
            "Prediction Translation Segmentation: ['用水', '轻轻地', '涂抹', '面包', '。']\n",
            "BLEU Score:  11.911017117880101\n",
            "--------------------------------------------------------------------------------------------------------------------------------------------\n",
            "49\n",
            "Real Translation Segmentation: ['警方', '说', '，', '他们', '相信', '女孩', '在', '车里', '看到', '的', '白人', '男子', '和', '红色', '小', '货车', '都', '是', '真的', '，', '但', '其', '可能', '属于', '一名', '无辜', '的', '旁观者', '，', '而', '这位', '旁观者', '在', '枪击', '事件', '导致', '的', '一片', '混乱', '中', '跑掉', '了', '。']\n",
            "Prediction Translation Segmentation: ['警方', '表示', ',', '他们', '相信', '这辆', '车里', '看到', '的', '那辆', '白人', '男子', '和', '那辆', '红色', '的', '卡车', '是', '真实', '的', ',', '但', '可能', '属于', '一个', '无辜', '的', '旁观者', '。']\n",
            "BLEU Score:  23.43429308828292\n",
            "--------------------------------------------------------------------------------------------------------------------------------------------\n"
          ],
          "name": "stdout"
        },
        {
          "output_type": "stream",
          "text": [
            "/usr/local/lib/python3.7/dist-packages/nltk/translate/bleu_score.py:490: UserWarning: \n",
            "Corpus/Sentence contains 0 counts of 3-gram overlaps.\n",
            "BLEU scores might be undesirable; use SmoothingFunction().\n",
            "  warnings.warn(_msg)\n",
            "/usr/local/lib/python3.7/dist-packages/nltk/translate/bleu_score.py:490: UserWarning: \n",
            "Corpus/Sentence contains 0 counts of 2-gram overlaps.\n",
            "BLEU scores might be undesirable; use SmoothingFunction().\n",
            "  warnings.warn(_msg)\n",
            "/usr/local/lib/python3.7/dist-packages/nltk/translate/bleu_score.py:490: UserWarning: \n",
            "Corpus/Sentence contains 0 counts of 4-gram overlaps.\n",
            "BLEU scores might be undesirable; use SmoothingFunction().\n",
            "  warnings.warn(_msg)\n"
          ],
          "name": "stderr"
        }
      ]
    },
    {
      "cell_type": "code",
      "metadata": {
        "colab": {
          "base_uri": "https://localhost:8080/"
        },
        "id": "Thnoq4cvW-KQ",
        "outputId": "37c94444-b02c-44ea-90c9-b9a35c4773be"
      },
      "source": [
        "print('Bleu Score: {} (scale 0-100)'.format(bleu_score/len(results)))"
      ],
      "execution_count": 30,
      "outputs": [
        {
          "output_type": "stream",
          "text": [
            "Bleu Score: 30.987364903822552 (scale 0-100)\n"
          ],
          "name": "stdout"
        }
      ]
    },
    {
      "cell_type": "code",
      "metadata": {
        "colab": {
          "base_uri": "https://localhost:8080/"
        },
        "id": "Uvh9kP03W-a4",
        "outputId": "14c81dfc-cf7c-4c21-c11f-1d4c45994175"
      },
      "source": [
        "results['translation'][:5]"
      ],
      "execution_count": 13,
      "outputs": [
        {
          "output_type": "execute_result",
          "data": {
            "text/plain": [
              "[{'en': 'Court packing is integral to any effort to restore democracy, asserts Aaron Belkin, a San Francisco State University political science professor who is executive director of Pack the Courts, a group advocating an expanded bench.',\n",
              "  'zh': '“法院填塞对于恢复民主是不可或缺的，”旧金山州立大学政治学教授亚伦·贝尔金说，他是“法院填塞”计划的执行理事，该组织主张扩大替补席。'},\n",
              " {'en': 'Two others are a good fit: unemployment and access to social safety nets.',\n",
              "  'zh': '另外两方面非常匹配：即失业与获得社会保障。'},\n",
              " {'en': 'I really wanted to win that race so much that when I did it in the last few meters, I could not believe it myself!',\n",
              "  'zh': '我真的很想赢得那场比赛，以至于当我跑到还有最后几米的时候，我自己都不敢相信！'},\n",
              " {'en': 'Like those who follow English club Tottenham Hotspur, this was seen as a response toward rival fans who used anti-Semitism to attack the Ajax support.',\n",
              "  'zh': '就像那些追随英国托特纳姆热刺队的球迷一样，这被看作是对使用反犹太主义攻击支持阿贾克斯的对手球迷的回应。'},\n",
              " {'en': 'The adoption coordinator told him they had a lot in common and both needed to work on the same things.',\n",
              "  'zh': '领养协调员告诉他，他们有很多共同之处，都需要进行同样的工作。'}]"
            ]
          },
          "metadata": {
            "tags": []
          },
          "execution_count": 13
        }
      ]
    },
    {
      "cell_type": "code",
      "metadata": {
        "colab": {
          "base_uri": "https://localhost:8080/"
        },
        "id": "XQUsUng7W_xe",
        "outputId": "24243ff2-b3dc-4201-86c3-c41dece87210"
      },
      "source": [
        "results['pred_translation'][:5]"
      ],
      "execution_count": 14,
      "outputs": [
        {
          "output_type": "execute_result",
          "data": {
            "text/plain": [
              "['旧金山州立大学政治科学教授Aaron Belkin(Aaron Belkin)声称,法院包办是恢复民主的任何努力中不可分割的一部分。',\n",
              " '其他两个是合适的:失业和获得社会安全网的机会。',\n",
              " '我真想赢得那场比赛,当我在最后几米跑的时候,我真不敢相信!',\n",
              " '与英国俱乐部 Tottenham Hotspur的追随者一样,这被视为对使用反犹主义攻击阿贾克斯支持的对手球迷的反应。',\n",
              " '收养协调员告诉他,他们有很多共同之处,他们都需要在同样的事情上工作。']"
            ]
          },
          "metadata": {
            "tags": []
          },
          "execution_count": 14
        }
      ]
    },
    {
      "cell_type": "code",
      "metadata": {
        "colab": {
          "base_uri": "https://localhost:8080/"
        },
        "id": "_AWK6bCcxy-D",
        "outputId": "85ba1167-3f7f-4a04-cb41-f6623a150e20"
      },
      "source": [
        "one = jieba.lcut('我真想赢得那场比赛,当我在最后几米跑的时候,我真不敢相信!')\n",
        "one"
      ],
      "execution_count": 18,
      "outputs": [
        {
          "output_type": "execute_result",
          "data": {
            "text/plain": [
              "['我',\n",
              " '真想',\n",
              " '赢得',\n",
              " '那场',\n",
              " '比赛',\n",
              " ',',\n",
              " '当',\n",
              " '我',\n",
              " '在',\n",
              " '最后',\n",
              " '几米',\n",
              " '跑',\n",
              " '的',\n",
              " '时候',\n",
              " ',',\n",
              " '我',\n",
              " '真',\n",
              " '不敢相信',\n",
              " '!']"
            ]
          },
          "metadata": {
            "tags": []
          },
          "execution_count": 18
        }
      ]
    }
  ]
}