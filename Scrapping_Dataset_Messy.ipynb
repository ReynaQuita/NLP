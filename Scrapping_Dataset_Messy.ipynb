{
 "cells": [
  {
   "cell_type": "code",
   "execution_count": 2394,
   "metadata": {
    "id": "LkMZNt0daSO9"
   },
   "outputs": [],
   "source": [
    "# import required modules\n",
    "from bs4 import BeautifulSoup\n",
    "# import requests\n",
    "from urllib.request import urlopen\n",
    "import re\n",
    "import nltk\n",
    "# import res"
   ]
  },
  {
   "cell_type": "code",
   "execution_count": 2395,
   "metadata": {
    "colab": {
     "base_uri": "https://localhost:8080/",
     "height": 160
    },
    "id": "niQ4iRG85Z-n",
    "outputId": "caf03dc1-3f6e-400b-ede3-9c9840321a67"
   },
   "outputs": [
    {
     "data": {
      "text/plain": [
       "'【看英文中國郵報學英文】中央流行疫情指揮中心表示，國內今(14)日無新增確診病例，昨(13)日新增1,345例新型冠狀病毒肺炎相關通報，截至目前累計48,549例(含44,890例排除)，其中393例確診，分別為338例境外移入及55例本土病例。確診個案中6人死亡，124人解除隔離，其餘持續住院隔離中。The Central Epidemic Command Center (CECC, 中央流行疫情中心) on Tuesday reported no new cases of the novel coronavirus (COVID-19) infections, maintaining 393 confirmed cases in Taiwan.Yesterday, authorities again reviewed 1,345 pneumonia-related tests, and the tally as of press time is 48,549 tests, with 393 confirmed positive and 44,890 already dismissed.Among the 393 confirmed cases, 338 are imported and 55 are categorized as local infections.Taiwan has reported 6 deaths so far, 124 people out of quarantine and the rest are currently still being isolated in hospitals.指揮中心指出，全球累計1,866,085例確診；病例中118,418例死亡。According to the\\xa0CECC, there are 1,866,085 confirmed COVID-19 cases worldwide with 118,418 deaths.'"
      ]
     },
     "execution_count": 2395,
     "metadata": {},
     "output_type": "execute_result"
    }
   ],
   "source": [
    "# source = urlopen('https://en.wikipedia.org/wiki/Taipei').read()\n",
    "# source = urlopen('https://features.ltn.com.tw/english/article/paper/1460780').read()\n",
    "# source = urlopen('https://funday.asia/learning2020/?rid=20204').read()\n",
    "# source = urlopen('https://chinapost.nownews.com/20210716-2654495').read()\n",
    "# source = urlopen('https://chinapost.nownews.com/20210716-2654837').read()\n",
    "# source = urlopen('https://chinapost.nownews.com/20210719-2658483').read()\n",
    "# source = urlopen('https://chinapost.nownews.com/20210719-2654835').read()\n",
    "source = urlopen('https://chinapost.nownews.com/20200414-1159169').read()\n",
    "\n",
    "# Make a soup \n",
    "soup = BeautifulSoup(source,'lxml')\n",
    "\n",
    "text = ''\n",
    "for paragraph in soup.find_all('p'):\n",
    "    text += paragraph.text\n",
    "    \n",
    "text"
   ]
  },
  {
   "cell_type": "code",
   "execution_count": 2396,
   "metadata": {
    "colab": {
     "base_uri": "https://localhost:8080/",
     "height": 160
    },
    "id": "ezVCsphw5EMR",
    "outputId": "2b1dfadf-aa93-4de9-f23b-6d3d6b371e50"
   },
   "outputs": [
    {
     "data": {
      "text/plain": [
       "'中央流行疫情指揮中心表示，國內今(14)日無新增確診病例，昨(13)日新增1,345例新型冠狀病毒肺炎相關通報，截至目前累計48,549例(含44,890例排除)，其中393例確診，分別為338例境外移入及55例本土病例。確診個案中6人死亡，124人解除隔離，其餘持續住院隔離中。The Central Epidemic Command Center (CECC, 中央流行疫情中心) on Tuesday reported no new cases of the novel coronavirus (COVID-19) infections, maintaining 393 confirmed cases in Taiwan.Yesterday, authorities again reviewed 1,345 pneumonia-related tests, and the tally as of press time is 48,549 tests, with 393 confirmed positive and 44,890 already dismissed.Among the 393 confirmed cases, 338 are imported and 55 are categorized as local infections.Taiwan has reported 6 deaths so far, 124 people out of quarantine and the rest are currently still being isolated in hospitals.指揮中心指出，全球累計1,866,085例確診；病例中118,418例死亡。According to theCECC, there are 1,866,085 confirmed COVID-19 cases worldwide with 118,418 deaths.'"
      ]
     },
     "execution_count": 2396,
     "metadata": {},
     "output_type": "execute_result"
    }
   ],
   "source": [
    "# # Clean text\n",
    "text = re.sub(r'【.*?】+', '', text)\n",
    "text = re.sub(r\"^\\s+\", \"\", text)\n",
    "text = re.sub(r\"\\xa0\", \"\", text)\n",
    "text = re.sub(r\"\\u200b\", \"\", text)\n",
    "text = re.sub(r\"\\n\", \"\", text)\n",
    "text = re.sub(r\"Let’s look through the lens of a foreign friend to see Taiwan in a new light\", \"\", text)\n",
    "text = re.sub(r\"(?i)\\b((?:https?://|www\\d{0,3}[.]|[a-z0-9.\\-]+[.][a-z]{2,4}/)(?:[^\\s()<>]+|\\(([^\\s()<>]+|(\\([^\\s()<>]+\\)))*\\))+(?:\\(([^\\s()<>]+|(\\([^\\s()<>]+\\)))*\\)|[^\\s`!()\\[\\]{};:'\\\".,<>?«»“”‘’]))\", \"\", text)\n",
    "# text = re.sub(r\"※\", \" \", text)\n",
    "# text = text.replace('\\n', '')\n",
    "# text = text.replace('()', '')\n",
    "# text = text.replace(' ,', ',')\n",
    "# # text = re.sub(r\".*\\'s\", \"'s\", text)\n",
    "# # text = text.replace(\"\\'s\", \"'s\")\n",
    "text"
   ]
  },
  {
   "cell_type": "code",
   "execution_count": 2397,
   "metadata": {},
   "outputs": [],
   "source": [
    "# import nltk # Installation instructions: http://www.nltk.org/install.html\n",
    "\n",
    "# # Downloading nltk packages used in this example\n",
    "# nltk.download('punkt')"
   ]
  },
  {
   "cell_type": "code",
   "execution_count": 2398,
   "metadata": {},
   "outputs": [],
   "source": [
    "# sentences = nltk.tokenize.sent_tokenize(text)\n",
    "# print(sentences)"
   ]
  },
  {
   "cell_type": "code",
   "execution_count": 2399,
   "metadata": {},
   "outputs": [],
   "source": [
    "# harder_example = \"\"\"My name is John Smith and my email address is j.smith@company.com.\n",
    "# Mostly people call Mr. Smith.But I actually have a Ph.D.!\n",
    "# Can you believe it? Neither can most people...\"\"\"\n",
    "\n",
    "# sentences = nltk.tokenize.sent_tokenize(harder_example)\n",
    "# print(sentences)"
   ]
  },
  {
   "cell_type": "code",
   "execution_count": 2400,
   "metadata": {},
   "outputs": [],
   "source": [
    "rx = r'(?:(?<=[.!?。」！？：…])|(?<=[.!?][\"”」！？：…]))'\n",
    "# rx = r'(?:(?<=[.,!?。」！？：，…])|(?<=[.!?][\"”」！？：，…]))'\n",
    "list_text = []\n",
    "\n",
    "for result in re.split(rx, text):\n",
    "    list_text.append(result)\n",
    "    \n",
    "# list_text = [x for x in list_text if not x == ''] "
   ]
  },
  {
   "cell_type": "code",
   "execution_count": 2401,
   "metadata": {},
   "outputs": [
    {
     "data": {
      "text/plain": [
       "['中央流行疫情指揮中心表示，國內今(14)日無新增確診病例，昨(13)日新增1,345例新型冠狀病毒肺炎相關通報，截至目前累計48,549例(含44,890例排除)，其中393例確診，分別為338例境外移入及55例本土病例。',\n",
       " '確診個案中6人死亡，124人解除隔離，其餘持續住院隔離中。',\n",
       " 'The Central Epidemic Command Center (CECC, 中央流行疫情中心) on Tuesday reported no new cases of the novel coronavirus (COVID-19) infections, maintaining 393 confirmed cases in Taiwan.',\n",
       " 'Yesterday, authorities again reviewed 1,345 pneumonia-related tests, and the tally as of press time is 48,549 tests, with 393 confirmed positive and 44,890 already dismissed.',\n",
       " 'Among the 393 confirmed cases, 338 are imported and 55 are categorized as local infections.',\n",
       " 'Taiwan has reported 6 deaths so far, 124 people out of quarantine and the rest are currently still being isolated in hospitals.',\n",
       " '指揮中心指出，全球累計1,866,085例確診；病例中118,418例死亡。',\n",
       " 'According to theCECC, there are 1,866,085 confirmed COVID-19 cases worldwide with 118,418 deaths.',\n",
       " '']"
      ]
     },
     "execution_count": 2401,
     "metadata": {},
     "output_type": "execute_result"
    }
   ],
   "source": [
    "list_text"
   ]
  },
  {
   "cell_type": "code",
   "execution_count": 2402,
   "metadata": {},
   "outputs": [],
   "source": [
    "# list_text[30]"
   ]
  },
  {
   "cell_type": "code",
   "execution_count": 2403,
   "metadata": {
    "id": "ArzUyJBNmnkF"
   },
   "outputs": [],
   "source": [
    "# for _ in range(10):\n",
    "#     for i in range(len(list_text)):\n",
    "# #         if fmodel.predict(list_text[i])[0][0] != '__label__zh':\n",
    "#           if len(list_text[i]) <=2:\n",
    "#             list_text[i-1] += list_text[i]\n",
    "#             list_text[i] = ''\n",
    "    \n",
    "#     list_text = [x for x in list_text if not x == ''] \n",
    "# list_text = [x for x in list_text if not len(x) <= 3]\n"
   ]
  },
  {
   "cell_type": "code",
   "execution_count": 2404,
   "metadata": {},
   "outputs": [],
   "source": [
    "# fmodel.predict('中央流行疫情中心) daily press conferences.')[0][0]"
   ]
  },
  {
   "cell_type": "code",
   "execution_count": 2405,
   "metadata": {
    "colab": {
     "base_uri": "https://localhost:8080/"
    },
    "id": "cfPBHeP8lu8F",
    "outputId": "cf2c337f-cb00-4f5a-ae62-2092e82d9fb1"
   },
   "outputs": [],
   "source": [
    "# list_text"
   ]
  },
  {
   "cell_type": "code",
   "execution_count": 2406,
   "metadata": {
    "id": "YUj5k_ussf13"
   },
   "outputs": [],
   "source": [
    "# for _ in range(10):\n",
    "#     for i in range(1,len(list_text)):\n",
    "# #         lang = fmodel.predict(list_text[i])[0][0]\n",
    "#         if fmodel.predict(list_text[i])[0][0] != '__label__zh':\n",
    "#           if list_text[i][0] == ' ':\n",
    "#             list_text[i-1] += list_text[i]\n",
    "#             list_text[i] = ''\n",
    "#     list_text = [x for x in list_text if not x == ''] \n",
    "    \n",
    "#     list_text = [x for x in list_text if not x[0] == ' ']\n",
    "#     list_text = [x for x in list_text if not x == '']"
   ]
  },
  {
   "cell_type": "code",
   "execution_count": 2407,
   "metadata": {
    "colab": {
     "base_uri": "https://localhost:8080/"
    },
    "id": "EED5S_MUs_pg",
    "outputId": "5b54e836-8665-4df1-d0df-0d04924d702b"
   },
   "outputs": [],
   "source": [
    "# list_text"
   ]
  },
  {
   "cell_type": "code",
   "execution_count": 2408,
   "metadata": {},
   "outputs": [
    {
     "name": "stderr",
     "output_type": "stream",
     "text": [
      "Warning : `load_model` does not return WordVectorModel or SupervisedModel any more, but a `FastText` object which is very similar.\n"
     ]
    }
   ],
   "source": [
    "import fasttext\n",
    "\n",
    "# txt = 'COVID-19疫苗雖沒有針對大批免疫系統衰弱的族群做過研究，然而從過去流感疫苗與肺炎疫苗有限的資料和經驗可判斷，疫苗接種效果可能不如身體較為健康的一般大眾。'\n",
    "# txt2 = '這也意味著免疫力不足的民眾外出時仍應戴口罩並避免人群接觸，做好防護措施。'\n",
    "path_to_pretrained_model = './tmp/lid.176.bin'\n",
    "fmodel = fasttext.load_model(path_to_pretrained_model)\n",
    "# fmodel.predict(txt2) "
   ]
  },
  {
   "cell_type": "code",
   "execution_count": 2409,
   "metadata": {},
   "outputs": [
    {
     "data": {
      "text/plain": [
       "'__label__it'"
      ]
     },
     "execution_count": 2409,
     "metadata": {},
     "output_type": "execute_result"
    }
   ],
   "source": [
    "fmodel.predict('000 per day,')[0][0]"
   ]
  },
  {
   "cell_type": "code",
   "execution_count": 2410,
   "metadata": {
    "colab": {
     "base_uri": "https://localhost:8080/",
     "height": 387
    },
    "id": "MeJu_mLBukmv",
    "outputId": "21984019-7c62-4f31-c55a-7472e2cbc3c3"
   },
   "outputs": [],
   "source": [
    "# for i in range(len(list_text)-1):\n",
    "#   lang1 = TextBlob(list_text[i]).detect_language()\n",
    "#   lang2 = TextBlob(list_text[i+1]).detect_language()\n",
    "#   if lang1 == lang2:\n",
    "#     list_text[i] += list_text[i+1]\n",
    "for _ in range(20):\n",
    "    for i in range(len(list_text)-1):\n",
    "      lang1 = fmodel.predict(list_text[i])[0][0]\n",
    "      lang2 = fmodel.predict(list_text[i+1])[0][0]\n",
    "    \n",
    "      if lang1 == '__label__ja':\n",
    "        lang1 = '__label__zh'\n",
    "            \n",
    "      if lang1 == lang2:\n",
    "        list_text[i] += list_text[i+1]\n",
    "        list_text[i+1] = ''\n",
    "\n",
    "# list_text[len(list_text)-3] += list_text[len(list_text)-2]\n",
    "# list_text[len(list_text)-2] = ''\n",
    "\n",
    "    \n",
    "# for i in range(len(list_text)-1):\n",
    "#   lang1 = fmodel.predict(list_text[i])[0][0]\n",
    "#   lang2 = fmodel.predict(list_text[i+1])[0][0]\n",
    "#   if lang1 == lang2:\n",
    "#     list_text[i] += list_text[i+1]\n",
    "\n",
    "    list_text = [x for x in list_text if not x == '']"
   ]
  },
  {
   "cell_type": "code",
   "execution_count": 2411,
   "metadata": {},
   "outputs": [],
   "source": [
    "# fmodel.predict(list_text[len(list_text)-1])[0][0]"
   ]
  },
  {
   "cell_type": "code",
   "execution_count": 2412,
   "metadata": {
    "colab": {
     "base_uri": "https://localhost:8080/"
    },
    "id": "AohIzdjsvDtt",
    "outputId": "ab8dabb9-ad76-41ce-ee94-3d0eb39778f7"
   },
   "outputs": [
    {
     "data": {
      "text/plain": [
       "['中央流行疫情指揮中心表示，國內今(14)日無新增確診病例，昨(13)日新增1,345例新型冠狀病毒肺炎相關通報，截至目前累計48,549例(含44,890例排除)，其中393例確診，分別為338例境外移入及55例本土病例。確診個案中6人死亡，124人解除隔離，其餘持續住院隔離中。',\n",
       " 'The Central Epidemic Command Center (CECC, 中央流行疫情中心) on Tuesday reported no new cases of the novel coronavirus (COVID-19) infections, maintaining 393 confirmed cases in Taiwan.Yesterday, authorities again reviewed 1,345 pneumonia-related tests, and the tally as of press time is 48,549 tests, with 393 confirmed positive and 44,890 already dismissed.Among the 393 confirmed cases, 338 are imported and 55 are categorized as local infections.Taiwan has reported 6 deaths so far, 124 people out of quarantine and the rest are currently still being isolated in hospitals.',\n",
       " '指揮中心指出，全球累計1,866,085例確診；病例中118,418例死亡。',\n",
       " 'According to theCECC, there are 1,866,085 confirmed COVID-19 cases worldwide with 118,418 deaths.']"
      ]
     },
     "execution_count": 2412,
     "metadata": {},
     "output_type": "execute_result"
    }
   ],
   "source": [
    "list_text"
   ]
  },
  {
   "cell_type": "code",
   "execution_count": 2413,
   "metadata": {},
   "outputs": [
    {
     "data": {
      "text/plain": [
       "['中央流行疫情指揮中心表示，國內今(14)日無新增確診病例，昨(13)日新增1,345例新型冠狀病毒肺炎相關通報，截至目前累計48,549例(含44,890例排除)，其中393例確診，分別為338例境外移入及55例本土病例。確診個案中6人死亡，124人解除隔離，其餘持續住院隔離中。',\n",
       " 'The Central Epidemic Command Center (CECC, 中央流行疫情中心) on Tuesday reported no new cases of the novel coronavirus (COVID-19) infections, maintaining 393 confirmed cases in Taiwan.Yesterday, authorities again reviewed 1,345 pneumonia-related tests, and the tally as of press time is 48,549 tests, with 393 confirmed positive and 44,890 already dismissed.Among the 393 confirmed cases, 338 are imported and 55 are categorized as local infections.Taiwan has reported 6 deaths so far, 124 people out of quarantine and the rest are currently still being isolated in hospitals.',\n",
       " '指揮中心指出，全球累計1,866,085例確診；病例中118,418例死亡。',\n",
       " 'According to theCECC, there are 1,866,085 confirmed COVID-19 cases worldwide with 118,418 deaths.']"
      ]
     },
     "execution_count": 2413,
     "metadata": {},
     "output_type": "execute_result"
    }
   ],
   "source": [
    "# for _ in range(10):\n",
    "#     for i in range(len(list_text)):\n",
    "# #         if fmodel.predict(list_text[i])[0][0] != '__label__zh':\n",
    "#             if len(list_text[i]) <=2:\n",
    "#                list_text[i-1] += list_text[i]\n",
    "#                list_text[i] = ''\n",
    "    \n",
    "#     list_text = [x for x in list_text if not x == ''] \n",
    "    \n",
    "for _ in range(5):\n",
    "    for i in range(1,len(list_text)):\n",
    "        if fmodel.predict(list_text[i-1])[0][0] != '__label__zh':\n",
    "          if len(list_text[i]) <=2:\n",
    "            list_text[i-1] += list_text[i]\n",
    "            list_text[i] = ''\n",
    "    list_text = [x for x in list_text if not x == ''] \n",
    "    \n",
    "for _ in range(5):\n",
    "    for i in range(len(list_text)):\n",
    "        if len(list_text[i]) <=2:\n",
    "            list_text[i-1] += list_text[i]\n",
    "            list_text[i] = ''\n",
    "    list_text = [x for x in list_text if not x == ''] \n",
    "    \n",
    "for _ in range(3):\n",
    "    for i in range(len(list_text)-1):\n",
    "      lang1 = fmodel.predict(list_text[i])[0][0]\n",
    "      lang2 = fmodel.predict(list_text[i+1])[0][0]\n",
    "    \n",
    "      if lang1 == '__label__ja':\n",
    "        lang1 = '__label__zh'\n",
    "    \n",
    "      if lang1 == lang2:\n",
    "        list_text[i] += list_text[i+1]\n",
    "        list_text[i+1] = ''\n",
    "\n",
    "    list_text = [x for x in list_text if not x == '']\n",
    "    \n",
    "list_text"
   ]
  },
  {
   "cell_type": "code",
   "execution_count": 2414,
   "metadata": {},
   "outputs": [
    {
     "data": {
      "text/plain": [
       "['中央流行疫情指揮中心表示，國內今(14)日無新增確診病例，昨(13)日新增1,345例新型冠狀病毒肺炎相關通報，截至目前累計48,549例(含44,890例排除)，其中393例確診，分別為338例境外移入及55例本土病例。確診個案中6人死亡，124人解除隔離，其餘持續住院隔離中。',\n",
       " 'The Central Epidemic Command Center (CECC, 中央流行疫情中心) on Tuesday reported no new cases of the novel coronavirus (COVID-19) infections, maintaining 393 confirmed cases in Taiwan.Yesterday, authorities again reviewed 1,345 pneumonia-related tests, and the tally as of press time is 48,549 tests, with 393 confirmed positive and 44,890 already dismissed.Among the 393 confirmed cases, 338 are imported and 55 are categorized as local infections.Taiwan has reported 6 deaths so far, 124 people out of quarantine and the rest are currently still being isolated in hospitals.',\n",
       " '指揮中心指出，全球累計1,866,085例確診；病例中118,418例死亡。',\n",
       " 'According to theCECC, there are 1,866,085 confirmed COVID-19 cases worldwide with 118,418 deaths.']"
      ]
     },
     "execution_count": 2414,
     "metadata": {},
     "output_type": "execute_result"
    }
   ],
   "source": [
    "for _ in range(10):\n",
    "    for i in range(1,len(list_text)):\n",
    "        if fmodel.predict(list_text[i])[0][0] != '__label__zh':\n",
    "          if list_text[i][0] == ' ':\n",
    "            list_text[i-1] += list_text[i]\n",
    "            list_text[i] = ''\n",
    "    list_text = [x for x in list_text if not x == ''] \n",
    "    \n",
    "for _ in range(3):\n",
    "    for i in range(len(list_text)-1):\n",
    "      lang1 = fmodel.predict(list_text[i])[0][0]\n",
    "      lang2 = fmodel.predict(list_text[i+1])[0][0]\n",
    "    \n",
    "      if lang1 == '__label__ja':\n",
    "        lang1 = '__label__zh'\n",
    "        \n",
    "      if lang2 == '__label__ja':\n",
    "        lang2 = '__label__zh'\n",
    "        \n",
    "      if lang2 == '__label__wuu':\n",
    "        lang2 = '__label__zh'\n",
    "        \n",
    "      if lang2 == '__label__nl':\n",
    "        lang2 = '__label__en'\n",
    "    \n",
    "      if lang1 == lang2:\n",
    "        list_text[i] += list_text[i+1]\n",
    "        list_text[i+1] = ''\n",
    "\n",
    "    list_text = [x for x in list_text if not x == '']\n",
    "    \n",
    "# if fmodel.predict(list_text[len(list_text)-1])[0][0] == '__label__zh':\n",
    "#     list_text.pop(-1)\n",
    "    \n",
    "list_text"
   ]
  },
  {
   "cell_type": "code",
   "execution_count": 2415,
   "metadata": {},
   "outputs": [
    {
     "data": {
      "text/plain": [
       "(('__label__wuu',), array([0.58503693]))"
      ]
     },
     "execution_count": 2415,
     "metadata": {},
     "output_type": "execute_result"
    }
   ],
   "source": [
    "fmodel.predict('並且以手機簡訊追蹤。')"
   ]
  },
  {
   "cell_type": "code",
   "execution_count": 2416,
   "metadata": {},
   "outputs": [
    {
     "data": {
      "text/plain": [
       "['中央流行疫情指揮中心表示，國內今(14)日無新增確診病例，昨(13)日新增1,345例新型冠狀病毒肺炎相關通報，截至目前累計48,549例(含44,890例排除)，其中393例確診，分別為338例境外移入及55例本土病例。確診個案中6人死亡，124人解除隔離，其餘持續住院隔離中。',\n",
       " 'The Central Epidemic Command Center (CECC, 中央流行疫情中心) on Tuesday reported no new cases of the novel coronavirus (COVID-19) infections, maintaining 393 confirmed cases in Taiwan.Yesterday, authorities again reviewed 1,345 pneumonia-related tests, and the tally as of press time is 48,549 tests, with 393 confirmed positive and 44,890 already dismissed.Among the 393 confirmed cases, 338 are imported and 55 are categorized as local infections.Taiwan has reported 6 deaths so far, 124 people out of quarantine and the rest are currently still being isolated in hospitals.',\n",
       " '指揮中心指出，全球累計1,866,085例確診；病例中118,418例死亡。',\n",
       " 'According to theCECC, there are 1,866,085 confirmed COVID-19 cases worldwide with 118,418 deaths.']"
      ]
     },
     "execution_count": 2416,
     "metadata": {},
     "output_type": "execute_result"
    }
   ],
   "source": [
    "# for _ in range(5):\n",
    "#     for i in range(1,len(list_text)):\n",
    "#         m = re.search(r\"^\\d+\", list_text[i])\n",
    "#         if m:\n",
    "#            list_text[i-1] += list_text[i]\n",
    "#            list_text[i] = ''\n",
    "#     list_text = [x for x in list_text if not x == ''] \n",
    "\n",
    "if fmodel.predict(list_text[len(list_text)-1])[0][0] == '__label__zh':\n",
    "    list_text.pop(-1)\n",
    "    \n",
    "list_text\n",
    "\n",
    "# m = re.search(r\"^\\d+\", '900,')\n",
    "\n",
    "# if m:\n",
    "#     print(\"True\")"
   ]
  },
  {
   "cell_type": "code",
   "execution_count": 2417,
   "metadata": {},
   "outputs": [],
   "source": [
    "en = []\n",
    "zh = []\n",
    "i=0\n",
    "\n",
    "while i <= len(list_text)-1:\n",
    "    if i % 2 == 0:\n",
    "        zh.append(list_text[i])\n",
    "    else:\n",
    "        en.append(list_text[i])\n",
    "    i += 1"
   ]
  },
  {
   "cell_type": "code",
   "execution_count": 2418,
   "metadata": {},
   "outputs": [
    {
     "data": {
      "text/plain": [
       "2"
      ]
     },
     "execution_count": 2418,
     "metadata": {},
     "output_type": "execute_result"
    }
   ],
   "source": [
    "len(en)"
   ]
  },
  {
   "cell_type": "code",
   "execution_count": 2419,
   "metadata": {},
   "outputs": [
    {
     "data": {
      "text/plain": [
       "2"
      ]
     },
     "execution_count": 2419,
     "metadata": {},
     "output_type": "execute_result"
    }
   ],
   "source": [
    "len(zh)"
   ]
  },
  {
   "cell_type": "code",
   "execution_count": 2420,
   "metadata": {},
   "outputs": [
    {
     "data": {
      "text/plain": [
       "['The Central Epidemic Command Center (CECC, 中央流行疫情中心) on Tuesday reported no new cases of the novel coronavirus (COVID-19) infections, maintaining 393 confirmed cases in Taiwan.Yesterday, authorities again reviewed 1,345 pneumonia-related tests, and the tally as of press time is 48,549 tests, with 393 confirmed positive and 44,890 already dismissed.Among the 393 confirmed cases, 338 are imported and 55 are categorized as local infections.Taiwan has reported 6 deaths so far, 124 people out of quarantine and the rest are currently still being isolated in hospitals.',\n",
       " 'According to theCECC, there are 1,866,085 confirmed COVID-19 cases worldwide with 118,418 deaths.']"
      ]
     },
     "execution_count": 2420,
     "metadata": {},
     "output_type": "execute_result"
    }
   ],
   "source": [
    "en"
   ]
  },
  {
   "cell_type": "code",
   "execution_count": 2421,
   "metadata": {},
   "outputs": [
    {
     "data": {
      "text/plain": [
       "['中央流行疫情指揮中心表示，國內今(14)日無新增確診病例，昨(13)日新增1,345例新型冠狀病毒肺炎相關通報，截至目前累計48,549例(含44,890例排除)，其中393例確診，分別為338例境外移入及55例本土病例。確診個案中6人死亡，124人解除隔離，其餘持續住院隔離中。',\n",
       " '指揮中心指出，全球累計1,866,085例確診；病例中118,418例死亡。']"
      ]
     },
     "execution_count": 2421,
     "metadata": {},
     "output_type": "execute_result"
    }
   ],
   "source": [
    "zh"
   ]
  },
  {
   "cell_type": "code",
   "execution_count": null,
   "metadata": {},
   "outputs": [],
   "source": []
  },
  {
   "cell_type": "code",
   "execution_count": null,
   "metadata": {},
   "outputs": [],
   "source": []
  }
 ],
 "metadata": {
  "colab": {
   "collapsed_sections": [],
   "name": "Scrapping Dataset.ipynb",
   "provenance": []
  },
  "kernelspec": {
   "display_name": "Python 3",
   "language": "python",
   "name": "python3"
  },
  "language_info": {
   "codemirror_mode": {
    "name": "ipython",
    "version": 3
   },
   "file_extension": ".py",
   "mimetype": "text/x-python",
   "name": "python",
   "nbconvert_exporter": "python",
   "pygments_lexer": "ipython3",
   "version": "3.7.7"
  }
 },
 "nbformat": 4,
 "nbformat_minor": 1
}
