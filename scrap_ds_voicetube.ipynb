{
  "nbformat": 4,
  "nbformat_minor": 0,
  "metadata": {
    "colab": {
      "name": "scrap_ds_voicetube.ipynb",
      "provenance": [],
      "collapsed_sections": [
        "d1jvnZtwduGs"
      ],
      "authorship_tag": "ABX9TyNpkQnZ2rv5XlIf5e1aXmNt",
      "include_colab_link": true
    },
    "kernelspec": {
      "name": "python3",
      "display_name": "Python 3"
    },
    "language_info": {
      "name": "python"
    }
  },
  "cells": [
    {
      "cell_type": "markdown",
      "metadata": {
        "id": "view-in-github",
        "colab_type": "text"
      },
      "source": [
        "<a href=\"https://colab.research.google.com/github/ReynaQuita/NLP/blob/main/scrap_ds_voicetube.ipynb\" target=\"_parent\"><img src=\"https://colab.research.google.com/assets/colab-badge.svg\" alt=\"Open In Colab\"/></a>"
      ]
    },
    {
      "cell_type": "code",
      "metadata": {
        "colab": {
          "base_uri": "https://localhost:8080/"
        },
        "id": "J5Nit54Xsnt5",
        "outputId": "7bd7d72a-3113-4445-f9cc-3b17a2a54462"
      },
      "source": [
        "! pip install requests"
      ],
      "execution_count": null,
      "outputs": [
        {
          "output_type": "stream",
          "text": [
            "Requirement already satisfied: requests in /usr/local/lib/python3.7/dist-packages (2.23.0)\n",
            "Requirement already satisfied: certifi>=2017.4.17 in /usr/local/lib/python3.7/dist-packages (from requests) (2021.5.30)\n",
            "Requirement already satisfied: idna<3,>=2.5 in /usr/local/lib/python3.7/dist-packages (from requests) (2.10)\n",
            "Requirement already satisfied: chardet<4,>=3.0.2 in /usr/local/lib/python3.7/dist-packages (from requests) (3.0.4)\n",
            "Requirement already satisfied: urllib3!=1.25.0,!=1.25.1,<1.26,>=1.21.1 in /usr/local/lib/python3.7/dist-packages (from requests) (1.24.3)\n"
          ],
          "name": "stdout"
        }
      ]
    },
    {
      "cell_type": "code",
      "metadata": {
        "id": "D-VrXEdm6qp9"
      },
      "source": [
        "from bs4 import BeautifulSoup\n",
        "# from urllib.request import urlopen\n",
        "import re\n",
        "# from socket import timeout\n",
        "import requests\n"
      ],
      "execution_count": null,
      "outputs": []
    },
    {
      "cell_type": "code",
      "metadata": {
        "colab": {
          "base_uri": "https://localhost:8080/"
        },
        "id": "MGGIIOaKZptu",
        "outputId": "8f278a61-e76c-48cd-81d1-1f6ab1e78a9d"
      },
      "source": [
        "from google.colab import drive\n",
        "drive.mount('/content/MyDrive')"
      ],
      "execution_count": null,
      "outputs": [
        {
          "output_type": "stream",
          "text": [
            "Drive already mounted at /content/MyDrive; to attempt to forcibly remount, call drive.mount(\"/content/MyDrive\", force_remount=True).\n"
          ],
          "name": "stdout"
        }
      ]
    },
    {
      "cell_type": "code",
      "metadata": {
        "id": "HIp4KTvMaPjm"
      },
      "source": [
        "my_file = open(\"/content/MyDrive/MyDrive/paper/new/Yi-Chun/Dataset/voicetube/kids/kids_links.txt\", \"r\")\n",
        "content = my_file.read()"
      ],
      "execution_count": null,
      "outputs": []
    },
    {
      "cell_type": "code",
      "metadata": {
        "colab": {
          "base_uri": "https://localhost:8080/"
        },
        "id": "M3Xk9J4FatX0",
        "outputId": "0eab7478-900a-4422-9a9f-d81d92a469dd"
      },
      "source": [
        "content_list = content.split(\"\\n\")\n",
        "my_file.close()\n",
        "print(content_list)"
      ],
      "execution_count": null,
      "outputs": [
        {
          "output_type": "stream",
          "text": [
            "['https://tw.voicetube.com/videos/33754/print', 'https://tw.voicetube.com/videos/33791/print', 'https://tw.voicetube.com/videos/33510/print', 'https://tw.voicetube.com/videos/33370/print', 'https://tw.voicetube.com/videos/71519/print', 'https://tw.voicetube.com/videos/72723/print', 'https://tw.voicetube.com/videos/132301/print', 'https://tw.voicetube.com/videos/143617/print', 'https://tw.voicetube.com/videos/159208/print', 'https://tw.voicetube.com/videos/158957/print', 'https://tw.voicetube.com/videos/82782/print', 'https://tw.voicetube.com/videos/159517/print', 'https://tw.voicetube.com/videos/159064/print', 'https://tw.voicetube.com/videos/159418/print', 'https://tw.voicetube.com/videos/64535/print', 'https://tw.voicetube.com/videos/64868/print', 'https://tw.voicetube.com/videos/157787/print', 'https://tw.voicetube.com/videos/158667/print', 'https://tw.voicetube.com/videos/158498/print', 'https://tw.voicetube.com/videos/65388/print', 'https://tw.voicetube.com/videos/54616/print', 'https://tw.voicetube.com/videos/64867/print', 'https://tw.voicetube.com/videos/66496/print', 'https://tw.voicetube.com/videos/67478/print', 'https://tw.voicetube.com/videos/132922/print', 'https://tw.voicetube.com/videos/152042/print', 'https://tw.voicetube.com/videos/152099/print', 'https://tw.voicetube.com/videos/150631/print', 'https://tw.voicetube.com/videos/83676/print', 'https://tw.voicetube.com/videos/82780/print', 'https://tw.voicetube.com/videos/82772/print', 'https://tw.voicetube.com/videos/74982/print', 'https://tw.voicetube.com/videos/71696/print', 'https://tw.voicetube.com/videos/64869/print', 'https://tw.voicetube.com/videos/52911/print', 'https://tw.voicetube.com/videos/50077/print', 'https://tw.voicetube.com/videos/42989/print', 'https://tw.voicetube.com/videos/40840/print', 'https://tw.voicetube.com/videos/40837/print', 'https://tw.voicetube.com/videos/36840/print', 'https://tw.voicetube.com/videos/34984/print', 'https://tw.voicetube.com/videos/32338/print', 'https://tw.voicetube.com/videos/31199/print', 'https://tw.voicetube.com/videos/27436/print', 'https://tw.voicetube.com/videos/25382/print', 'https://tw.voicetube.com/videos/24743/print', 'https://tw.voicetube.com/videos/50708/print', 'https://tw.voicetube.com/videos/145139/print', 'https://tw.voicetube.com/videos/32588/print', 'https://tw.voicetube.com/videos/123861/print', 'https://tw.voicetube.com/videos/83488/print', 'https://tw.voicetube.com/videos/94601/print', 'https://tw.voicetube.com/videos/125634/print', 'https://tw.voicetube.com/videos/125633/print', 'https://tw.voicetube.com/videos/82880/print', 'https://tw.voicetube.com/videos/84521/print', 'https://tw.voicetube.com/videos/84406/print', 'https://tw.voicetube.com/videos/82573/print', 'https://tw.voicetube.com/videos/77915/print', 'https://tw.voicetube.com/videos/81082/print', 'https://tw.voicetube.com/videos/77627/print', 'https://tw.voicetube.com/videos/76580/print', 'https://tw.voicetube.com/videos/76874/print', 'https://tw.voicetube.com/videos/77225/print', 'https://tw.voicetube.com/videos/77223/print', 'https://tw.voicetube.com/videos/77222/print', 'https://tw.voicetube.com/videos/76618/print', 'https://tw.voicetube.com/videos/76191/print', 'https://tw.voicetube.com/videos/75837/print', 'https://tw.voicetube.com/videos/76416/print', 'https://tw.voicetube.com/videos/76581/print', 'https://tw.voicetube.com/videos/75522/print', 'https://tw.voicetube.com/videos/75907/print', 'https://tw.voicetube.com/videos/75632/print', 'https://tw.voicetube.com/videos/75612/print', 'https://tw.voicetube.com/videos/75998/print', 'https://tw.voicetube.com/videos/74243/print', 'https://tw.voicetube.com/videos/74486/print', 'https://tw.voicetube.com/videos/74237/print', 'https://tw.voicetube.com/videos/74241/print', 'https://tw.voicetube.com/videos/73980/print', 'https://tw.voicetube.com/videos/74318/print', 'https://tw.voicetube.com/videos/29092/print', 'https://tw.voicetube.com/videos/29096/print', 'https://tw.voicetube.com/videos/71976/print', 'https://tw.voicetube.com/videos/29081/print', 'https://tw.voicetube.com/videos/70537/print', 'https://tw.voicetube.com/videos/72015/print', 'https://tw.voicetube.com/videos/24721/print', 'https://tw.voicetube.com/videos/72299/print', 'https://tw.voicetube.com/videos/72135/print', 'https://tw.voicetube.com/videos/54794/print', 'https://tw.voicetube.com/videos/71490/print', 'https://tw.voicetube.com/videos/71518/print', 'https://tw.voicetube.com/videos/71521/print', 'https://tw.voicetube.com/videos/71348/print', 'https://tw.voicetube.com/videos/71347/print', 'https://tw.voicetube.com/videos/71345/print', 'https://tw.voicetube.com/videos/71344/print', 'https://tw.voicetube.com/videos/71145/print', 'https://tw.voicetube.com/videos/71144/print', 'https://tw.voicetube.com/videos/71143/print', 'https://tw.voicetube.com/videos/70994/print', 'https://tw.voicetube.com/videos/70993/print', 'https://tw.voicetube.com/videos/70992/print', 'https://tw.voicetube.com/videos/70989/print', 'https://tw.voicetube.com/videos/70987/print', 'https://tw.voicetube.com/videos/70831/print', 'https://tw.voicetube.com/videos/70318/print', 'https://tw.voicetube.com/videos/70208/print', 'https://tw.voicetube.com/videos/70206/print', 'https://tw.voicetube.com/videos/70204/print', 'https://tw.voicetube.com/videos/69864/print', 'https://tw.voicetube.com/videos/66500/print', 'https://tw.voicetube.com/videos/69488/print', 'https://tw.voicetube.com/videos/68614/print', 'https://tw.voicetube.com/videos/68314/print', 'https://tw.voicetube.com/videos/67155/print', 'https://tw.voicetube.com/videos/64870/print', 'https://tw.voicetube.com/videos/65184/print', 'https://tw.voicetube.com/videos/65134/print', 'https://tw.voicetube.com/videos/59479/print', 'https://tw.voicetube.com/videos/52240/print', 'https://tw.voicetube.com/videos/61440/print', 'https://tw.voicetube.com/videos/25746/print', 'https://tw.voicetube.com/videos/53898/print', 'https://tw.voicetube.com/videos/48333/print', 'https://tw.voicetube.com/videos/53686/print', 'https://tw.voicetube.com/videos/53680/print', 'https://tw.voicetube.com/videos/53679/print', 'https://tw.voicetube.com/videos/53678/print', 'https://tw.voicetube.com/videos/53677/print', 'https://tw.voicetube.com/videos/53676/print', 'https://tw.voicetube.com/videos/53675/print', 'https://tw.voicetube.com/videos/53674/print', 'https://tw.voicetube.com/videos/53673/print', 'https://tw.voicetube.com/videos/53672/print', 'https://tw.voicetube.com/videos/53671/print', 'https://tw.voicetube.com/videos/30515/print', 'https://tw.voicetube.com/videos/53176/print', 'https://tw.voicetube.com/videos/52781/print', 'https://tw.voicetube.com/videos/29091/print', 'https://tw.voicetube.com/videos/52760/print', 'https://tw.voicetube.com/videos/52751/print', 'https://tw.voicetube.com/videos/52750/print', 'https://tw.voicetube.com/videos/52313/print', 'https://tw.voicetube.com/videos/52139/print', 'https://tw.voicetube.com/videos/29088/print', 'https://tw.voicetube.com/videos/29086/print', 'https://tw.voicetube.com/videos/29079/print', 'https://tw.voicetube.com/videos/45188/print', 'https://tw.voicetube.com/videos/50391/print', 'https://tw.voicetube.com/videos/29095/print', 'https://tw.voicetube.com/videos/29087/print', 'https://tw.voicetube.com/videos/43165/print', 'https://tw.voicetube.com/videos/48661/print', 'https://tw.voicetube.com/videos/47270/print', 'https://tw.voicetube.com/videos/47430/print', 'https://tw.voicetube.com/videos/29168/print', 'https://tw.voicetube.com/videos/29083/print', 'https://tw.voicetube.com/videos/45263/print', 'https://tw.voicetube.com/videos/45262/print', 'https://tw.voicetube.com/videos/45261/print', 'https://tw.voicetube.com/videos/31470/print', 'https://tw.voicetube.com/videos/45190/print', 'https://tw.voicetube.com/videos/29078/print', 'https://tw.voicetube.com/videos/44888/print', 'https://tw.voicetube.com/videos/29085/print', 'https://tw.voicetube.com/videos/44207/print', 'https://tw.voicetube.com/videos/44178/print', 'https://tw.voicetube.com/videos/44085/print', 'https://tw.voicetube.com/videos/43077/print', 'https://tw.voicetube.com/videos/42988/print', 'https://tw.voicetube.com/videos/29097/print', 'https://tw.voicetube.com/videos/42892/print', 'https://tw.voicetube.com/videos/42891/print', 'https://tw.voicetube.com/videos/42504/print', 'https://tw.voicetube.com/videos/40839/print', 'https://tw.voicetube.com/videos/42465/print', 'https://tw.voicetube.com/videos/42305/print', 'https://tw.voicetube.com/videos/41760/print', 'https://tw.voicetube.com/videos/27702/print', 'https://tw.voicetube.com/videos/40991/print', 'https://tw.voicetube.com/videos/40861/print', 'https://tw.voicetube.com/videos/40859/print', 'https://tw.voicetube.com/videos/40838/print', 'https://tw.voicetube.com/videos/40835/print', 'https://tw.voicetube.com/videos/37224/print', 'https://tw.voicetube.com/videos/23959/print', 'https://tw.voicetube.com/videos/36065/print', 'https://tw.voicetube.com/videos/33901/print', 'https://tw.voicetube.com/videos/33082/print', 'https://tw.voicetube.com/videos/31865/print', 'https://tw.voicetube.com/videos/31469/print', 'https://tw.voicetube.com/videos/30679/print', 'https://tw.voicetube.com/videos/30231/print', 'https://tw.voicetube.com/videos/29134/print', 'https://tw.voicetube.com/videos/29072/print', 'https://tw.voicetube.com/videos/28913/print', 'https://tw.voicetube.com/videos/27921/print', 'https://tw.voicetube.com/videos/26822/print', 'https://tw.voicetube.com/videos/23574/print', 'https://tw.voicetube.com/videos/22388/print', 'https://tw.voicetube.com/videos/8968/print', '']\n"
          ],
          "name": "stdout"
        }
      ]
    },
    {
      "cell_type": "code",
      "metadata": {
        "id": "I9T-cefYwtw7"
      },
      "source": [
        "content_list = [string for string in content_list if string != \"\"]"
      ],
      "execution_count": null,
      "outputs": []
    },
    {
      "cell_type": "markdown",
      "metadata": {
        "id": "jWB_oSKXd1C8"
      },
      "source": [
        "## **Clean Version**"
      ]
    },
    {
      "cell_type": "code",
      "metadata": {
        "colab": {
          "base_uri": "https://localhost:8080/"
        },
        "id": "gwmXSxDnbqDf",
        "outputId": "d1a77fca-54d7-40e1-cb5c-a2207495d9bf"
      },
      "source": [
        "len(content_list)"
      ],
      "execution_count": null,
      "outputs": [
        {
          "output_type": "execute_result",
          "data": {
            "text/plain": [
              "204"
            ]
          },
          "metadata": {
            "tags": []
          },
          "execution_count": 7
        }
      ]
    },
    {
      "cell_type": "code",
      "metadata": {
        "id": "E_Gn5VhgcqKw"
      },
      "source": [
        "def scrap_ds_voicetube(url):\n",
        "\n",
        "  # try: \n",
        "  # source = urlopen(url, timeout=5).read()\n",
        "  # except ConnectionResetError:\n",
        "  #   print(\"==> ConnectionResetError\")\n",
        "  #   pass\n",
        "  # except timeout: \n",
        "  #   print(\"==> Timeout\")\n",
        "  #   pass\n",
        "  \n",
        "  # soup = BeautifulSoup(source,'lxml')\n",
        "  source = requests.get(url)\n",
        "  soup = BeautifulSoup(source.text, 'html.parser')\n",
        "\n",
        "  a = []\n",
        "  for paragraph in soup.find_all('span'):\n",
        "    a.append(paragraph.text)\n",
        "\n",
        "  text = []\n",
        "  for i in range(len(a)):\n",
        "    text.append(re.sub(r\"\\n\", \"\", a[i]))\n",
        "\n",
        "  en = []\n",
        "  zh = []\n",
        "\n",
        "  for i in range(len(text)):\n",
        "    if i % 2 == 0:\n",
        "      en.append(text[i])\n",
        "    else:\n",
        "      zh.append(text[i])\n",
        "  \n",
        "  return en, zh"
      ],
      "execution_count": null,
      "outputs": []
    },
    {
      "cell_type": "code",
      "metadata": {
        "colab": {
          "base_uri": "https://localhost:8080/",
          "height": 849
        },
        "id": "TXCy7xOOd9xQ",
        "outputId": "aecc9c4a-0a4d-463c-bcae-bb2d4ebc4697"
      },
      "source": [
        "en_all = []\n",
        "zh_all = []\n",
        "\n",
        "for cl in content_list:\n",
        "  print(cl)\n",
        "  en, zh = scrap_ds_voicetube(cl)\n",
        "  en_all.extend(en)\n",
        "  zh_all.extend(zh)"
      ],
      "execution_count": null,
      "outputs": [
        {
          "output_type": "stream",
          "text": [
            "https://tw.voicetube.com/videos/33754/print\n",
            "https://tw.voicetube.com/videos/33791/print\n",
            "https://tw.voicetube.com/videos/33510/print\n",
            "https://tw.voicetube.com/videos/33370/print\n",
            "https://tw.voicetube.com/videos/71519/print\n",
            "https://tw.voicetube.com/videos/72723/print\n",
            "https://tw.voicetube.com/videos/132301/print\n",
            "https://tw.voicetube.com/videos/143617/print\n",
            "https://tw.voicetube.com/videos/159208/print\n",
            "https://tw.voicetube.com/videos/158957/print\n",
            "https://tw.voicetube.com/videos/82782/print\n",
            "https://tw.voicetube.com/videos/159517/print\n",
            "https://tw.voicetube.com/videos/159064/print\n",
            "https://tw.voicetube.com/videos/159418/print\n",
            "https://tw.voicetube.com/videos/64535/print\n",
            "https://tw.voicetube.com/videos/64868/print\n",
            "https://tw.voicetube.com/videos/157787/print\n",
            "https://tw.voicetube.com/videos/158667/print\n"
          ],
          "name": "stdout"
        },
        {
          "output_type": "error",
          "ename": "ChunkedEncodingError",
          "evalue": "ignored",
          "traceback": [
            "\u001b[0;31m---------------------------------------------------------------------------\u001b[0m",
            "\u001b[0;31mConnectionResetError\u001b[0m                      Traceback (most recent call last)",
            "\u001b[0;32m/usr/local/lib/python3.7/dist-packages/urllib3/response.py\u001b[0m in \u001b[0;36m_error_catcher\u001b[0;34m(self)\u001b[0m\n\u001b[1;32m    361\u001b[0m             \u001b[0;32mtry\u001b[0m\u001b[0;34m:\u001b[0m\u001b[0;34m\u001b[0m\u001b[0;34m\u001b[0m\u001b[0m\n\u001b[0;32m--> 362\u001b[0;31m                 \u001b[0;32myield\u001b[0m\u001b[0;34m\u001b[0m\u001b[0;34m\u001b[0m\u001b[0m\n\u001b[0m\u001b[1;32m    363\u001b[0m \u001b[0;34m\u001b[0m\u001b[0m\n",
            "\u001b[0;32m/usr/local/lib/python3.7/dist-packages/urllib3/response.py\u001b[0m in \u001b[0;36mread_chunked\u001b[0;34m(self, amt, decode_content)\u001b[0m\n\u001b[1;32m    667\u001b[0m             \u001b[0;32mwhile\u001b[0m \u001b[0;32mTrue\u001b[0m\u001b[0;34m:\u001b[0m\u001b[0;34m\u001b[0m\u001b[0;34m\u001b[0m\u001b[0m\n\u001b[0;32m--> 668\u001b[0;31m                 \u001b[0mself\u001b[0m\u001b[0;34m.\u001b[0m\u001b[0m_update_chunk_length\u001b[0m\u001b[0;34m(\u001b[0m\u001b[0;34m)\u001b[0m\u001b[0;34m\u001b[0m\u001b[0;34m\u001b[0m\u001b[0m\n\u001b[0m\u001b[1;32m    669\u001b[0m                 \u001b[0;32mif\u001b[0m \u001b[0mself\u001b[0m\u001b[0;34m.\u001b[0m\u001b[0mchunk_left\u001b[0m \u001b[0;34m==\u001b[0m \u001b[0;36m0\u001b[0m\u001b[0;34m:\u001b[0m\u001b[0;34m\u001b[0m\u001b[0;34m\u001b[0m\u001b[0m\n",
            "\u001b[0;32m/usr/local/lib/python3.7/dist-packages/urllib3/response.py\u001b[0m in \u001b[0;36m_update_chunk_length\u001b[0;34m(self)\u001b[0m\n\u001b[1;32m    599\u001b[0m             \u001b[0;32mreturn\u001b[0m\u001b[0;34m\u001b[0m\u001b[0;34m\u001b[0m\u001b[0m\n\u001b[0;32m--> 600\u001b[0;31m         \u001b[0mline\u001b[0m \u001b[0;34m=\u001b[0m \u001b[0mself\u001b[0m\u001b[0;34m.\u001b[0m\u001b[0m_fp\u001b[0m\u001b[0;34m.\u001b[0m\u001b[0mfp\u001b[0m\u001b[0;34m.\u001b[0m\u001b[0mreadline\u001b[0m\u001b[0;34m(\u001b[0m\u001b[0;34m)\u001b[0m\u001b[0;34m\u001b[0m\u001b[0;34m\u001b[0m\u001b[0m\n\u001b[0m\u001b[1;32m    601\u001b[0m         \u001b[0mline\u001b[0m \u001b[0;34m=\u001b[0m \u001b[0mline\u001b[0m\u001b[0;34m.\u001b[0m\u001b[0msplit\u001b[0m\u001b[0;34m(\u001b[0m\u001b[0;34mb';'\u001b[0m\u001b[0;34m,\u001b[0m \u001b[0;36m1\u001b[0m\u001b[0;34m)\u001b[0m\u001b[0;34m[\u001b[0m\u001b[0;36m0\u001b[0m\u001b[0;34m]\u001b[0m\u001b[0;34m\u001b[0m\u001b[0;34m\u001b[0m\u001b[0m\n",
            "\u001b[0;32m/usr/lib/python3.7/socket.py\u001b[0m in \u001b[0;36mreadinto\u001b[0;34m(self, b)\u001b[0m\n\u001b[1;32m    588\u001b[0m             \u001b[0;32mtry\u001b[0m\u001b[0;34m:\u001b[0m\u001b[0;34m\u001b[0m\u001b[0;34m\u001b[0m\u001b[0m\n\u001b[0;32m--> 589\u001b[0;31m                 \u001b[0;32mreturn\u001b[0m \u001b[0mself\u001b[0m\u001b[0;34m.\u001b[0m\u001b[0m_sock\u001b[0m\u001b[0;34m.\u001b[0m\u001b[0mrecv_into\u001b[0m\u001b[0;34m(\u001b[0m\u001b[0mb\u001b[0m\u001b[0;34m)\u001b[0m\u001b[0;34m\u001b[0m\u001b[0;34m\u001b[0m\u001b[0m\n\u001b[0m\u001b[1;32m    590\u001b[0m             \u001b[0;32mexcept\u001b[0m \u001b[0mtimeout\u001b[0m\u001b[0;34m:\u001b[0m\u001b[0;34m\u001b[0m\u001b[0;34m\u001b[0m\u001b[0m\n",
            "\u001b[0;32m/usr/lib/python3.7/ssl.py\u001b[0m in \u001b[0;36mrecv_into\u001b[0;34m(self, buffer, nbytes, flags)\u001b[0m\n\u001b[1;32m   1070\u001b[0m                   self.__class__)\n\u001b[0;32m-> 1071\u001b[0;31m             \u001b[0;32mreturn\u001b[0m \u001b[0mself\u001b[0m\u001b[0;34m.\u001b[0m\u001b[0mread\u001b[0m\u001b[0;34m(\u001b[0m\u001b[0mnbytes\u001b[0m\u001b[0;34m,\u001b[0m \u001b[0mbuffer\u001b[0m\u001b[0;34m)\u001b[0m\u001b[0;34m\u001b[0m\u001b[0;34m\u001b[0m\u001b[0m\n\u001b[0m\u001b[1;32m   1072\u001b[0m         \u001b[0;32melse\u001b[0m\u001b[0;34m:\u001b[0m\u001b[0;34m\u001b[0m\u001b[0;34m\u001b[0m\u001b[0m\n",
            "\u001b[0;32m/usr/lib/python3.7/ssl.py\u001b[0m in \u001b[0;36mread\u001b[0;34m(self, len, buffer)\u001b[0m\n\u001b[1;32m    928\u001b[0m             \u001b[0;32mif\u001b[0m \u001b[0mbuffer\u001b[0m \u001b[0;32mis\u001b[0m \u001b[0;32mnot\u001b[0m \u001b[0;32mNone\u001b[0m\u001b[0;34m:\u001b[0m\u001b[0;34m\u001b[0m\u001b[0;34m\u001b[0m\u001b[0m\n\u001b[0;32m--> 929\u001b[0;31m                 \u001b[0;32mreturn\u001b[0m \u001b[0mself\u001b[0m\u001b[0;34m.\u001b[0m\u001b[0m_sslobj\u001b[0m\u001b[0;34m.\u001b[0m\u001b[0mread\u001b[0m\u001b[0;34m(\u001b[0m\u001b[0mlen\u001b[0m\u001b[0;34m,\u001b[0m \u001b[0mbuffer\u001b[0m\u001b[0;34m)\u001b[0m\u001b[0;34m\u001b[0m\u001b[0;34m\u001b[0m\u001b[0m\n\u001b[0m\u001b[1;32m    930\u001b[0m             \u001b[0;32melse\u001b[0m\u001b[0;34m:\u001b[0m\u001b[0;34m\u001b[0m\u001b[0;34m\u001b[0m\u001b[0m\n",
            "\u001b[0;31mConnectionResetError\u001b[0m: [Errno 104] Connection reset by peer",
            "\nDuring handling of the above exception, another exception occurred:\n",
            "\u001b[0;31mProtocolError\u001b[0m                             Traceback (most recent call last)",
            "\u001b[0;32m/usr/local/lib/python3.7/dist-packages/requests/models.py\u001b[0m in \u001b[0;36mgenerate\u001b[0;34m()\u001b[0m\n\u001b[1;32m    750\u001b[0m                 \u001b[0;32mtry\u001b[0m\u001b[0;34m:\u001b[0m\u001b[0;34m\u001b[0m\u001b[0;34m\u001b[0m\u001b[0m\n\u001b[0;32m--> 751\u001b[0;31m                     \u001b[0;32mfor\u001b[0m \u001b[0mchunk\u001b[0m \u001b[0;32min\u001b[0m \u001b[0mself\u001b[0m\u001b[0;34m.\u001b[0m\u001b[0mraw\u001b[0m\u001b[0;34m.\u001b[0m\u001b[0mstream\u001b[0m\u001b[0;34m(\u001b[0m\u001b[0mchunk_size\u001b[0m\u001b[0;34m,\u001b[0m \u001b[0mdecode_content\u001b[0m\u001b[0;34m=\u001b[0m\u001b[0;32mTrue\u001b[0m\u001b[0;34m)\u001b[0m\u001b[0;34m:\u001b[0m\u001b[0;34m\u001b[0m\u001b[0;34m\u001b[0m\u001b[0m\n\u001b[0m\u001b[1;32m    752\u001b[0m                         \u001b[0;32myield\u001b[0m \u001b[0mchunk\u001b[0m\u001b[0;34m\u001b[0m\u001b[0;34m\u001b[0m\u001b[0m\n",
            "\u001b[0;32m/usr/local/lib/python3.7/dist-packages/urllib3/response.py\u001b[0m in \u001b[0;36mstream\u001b[0;34m(self, amt, decode_content)\u001b[0m\n\u001b[1;32m    491\u001b[0m         \u001b[0;32mif\u001b[0m \u001b[0mself\u001b[0m\u001b[0;34m.\u001b[0m\u001b[0mchunked\u001b[0m \u001b[0;32mand\u001b[0m \u001b[0mself\u001b[0m\u001b[0;34m.\u001b[0m\u001b[0msupports_chunked_reads\u001b[0m\u001b[0;34m(\u001b[0m\u001b[0;34m)\u001b[0m\u001b[0;34m:\u001b[0m\u001b[0;34m\u001b[0m\u001b[0;34m\u001b[0m\u001b[0m\n\u001b[0;32m--> 492\u001b[0;31m             \u001b[0;32mfor\u001b[0m \u001b[0mline\u001b[0m \u001b[0;32min\u001b[0m \u001b[0mself\u001b[0m\u001b[0;34m.\u001b[0m\u001b[0mread_chunked\u001b[0m\u001b[0;34m(\u001b[0m\u001b[0mamt\u001b[0m\u001b[0;34m,\u001b[0m \u001b[0mdecode_content\u001b[0m\u001b[0;34m=\u001b[0m\u001b[0mdecode_content\u001b[0m\u001b[0;34m)\u001b[0m\u001b[0;34m:\u001b[0m\u001b[0;34m\u001b[0m\u001b[0;34m\u001b[0m\u001b[0m\n\u001b[0m\u001b[1;32m    493\u001b[0m                 \u001b[0;32myield\u001b[0m \u001b[0mline\u001b[0m\u001b[0;34m\u001b[0m\u001b[0;34m\u001b[0m\u001b[0m\n",
            "\u001b[0;32m/usr/local/lib/python3.7/dist-packages/urllib3/response.py\u001b[0m in \u001b[0;36mread_chunked\u001b[0;34m(self, amt, decode_content)\u001b[0m\n\u001b[1;32m    695\u001b[0m             \u001b[0;32mif\u001b[0m \u001b[0mself\u001b[0m\u001b[0;34m.\u001b[0m\u001b[0m_original_response\u001b[0m\u001b[0;34m:\u001b[0m\u001b[0;34m\u001b[0m\u001b[0;34m\u001b[0m\u001b[0m\n\u001b[0;32m--> 696\u001b[0;31m                 \u001b[0mself\u001b[0m\u001b[0;34m.\u001b[0m\u001b[0m_original_response\u001b[0m\u001b[0;34m.\u001b[0m\u001b[0mclose\u001b[0m\u001b[0;34m(\u001b[0m\u001b[0;34m)\u001b[0m\u001b[0;34m\u001b[0m\u001b[0;34m\u001b[0m\u001b[0m\n\u001b[0m\u001b[1;32m    697\u001b[0m \u001b[0;34m\u001b[0m\u001b[0m\n",
            "\u001b[0;32m/usr/lib/python3.7/contextlib.py\u001b[0m in \u001b[0;36m__exit__\u001b[0;34m(self, type, value, traceback)\u001b[0m\n\u001b[1;32m    129\u001b[0m             \u001b[0;32mtry\u001b[0m\u001b[0;34m:\u001b[0m\u001b[0;34m\u001b[0m\u001b[0;34m\u001b[0m\u001b[0m\n\u001b[0;32m--> 130\u001b[0;31m                 \u001b[0mself\u001b[0m\u001b[0;34m.\u001b[0m\u001b[0mgen\u001b[0m\u001b[0;34m.\u001b[0m\u001b[0mthrow\u001b[0m\u001b[0;34m(\u001b[0m\u001b[0mtype\u001b[0m\u001b[0;34m,\u001b[0m \u001b[0mvalue\u001b[0m\u001b[0;34m,\u001b[0m \u001b[0mtraceback\u001b[0m\u001b[0;34m)\u001b[0m\u001b[0;34m\u001b[0m\u001b[0;34m\u001b[0m\u001b[0m\n\u001b[0m\u001b[1;32m    131\u001b[0m             \u001b[0;32mexcept\u001b[0m \u001b[0mStopIteration\u001b[0m \u001b[0;32mas\u001b[0m \u001b[0mexc\u001b[0m\u001b[0;34m:\u001b[0m\u001b[0;34m\u001b[0m\u001b[0;34m\u001b[0m\u001b[0m\n",
            "\u001b[0;32m/usr/local/lib/python3.7/dist-packages/urllib3/response.py\u001b[0m in \u001b[0;36m_error_catcher\u001b[0;34m(self)\u001b[0m\n\u001b[1;32m    379\u001b[0m                 \u001b[0;31m# This includes IncompleteRead.\u001b[0m\u001b[0;34m\u001b[0m\u001b[0;34m\u001b[0m\u001b[0;34m\u001b[0m\u001b[0m\n\u001b[0;32m--> 380\u001b[0;31m                 \u001b[0;32mraise\u001b[0m \u001b[0mProtocolError\u001b[0m\u001b[0;34m(\u001b[0m\u001b[0;34m'Connection broken: %r'\u001b[0m \u001b[0;34m%\u001b[0m \u001b[0me\u001b[0m\u001b[0;34m,\u001b[0m \u001b[0me\u001b[0m\u001b[0;34m)\u001b[0m\u001b[0;34m\u001b[0m\u001b[0;34m\u001b[0m\u001b[0m\n\u001b[0m\u001b[1;32m    381\u001b[0m \u001b[0;34m\u001b[0m\u001b[0m\n",
            "\u001b[0;31mProtocolError\u001b[0m: (\"Connection broken: ConnectionResetError(104, 'Connection reset by peer')\", ConnectionResetError(104, 'Connection reset by peer'))",
            "\nDuring handling of the above exception, another exception occurred:\n",
            "\u001b[0;31mChunkedEncodingError\u001b[0m                      Traceback (most recent call last)",
            "\u001b[0;32m<ipython-input-9-1b1a4bad04bf>\u001b[0m in \u001b[0;36m<module>\u001b[0;34m()\u001b[0m\n\u001b[1;32m      4\u001b[0m \u001b[0;32mfor\u001b[0m \u001b[0mcl\u001b[0m \u001b[0;32min\u001b[0m \u001b[0mcontent_list\u001b[0m\u001b[0;34m:\u001b[0m\u001b[0;34m\u001b[0m\u001b[0;34m\u001b[0m\u001b[0m\n\u001b[1;32m      5\u001b[0m   \u001b[0mprint\u001b[0m\u001b[0;34m(\u001b[0m\u001b[0mcl\u001b[0m\u001b[0;34m)\u001b[0m\u001b[0;34m\u001b[0m\u001b[0;34m\u001b[0m\u001b[0m\n\u001b[0;32m----> 6\u001b[0;31m   \u001b[0men\u001b[0m\u001b[0;34m,\u001b[0m \u001b[0mzh\u001b[0m \u001b[0;34m=\u001b[0m \u001b[0mscrap_ds_voicetube\u001b[0m\u001b[0;34m(\u001b[0m\u001b[0mcl\u001b[0m\u001b[0;34m)\u001b[0m\u001b[0;34m\u001b[0m\u001b[0;34m\u001b[0m\u001b[0m\n\u001b[0m\u001b[1;32m      7\u001b[0m   \u001b[0men_all\u001b[0m\u001b[0;34m.\u001b[0m\u001b[0mextend\u001b[0m\u001b[0;34m(\u001b[0m\u001b[0men\u001b[0m\u001b[0;34m)\u001b[0m\u001b[0;34m\u001b[0m\u001b[0;34m\u001b[0m\u001b[0m\n\u001b[1;32m      8\u001b[0m   \u001b[0mzh_all\u001b[0m\u001b[0;34m.\u001b[0m\u001b[0mextend\u001b[0m\u001b[0;34m(\u001b[0m\u001b[0mzh\u001b[0m\u001b[0;34m)\u001b[0m\u001b[0;34m\u001b[0m\u001b[0;34m\u001b[0m\u001b[0m\n",
            "\u001b[0;32m<ipython-input-8-bf8ce5c3b983>\u001b[0m in \u001b[0;36mscrap_ds_voicetube\u001b[0;34m(url)\u001b[0m\n\u001b[1;32m     11\u001b[0m \u001b[0;34m\u001b[0m\u001b[0m\n\u001b[1;32m     12\u001b[0m   \u001b[0;31m# soup = BeautifulSoup(source,'lxml')\u001b[0m\u001b[0;34m\u001b[0m\u001b[0;34m\u001b[0m\u001b[0;34m\u001b[0m\u001b[0m\n\u001b[0;32m---> 13\u001b[0;31m   \u001b[0msource\u001b[0m \u001b[0;34m=\u001b[0m \u001b[0mrequests\u001b[0m\u001b[0;34m.\u001b[0m\u001b[0mget\u001b[0m\u001b[0;34m(\u001b[0m\u001b[0murl\u001b[0m\u001b[0;34m)\u001b[0m\u001b[0;34m\u001b[0m\u001b[0;34m\u001b[0m\u001b[0m\n\u001b[0m\u001b[1;32m     14\u001b[0m   \u001b[0msoup\u001b[0m \u001b[0;34m=\u001b[0m \u001b[0mBeautifulSoup\u001b[0m\u001b[0;34m(\u001b[0m\u001b[0msource\u001b[0m\u001b[0;34m.\u001b[0m\u001b[0mtext\u001b[0m\u001b[0;34m,\u001b[0m \u001b[0;34m'html.parser'\u001b[0m\u001b[0;34m)\u001b[0m\u001b[0;34m\u001b[0m\u001b[0;34m\u001b[0m\u001b[0m\n\u001b[1;32m     15\u001b[0m \u001b[0;34m\u001b[0m\u001b[0m\n",
            "\u001b[0;32m/usr/local/lib/python3.7/dist-packages/requests/api.py\u001b[0m in \u001b[0;36mget\u001b[0;34m(url, params, **kwargs)\u001b[0m\n\u001b[1;32m     74\u001b[0m \u001b[0;34m\u001b[0m\u001b[0m\n\u001b[1;32m     75\u001b[0m     \u001b[0mkwargs\u001b[0m\u001b[0;34m.\u001b[0m\u001b[0msetdefault\u001b[0m\u001b[0;34m(\u001b[0m\u001b[0;34m'allow_redirects'\u001b[0m\u001b[0;34m,\u001b[0m \u001b[0;32mTrue\u001b[0m\u001b[0;34m)\u001b[0m\u001b[0;34m\u001b[0m\u001b[0;34m\u001b[0m\u001b[0m\n\u001b[0;32m---> 76\u001b[0;31m     \u001b[0;32mreturn\u001b[0m \u001b[0mrequest\u001b[0m\u001b[0;34m(\u001b[0m\u001b[0;34m'get'\u001b[0m\u001b[0;34m,\u001b[0m \u001b[0murl\u001b[0m\u001b[0;34m,\u001b[0m \u001b[0mparams\u001b[0m\u001b[0;34m=\u001b[0m\u001b[0mparams\u001b[0m\u001b[0;34m,\u001b[0m \u001b[0;34m**\u001b[0m\u001b[0mkwargs\u001b[0m\u001b[0;34m)\u001b[0m\u001b[0;34m\u001b[0m\u001b[0;34m\u001b[0m\u001b[0m\n\u001b[0m\u001b[1;32m     77\u001b[0m \u001b[0;34m\u001b[0m\u001b[0m\n\u001b[1;32m     78\u001b[0m \u001b[0;34m\u001b[0m\u001b[0m\n",
            "\u001b[0;32m/usr/local/lib/python3.7/dist-packages/requests/api.py\u001b[0m in \u001b[0;36mrequest\u001b[0;34m(method, url, **kwargs)\u001b[0m\n\u001b[1;32m     59\u001b[0m     \u001b[0;31m# cases, and look like a memory leak in others.\u001b[0m\u001b[0;34m\u001b[0m\u001b[0;34m\u001b[0m\u001b[0;34m\u001b[0m\u001b[0m\n\u001b[1;32m     60\u001b[0m     \u001b[0;32mwith\u001b[0m \u001b[0msessions\u001b[0m\u001b[0;34m.\u001b[0m\u001b[0mSession\u001b[0m\u001b[0;34m(\u001b[0m\u001b[0;34m)\u001b[0m \u001b[0;32mas\u001b[0m \u001b[0msession\u001b[0m\u001b[0;34m:\u001b[0m\u001b[0;34m\u001b[0m\u001b[0;34m\u001b[0m\u001b[0m\n\u001b[0;32m---> 61\u001b[0;31m         \u001b[0;32mreturn\u001b[0m \u001b[0msession\u001b[0m\u001b[0;34m.\u001b[0m\u001b[0mrequest\u001b[0m\u001b[0;34m(\u001b[0m\u001b[0mmethod\u001b[0m\u001b[0;34m=\u001b[0m\u001b[0mmethod\u001b[0m\u001b[0;34m,\u001b[0m \u001b[0murl\u001b[0m\u001b[0;34m=\u001b[0m\u001b[0murl\u001b[0m\u001b[0;34m,\u001b[0m \u001b[0;34m**\u001b[0m\u001b[0mkwargs\u001b[0m\u001b[0;34m)\u001b[0m\u001b[0;34m\u001b[0m\u001b[0;34m\u001b[0m\u001b[0m\n\u001b[0m\u001b[1;32m     62\u001b[0m \u001b[0;34m\u001b[0m\u001b[0m\n\u001b[1;32m     63\u001b[0m \u001b[0;34m\u001b[0m\u001b[0m\n",
            "\u001b[0;32m/usr/local/lib/python3.7/dist-packages/requests/sessions.py\u001b[0m in \u001b[0;36mrequest\u001b[0;34m(self, method, url, params, data, headers, cookies, files, auth, timeout, allow_redirects, proxies, hooks, stream, verify, cert, json)\u001b[0m\n\u001b[1;32m    528\u001b[0m         }\n\u001b[1;32m    529\u001b[0m         \u001b[0msend_kwargs\u001b[0m\u001b[0;34m.\u001b[0m\u001b[0mupdate\u001b[0m\u001b[0;34m(\u001b[0m\u001b[0msettings\u001b[0m\u001b[0;34m)\u001b[0m\u001b[0;34m\u001b[0m\u001b[0;34m\u001b[0m\u001b[0m\n\u001b[0;32m--> 530\u001b[0;31m         \u001b[0mresp\u001b[0m \u001b[0;34m=\u001b[0m \u001b[0mself\u001b[0m\u001b[0;34m.\u001b[0m\u001b[0msend\u001b[0m\u001b[0;34m(\u001b[0m\u001b[0mprep\u001b[0m\u001b[0;34m,\u001b[0m \u001b[0;34m**\u001b[0m\u001b[0msend_kwargs\u001b[0m\u001b[0;34m)\u001b[0m\u001b[0;34m\u001b[0m\u001b[0;34m\u001b[0m\u001b[0m\n\u001b[0m\u001b[1;32m    531\u001b[0m \u001b[0;34m\u001b[0m\u001b[0m\n\u001b[1;32m    532\u001b[0m         \u001b[0;32mreturn\u001b[0m \u001b[0mresp\u001b[0m\u001b[0;34m\u001b[0m\u001b[0;34m\u001b[0m\u001b[0m\n",
            "\u001b[0;32m/usr/local/lib/python3.7/dist-packages/requests/sessions.py\u001b[0m in \u001b[0;36msend\u001b[0;34m(self, request, **kwargs)\u001b[0m\n\u001b[1;32m    681\u001b[0m \u001b[0;34m\u001b[0m\u001b[0m\n\u001b[1;32m    682\u001b[0m         \u001b[0;32mif\u001b[0m \u001b[0;32mnot\u001b[0m \u001b[0mstream\u001b[0m\u001b[0;34m:\u001b[0m\u001b[0;34m\u001b[0m\u001b[0;34m\u001b[0m\u001b[0m\n\u001b[0;32m--> 683\u001b[0;31m             \u001b[0mr\u001b[0m\u001b[0;34m.\u001b[0m\u001b[0mcontent\u001b[0m\u001b[0;34m\u001b[0m\u001b[0;34m\u001b[0m\u001b[0m\n\u001b[0m\u001b[1;32m    684\u001b[0m \u001b[0;34m\u001b[0m\u001b[0m\n\u001b[1;32m    685\u001b[0m         \u001b[0;32mreturn\u001b[0m \u001b[0mr\u001b[0m\u001b[0;34m\u001b[0m\u001b[0;34m\u001b[0m\u001b[0m\n",
            "\u001b[0;32m/usr/local/lib/python3.7/dist-packages/requests/models.py\u001b[0m in \u001b[0;36mcontent\u001b[0;34m(self)\u001b[0m\n\u001b[1;32m    827\u001b[0m                 \u001b[0mself\u001b[0m\u001b[0;34m.\u001b[0m\u001b[0m_content\u001b[0m \u001b[0;34m=\u001b[0m \u001b[0;32mNone\u001b[0m\u001b[0;34m\u001b[0m\u001b[0;34m\u001b[0m\u001b[0m\n\u001b[1;32m    828\u001b[0m             \u001b[0;32melse\u001b[0m\u001b[0;34m:\u001b[0m\u001b[0;34m\u001b[0m\u001b[0;34m\u001b[0m\u001b[0m\n\u001b[0;32m--> 829\u001b[0;31m                 \u001b[0mself\u001b[0m\u001b[0;34m.\u001b[0m\u001b[0m_content\u001b[0m \u001b[0;34m=\u001b[0m \u001b[0;34mb''\u001b[0m\u001b[0;34m.\u001b[0m\u001b[0mjoin\u001b[0m\u001b[0;34m(\u001b[0m\u001b[0mself\u001b[0m\u001b[0;34m.\u001b[0m\u001b[0miter_content\u001b[0m\u001b[0;34m(\u001b[0m\u001b[0mCONTENT_CHUNK_SIZE\u001b[0m\u001b[0;34m)\u001b[0m\u001b[0;34m)\u001b[0m \u001b[0;32mor\u001b[0m \u001b[0;34mb''\u001b[0m\u001b[0;34m\u001b[0m\u001b[0;34m\u001b[0m\u001b[0m\n\u001b[0m\u001b[1;32m    830\u001b[0m \u001b[0;34m\u001b[0m\u001b[0m\n\u001b[1;32m    831\u001b[0m         \u001b[0mself\u001b[0m\u001b[0;34m.\u001b[0m\u001b[0m_content_consumed\u001b[0m \u001b[0;34m=\u001b[0m \u001b[0;32mTrue\u001b[0m\u001b[0;34m\u001b[0m\u001b[0;34m\u001b[0m\u001b[0m\n",
            "\u001b[0;32m/usr/local/lib/python3.7/dist-packages/requests/models.py\u001b[0m in \u001b[0;36mgenerate\u001b[0;34m()\u001b[0m\n\u001b[1;32m    752\u001b[0m                         \u001b[0;32myield\u001b[0m \u001b[0mchunk\u001b[0m\u001b[0;34m\u001b[0m\u001b[0;34m\u001b[0m\u001b[0m\n\u001b[1;32m    753\u001b[0m                 \u001b[0;32mexcept\u001b[0m \u001b[0mProtocolError\u001b[0m \u001b[0;32mas\u001b[0m \u001b[0me\u001b[0m\u001b[0;34m:\u001b[0m\u001b[0;34m\u001b[0m\u001b[0;34m\u001b[0m\u001b[0m\n\u001b[0;32m--> 754\u001b[0;31m                     \u001b[0;32mraise\u001b[0m \u001b[0mChunkedEncodingError\u001b[0m\u001b[0;34m(\u001b[0m\u001b[0me\u001b[0m\u001b[0;34m)\u001b[0m\u001b[0;34m\u001b[0m\u001b[0;34m\u001b[0m\u001b[0m\n\u001b[0m\u001b[1;32m    755\u001b[0m                 \u001b[0;32mexcept\u001b[0m \u001b[0mDecodeError\u001b[0m \u001b[0;32mas\u001b[0m \u001b[0me\u001b[0m\u001b[0;34m:\u001b[0m\u001b[0;34m\u001b[0m\u001b[0;34m\u001b[0m\u001b[0m\n\u001b[1;32m    756\u001b[0m                     \u001b[0;32mraise\u001b[0m \u001b[0mContentDecodingError\u001b[0m\u001b[0;34m(\u001b[0m\u001b[0me\u001b[0m\u001b[0;34m)\u001b[0m\u001b[0;34m\u001b[0m\u001b[0;34m\u001b[0m\u001b[0m\n",
            "\u001b[0;31mChunkedEncodingError\u001b[0m: (\"Connection broken: ConnectionResetError(104, 'Connection reset by peer')\", ConnectionResetError(104, 'Connection reset by peer'))"
          ]
        }
      ]
    },
    {
      "cell_type": "code",
      "metadata": {
        "id": "6mwaMcy-ebc6"
      },
      "source": [
        "len(en_all)"
      ],
      "execution_count": null,
      "outputs": []
    },
    {
      "cell_type": "code",
      "metadata": {
        "id": "XVHXlmHnegCz"
      },
      "source": [
        "len(zh_all)"
      ],
      "execution_count": null,
      "outputs": []
    },
    {
      "cell_type": "code",
      "metadata": {
        "id": "1YadXWvjen64"
      },
      "source": [
        "with open('/content/MyDrive/MyDrive/paper/new/Yi-Chun/Dataset/voicetube/business/english_ds_business.txt', 'w', encoding=\"utf-8\") as filehandle:\n",
        "    for listitem in en_all:\n",
        "        filehandle.write('%s\\n' % listitem)"
      ],
      "execution_count": null,
      "outputs": []
    },
    {
      "cell_type": "code",
      "metadata": {
        "id": "5VKykJTNe_2u"
      },
      "source": [
        "with open('/content/MyDrive/MyDrive/paper/new/Yi-Chun/Dataset/voicetube/business/chinese_ds_business.txt', 'w', encoding=\"utf-8\") as filehandle:\n",
        "    for listitem in zh_all:\n",
        "        filehandle.write('%s\\n' % listitem)"
      ],
      "execution_count": null,
      "outputs": []
    },
    {
      "cell_type": "markdown",
      "metadata": {
        "id": "d1jvnZtwduGs"
      },
      "source": [
        "## **Messy Version**"
      ]
    },
    {
      "cell_type": "code",
      "metadata": {
        "id": "TfMIdgYob1pE"
      },
      "source": [
        "# source = urlopen(content_list[0]).read()\n",
        "source = requests.get(content_list[0])"
      ],
      "execution_count": null,
      "outputs": []
    },
    {
      "cell_type": "code",
      "metadata": {
        "id": "Qxl4m5wMcMAu"
      },
      "source": [
        "# soup = BeautifulSoup(source,'lxml')\n",
        "soup = BeautifulSoup(source.text, 'html.parser')"
      ],
      "execution_count": null,
      "outputs": []
    },
    {
      "cell_type": "code",
      "metadata": {
        "colab": {
          "base_uri": "https://localhost:8080/"
        },
        "id": "2a4ZmYbncQAq",
        "outputId": "82b1e41e-31b6-4459-eddd-e84ade3adc7c"
      },
      "source": [
        "#text = ''\n",
        "a = []\n",
        "for paragraph in soup.find_all('span'):\n",
        "    a.append(paragraph.text)\n",
        "    \n",
        "a"
      ],
      "execution_count": null,
      "outputs": [
        {
          "output_type": "execute_result",
          "data": {
            "text/plain": [
              "['\\nIn February 2016, the US government ordered tech company, Apple, to create software that would allow unauthorized access into the iPhone.\\n',\n",
              " '\\n2016 年 2 月，美國政府要求蘋果公司設計一款軟體，讓他們得以破解 iPhone 手機。\\n',\n",
              " '\\nThe FBI has said this access would allow them to investigate a suspect in the San Bernardino terror attack.\\n',\n",
              " '\\nFBI 表示他們需要解鎖兇嫌手機，以利調查加州恐攻案。\\n',\n",
              " \"\\nBut Apple's CEO Tim Cook has refused, saying that a backdoor to the iPhone could lead to significant privacy concerns for their customers.\\n\",\n",
              " '\\n不過執行長庫克斷然拒絕，並表示 iPhone 手機若「大開後門」可能嚴重危害顧客隱私。\\n',\n",
              " \"\\nIt's rare for a major company to defy the federal government, so we wanted to know, just how powerful is Apple?\\n\",\n",
              " '\\n像蘋果這樣的大公司膽敢違抗政府相當罕見，這就激起了我們的好奇，究竟蘋果公司有多強大？\\n',\n",
              " \"\\nWell, Apple is the world's most valuable publicly traded company.\\n\",\n",
              " '\\n蘋果是全球最大公開上市交易公司。\\n',\n",
              " '\\nIn February 2015, it rose to be the first US company worth more than $700 billion dollars, about the same as the GDP of Saudi Arabia.\\n',\n",
              " '\\n2015 年 2 月更躍身成為全美第一大，市值超過 7000 億美元，大約等同沙烏地阿拉伯 GDP 總和。\\n',\n",
              " \"\\nSince 1976, Apple has manufactured and sold personal computers, but they're now better known for consumer electronics, including phones, tablets, mp3 players and smartwatches.\\n\",\n",
              " '\\n自 1976 年來，蘋果便生產、銷售個人電腦，如今為人熟知的則是消費電子商品，像是手機、平板、mp3 與智慧手錶。\\n',\n",
              " '\\nApple has sold more than 700 million iPhones worldwide, and stands as the leading smartphone retailer in the United States.\\n',\n",
              " '\\n蘋果全球賣出 7 億多支 iPhone，在美國智慧手機市場獨佔鰲頭。\\n',\n",
              " \"\\nBut much of Apple's financial success doesn't come from its quantity of sales, but rather the amount spent on each device.\\n\",\n",
              " '\\n不過蘋果商業獲利並非來自銷售總數多，而是個別商品單價高。\\n',\n",
              " '\\nIn fact, iPhones only count for roughly 14 percent of the global smartphone market.\\n',\n",
              " '\\n事實上，iPhone 約僅佔全球智慧型手機市場 14%。\\n',\n",
              " '\\nYet, Apple still makes more than half the total profits in that industry.\\n',\n",
              " '\\n但獲利卻佔該市場的 50% 以上。\\n',\n",
              " '\\nThis, combined with the tight ecosystem of their products, has given Apple an unusual amount of brand loyalty.\\n',\n",
              " '\\n此外，蘋果產品自成體系，因此鞏固不少顧客的忠誠度。\\n',\n",
              " '\\nIn a 2015 survey of iPhone users, more than 83 percent of respondents said they planned to stick with Apple for their next smartphone purchase.\\n',\n",
              " '\\n2015 年調查顯示：超過 83% 的 iPhone 使用者表示，下支手機還是會選蘋果。\\n',\n",
              " '\\nApple product releases and store openings are known to attract thousands of people, some of whom wait for hours in line.\\n',\n",
              " '\\n蘋果產品發表會與新店開張，總能吸引數千名消費者，有些人甚至排隊數小時。\\n',\n",
              " '\\nWith such a widespread level of reach and influence, any security breach on Apple products has severe consequences.\\n',\n",
              " '\\n蘋果顧客眾多、影響力強大，若產品出現安全漏洞後果將不堪設想。\\n',\n",
              " '\\nThis was demonstrated in 2014, when hundreds of private photos of celebrities surfaced online as the result of a suspected iCloud hack.\\n',\n",
              " '\\n2014 年，名人的數百張私照外洩便是一例，起因疑似是 iCloud 雲端遭駭。\\n',\n",
              " '\\nThis was not only devastating to those who were involved, but it raised concerns about the security of services like iCloud, which store mass amounts of private information.\\n',\n",
              " '\\n這不只重創當事人，更引發民眾對 iCloud 隱私安全的疑慮，因為裡面存有大量使用者個資。\\n',\n",
              " '\\nIn fact, later that same year, Apple revamped the level of encryption in their mobile operating systems, preventing hackers, governments, and even Apple themselves from gaining access.\\n',\n",
              " '\\n名人私照外洩後的同一年，蘋果立刻提高手機作業系統加密等級，防止駭客、政府、甚至蘋果公司自己入侵手機。\\n',\n",
              " '\\nTim Cook has long described digital privacy as a human right, and has repeatedly moved beyond his role as CEO, into the center of high-stakes social and political issues.\\n',\n",
              " '\\n庫克一直以來都將數位隱私比作人權，甚至多次跳脫執行長身分，涉足重要的社會、政治議題論戰。\\n',\n",
              " '\\nAs Apple devices have increasingly been able to carry more personal data, they have been forced to become more secure.\\n',\n",
              " '\\n隨著蘋果產品內個資與日俱增，外界對於隱私安全更加要求。\\n',\n",
              " '\\nThe most recent pushback on government intrusion has shown that Apple is powerful enough to stand up to even the FBI.\\n',\n",
              " '\\n近來拒絕政府解鎖手機一事，顯示蘋果強大到足以力抗 FBI。\\n',\n",
              " '\\nBut how can Apple just deny access to the government?\\n',\n",
              " '\\n不過蘋果如何拒絕政府要求？\\n',\n",
              " \"\\nWhat does Tim Cook mean when he says they're unable to access phones produced by Apple?\\n\",\n",
              " '\\n庫克口中的「無法」解鎖自家產品是怎麼一回事？\\n',\n",
              " '\\nHow does encryption work?\\n',\n",
              " '\\n手機又是如何加密的？\\n',\n",
              " '\\nCheck out this DNews video to find out!\\n',\n",
              " '\\n來看這部 DNews 的影片來了解吧！\\n',\n",
              " \"\\nThanks for watching TestTube News, don't forget to like and subscribe for new videos every day!\\n\",\n",
              " '\\n感謝你收看 TestTube News，別忘了訂閱收看每日新影片哦！\\n']"
            ]
          },
          "metadata": {
            "tags": []
          },
          "execution_count": 26
        }
      ]
    },
    {
      "cell_type": "code",
      "metadata": {
        "colab": {
          "base_uri": "https://localhost:8080/"
        },
        "id": "Ra_q7OX0cUDJ",
        "outputId": "375fe9d7-4064-4fb6-d559-12f535dd58a9"
      },
      "source": [
        "text = []\n",
        "for i in range(len(a)):\n",
        "  text.append(re.sub(r\"\\n\", \"\", a[i]))\n",
        "print(text)"
      ],
      "execution_count": null,
      "outputs": [
        {
          "output_type": "stream",
          "text": [
            "['In February 2016, the US government ordered tech company, Apple, to create software that would allow unauthorized access into the iPhone.', '2016 年 2 月，美國政府要求蘋果公司設計一款軟體，讓他們得以破解 iPhone 手機。', 'The FBI has said this access would allow them to investigate a suspect in the San Bernardino terror attack.', 'FBI 表示他們需要解鎖兇嫌手機，以利調查加州恐攻案。', \"But Apple's CEO Tim Cook has refused, saying that a backdoor to the iPhone could lead to significant privacy concerns for their customers.\", '不過執行長庫克斷然拒絕，並表示 iPhone 手機若「大開後門」可能嚴重危害顧客隱私。', \"It's rare for a major company to defy the federal government, so we wanted to know, just how powerful is Apple?\", '像蘋果這樣的大公司膽敢違抗政府相當罕見，這就激起了我們的好奇，究竟蘋果公司有多強大？', \"Well, Apple is the world's most valuable publicly traded company.\", '蘋果是全球最大公開上市交易公司。', 'In February 2015, it rose to be the first US company worth more than $700 billion dollars, about the same as the GDP of Saudi Arabia.', '2015 年 2 月更躍身成為全美第一大，市值超過 7000 億美元，大約等同沙烏地阿拉伯 GDP 總和。', \"Since 1976, Apple has manufactured and sold personal computers, but they're now better known for consumer electronics, including phones, tablets, mp3 players and smartwatches.\", '自 1976 年來，蘋果便生產、銷售個人電腦，如今為人熟知的則是消費電子商品，像是手機、平板、mp3 與智慧手錶。', 'Apple has sold more than 700 million iPhones worldwide, and stands as the leading smartphone retailer in the United States.', '蘋果全球賣出 7 億多支 iPhone，在美國智慧手機市場獨佔鰲頭。', \"But much of Apple's financial success doesn't come from its quantity of sales, but rather the amount spent on each device.\", '不過蘋果商業獲利並非來自銷售總數多，而是個別商品單價高。', 'In fact, iPhones only count for roughly 14 percent of the global smartphone market.', '事實上，iPhone 約僅佔全球智慧型手機市場 14%。', 'Yet, Apple still makes more than half the total profits in that industry.', '但獲利卻佔該市場的 50% 以上。', 'This, combined with the tight ecosystem of their products, has given Apple an unusual amount of brand loyalty.', '此外，蘋果產品自成體系，因此鞏固不少顧客的忠誠度。', 'In a 2015 survey of iPhone users, more than 83 percent of respondents said they planned to stick with Apple for their next smartphone purchase.', '2015 年調查顯示：超過 83% 的 iPhone 使用者表示，下支手機還是會選蘋果。', 'Apple product releases and store openings are known to attract thousands of people, some of whom wait for hours in line.', '蘋果產品發表會與新店開張，總能吸引數千名消費者，有些人甚至排隊數小時。', 'With such a widespread level of reach and influence, any security breach on Apple products has severe consequences.', '蘋果顧客眾多、影響力強大，若產品出現安全漏洞後果將不堪設想。', 'This was demonstrated in 2014, when hundreds of private photos of celebrities surfaced online as the result of a suspected iCloud hack.', '2014 年，名人的數百張私照外洩便是一例，起因疑似是 iCloud 雲端遭駭。', 'This was not only devastating to those who were involved, but it raised concerns about the security of services like iCloud, which store mass amounts of private information.', '這不只重創當事人，更引發民眾對 iCloud 隱私安全的疑慮，因為裡面存有大量使用者個資。', 'In fact, later that same year, Apple revamped the level of encryption in their mobile operating systems, preventing hackers, governments, and even Apple themselves from gaining access.', '名人私照外洩後的同一年，蘋果立刻提高手機作業系統加密等級，防止駭客、政府、甚至蘋果公司自己入侵手機。', 'Tim Cook has long described digital privacy as a human right, and has repeatedly moved beyond his role as CEO, into the center of high-stakes social and political issues.', '庫克一直以來都將數位隱私比作人權，甚至多次跳脫執行長身分，涉足重要的社會、政治議題論戰。', 'As Apple devices have increasingly been able to carry more personal data, they have been forced to become more secure.', '隨著蘋果產品內個資與日俱增，外界對於隱私安全更加要求。', 'The most recent pushback on government intrusion has shown that Apple is powerful enough to stand up to even the FBI.', '近來拒絕政府解鎖手機一事，顯示蘋果強大到足以力抗 FBI。', 'But how can Apple just deny access to the government?', '不過蘋果如何拒絕政府要求？', \"What does Tim Cook mean when he says they're unable to access phones produced by Apple?\", '庫克口中的「無法」解鎖自家產品是怎麼一回事？', 'How does encryption work?', '手機又是如何加密的？', 'Check out this DNews video to find out!', '來看這部 DNews 的影片來了解吧！', \"Thanks for watching TestTube News, don't forget to like and subscribe for new videos every day!\", '感謝你收看 TestTube News，別忘了訂閱收看每日新影片哦！']\n"
          ],
          "name": "stdout"
        }
      ]
    },
    {
      "cell_type": "code",
      "metadata": {
        "colab": {
          "base_uri": "https://localhost:8080/"
        },
        "id": "MkvquDkEcaGr",
        "outputId": "03c02201-ec39-4156-e680-49ad9b8d1c29"
      },
      "source": [
        "text[0] , text[1]"
      ],
      "execution_count": null,
      "outputs": [
        {
          "output_type": "execute_result",
          "data": {
            "text/plain": [
              "('In February 2016, the US government ordered tech company, Apple, to create software that would allow unauthorized access into the iPhone.',\n",
              " '2016 年 2 月，美國政府要求蘋果公司設計一款軟體，讓他們得以破解 iPhone 手機。')"
            ]
          },
          "metadata": {
            "tags": []
          },
          "execution_count": 28
        }
      ]
    },
    {
      "cell_type": "code",
      "metadata": {
        "id": "CaGHwZ6bccw-"
      },
      "source": [
        "en = []\n",
        "zh = []\n",
        "\n",
        "for i in range(len(text)):\n",
        "  if i % 2 == 0:\n",
        "    en.append(text[i])\n",
        "  else:\n",
        "    zh.append(text[i])"
      ],
      "execution_count": null,
      "outputs": []
    },
    {
      "cell_type": "code",
      "metadata": {
        "colab": {
          "base_uri": "https://localhost:8080/"
        },
        "id": "fihtEDUVcfRH",
        "outputId": "a0934287-c717-425c-8f1e-4378f46a413d"
      },
      "source": [
        "len(en)"
      ],
      "execution_count": null,
      "outputs": [
        {
          "output_type": "execute_result",
          "data": {
            "text/plain": [
              "26"
            ]
          },
          "metadata": {
            "tags": []
          },
          "execution_count": 30
        }
      ]
    },
    {
      "cell_type": "code",
      "metadata": {
        "colab": {
          "base_uri": "https://localhost:8080/"
        },
        "id": "I4RXt2Sjcfsg",
        "outputId": "a6a2fa66-22bf-4223-be82-9f54d25effd1"
      },
      "source": [
        "len(zh)"
      ],
      "execution_count": null,
      "outputs": [
        {
          "output_type": "execute_result",
          "data": {
            "text/plain": [
              "26"
            ]
          },
          "metadata": {
            "tags": []
          },
          "execution_count": 31
        }
      ]
    },
    {
      "cell_type": "code",
      "metadata": {
        "id": "SMrwQ3GFcg5F"
      },
      "source": [
        ""
      ],
      "execution_count": null,
      "outputs": []
    }
  ]
}