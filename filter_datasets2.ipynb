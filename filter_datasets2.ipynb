{
  "nbformat": 4,
  "nbformat_minor": 0,
  "metadata": {
    "colab": {
      "name": "filter_datasets2.ipynb",
      "provenance": [],
      "collapsed_sections": [],
      "machine_shape": "hm",
      "include_colab_link": true
    },
    "kernelspec": {
      "name": "python3",
      "display_name": "Python 3"
    },
    "language_info": {
      "name": "python"
    }
  },
  "cells": [
    {
      "cell_type": "markdown",
      "metadata": {
        "id": "view-in-github",
        "colab_type": "text"
      },
      "source": [
        "<a href=\"https://colab.research.google.com/github/ReynaQuita/NLP/blob/main/filter_datasets2.ipynb\" target=\"_parent\"><img src=\"https://colab.research.google.com/assets/colab-badge.svg\" alt=\"Open In Colab\"/></a>"
      ]
    },
    {
      "cell_type": "code",
      "metadata": {
        "id": "y3gJqKO20wOv",
        "colab": {
          "base_uri": "https://localhost:8080/"
        },
        "outputId": "ec58f3c4-0652-40b2-c81e-54d54fb40a7e"
      },
      "source": [
        "! pip install langdetect clean-text[gpl] "
      ],
      "execution_count": 38,
      "outputs": [
        {
          "output_type": "stream",
          "text": [
            "Requirement already satisfied: langdetect in /usr/local/lib/python3.7/dist-packages (1.0.9)\n",
            "Requirement already satisfied: clean-text[gpl] in /usr/local/lib/python3.7/dist-packages (0.4.0)\n",
            "Requirement already satisfied: six in /usr/local/lib/python3.7/dist-packages (from langdetect) (1.15.0)\n",
            "Requirement already satisfied: emoji in /usr/local/lib/python3.7/dist-packages (from clean-text[gpl]) (1.4.2)\n",
            "Requirement already satisfied: ftfy<7.0,>=6.0 in /usr/local/lib/python3.7/dist-packages (from clean-text[gpl]) (6.0.3)\n",
            "Requirement already satisfied: unidecode<2.0.0,>=1.1.1 in /usr/local/lib/python3.7/dist-packages (from clean-text[gpl]) (1.2.0)\n",
            "Requirement already satisfied: wcwidth in /usr/local/lib/python3.7/dist-packages (from ftfy<7.0,>=6.0->clean-text[gpl]) (0.2.5)\n"
          ],
          "name": "stdout"
        }
      ]
    },
    {
      "cell_type": "code",
      "metadata": {
        "id": "O42TFhBrsPiG",
        "colab": {
          "base_uri": "https://localhost:8080/"
        },
        "outputId": "b8a4fcdf-312f-4d5d-bb60-c9c7232fd94a"
      },
      "source": [
        "from google.colab import drive\n",
        "drive.mount('/content/gdrive')"
      ],
      "execution_count": 39,
      "outputs": [
        {
          "output_type": "stream",
          "text": [
            "Drive already mounted at /content/gdrive; to attempt to forcibly remount, call drive.mount(\"/content/gdrive\", force_remount=True).\n"
          ],
          "name": "stdout"
        }
      ]
    },
    {
      "cell_type": "markdown",
      "metadata": {
        "id": "Qs2c8a7hnxNS"
      },
      "source": [
        "###Load Datasets"
      ]
    },
    {
      "cell_type": "code",
      "metadata": {
        "id": "FmIM9LXxlWc1"
      },
      "source": [
        "import pandas as pd"
      ],
      "execution_count": 40,
      "outputs": []
    },
    {
      "cell_type": "code",
      "metadata": {
        "id": "Acif08lPlWiF"
      },
      "source": [
        "\n",
        "# df = pd.read_csv(r'D:\\NewsCommentaryv12WMT17\\training\\en.txt', delimiter = \"\\t\")\n",
        "# df_en = df.rename(columns={\"1929 or 1989?\": 'en'})\n",
        "\n",
        "# df_en\n"
      ],
      "execution_count": null,
      "outputs": []
    },
    {
      "cell_type": "code",
      "metadata": {
        "id": "2NkONy7-nyTW"
      },
      "source": [
        "files = [ 'travel' , 'tech' , 'news' , 'music' , 'learning', 'kids' , 'health' , 'ent' , 'business' , 'animation' ]"
      ],
      "execution_count": 41,
      "outputs": []
    },
    {
      "cell_type": "code",
      "metadata": {
        "id": "EmpjiNtMnp1I",
        "colab": {
          "base_uri": "https://localhost:8080/"
        },
        "outputId": "d8d4bbd0-590e-472a-d868-9e51e7ba9a11"
      },
      "source": [
        "b = []\n",
        "for i in files:\n",
        "  a = '/content/gdrive/MyDrive/paper/new/Yi-Chun/Dataset/voicetube/' + i + '/' + 'english_ds_' + i + '.txt'\n",
        "  b.append(a)\n",
        "print(b)"
      ],
      "execution_count": 42,
      "outputs": [
        {
          "output_type": "stream",
          "text": [
            "['/content/gdrive/MyDrive/paper/new/Yi-Chun/Dataset/voicetube/travel/english_ds_travel.txt', '/content/gdrive/MyDrive/paper/new/Yi-Chun/Dataset/voicetube/tech/english_ds_tech.txt', '/content/gdrive/MyDrive/paper/new/Yi-Chun/Dataset/voicetube/news/english_ds_news.txt', '/content/gdrive/MyDrive/paper/new/Yi-Chun/Dataset/voicetube/music/english_ds_music.txt', '/content/gdrive/MyDrive/paper/new/Yi-Chun/Dataset/voicetube/learning/english_ds_learning.txt', '/content/gdrive/MyDrive/paper/new/Yi-Chun/Dataset/voicetube/kids/english_ds_kids.txt', '/content/gdrive/MyDrive/paper/new/Yi-Chun/Dataset/voicetube/health/english_ds_health.txt', '/content/gdrive/MyDrive/paper/new/Yi-Chun/Dataset/voicetube/ent/english_ds_ent.txt', '/content/gdrive/MyDrive/paper/new/Yi-Chun/Dataset/voicetube/business/english_ds_business.txt', '/content/gdrive/MyDrive/paper/new/Yi-Chun/Dataset/voicetube/animation/english_ds_animation.txt']\n"
          ],
          "name": "stdout"
        }
      ]
    },
    {
      "cell_type": "code",
      "metadata": {
        "id": "rbyKfpjox_pI",
        "colab": {
          "base_uri": "https://localhost:8080/"
        },
        "outputId": "e5593c38-8e3f-4329-e319-0fe9364c0773"
      },
      "source": [
        "d = []\n",
        "for i in files:\n",
        "  c = '/content/gdrive/MyDrive/paper/new/Yi-Chun/Dataset/voicetube/' + i + '/' + 'chinese_ds_' + i + '.txt'\n",
        "  d.append(c)\n",
        "print(d)"
      ],
      "execution_count": 43,
      "outputs": [
        {
          "output_type": "stream",
          "text": [
            "['/content/gdrive/MyDrive/paper/new/Yi-Chun/Dataset/voicetube/travel/chinese_ds_travel.txt', '/content/gdrive/MyDrive/paper/new/Yi-Chun/Dataset/voicetube/tech/chinese_ds_tech.txt', '/content/gdrive/MyDrive/paper/new/Yi-Chun/Dataset/voicetube/news/chinese_ds_news.txt', '/content/gdrive/MyDrive/paper/new/Yi-Chun/Dataset/voicetube/music/chinese_ds_music.txt', '/content/gdrive/MyDrive/paper/new/Yi-Chun/Dataset/voicetube/learning/chinese_ds_learning.txt', '/content/gdrive/MyDrive/paper/new/Yi-Chun/Dataset/voicetube/kids/chinese_ds_kids.txt', '/content/gdrive/MyDrive/paper/new/Yi-Chun/Dataset/voicetube/health/chinese_ds_health.txt', '/content/gdrive/MyDrive/paper/new/Yi-Chun/Dataset/voicetube/ent/chinese_ds_ent.txt', '/content/gdrive/MyDrive/paper/new/Yi-Chun/Dataset/voicetube/business/chinese_ds_business.txt', '/content/gdrive/MyDrive/paper/new/Yi-Chun/Dataset/voicetube/animation/chinese_ds_animation.txt']\n"
          ],
          "name": "stdout"
        }
      ]
    },
    {
      "cell_type": "code",
      "metadata": {
        "id": "yvU1-SzeiBWf"
      },
      "source": [
        "from cleantext import clean\n",
        "import re"
      ],
      "execution_count": null,
      "outputs": []
    },
    {
      "cell_type": "code",
      "metadata": {
        "id": "_SgjeOxBYO3x"
      },
      "source": [
        "def clean_chinese_text(context):\n",
        "  context = re.sub(\"http://[a-zA-z./\\d]*\",\"\",context) #Remove links\n",
        "  context = re.sub(\"\\[.{0,12}\\]\",\"\",context) #Remove emoji\n",
        "  tags = re.findall(\"#(.{0,30})#\",context) #Extract and remove tags\n",
        "  context = re.sub(\"#.{0,30}#\",\"\",context)\n",
        "  at = re.findall(\"@([^@]{0,30})\\s\",context) #Extract and remove @somebody\n",
        "  context = re.sub(\"@([^@]{0,30})\\s\",\"\",context)\n",
        "  at+= re.findall(\"@([^@]{0,30})）\",context)\n",
        "  context = re.sub(\"@([^@]{0,30})）\",\"\",context)\n",
        "  context = re.sub(\"[\\s+\\.\\!\\/_,$%^*\\\"\\']+|[+——~@#￥%……&*（）]+\", \"\",context) #Remove punctuation\n",
        "  context = re.sub(\"[【】╮╯▽╰╭★→「」]+\",\"\",context)\n",
        "  context = re.sub(\"！，❤。～《》：（）【】「」？”“；：、\",\"\",context)\n",
        "  context = re.sub(\"\\s\",\"\",context) #Remove space\n",
        "  context = re.sub(\"\\.*\",\"\",context) #Remove ....\n",
        "\n",
        "  return context"
      ],
      "execution_count": 60,
      "outputs": []
    },
    {
      "cell_type": "code",
      "metadata": {
        "colab": {
          "base_uri": "https://localhost:8080/",
          "height": 35
        },
        "id": "pikPHxnnkTs-",
        "outputId": "0d4f7425-80db-4ced-bcdc-90c7ced2eddb"
      },
      "source": [
        "clean(\"Oh my God\",fix_unicode=False, to_ascii=False, no_urls=True, replace_with_url=\"\", no_emails=True, replace_with_email=\"\", no_punct=False, replace_with_punct=\"\", lower=False, lang =\"en\") "
      ],
      "execution_count": 58,
      "outputs": [
        {
          "output_type": "execute_result",
          "data": {
            "application/vnd.google.colaboratory.intrinsic+json": {
              "type": "string"
            },
            "text/plain": [
              "'Oh my God'"
            ]
          },
          "metadata": {
            "tags": []
          },
          "execution_count": 58
        }
      ]
    },
    {
      "cell_type": "code",
      "metadata": {
        "colab": {
          "base_uri": "https://localhost:8080/",
          "height": 35
        },
        "id": "F2uLIN8TYefT",
        "outputId": "fb12077a-b397-4d10-8520-c7e37c408e39"
      },
      "source": [
        "clean_chinese_text(\"我們都非常興奮，(那位戴著兔耳朵的仁兄也是##)。\")"
      ],
      "execution_count": 63,
      "outputs": [
        {
          "output_type": "execute_result",
          "data": {
            "application/vnd.google.colaboratory.intrinsic+json": {
              "type": "string"
            },
            "text/plain": [
              "'我們都非常興奮，(那位戴著兔耳朵的仁兄也是)。'"
            ]
          },
          "metadata": {
            "tags": []
          },
          "execution_count": 63
        }
      ]
    },
    {
      "cell_type": "code",
      "metadata": {
        "id": "UwQ-mPhslerV",
        "colab": {
          "base_uri": "https://localhost:8080/",
          "height": 423
        },
        "outputId": "e167e2e8-1b13-4d97-cd86-125a6fae9e71"
      },
      "source": [
        "en_list = []\n",
        "\n",
        "for k in b:\n",
        "  with open(k,'r') as fh:\n",
        "    for oneline in fh:\n",
        "      oneline = oneline.strip()\n",
        "      oneline = clean(oneline, fix_unicode=True, to_ascii=True, no_urls=True, replace_with_url=\"\",  lower=False, no_emails=True, replace_with_email=\"\", no_punct=False, replace_with_punct=\"\", lang =\"en\") \n",
        "      en_list.append(oneline)\n",
        "#    for i in en_list:\n",
        "#        print(i)\n",
        "\n",
        "x_dic={}\n",
        "x_dic['en'] = en_list\n",
        "df_en = pd.DataFrame( data = x_dic )\n",
        "\n",
        "df_en"
      ],
      "execution_count": 59,
      "outputs": [
        {
          "output_type": "execute_result",
          "data": {
            "text/html": [
              "<div>\n",
              "<style scoped>\n",
              "    .dataframe tbody tr th:only-of-type {\n",
              "        vertical-align: middle;\n",
              "    }\n",
              "\n",
              "    .dataframe tbody tr th {\n",
              "        vertical-align: top;\n",
              "    }\n",
              "\n",
              "    .dataframe thead th {\n",
              "        text-align: right;\n",
              "    }\n",
              "</style>\n",
              "<table border=\"1\" class=\"dataframe\">\n",
              "  <thead>\n",
              "    <tr style=\"text-align: right;\">\n",
              "      <th></th>\n",
              "      <th>en</th>\n",
              "    </tr>\n",
              "  </thead>\n",
              "  <tbody>\n",
              "    <tr>\n",
              "      <th>0</th>\n",
              "      <td>Oh my God, it's still moving!!</td>\n",
              "    </tr>\n",
              "    <tr>\n",
              "      <th>1</th>\n",
              "      <td>Hey, everyone, welcome to this new 2-minute Ja...</td>\n",
              "    </tr>\n",
              "    <tr>\n",
              "      <th>2</th>\n",
              "      <td>Now, it's time to reveal the truth, the one yo...</td>\n",
              "    </tr>\n",
              "    <tr>\n",
              "      <th>3</th>\n",
              "      <td>We got invited by Itamae Sushi to film a reall...</td>\n",
              "    </tr>\n",
              "    <tr>\n",
              "      <th>4</th>\n",
              "      <td>We were really excited and so was this guy wit...</td>\n",
              "    </tr>\n",
              "    <tr>\n",
              "      <th>...</th>\n",
              "      <td>...</td>\n",
              "    </tr>\n",
              "    <tr>\n",
              "      <th>1020444</th>\n",
              "      <td>Want to learn how to draw?</td>\n",
              "    </tr>\n",
              "    <tr>\n",
              "      <th>1020445</th>\n",
              "      <td>What turns you on? What lights you up?</td>\n",
              "    </tr>\n",
              "    <tr>\n",
              "      <th>1020446</th>\n",
              "      <td>Go out and do that thing. It only takes 20 hours.</td>\n",
              "    </tr>\n",
              "    <tr>\n",
              "      <th>1020447</th>\n",
              "      <td>Have fun.</td>\n",
              "    </tr>\n",
              "    <tr>\n",
              "      <th>1020448</th>\n",
              "      <td>(Applause)</td>\n",
              "    </tr>\n",
              "  </tbody>\n",
              "</table>\n",
              "<p>1020449 rows × 1 columns</p>\n",
              "</div>"
            ],
            "text/plain": [
              "                                                        en\n",
              "0                           Oh my God, it's still moving!!\n",
              "1        Hey, everyone, welcome to this new 2-minute Ja...\n",
              "2        Now, it's time to reveal the truth, the one yo...\n",
              "3        We got invited by Itamae Sushi to film a reall...\n",
              "4        We were really excited and so was this guy wit...\n",
              "...                                                    ...\n",
              "1020444                         Want to learn how to draw?\n",
              "1020445             What turns you on? What lights you up?\n",
              "1020446  Go out and do that thing. It only takes 20 hours.\n",
              "1020447                                          Have fun.\n",
              "1020448                                         (Applause)\n",
              "\n",
              "[1020449 rows x 1 columns]"
            ]
          },
          "metadata": {
            "tags": []
          },
          "execution_count": 59
        }
      ]
    },
    {
      "cell_type": "code",
      "metadata": {
        "id": "zgBrCicuv40b",
        "colab": {
          "base_uri": "https://localhost:8080/"
        },
        "outputId": "bc098ffc-f86d-4cc5-c128-250eff3746c7"
      },
      "source": [
        "len(df_en)"
      ],
      "execution_count": 50,
      "outputs": [
        {
          "output_type": "execute_result",
          "data": {
            "text/plain": [
              "1020449"
            ]
          },
          "metadata": {
            "tags": []
          },
          "execution_count": 50
        }
      ]
    },
    {
      "cell_type": "code",
      "metadata": {
        "id": "vY03I7gkllUe"
      },
      "source": [
        "\n",
        "# df2 = pd.read_csv(r'D:\\NewsCommentaryv12WMT17\\training\\zh.txt', delimiter = \"\\t\")\n",
        "# df_zh = df2.rename(columns={\"1929年还是1989年?\": 'zh'})\n",
        "\n",
        "# df_zh\n"
      ],
      "execution_count": null,
      "outputs": []
    },
    {
      "cell_type": "code",
      "metadata": {
        "id": "Cwoz9hJmpZX7",
        "colab": {
          "base_uri": "https://localhost:8080/",
          "height": 423
        },
        "outputId": "52d35026-1d16-42d0-bac8-4ec37ecfc881"
      },
      "source": [
        "zh_list = []\n",
        "\n",
        "for k in d:  \n",
        "  with open(k,'r') as fh:\n",
        "#    zh_list = []\n",
        "    for oneline in fh:\n",
        "      oneline = clean_chinese_text(oneline.strip())\n",
        "      zh_list.append(oneline)\n",
        "#    for i in zh_list:\n",
        "#        print(i)\n",
        "\n",
        "y_dic={}\n",
        "y_dic['zh'] = zh_list\n",
        "df_zh = pd.DataFrame( data = y_dic )\n",
        "\n",
        "df_zh"
      ],
      "execution_count": 61,
      "outputs": [
        {
          "output_type": "execute_result",
          "data": {
            "text/html": [
              "<div>\n",
              "<style scoped>\n",
              "    .dataframe tbody tr th:only-of-type {\n",
              "        vertical-align: middle;\n",
              "    }\n",
              "\n",
              "    .dataframe tbody tr th {\n",
              "        vertical-align: top;\n",
              "    }\n",
              "\n",
              "    .dataframe thead th {\n",
              "        text-align: right;\n",
              "    }\n",
              "</style>\n",
              "<table border=\"1\" class=\"dataframe\">\n",
              "  <thead>\n",
              "    <tr style=\"text-align: right;\">\n",
              "      <th></th>\n",
              "      <th>zh</th>\n",
              "    </tr>\n",
              "  </thead>\n",
              "  <tbody>\n",
              "    <tr>\n",
              "      <th>0</th>\n",
              "      <td>我的老天，它還在動！</td>\n",
              "    </tr>\n",
              "    <tr>\n",
              "      <th>1</th>\n",
              "      <td>嗨大家好，歡迎來到新一集的兩分鐘看日本！</td>\n",
              "    </tr>\n",
              "    <tr>\n",
              "      <th>2</th>\n",
              "      <td>現在終於要揭露真相，你們引頸盼望的真相！其實根本還好</td>\n",
              "    </tr>\n",
              "    <tr>\n",
              "      <th>3</th>\n",
              "      <td>我們受邀到板前壽司拍一場秀把巨大的鮪魚大卸八塊！</td>\n",
              "    </tr>\n",
              "    <tr>\n",
              "      <th>4</th>\n",
              "      <td>我們都非常興奮，那位戴著兔耳朵的仁兄也是。</td>\n",
              "    </tr>\n",
              "    <tr>\n",
              "      <th>...</th>\n",
              "      <td>...</td>\n",
              "    </tr>\n",
              "    <tr>\n",
              "      <th>1020444</th>\n",
              "      <td>想學畫畫嗎？</td>\n",
              "    </tr>\n",
              "    <tr>\n",
              "      <th>1020445</th>\n",
              "      <td>是什麼讓你興奮？是什麼點燃了你？</td>\n",
              "    </tr>\n",
              "    <tr>\n",
              "      <th>1020446</th>\n",
              "      <td>出去做那件事。只需要20個小時。</td>\n",
              "    </tr>\n",
              "    <tr>\n",
              "      <th>1020447</th>\n",
              "      <td>玩得開心點</td>\n",
              "    </tr>\n",
              "    <tr>\n",
              "      <th>1020448</th>\n",
              "      <td>(掌聲)</td>\n",
              "    </tr>\n",
              "  </tbody>\n",
              "</table>\n",
              "<p>1020449 rows × 1 columns</p>\n",
              "</div>"
            ],
            "text/plain": [
              "                                 zh\n",
              "0                        我的老天，它還在動！\n",
              "1              嗨大家好，歡迎來到新一集的兩分鐘看日本！\n",
              "2        現在終於要揭露真相，你們引頸盼望的真相！其實根本還好\n",
              "3          我們受邀到板前壽司拍一場秀把巨大的鮪魚大卸八塊！\n",
              "4             我們都非常興奮，那位戴著兔耳朵的仁兄也是。\n",
              "...                             ...\n",
              "1020444                      想學畫畫嗎？\n",
              "1020445            是什麼讓你興奮？是什麼點燃了你？\n",
              "1020446            出去做那件事。只需要20個小時。\n",
              "1020447                       玩得開心點\n",
              "1020448                        (掌聲)\n",
              "\n",
              "[1020449 rows x 1 columns]"
            ]
          },
          "metadata": {
            "tags": []
          },
          "execution_count": 61
        }
      ]
    },
    {
      "cell_type": "code",
      "metadata": {
        "id": "cBrc3mod0fHH",
        "colab": {
          "base_uri": "https://localhost:8080/"
        },
        "outputId": "3e764c62-3e83-4c33-aaf8-9521338ec7a1"
      },
      "source": [
        "len(df_zh)"
      ],
      "execution_count": 52,
      "outputs": [
        {
          "output_type": "execute_result",
          "data": {
            "text/plain": [
              "1020449"
            ]
          },
          "metadata": {
            "tags": []
          },
          "execution_count": 52
        }
      ]
    },
    {
      "cell_type": "code",
      "metadata": {
        "id": "VC1mBpo5ls0J",
        "colab": {
          "base_uri": "https://localhost:8080/",
          "height": 423
        },
        "outputId": "7fac240e-cf92-4865-bb8f-cf18456a44b3"
      },
      "source": [
        "df_en_zh = pd.concat([df_en, df_zh], axis=1)\n",
        "\n",
        "df_en_zh"
      ],
      "execution_count": 62,
      "outputs": [
        {
          "output_type": "execute_result",
          "data": {
            "text/html": [
              "<div>\n",
              "<style scoped>\n",
              "    .dataframe tbody tr th:only-of-type {\n",
              "        vertical-align: middle;\n",
              "    }\n",
              "\n",
              "    .dataframe tbody tr th {\n",
              "        vertical-align: top;\n",
              "    }\n",
              "\n",
              "    .dataframe thead th {\n",
              "        text-align: right;\n",
              "    }\n",
              "</style>\n",
              "<table border=\"1\" class=\"dataframe\">\n",
              "  <thead>\n",
              "    <tr style=\"text-align: right;\">\n",
              "      <th></th>\n",
              "      <th>en</th>\n",
              "      <th>zh</th>\n",
              "    </tr>\n",
              "  </thead>\n",
              "  <tbody>\n",
              "    <tr>\n",
              "      <th>0</th>\n",
              "      <td>Oh my God, it's still moving!!</td>\n",
              "      <td>我的老天，它還在動！</td>\n",
              "    </tr>\n",
              "    <tr>\n",
              "      <th>1</th>\n",
              "      <td>Hey, everyone, welcome to this new 2-minute Ja...</td>\n",
              "      <td>嗨大家好，歡迎來到新一集的兩分鐘看日本！</td>\n",
              "    </tr>\n",
              "    <tr>\n",
              "      <th>2</th>\n",
              "      <td>Now, it's time to reveal the truth, the one yo...</td>\n",
              "      <td>現在終於要揭露真相，你們引頸盼望的真相！其實根本還好</td>\n",
              "    </tr>\n",
              "    <tr>\n",
              "      <th>3</th>\n",
              "      <td>We got invited by Itamae Sushi to film a reall...</td>\n",
              "      <td>我們受邀到板前壽司拍一場秀把巨大的鮪魚大卸八塊！</td>\n",
              "    </tr>\n",
              "    <tr>\n",
              "      <th>4</th>\n",
              "      <td>We were really excited and so was this guy wit...</td>\n",
              "      <td>我們都非常興奮，那位戴著兔耳朵的仁兄也是。</td>\n",
              "    </tr>\n",
              "    <tr>\n",
              "      <th>...</th>\n",
              "      <td>...</td>\n",
              "      <td>...</td>\n",
              "    </tr>\n",
              "    <tr>\n",
              "      <th>1020444</th>\n",
              "      <td>Want to learn how to draw?</td>\n",
              "      <td>想學畫畫嗎？</td>\n",
              "    </tr>\n",
              "    <tr>\n",
              "      <th>1020445</th>\n",
              "      <td>What turns you on? What lights you up?</td>\n",
              "      <td>是什麼讓你興奮？是什麼點燃了你？</td>\n",
              "    </tr>\n",
              "    <tr>\n",
              "      <th>1020446</th>\n",
              "      <td>Go out and do that thing. It only takes 20 hours.</td>\n",
              "      <td>出去做那件事。只需要20個小時。</td>\n",
              "    </tr>\n",
              "    <tr>\n",
              "      <th>1020447</th>\n",
              "      <td>Have fun.</td>\n",
              "      <td>玩得開心點</td>\n",
              "    </tr>\n",
              "    <tr>\n",
              "      <th>1020448</th>\n",
              "      <td>(Applause)</td>\n",
              "      <td>(掌聲)</td>\n",
              "    </tr>\n",
              "  </tbody>\n",
              "</table>\n",
              "<p>1020449 rows × 2 columns</p>\n",
              "</div>"
            ],
            "text/plain": [
              "                                                        en                          zh\n",
              "0                           Oh my God, it's still moving!!                  我的老天，它還在動！\n",
              "1        Hey, everyone, welcome to this new 2-minute Ja...        嗨大家好，歡迎來到新一集的兩分鐘看日本！\n",
              "2        Now, it's time to reveal the truth, the one yo...  現在終於要揭露真相，你們引頸盼望的真相！其實根本還好\n",
              "3        We got invited by Itamae Sushi to film a reall...    我們受邀到板前壽司拍一場秀把巨大的鮪魚大卸八塊！\n",
              "4        We were really excited and so was this guy wit...       我們都非常興奮，那位戴著兔耳朵的仁兄也是。\n",
              "...                                                    ...                         ...\n",
              "1020444                         Want to learn how to draw?                      想學畫畫嗎？\n",
              "1020445             What turns you on? What lights you up?            是什麼讓你興奮？是什麼點燃了你？\n",
              "1020446  Go out and do that thing. It only takes 20 hours.            出去做那件事。只需要20個小時。\n",
              "1020447                                          Have fun.                       玩得開心點\n",
              "1020448                                         (Applause)                        (掌聲)\n",
              "\n",
              "[1020449 rows x 2 columns]"
            ]
          },
          "metadata": {
            "tags": []
          },
          "execution_count": 62
        }
      ]
    },
    {
      "cell_type": "markdown",
      "metadata": {
        "id": "mOBL4TInl2-v"
      },
      "source": [
        "###Remove Nan Dataset"
      ]
    },
    {
      "cell_type": "code",
      "metadata": {
        "id": "L368j6Ttlyl-"
      },
      "source": [
        "df_en_zh.dropna(inplace=True)"
      ],
      "execution_count": null,
      "outputs": []
    },
    {
      "cell_type": "code",
      "metadata": {
        "id": "LvGvCiLZlyow",
        "colab": {
          "base_uri": "https://localhost:8080/",
          "height": 419
        },
        "outputId": "9e6b71e1-2b68-4da1-a80d-a955e102c207"
      },
      "source": [
        "df_en_zh"
      ],
      "execution_count": null,
      "outputs": [
        {
          "output_type": "execute_result",
          "data": {
            "text/html": [
              "<div>\n",
              "<style scoped>\n",
              "    .dataframe tbody tr th:only-of-type {\n",
              "        vertical-align: middle;\n",
              "    }\n",
              "\n",
              "    .dataframe tbody tr th {\n",
              "        vertical-align: top;\n",
              "    }\n",
              "\n",
              "    .dataframe thead th {\n",
              "        text-align: right;\n",
              "    }\n",
              "</style>\n",
              "<table border=\"1\" class=\"dataframe\">\n",
              "  <thead>\n",
              "    <tr style=\"text-align: right;\">\n",
              "      <th></th>\n",
              "      <th>en</th>\n",
              "      <th>zh</th>\n",
              "    </tr>\n",
              "  </thead>\n",
              "  <tbody>\n",
              "    <tr>\n",
              "      <th>0</th>\n",
              "      <td>Oh my God, it's still moving!!</td>\n",
              "      <td>我的老天，它還在動！</td>\n",
              "    </tr>\n",
              "    <tr>\n",
              "      <th>1</th>\n",
              "      <td>Hey, everyone, welcome to this new 2-minute Ja...</td>\n",
              "      <td>嗨大家好，歡迎來到新一集的「兩分鐘看日本」！</td>\n",
              "    </tr>\n",
              "    <tr>\n",
              "      <th>2</th>\n",
              "      <td>Now, it's time to reveal the truth, the one yo...</td>\n",
              "      <td>現在終於要揭露真相，你們引頸盼望的真相！其實根本還好...</td>\n",
              "    </tr>\n",
              "    <tr>\n",
              "      <th>3</th>\n",
              "      <td>We got invited by Itamae Sushi to film a reall...</td>\n",
              "      <td>我們受邀到板前壽司拍一場秀——把巨大的鮪魚大卸八塊！</td>\n",
              "    </tr>\n",
              "    <tr>\n",
              "      <th>4</th>\n",
              "      <td>We were really excited and so was this guy wit...</td>\n",
              "      <td>我們都非常興奮，那位戴著兔耳朵的仁兄也是。</td>\n",
              "    </tr>\n",
              "    <tr>\n",
              "      <th>...</th>\n",
              "      <td>...</td>\n",
              "      <td>...</td>\n",
              "    </tr>\n",
              "    <tr>\n",
              "      <th>1020444</th>\n",
              "      <td>Want to learn how to draw?</td>\n",
              "      <td>想學畫畫嗎？</td>\n",
              "    </tr>\n",
              "    <tr>\n",
              "      <th>1020445</th>\n",
              "      <td>What turns you on? What lights you up?</td>\n",
              "      <td>是什麼讓你興奮？是什麼點燃了你？</td>\n",
              "    </tr>\n",
              "    <tr>\n",
              "      <th>1020446</th>\n",
              "      <td>Go out and do that thing. It only takes 20 hours.</td>\n",
              "      <td>出去做那件事。只需要20個小時。</td>\n",
              "    </tr>\n",
              "    <tr>\n",
              "      <th>1020447</th>\n",
              "      <td>Have fun.</td>\n",
              "      <td>玩得開心點</td>\n",
              "    </tr>\n",
              "    <tr>\n",
              "      <th>1020448</th>\n",
              "      <td>(Applause)</td>\n",
              "      <td>(掌聲)</td>\n",
              "    </tr>\n",
              "  </tbody>\n",
              "</table>\n",
              "<p>1020449 rows × 2 columns</p>\n",
              "</div>"
            ],
            "text/plain": [
              "                                                        en                             zh\n",
              "0                           Oh my God, it's still moving!!                     我的老天，它還在動！\n",
              "1        Hey, everyone, welcome to this new 2-minute Ja...         嗨大家好，歡迎來到新一集的「兩分鐘看日本」！\n",
              "2        Now, it's time to reveal the truth, the one yo...  現在終於要揭露真相，你們引頸盼望的真相！其實根本還好...\n",
              "3        We got invited by Itamae Sushi to film a reall...     我們受邀到板前壽司拍一場秀——把巨大的鮪魚大卸八塊！\n",
              "4        We were really excited and so was this guy wit...          我們都非常興奮，那位戴著兔耳朵的仁兄也是。\n",
              "...                                                    ...                            ...\n",
              "1020444                         Want to learn how to draw?                         想學畫畫嗎？\n",
              "1020445             What turns you on? What lights you up?               是什麼讓你興奮？是什麼點燃了你？\n",
              "1020446  Go out and do that thing. It only takes 20 hours.               出去做那件事。只需要20個小時。\n",
              "1020447                                          Have fun.                          玩得開心點\n",
              "1020448                                         (Applause)                           (掌聲)\n",
              "\n",
              "[1020449 rows x 2 columns]"
            ]
          },
          "metadata": {
            "tags": []
          },
          "execution_count": 14
        }
      ]
    },
    {
      "cell_type": "markdown",
      "metadata": {
        "id": "CyXof1C2mAxi"
      },
      "source": [
        "###Filter Length"
      ]
    },
    {
      "cell_type": "code",
      "metadata": {
        "id": "7fJBTjfi39Ir"
      },
      "source": [
        "# import  jieba"
      ],
      "execution_count": null,
      "outputs": []
    },
    {
      "cell_type": "code",
      "metadata": {
        "id": "9ZSMwXut3-oT"
      },
      "source": [
        "english = []\n",
        "chinese = []\n",
        "\n",
        "for i in range(0,len(df_en_zh)):\n",
        "  if len(df_en_zh['en'][i].split()) > 6:\n",
        "    if len(df_en_zh['zh'][i]) > 6:\n",
        "      english.append(df_en_zh['en'][i])\n",
        "      chinese.append(df_en_zh['zh'][i])"
      ],
      "execution_count": null,
      "outputs": []
    },
    {
      "cell_type": "code",
      "metadata": {
        "id": "KoOgrb7smPsk",
        "colab": {
          "base_uri": "https://localhost:8080/"
        },
        "outputId": "1b443a29-9a2d-46f0-b212-1417bc2a3788"
      },
      "source": [
        "len(english), len(chinese)"
      ],
      "execution_count": null,
      "outputs": [
        {
          "output_type": "execute_result",
          "data": {
            "text/plain": [
              "(824948, 824948)"
            ]
          },
          "metadata": {
            "tags": []
          },
          "execution_count": 16
        }
      ]
    },
    {
      "cell_type": "code",
      "metadata": {
        "id": "4OM-1GpjmToD",
        "colab": {
          "base_uri": "https://localhost:8080/",
          "height": 419
        },
        "outputId": "e5768373-8846-40f4-d11d-ba1b03d8940b"
      },
      "source": [
        "df_eng = pd.DataFrame(english, columns =['en'])\n",
        "df_chi = pd.DataFrame(chinese, columns =['zh'])\n",
        "\n",
        "df_en_zh2 = pd.concat([df_eng, df_chi], axis=1)\n",
        "df_en_zh2"
      ],
      "execution_count": null,
      "outputs": [
        {
          "output_type": "execute_result",
          "data": {
            "text/html": [
              "<div>\n",
              "<style scoped>\n",
              "    .dataframe tbody tr th:only-of-type {\n",
              "        vertical-align: middle;\n",
              "    }\n",
              "\n",
              "    .dataframe tbody tr th {\n",
              "        vertical-align: top;\n",
              "    }\n",
              "\n",
              "    .dataframe thead th {\n",
              "        text-align: right;\n",
              "    }\n",
              "</style>\n",
              "<table border=\"1\" class=\"dataframe\">\n",
              "  <thead>\n",
              "    <tr style=\"text-align: right;\">\n",
              "      <th></th>\n",
              "      <th>en</th>\n",
              "      <th>zh</th>\n",
              "    </tr>\n",
              "  </thead>\n",
              "  <tbody>\n",
              "    <tr>\n",
              "      <th>0</th>\n",
              "      <td>Oh my God, it's still moving!!</td>\n",
              "      <td>我的老天，它還在動！</td>\n",
              "    </tr>\n",
              "    <tr>\n",
              "      <th>1</th>\n",
              "      <td>Hey, everyone, welcome to this new 2-minute Ja...</td>\n",
              "      <td>嗨大家好，歡迎來到新一集的「兩分鐘看日本」！</td>\n",
              "    </tr>\n",
              "    <tr>\n",
              "      <th>2</th>\n",
              "      <td>Now, it's time to reveal the truth, the one yo...</td>\n",
              "      <td>現在終於要揭露真相，你們引頸盼望的真相！其實根本還好...</td>\n",
              "    </tr>\n",
              "    <tr>\n",
              "      <th>3</th>\n",
              "      <td>We got invited by Itamae Sushi to film a reall...</td>\n",
              "      <td>我們受邀到板前壽司拍一場秀——把巨大的鮪魚大卸八塊！</td>\n",
              "    </tr>\n",
              "    <tr>\n",
              "      <th>4</th>\n",
              "      <td>We were really excited and so was this guy wit...</td>\n",
              "      <td>我們都非常興奮，那位戴著兔耳朵的仁兄也是。</td>\n",
              "    </tr>\n",
              "    <tr>\n",
              "      <th>...</th>\n",
              "      <td>...</td>\n",
              "      <td>...</td>\n",
              "    </tr>\n",
              "    <tr>\n",
              "      <th>824943</th>\n",
              "      <td>It doesn't matter. What do you want to learn?</td>\n",
              "      <td>這不重要。你想學什麼？</td>\n",
              "    </tr>\n",
              "    <tr>\n",
              "      <th>824944</th>\n",
              "      <td>Do you want to learn a language? Want to learn...</td>\n",
              "      <td>你想學習一門語言嗎？想學做飯嗎？</td>\n",
              "    </tr>\n",
              "    <tr>\n",
              "      <th>824945</th>\n",
              "      <td>Want to learn how to draw?</td>\n",
              "      <td>想學畫畫嗎？</td>\n",
              "    </tr>\n",
              "    <tr>\n",
              "      <th>824946</th>\n",
              "      <td>What turns you on? What lights you up?</td>\n",
              "      <td>是什麼讓你興奮？是什麼點燃了你？</td>\n",
              "    </tr>\n",
              "    <tr>\n",
              "      <th>824947</th>\n",
              "      <td>Go out and do that thing. It only takes 20 hours.</td>\n",
              "      <td>出去做那件事。只需要20個小時。</td>\n",
              "    </tr>\n",
              "  </tbody>\n",
              "</table>\n",
              "<p>824948 rows × 2 columns</p>\n",
              "</div>"
            ],
            "text/plain": [
              "                                                       en                             zh\n",
              "0                          Oh my God, it's still moving!!                     我的老天，它還在動！\n",
              "1       Hey, everyone, welcome to this new 2-minute Ja...         嗨大家好，歡迎來到新一集的「兩分鐘看日本」！\n",
              "2       Now, it's time to reveal the truth, the one yo...  現在終於要揭露真相，你們引頸盼望的真相！其實根本還好...\n",
              "3       We got invited by Itamae Sushi to film a reall...     我們受邀到板前壽司拍一場秀——把巨大的鮪魚大卸八塊！\n",
              "4       We were really excited and so was this guy wit...          我們都非常興奮，那位戴著兔耳朵的仁兄也是。\n",
              "...                                                   ...                            ...\n",
              "824943      It doesn't matter. What do you want to learn?                    這不重要。你想學什麼？\n",
              "824944  Do you want to learn a language? Want to learn...               你想學習一門語言嗎？想學做飯嗎？\n",
              "824945                         Want to learn how to draw?                         想學畫畫嗎？\n",
              "824946             What turns you on? What lights you up?               是什麼讓你興奮？是什麼點燃了你？\n",
              "824947  Go out and do that thing. It only takes 20 hours.               出去做那件事。只需要20個小時。\n",
              "\n",
              "[824948 rows x 2 columns]"
            ]
          },
          "metadata": {
            "tags": []
          },
          "execution_count": 17
        }
      ]
    },
    {
      "cell_type": "markdown",
      "metadata": {
        "id": "HLYyuMpGmoF1"
      },
      "source": [
        "###Filter Language"
      ]
    },
    {
      "cell_type": "code",
      "metadata": {
        "id": "-i8KA99DmcnU"
      },
      "source": [
        "from langdetect import detect"
      ],
      "execution_count": null,
      "outputs": []
    },
    {
      "cell_type": "code",
      "metadata": {
        "id": "Slz3NZl0mzTD",
        "colab": {
          "base_uri": "https://localhost:8080/"
        },
        "outputId": "3a033e51-5b42-4314-89e0-a28c9ff3cf49"
      },
      "source": [
        "english = []\n",
        "chinese = []\n",
        "no_en = []\n",
        "no_zh = []\n",
        "\n",
        "for i in range(0,len(df_en_zh2)):\n",
        "  try:\n",
        "    if detect(df_en_zh2['en'][i]) == 'en':\n",
        "      if detect(df_en_zh2['zh'][i]) == 'zh-tw':\n",
        "        english.append(df_en_zh2['en'][i])\n",
        "        chinese.append(df_en_zh2['zh'][i])\n",
        "      else:\n",
        "        no_en.append(df_en_zh2['en'][i])\n",
        "        no_zh.append(df_en_zh2['zh'][i])\n",
        "  except:\n",
        "    print(i)"
      ],
      "execution_count": null,
      "outputs": [
        {
          "output_type": "stream",
          "text": [
            "82754\n",
            "83280\n",
            "111569\n",
            "120798\n",
            "120802\n",
            "124272\n",
            "124274\n",
            "130759\n",
            "130760\n",
            "134951\n",
            "148033\n",
            "149839\n",
            "150732\n",
            "150742\n",
            "155773\n",
            "156653\n",
            "166067\n",
            "168531\n",
            "174418\n",
            "174442\n",
            "197927\n",
            "197929\n",
            "266090\n",
            "278219\n",
            "278366\n"
          ],
          "name": "stdout"
        }
      ]
    },
    {
      "cell_type": "code",
      "metadata": {
        "id": "jPqYvlikm1W2"
      },
      "source": [
        "len(english), len(chinese)"
      ],
      "execution_count": null,
      "outputs": []
    },
    {
      "cell_type": "code",
      "metadata": {
        "id": "oFE6t6chm29h"
      },
      "source": [
        "df_eng = pd.DataFrame(english, columns =['en'])\n",
        "df_chi = pd.DataFrame(chinese, columns =['zh'])\n",
        "\n",
        "df_en_zh3 = pd.concat([df_eng, df_chi], axis=1)\n",
        "df_en_zh3"
      ],
      "execution_count": null,
      "outputs": []
    },
    {
      "cell_type": "markdown",
      "metadata": {
        "id": "KpX7hRGa4lkf"
      },
      "source": [
        "###Remove Duplicate Sentences"
      ]
    },
    {
      "cell_type": "code",
      "metadata": {
        "id": "hJQonVLq4lFC"
      },
      "source": [
        "df_en_zh3 = df_en_zh3.drop_duplicates(ignore_index=True)\n",
        "df_en_zh3"
      ],
      "execution_count": null,
      "outputs": []
    },
    {
      "cell_type": "code",
      "metadata": {
        "id": "3wZQEEap4xbG"
      },
      "source": [
        "len(df_en_zh3)"
      ],
      "execution_count": null,
      "outputs": []
    },
    {
      "cell_type": "markdown",
      "metadata": {
        "id": "s9v1gJW744Ao"
      },
      "source": [
        "###chinese length between -10% until 55% of the english length"
      ]
    },
    {
      "cell_type": "code",
      "metadata": {
        "id": "iUSz4lD_48-C"
      },
      "source": [
        "english = []\n",
        "chinese = []\n",
        "\n",
        "#source: english, target: chinese\n",
        "for i in range(0,len(df_en_zh3)):\n",
        "  en_length = len(df_en_zh3['en'][i].split())\n",
        "  zh_length = len(df_en_zh3['zh'][i])\n",
        "  en_length_1 = en_length - en_length*0.1\n",
        "  en_length_2 = en_length + en_length*0.55     \n",
        "\n",
        "\n",
        "  if (en_length_1 < zh_length < en_length_2):\n",
        "      english.append(df_en_zh3['en'][i])\n",
        "      chinese.append(df_en_zh3['zh'][i])"
      ],
      "execution_count": null,
      "outputs": []
    },
    {
      "cell_type": "code",
      "metadata": {
        "id": "-XASR2Sh5PN0"
      },
      "source": [
        "len(english), len(chinese)"
      ],
      "execution_count": null,
      "outputs": []
    },
    {
      "cell_type": "code",
      "metadata": {
        "id": "1sBQnWPt5R3T"
      },
      "source": [
        "df_eng = pd.DataFrame(english, columns =['en'])\n",
        "df_chi = pd.DataFrame(chinese, columns =['zh'])\n",
        "\n",
        "df_en_zh4 = pd.concat([df_eng, df_chi], axis=1)\n",
        "df_en_zh4"
      ],
      "execution_count": null,
      "outputs": []
    },
    {
      "cell_type": "code",
      "metadata": {
        "id": "Jgl2rv4VLjjd"
      },
      "source": [
        "df_eng"
      ],
      "execution_count": null,
      "outputs": []
    },
    {
      "cell_type": "code",
      "metadata": {
        "id": "PbxwHf7WLk_o"
      },
      "source": [
        "df_chi"
      ],
      "execution_count": null,
      "outputs": []
    },
    {
      "cell_type": "markdown",
      "metadata": {
        "id": "jWaJM82Po7ny"
      },
      "source": [
        "###Download Dataset"
      ]
    },
    {
      "cell_type": "code",
      "metadata": {
        "id": "Xz295tdyMMVJ"
      },
      "source": [
        "df_eng.to_csv(r'en_all_new.csv' , index = False)\n",
        "df_chi.to_csv(r'zh_all_new.csv' , index = False)\n",
        "df_en_zh4.to_csv(r'en_zh_all_new.csv' , index = False)"
      ],
      "execution_count": null,
      "outputs": []
    },
    {
      "cell_type": "code",
      "metadata": {
        "id": "eLH_x0cUfzQn"
      },
      "source": [
        "from google.colab import files\n",
        "\n",
        "files.download(\"en_all_new.csv\")\n",
        "files.download(\"zh_all_new.csv\")\n",
        "files.download(\"en_zh_all_new.csv\")"
      ],
      "execution_count": null,
      "outputs": []
    },
    {
      "cell_type": "markdown",
      "metadata": {
        "id": "uQQSn_KknGRm"
      },
      "source": [
        "###Creat Dictionary"
      ]
    },
    {
      "cell_type": "code",
      "metadata": {
        "id": "DHwB3c91m-sx",
        "colab": {
          "base_uri": "https://localhost:8080/",
          "height": 35
        },
        "outputId": "df61bbfc-ad5c-4b1b-d3ad-a25fb377d172"
      },
      "source": [
        "# Convert the DataFrame to Series\n",
        "'''\n",
        "dictionaryObject = df_en_zh4.to_dict('record')\n",
        "dictionaryObject\n",
        "'''"
      ],
      "execution_count": null,
      "outputs": [
        {
          "output_type": "execute_result",
          "data": {
            "application/vnd.google.colaboratory.intrinsic+json": {
              "type": "string"
            },
            "text/plain": [
              "\"\\ndictionaryObject = df_en_zh4.to_dict('record')\\ndictionaryObject\\n\""
            ]
          },
          "metadata": {
            "tags": []
          },
          "execution_count": 33
        }
      ]
    },
    {
      "cell_type": "code",
      "metadata": {
        "id": "yqCLIvTanB4r",
        "colab": {
          "base_uri": "https://localhost:8080/",
          "height": 35
        },
        "outputId": "31e750b2-0012-4f43-f114-108fb478e813"
      },
      "source": [
        "'''\n",
        "z_dic={}\n",
        "z_dic['translation'] = dictionaryObject\n",
        "dff = pd.DataFrame( data = z_dic )\n",
        "td = Dataset.from_dict( dff )\n",
        "\n",
        "td\n",
        "'''"
      ],
      "execution_count": null,
      "outputs": [
        {
          "output_type": "execute_result",
          "data": {
            "application/vnd.google.colaboratory.intrinsic+json": {
              "type": "string"
            },
            "text/plain": [
              "\"\\nz_dic={}\\nz_dic['translation'] = dictionaryObject\\ndff = pd.DataFrame( data = z_dic )\\ntd = Dataset.from_dict( dff )\\n\\ntd\\n\""
            ]
          },
          "metadata": {
            "tags": []
          },
          "execution_count": 34
        }
      ]
    }
  ]
}