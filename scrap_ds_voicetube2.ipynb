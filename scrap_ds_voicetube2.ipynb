{
  "nbformat": 4,
  "nbformat_minor": 0,
  "metadata": {
    "colab": {
      "name": "scrap_ds_voicetube.ipynb",
      "provenance": [],
      "collapsed_sections": [
        "d1jvnZtwduGs"
      ],
      "authorship_tag": "ABX9TyP8ccSFeyNxzRTNPOWQo5lW",
      "include_colab_link": true
    },
    "kernelspec": {
      "name": "python3",
      "display_name": "Python 3"
    },
    "language_info": {
      "name": "python"
    }
  },
  "cells": [
    {
      "cell_type": "markdown",
      "metadata": {
        "id": "view-in-github",
        "colab_type": "text"
      },
      "source": [
        "<a href=\"https://colab.research.google.com/github/ReynaQuita/NLP/blob/main/scrap_ds_voicetube2.ipynb\" target=\"_parent\"><img src=\"https://colab.research.google.com/assets/colab-badge.svg\" alt=\"Open In Colab\"/></a>"
      ]
    },
    {
      "cell_type": "code",
      "metadata": {
        "colab": {
          "base_uri": "https://localhost:8080/"
        },
        "id": "J5Nit54Xsnt5",
        "outputId": "5906d14b-d16c-40ee-ad7a-36c6d1f310a8"
      },
      "source": [
        "! pip install requests"
      ],
      "execution_count": 10,
      "outputs": [
        {
          "output_type": "stream",
          "name": "stdout",
          "text": [
            "Requirement already satisfied: requests in /usr/local/lib/python3.7/dist-packages (2.23.0)\n",
            "Requirement already satisfied: chardet<4,>=3.0.2 in /usr/local/lib/python3.7/dist-packages (from requests) (3.0.4)\n",
            "Requirement already satisfied: idna<3,>=2.5 in /usr/local/lib/python3.7/dist-packages (from requests) (2.10)\n",
            "Requirement already satisfied: urllib3!=1.25.0,!=1.25.1,<1.26,>=1.21.1 in /usr/local/lib/python3.7/dist-packages (from requests) (1.24.3)\n",
            "Requirement already satisfied: certifi>=2017.4.17 in /usr/local/lib/python3.7/dist-packages (from requests) (2021.5.30)\n"
          ]
        }
      ]
    },
    {
      "cell_type": "code",
      "metadata": {
        "id": "D-VrXEdm6qp9"
      },
      "source": [
        "from bs4 import BeautifulSoup\n",
        "# from urllib.request import urlopen\n",
        "import re\n",
        "# from socket import timeout\n",
        "import requests\n"
      ],
      "execution_count": 11,
      "outputs": []
    },
    {
      "cell_type": "code",
      "metadata": {
        "colab": {
          "base_uri": "https://localhost:8080/"
        },
        "id": "MGGIIOaKZptu",
        "outputId": "f1729d6a-6377-462d-c265-2eb39ff97770"
      },
      "source": [
        "from google.colab import drive\n",
        "drive.mount('/content/MyDrive')"
      ],
      "execution_count": 12,
      "outputs": [
        {
          "output_type": "stream",
          "name": "stdout",
          "text": [
            "Drive already mounted at /content/MyDrive; to attempt to forcibly remount, call drive.mount(\"/content/MyDrive\", force_remount=True).\n"
          ]
        }
      ]
    },
    {
      "cell_type": "code",
      "metadata": {
        "id": "HIp4KTvMaPjm"
      },
      "source": [
        "my_file = open(\"/content/MyDrive/MyDrive/paper/new/Yi-Chun/Dataset/voicetube/kids/kids_links.txt\", \"r\")\n",
        "content = my_file.read()"
      ],
      "execution_count": 13,
      "outputs": []
    },
    {
      "cell_type": "code",
      "metadata": {
        "colab": {
          "base_uri": "https://localhost:8080/"
        },
        "id": "M3Xk9J4FatX0",
        "outputId": "e4b95337-feb3-4a1a-c981-3bd4e0beaa61"
      },
      "source": [
        "content_list = content.split(\"\\n\")\n",
        "my_file.close()\n",
        "print(content_list)"
      ],
      "execution_count": 14,
      "outputs": [
        {
          "output_type": "stream",
          "name": "stdout",
          "text": [
            "['https://tw.voicetube.com/videos/33754/print', 'https://tw.voicetube.com/videos/33791/print', 'https://tw.voicetube.com/videos/33510/print', 'https://tw.voicetube.com/videos/33370/print', 'https://tw.voicetube.com/videos/71519/print', 'https://tw.voicetube.com/videos/72723/print', 'https://tw.voicetube.com/videos/132301/print', 'https://tw.voicetube.com/videos/143617/print', 'https://tw.voicetube.com/videos/159208/print', 'https://tw.voicetube.com/videos/158957/print', 'https://tw.voicetube.com/videos/82782/print', 'https://tw.voicetube.com/videos/159517/print', 'https://tw.voicetube.com/videos/159064/print', 'https://tw.voicetube.com/videos/159418/print', 'https://tw.voicetube.com/videos/64535/print', 'https://tw.voicetube.com/videos/64868/print', 'https://tw.voicetube.com/videos/157787/print', 'https://tw.voicetube.com/videos/158667/print', 'https://tw.voicetube.com/videos/158498/print', 'https://tw.voicetube.com/videos/65388/print', 'https://tw.voicetube.com/videos/54616/print', 'https://tw.voicetube.com/videos/64867/print', 'https://tw.voicetube.com/videos/66496/print', 'https://tw.voicetube.com/videos/67478/print', 'https://tw.voicetube.com/videos/132922/print', 'https://tw.voicetube.com/videos/152042/print', 'https://tw.voicetube.com/videos/152099/print', 'https://tw.voicetube.com/videos/150631/print', 'https://tw.voicetube.com/videos/83676/print', 'https://tw.voicetube.com/videos/82780/print', 'https://tw.voicetube.com/videos/82772/print', 'https://tw.voicetube.com/videos/74982/print', 'https://tw.voicetube.com/videos/71696/print', 'https://tw.voicetube.com/videos/64869/print', 'https://tw.voicetube.com/videos/52911/print', 'https://tw.voicetube.com/videos/50077/print', 'https://tw.voicetube.com/videos/42989/print', 'https://tw.voicetube.com/videos/40840/print', 'https://tw.voicetube.com/videos/40837/print', 'https://tw.voicetube.com/videos/36840/print', 'https://tw.voicetube.com/videos/34984/print', 'https://tw.voicetube.com/videos/32338/print', 'https://tw.voicetube.com/videos/31199/print', 'https://tw.voicetube.com/videos/27436/print', 'https://tw.voicetube.com/videos/25382/print', 'https://tw.voicetube.com/videos/24743/print', 'https://tw.voicetube.com/videos/50708/print', 'https://tw.voicetube.com/videos/145139/print', 'https://tw.voicetube.com/videos/32588/print', 'https://tw.voicetube.com/videos/123861/print', 'https://tw.voicetube.com/videos/83488/print', 'https://tw.voicetube.com/videos/94601/print', 'https://tw.voicetube.com/videos/125634/print', 'https://tw.voicetube.com/videos/125633/print', 'https://tw.voicetube.com/videos/82880/print', 'https://tw.voicetube.com/videos/84521/print', 'https://tw.voicetube.com/videos/84406/print', 'https://tw.voicetube.com/videos/82573/print', 'https://tw.voicetube.com/videos/77915/print', 'https://tw.voicetube.com/videos/81082/print', 'https://tw.voicetube.com/videos/77627/print', 'https://tw.voicetube.com/videos/76580/print', 'https://tw.voicetube.com/videos/76874/print', 'https://tw.voicetube.com/videos/77225/print', 'https://tw.voicetube.com/videos/77223/print', 'https://tw.voicetube.com/videos/77222/print', 'https://tw.voicetube.com/videos/76618/print', 'https://tw.voicetube.com/videos/76191/print', 'https://tw.voicetube.com/videos/75837/print', 'https://tw.voicetube.com/videos/76416/print', 'https://tw.voicetube.com/videos/76581/print', 'https://tw.voicetube.com/videos/75522/print', 'https://tw.voicetube.com/videos/75907/print', 'https://tw.voicetube.com/videos/75632/print', 'https://tw.voicetube.com/videos/75612/print', 'https://tw.voicetube.com/videos/75998/print', 'https://tw.voicetube.com/videos/74243/print', 'https://tw.voicetube.com/videos/74486/print', 'https://tw.voicetube.com/videos/74237/print', 'https://tw.voicetube.com/videos/74241/print', 'https://tw.voicetube.com/videos/73980/print', 'https://tw.voicetube.com/videos/74318/print', 'https://tw.voicetube.com/videos/29092/print', 'https://tw.voicetube.com/videos/29096/print', 'https://tw.voicetube.com/videos/71976/print', 'https://tw.voicetube.com/videos/29081/print', 'https://tw.voicetube.com/videos/70537/print', 'https://tw.voicetube.com/videos/72015/print', 'https://tw.voicetube.com/videos/24721/print', 'https://tw.voicetube.com/videos/72299/print', 'https://tw.voicetube.com/videos/72135/print', 'https://tw.voicetube.com/videos/54794/print', 'https://tw.voicetube.com/videos/71490/print', 'https://tw.voicetube.com/videos/71518/print', 'https://tw.voicetube.com/videos/71521/print', 'https://tw.voicetube.com/videos/71348/print', 'https://tw.voicetube.com/videos/71347/print', 'https://tw.voicetube.com/videos/71345/print', 'https://tw.voicetube.com/videos/71344/print', 'https://tw.voicetube.com/videos/71145/print', 'https://tw.voicetube.com/videos/71144/print', 'https://tw.voicetube.com/videos/71143/print', 'https://tw.voicetube.com/videos/70994/print', 'https://tw.voicetube.com/videos/70993/print', 'https://tw.voicetube.com/videos/70992/print', 'https://tw.voicetube.com/videos/70989/print', 'https://tw.voicetube.com/videos/70987/print', 'https://tw.voicetube.com/videos/70831/print', 'https://tw.voicetube.com/videos/70318/print', 'https://tw.voicetube.com/videos/70208/print', 'https://tw.voicetube.com/videos/70206/print', 'https://tw.voicetube.com/videos/70204/print', 'https://tw.voicetube.com/videos/69864/print', 'https://tw.voicetube.com/videos/66500/print', 'https://tw.voicetube.com/videos/69488/print', 'https://tw.voicetube.com/videos/68614/print', 'https://tw.voicetube.com/videos/68314/print', 'https://tw.voicetube.com/videos/67155/print', 'https://tw.voicetube.com/videos/64870/print', 'https://tw.voicetube.com/videos/65184/print', 'https://tw.voicetube.com/videos/65134/print', 'https://tw.voicetube.com/videos/59479/print', 'https://tw.voicetube.com/videos/52240/print', 'https://tw.voicetube.com/videos/61440/print', 'https://tw.voicetube.com/videos/25746/print', 'https://tw.voicetube.com/videos/53898/print', 'https://tw.voicetube.com/videos/48333/print', 'https://tw.voicetube.com/videos/53686/print', 'https://tw.voicetube.com/videos/53680/print', 'https://tw.voicetube.com/videos/53679/print', 'https://tw.voicetube.com/videos/53678/print', 'https://tw.voicetube.com/videos/53677/print', 'https://tw.voicetube.com/videos/53676/print', 'https://tw.voicetube.com/videos/53675/print', 'https://tw.voicetube.com/videos/53674/print', 'https://tw.voicetube.com/videos/53673/print', 'https://tw.voicetube.com/videos/53672/print', 'https://tw.voicetube.com/videos/53671/print', 'https://tw.voicetube.com/videos/30515/print', 'https://tw.voicetube.com/videos/53176/print', 'https://tw.voicetube.com/videos/52781/print', 'https://tw.voicetube.com/videos/29091/print', 'https://tw.voicetube.com/videos/52760/print', 'https://tw.voicetube.com/videos/52751/print', 'https://tw.voicetube.com/videos/52750/print', 'https://tw.voicetube.com/videos/52313/print', 'https://tw.voicetube.com/videos/52139/print', 'https://tw.voicetube.com/videos/29088/print', 'https://tw.voicetube.com/videos/29086/print', 'https://tw.voicetube.com/videos/29079/print', 'https://tw.voicetube.com/videos/45188/print', 'https://tw.voicetube.com/videos/50391/print', 'https://tw.voicetube.com/videos/29095/print', 'https://tw.voicetube.com/videos/29087/print', 'https://tw.voicetube.com/videos/43165/print', 'https://tw.voicetube.com/videos/48661/print', 'https://tw.voicetube.com/videos/47270/print', 'https://tw.voicetube.com/videos/47430/print', 'https://tw.voicetube.com/videos/29168/print', 'https://tw.voicetube.com/videos/29083/print', 'https://tw.voicetube.com/videos/45263/print', 'https://tw.voicetube.com/videos/45262/print', 'https://tw.voicetube.com/videos/45261/print', 'https://tw.voicetube.com/videos/31470/print', 'https://tw.voicetube.com/videos/45190/print', 'https://tw.voicetube.com/videos/29078/print', 'https://tw.voicetube.com/videos/44888/print', 'https://tw.voicetube.com/videos/29085/print', 'https://tw.voicetube.com/videos/44207/print', 'https://tw.voicetube.com/videos/44178/print', 'https://tw.voicetube.com/videos/44085/print', 'https://tw.voicetube.com/videos/43077/print', 'https://tw.voicetube.com/videos/42988/print', 'https://tw.voicetube.com/videos/29097/print', 'https://tw.voicetube.com/videos/42892/print', 'https://tw.voicetube.com/videos/42891/print', 'https://tw.voicetube.com/videos/42504/print', 'https://tw.voicetube.com/videos/40839/print', 'https://tw.voicetube.com/videos/42465/print', 'https://tw.voicetube.com/videos/42305/print', 'https://tw.voicetube.com/videos/41760/print', 'https://tw.voicetube.com/videos/27702/print', 'https://tw.voicetube.com/videos/40991/print', 'https://tw.voicetube.com/videos/40861/print', 'https://tw.voicetube.com/videos/40859/print', 'https://tw.voicetube.com/videos/40838/print', 'https://tw.voicetube.com/videos/40835/print', 'https://tw.voicetube.com/videos/37224/print', 'https://tw.voicetube.com/videos/23959/print', 'https://tw.voicetube.com/videos/36065/print', 'https://tw.voicetube.com/videos/33901/print', 'https://tw.voicetube.com/videos/33082/print', 'https://tw.voicetube.com/videos/31865/print', 'https://tw.voicetube.com/videos/31469/print', 'https://tw.voicetube.com/videos/30679/print', 'https://tw.voicetube.com/videos/30231/print', 'https://tw.voicetube.com/videos/29134/print', 'https://tw.voicetube.com/videos/29072/print', 'https://tw.voicetube.com/videos/28913/print', 'https://tw.voicetube.com/videos/27921/print', 'https://tw.voicetube.com/videos/26822/print', 'https://tw.voicetube.com/videos/23574/print', 'https://tw.voicetube.com/videos/22388/print', 'https://tw.voicetube.com/videos/8968/print', '']\n"
          ]
        }
      ]
    },
    {
      "cell_type": "code",
      "metadata": {
        "id": "I9T-cefYwtw7"
      },
      "source": [
        "content_list = [string for string in content_list if string != \"\"]"
      ],
      "execution_count": 15,
      "outputs": []
    },
    {
      "cell_type": "markdown",
      "metadata": {
        "id": "jWB_oSKXd1C8"
      },
      "source": [
        "## **Clean Version**"
      ]
    },
    {
      "cell_type": "code",
      "metadata": {
        "colab": {
          "base_uri": "https://localhost:8080/"
        },
        "id": "gwmXSxDnbqDf",
        "outputId": "274a6498-0264-46eb-8790-de7ad2d6b88b"
      },
      "source": [
        "len(content_list)"
      ],
      "execution_count": 16,
      "outputs": [
        {
          "output_type": "execute_result",
          "data": {
            "text/plain": [
              "204"
            ]
          },
          "metadata": {},
          "execution_count": 16
        }
      ]
    },
    {
      "cell_type": "code",
      "metadata": {
        "id": "E_Gn5VhgcqKw"
      },
      "source": [
        "def scrap_ds_voicetube(url):\n",
        "\n",
        "  # try: \n",
        "  # source = urlopen(url, timeout=5).read()\n",
        "  # except ConnectionResetError:\n",
        "  #   print(\"==> ConnectionResetError\")\n",
        "  #   pass\n",
        "  # except timeout: \n",
        "  #   print(\"==> Timeout\")\n",
        "  #   pass\n",
        "  \n",
        "  # soup = BeautifulSoup(source,'lxml')\n",
        "  source = requests.get(url)\n",
        "  soup = BeautifulSoup(source.text, 'html.parser')\n",
        "\n",
        "  a = []\n",
        "  for paragraph in soup.find_all('span'):\n",
        "    a.append(paragraph.text)\n",
        "\n",
        "  text = []\n",
        "  for i in range(len(a)):\n",
        "    text.append(re.sub(r\"\\n\", \"\", a[i]))\n",
        "\n",
        "  en = []\n",
        "  zh = []\n",
        "\n",
        "  for i in range(len(text)):\n",
        "    if i % 2 == 0:\n",
        "      en.append(text[i])\n",
        "    else:\n",
        "      zh.append(text[i])\n",
        "  \n",
        "  return en, zh"
      ],
      "execution_count": 17,
      "outputs": []
    },
    {
      "cell_type": "code",
      "metadata": {
        "colab": {
          "base_uri": "https://localhost:8080/"
        },
        "id": "TXCy7xOOd9xQ",
        "outputId": "d9677564-ce8c-46f8-e8a3-e9d89a56a5c6"
      },
      "source": [
        "en_all = []\n",
        "zh_all = []\n",
        "\n",
        "for cl in content_list:\n",
        "  print(cl)\n",
        "  en, zh = scrap_ds_voicetube(cl)\n",
        "  en_all.extend(en)\n",
        "  zh_all.extend(zh)"
      ],
      "execution_count": 18,
      "outputs": [
        {
          "output_type": "stream",
          "name": "stdout",
          "text": [
            "https://tw.voicetube.com/videos/33754/print\n",
            "https://tw.voicetube.com/videos/33791/print\n",
            "https://tw.voicetube.com/videos/33510/print\n",
            "https://tw.voicetube.com/videos/33370/print\n",
            "https://tw.voicetube.com/videos/71519/print\n",
            "https://tw.voicetube.com/videos/72723/print\n",
            "https://tw.voicetube.com/videos/132301/print\n",
            "https://tw.voicetube.com/videos/143617/print\n",
            "https://tw.voicetube.com/videos/159208/print\n",
            "https://tw.voicetube.com/videos/158957/print\n",
            "https://tw.voicetube.com/videos/82782/print\n",
            "https://tw.voicetube.com/videos/159517/print\n",
            "https://tw.voicetube.com/videos/159064/print\n",
            "https://tw.voicetube.com/videos/159418/print\n",
            "https://tw.voicetube.com/videos/64535/print\n",
            "https://tw.voicetube.com/videos/64868/print\n",
            "https://tw.voicetube.com/videos/157787/print\n",
            "https://tw.voicetube.com/videos/158667/print\n",
            "https://tw.voicetube.com/videos/158498/print\n",
            "https://tw.voicetube.com/videos/65388/print\n",
            "https://tw.voicetube.com/videos/54616/print\n",
            "https://tw.voicetube.com/videos/64867/print\n",
            "https://tw.voicetube.com/videos/66496/print\n",
            "https://tw.voicetube.com/videos/67478/print\n",
            "https://tw.voicetube.com/videos/132922/print\n",
            "https://tw.voicetube.com/videos/152042/print\n",
            "https://tw.voicetube.com/videos/152099/print\n",
            "https://tw.voicetube.com/videos/150631/print\n",
            "https://tw.voicetube.com/videos/83676/print\n",
            "https://tw.voicetube.com/videos/82780/print\n",
            "https://tw.voicetube.com/videos/82772/print\n",
            "https://tw.voicetube.com/videos/74982/print\n",
            "https://tw.voicetube.com/videos/71696/print\n",
            "https://tw.voicetube.com/videos/64869/print\n",
            "https://tw.voicetube.com/videos/52911/print\n",
            "https://tw.voicetube.com/videos/50077/print\n",
            "https://tw.voicetube.com/videos/42989/print\n",
            "https://tw.voicetube.com/videos/40840/print\n",
            "https://tw.voicetube.com/videos/40837/print\n",
            "https://tw.voicetube.com/videos/36840/print\n",
            "https://tw.voicetube.com/videos/34984/print\n",
            "https://tw.voicetube.com/videos/32338/print\n",
            "https://tw.voicetube.com/videos/31199/print\n",
            "https://tw.voicetube.com/videos/27436/print\n",
            "https://tw.voicetube.com/videos/25382/print\n",
            "https://tw.voicetube.com/videos/24743/print\n",
            "https://tw.voicetube.com/videos/50708/print\n",
            "https://tw.voicetube.com/videos/145139/print\n",
            "https://tw.voicetube.com/videos/32588/print\n",
            "https://tw.voicetube.com/videos/123861/print\n",
            "https://tw.voicetube.com/videos/83488/print\n",
            "https://tw.voicetube.com/videos/94601/print\n",
            "https://tw.voicetube.com/videos/125634/print\n",
            "https://tw.voicetube.com/videos/125633/print\n",
            "https://tw.voicetube.com/videos/82880/print\n",
            "https://tw.voicetube.com/videos/84521/print\n",
            "https://tw.voicetube.com/videos/84406/print\n",
            "https://tw.voicetube.com/videos/82573/print\n",
            "https://tw.voicetube.com/videos/77915/print\n",
            "https://tw.voicetube.com/videos/81082/print\n",
            "https://tw.voicetube.com/videos/77627/print\n",
            "https://tw.voicetube.com/videos/76580/print\n",
            "https://tw.voicetube.com/videos/76874/print\n",
            "https://tw.voicetube.com/videos/77225/print\n",
            "https://tw.voicetube.com/videos/77223/print\n",
            "https://tw.voicetube.com/videos/77222/print\n",
            "https://tw.voicetube.com/videos/76618/print\n",
            "https://tw.voicetube.com/videos/76191/print\n",
            "https://tw.voicetube.com/videos/75837/print\n",
            "https://tw.voicetube.com/videos/76416/print\n",
            "https://tw.voicetube.com/videos/76581/print\n",
            "https://tw.voicetube.com/videos/75522/print\n",
            "https://tw.voicetube.com/videos/75907/print\n",
            "https://tw.voicetube.com/videos/75632/print\n",
            "https://tw.voicetube.com/videos/75612/print\n",
            "https://tw.voicetube.com/videos/75998/print\n",
            "https://tw.voicetube.com/videos/74243/print\n",
            "https://tw.voicetube.com/videos/74486/print\n",
            "https://tw.voicetube.com/videos/74237/print\n",
            "https://tw.voicetube.com/videos/74241/print\n",
            "https://tw.voicetube.com/videos/73980/print\n",
            "https://tw.voicetube.com/videos/74318/print\n",
            "https://tw.voicetube.com/videos/29092/print\n",
            "https://tw.voicetube.com/videos/29096/print\n",
            "https://tw.voicetube.com/videos/71976/print\n",
            "https://tw.voicetube.com/videos/29081/print\n",
            "https://tw.voicetube.com/videos/70537/print\n",
            "https://tw.voicetube.com/videos/72015/print\n",
            "https://tw.voicetube.com/videos/24721/print\n",
            "https://tw.voicetube.com/videos/72299/print\n",
            "https://tw.voicetube.com/videos/72135/print\n",
            "https://tw.voicetube.com/videos/54794/print\n",
            "https://tw.voicetube.com/videos/71490/print\n",
            "https://tw.voicetube.com/videos/71518/print\n",
            "https://tw.voicetube.com/videos/71521/print\n",
            "https://tw.voicetube.com/videos/71348/print\n",
            "https://tw.voicetube.com/videos/71347/print\n",
            "https://tw.voicetube.com/videos/71345/print\n",
            "https://tw.voicetube.com/videos/71344/print\n",
            "https://tw.voicetube.com/videos/71145/print\n",
            "https://tw.voicetube.com/videos/71144/print\n",
            "https://tw.voicetube.com/videos/71143/print\n",
            "https://tw.voicetube.com/videos/70994/print\n",
            "https://tw.voicetube.com/videos/70993/print\n",
            "https://tw.voicetube.com/videos/70992/print\n",
            "https://tw.voicetube.com/videos/70989/print\n",
            "https://tw.voicetube.com/videos/70987/print\n",
            "https://tw.voicetube.com/videos/70831/print\n",
            "https://tw.voicetube.com/videos/70318/print\n",
            "https://tw.voicetube.com/videos/70208/print\n",
            "https://tw.voicetube.com/videos/70206/print\n",
            "https://tw.voicetube.com/videos/70204/print\n",
            "https://tw.voicetube.com/videos/69864/print\n",
            "https://tw.voicetube.com/videos/66500/print\n",
            "https://tw.voicetube.com/videos/69488/print\n",
            "https://tw.voicetube.com/videos/68614/print\n",
            "https://tw.voicetube.com/videos/68314/print\n",
            "https://tw.voicetube.com/videos/67155/print\n",
            "https://tw.voicetube.com/videos/64870/print\n",
            "https://tw.voicetube.com/videos/65184/print\n",
            "https://tw.voicetube.com/videos/65134/print\n",
            "https://tw.voicetube.com/videos/59479/print\n",
            "https://tw.voicetube.com/videos/52240/print\n",
            "https://tw.voicetube.com/videos/61440/print\n",
            "https://tw.voicetube.com/videos/25746/print\n",
            "https://tw.voicetube.com/videos/53898/print\n",
            "https://tw.voicetube.com/videos/48333/print\n",
            "https://tw.voicetube.com/videos/53686/print\n",
            "https://tw.voicetube.com/videos/53680/print\n",
            "https://tw.voicetube.com/videos/53679/print\n",
            "https://tw.voicetube.com/videos/53678/print\n",
            "https://tw.voicetube.com/videos/53677/print\n",
            "https://tw.voicetube.com/videos/53676/print\n",
            "https://tw.voicetube.com/videos/53675/print\n",
            "https://tw.voicetube.com/videos/53674/print\n",
            "https://tw.voicetube.com/videos/53673/print\n",
            "https://tw.voicetube.com/videos/53672/print\n",
            "https://tw.voicetube.com/videos/53671/print\n",
            "https://tw.voicetube.com/videos/30515/print\n",
            "https://tw.voicetube.com/videos/53176/print\n",
            "https://tw.voicetube.com/videos/52781/print\n",
            "https://tw.voicetube.com/videos/29091/print\n",
            "https://tw.voicetube.com/videos/52760/print\n",
            "https://tw.voicetube.com/videos/52751/print\n",
            "https://tw.voicetube.com/videos/52750/print\n",
            "https://tw.voicetube.com/videos/52313/print\n",
            "https://tw.voicetube.com/videos/52139/print\n",
            "https://tw.voicetube.com/videos/29088/print\n",
            "https://tw.voicetube.com/videos/29086/print\n",
            "https://tw.voicetube.com/videos/29079/print\n",
            "https://tw.voicetube.com/videos/45188/print\n",
            "https://tw.voicetube.com/videos/50391/print\n",
            "https://tw.voicetube.com/videos/29095/print\n",
            "https://tw.voicetube.com/videos/29087/print\n",
            "https://tw.voicetube.com/videos/43165/print\n",
            "https://tw.voicetube.com/videos/48661/print\n",
            "https://tw.voicetube.com/videos/47270/print\n",
            "https://tw.voicetube.com/videos/47430/print\n",
            "https://tw.voicetube.com/videos/29168/print\n",
            "https://tw.voicetube.com/videos/29083/print\n",
            "https://tw.voicetube.com/videos/45263/print\n",
            "https://tw.voicetube.com/videos/45262/print\n",
            "https://tw.voicetube.com/videos/45261/print\n",
            "https://tw.voicetube.com/videos/31470/print\n",
            "https://tw.voicetube.com/videos/45190/print\n",
            "https://tw.voicetube.com/videos/29078/print\n",
            "https://tw.voicetube.com/videos/44888/print\n",
            "https://tw.voicetube.com/videos/29085/print\n",
            "https://tw.voicetube.com/videos/44207/print\n",
            "https://tw.voicetube.com/videos/44178/print\n",
            "https://tw.voicetube.com/videos/44085/print\n",
            "https://tw.voicetube.com/videos/43077/print\n",
            "https://tw.voicetube.com/videos/42988/print\n",
            "https://tw.voicetube.com/videos/29097/print\n",
            "https://tw.voicetube.com/videos/42892/print\n",
            "https://tw.voicetube.com/videos/42891/print\n",
            "https://tw.voicetube.com/videos/42504/print\n",
            "https://tw.voicetube.com/videos/40839/print\n",
            "https://tw.voicetube.com/videos/42465/print\n",
            "https://tw.voicetube.com/videos/42305/print\n",
            "https://tw.voicetube.com/videos/41760/print\n",
            "https://tw.voicetube.com/videos/27702/print\n",
            "https://tw.voicetube.com/videos/40991/print\n",
            "https://tw.voicetube.com/videos/40861/print\n",
            "https://tw.voicetube.com/videos/40859/print\n",
            "https://tw.voicetube.com/videos/40838/print\n",
            "https://tw.voicetube.com/videos/40835/print\n",
            "https://tw.voicetube.com/videos/37224/print\n",
            "https://tw.voicetube.com/videos/23959/print\n",
            "https://tw.voicetube.com/videos/36065/print\n",
            "https://tw.voicetube.com/videos/33901/print\n",
            "https://tw.voicetube.com/videos/33082/print\n",
            "https://tw.voicetube.com/videos/31865/print\n",
            "https://tw.voicetube.com/videos/31469/print\n",
            "https://tw.voicetube.com/videos/30679/print\n",
            "https://tw.voicetube.com/videos/30231/print\n",
            "https://tw.voicetube.com/videos/29134/print\n",
            "https://tw.voicetube.com/videos/29072/print\n",
            "https://tw.voicetube.com/videos/28913/print\n",
            "https://tw.voicetube.com/videos/27921/print\n",
            "https://tw.voicetube.com/videos/26822/print\n",
            "https://tw.voicetube.com/videos/23574/print\n",
            "https://tw.voicetube.com/videos/22388/print\n",
            "https://tw.voicetube.com/videos/8968/print\n"
          ]
        }
      ]
    },
    {
      "cell_type": "code",
      "metadata": {
        "id": "6mwaMcy-ebc6",
        "outputId": "80b48635-c583-41fc-8228-cfb3037dd641",
        "colab": {
          "base_uri": "https://localhost:8080/"
        }
      },
      "source": [
        "len(en_all)"
      ],
      "execution_count": 19,
      "outputs": [
        {
          "output_type": "execute_result",
          "data": {
            "text/plain": [
              "13084"
            ]
          },
          "metadata": {},
          "execution_count": 19
        }
      ]
    },
    {
      "cell_type": "code",
      "metadata": {
        "id": "XVHXlmHnegCz",
        "outputId": "964f1aa8-232f-4294-d97d-c928b17f58b5",
        "colab": {
          "base_uri": "https://localhost:8080/"
        }
      },
      "source": [
        "len(zh_all)"
      ],
      "execution_count": 20,
      "outputs": [
        {
          "output_type": "execute_result",
          "data": {
            "text/plain": [
              "13084"
            ]
          },
          "metadata": {},
          "execution_count": 20
        }
      ]
    },
    {
      "cell_type": "code",
      "metadata": {
        "id": "1YadXWvjen64"
      },
      "source": [
        "with open('/content/MyDrive/MyDrive/paper/new/Yi-Chun/Dataset/voicetube/english_ds_kids.txt', 'w', encoding=\"utf-8\") as filehandle:\n",
        "    for listitem in en_all:\n",
        "        filehandle.write('%s\\n' % listitem)"
      ],
      "execution_count": 21,
      "outputs": []
    },
    {
      "cell_type": "code",
      "metadata": {
        "id": "5VKykJTNe_2u"
      },
      "source": [
        "with open('/content/MyDrive/MyDrive/paper/new/Yi-Chun/Dataset/voicetube/chinese_ds_kids.txt', 'w', encoding=\"utf-8\") as filehandle:\n",
        "    for listitem in zh_all:\n",
        "        filehandle.write('%s\\n' % listitem)"
      ],
      "execution_count": 22,
      "outputs": []
    },
    {
      "cell_type": "markdown",
      "metadata": {
        "id": "d1jvnZtwduGs"
      },
      "source": [
        "## **Messy Version**"
      ]
    },
    {
      "cell_type": "code",
      "metadata": {
        "id": "TfMIdgYob1pE"
      },
      "source": [
        "# source = urlopen(content_list[0]).read()\n",
        "source = requests.get(content_list[0])"
      ],
      "execution_count": 23,
      "outputs": []
    },
    {
      "cell_type": "code",
      "metadata": {
        "id": "Qxl4m5wMcMAu"
      },
      "source": [
        "# soup = BeautifulSoup(source,'lxml')\n",
        "soup = BeautifulSoup(source.text, 'html.parser')"
      ],
      "execution_count": 24,
      "outputs": []
    },
    {
      "cell_type": "code",
      "metadata": {
        "colab": {
          "base_uri": "https://localhost:8080/"
        },
        "id": "2a4ZmYbncQAq",
        "outputId": "46e57b92-e3d1-455c-f4b6-e1899c88b9f4"
      },
      "source": [
        "#text = ''\n",
        "a = []\n",
        "for paragraph in soup.find_all('span'):\n",
        "    a.append(paragraph.text)\n",
        "    \n",
        "a"
      ],
      "execution_count": 25,
      "outputs": [
        {
          "output_type": "execute_result",
          "data": {
            "text/plain": [
              "['\\n[Kids React to Retro TV]\\n',\n",
              " '\\n[小朋友遇上懷舊節目]\\n',\n",
              " '\\n[This episode: Pokémon]\\n',\n",
              " '\\n[本集：神奇寶貝]\\n',\n",
              " \"\\n♪ Gotta catch 'em all, Pokémon ♪\\n\",\n",
              " '\\n♪收服他們，神奇寶貝♪\\n',\n",
              " '\\n♪ (stirring theme music) ♪\\n',\n",
              " '\\n♪(振奮的主題曲)♪\\n',\n",
              " '\\nYes!\\n',\n",
              " '\\n好耶！\\n',\n",
              " '\\nPokémon.\\n',\n",
              " '\\n神奇寶貝。\\n',\n",
              " '\\nPokémon!\\n',\n",
              " '\\n神奇寶貝！\\n',\n",
              " '\\n- ♪ I wanna be the very best ♪ - What am I watching?\\n',\n",
              " '\\n- ♪ 我要邁向巔峰 ♪ - 這是什麼？\\n',\n",
              " '\\n- Pokémon. - ♪ Like no ever was ♪\\n',\n",
              " '\\n- 神奇寶貝 - ♪到達無人能及的境界 ♪\\n',\n",
              " '\\nSeriously?\\u3000\\n',\n",
              " '\\n認真嗎？\\n',\n",
              " '\\nThis is the old Pokémon theme song.\\n',\n",
              " '\\n- 這是舊的神奇寶貝主題曲。\\n',\n",
              " '\\n♪ To train them is my cause ♪\\n',\n",
              " '\\n♪ 訓練他們是我的宗旨 ♪\\n',\n",
              " '\\nYeah!\\n',\n",
              " '\\n耶 !\\n',\n",
              " '\\n♪ I will travel across the land ♪\\n',\n",
              " '\\n♪ 我會橫越大陸 ♪\\n',\n",
              " \"\\n♪ Searching far and wide ♪ - I've never really liked it before.\\n\",\n",
              " '\\n♪ 四處尋找 ♪ - 我從來沒有喜歡過這部。\\n',\n",
              " '\\n♪ Teach Pokémon to understand ♪\\n',\n",
              " '\\n♪ 教導神奇寶貝 ♪\\n',\n",
              " \"\\n♪ The power that's inside ♪\\n\",\n",
              " '\\n♪ 尋找潛藏的力量 ♪\\n',\n",
              " \"\\n♪ Pokémon, gotta catch 'em all ♪\\n\",\n",
              " '\\n♪ 神奇寶貝，我要收服他們全部 ♪\\n',\n",
              " \"\\n♪ It's you and me ♪\\n\",\n",
              " '\\n♪ 你和我 ♪\\n',\n",
              " \"\\n♪ I know it's my destiny ♪\\n\",\n",
              " '\\n♪ 我知道這是我的使命♪\\n',\n",
              " '\\n♪ Pokémon ♪\\n',\n",
              " '\\n♪神奇寶貝♪\\n',\n",
              " \"\\n♪ Oh, you're my best friend ♪\\n\",\n",
              " '\\n♪ 你是我最好的夥伴 ♪\\n',\n",
              " '\\n♪ In a world we must defend ♪ - Bad guys.\\n',\n",
              " '\\n♪ 我們必須保護世界 ♪ - 反派。\\n',\n",
              " '\\nTeam Rocket.\\n',\n",
              " '\\n火箭隊。\\n',\n",
              " '\\nThe animations! I just love it!\\n',\n",
              " '\\n我超愛這部動畫！\\n',\n",
              " \"\\nSeriously, the old ones—they're awesome!\\n\",\n",
              " '\\n尤其是舊版的，他們超讚！\\n',\n",
              " '\\n♪ Our courage will pull us through ♪\\n',\n",
              " '\\n♪勇氣帶領我們越過難關 ♪\\n',\n",
              " '\\n♪ You teach me ♪\\n',\n",
              " '\\n♪ 你教導我 ♪\\n',\n",
              " \"\\n♪ And I'll teach you ♪\\n\",\n",
              " '\\n♪ 我也教導你 ♪\\n',\n",
              " '\\n♪ Pokémon! ♪\\n',\n",
              " '\\n♪ 神奇寶貝！ ♪\\n',\n",
              " '\\n♪ Gotta catch them all! ♪\\n',\n",
              " '\\n♪ 我要收服他們 ♪\\n',\n",
              " \"\\n♪ Gotta catch 'em all! Pokémon! ♪\\n\",\n",
              " '\\n♪ 收服他們 ！神奇寶貝！♪\\n',\n",
              " '\\n- Yeah! - Yes!\\n',\n",
              " '\\n- 耶！- 好耶！\\n',\n",
              " '\\nThis butterfly represents one of my favorite characters.\\n',\n",
              " '\\n有隻蝴蝶是我最愛的神奇寶貝之一。\\n',\n",
              " '\\nUm... um, guess.\\n',\n",
              " '\\n呃，應該吧。\\n',\n",
              " '\\nButterfree?\\n',\n",
              " '\\n巴大蝴？\\n',\n",
              " '\\nYay!\\n',\n",
              " '\\n沒錯！\\n',\n",
              " '\\n[Question time]\\n',\n",
              " '\\n[問答時間]\\n',\n",
              " '\\nOkay, so what was that the theme song for?\\n',\n",
              " '\\n你知道這是什麼的主題曲嗎？\\n',\n",
              " '\\nPokémon.\\n',\n",
              " '\\n神奇寶貝。\\n',\n",
              " '\\nPokémon.\\n',\n",
              " '\\n神奇寶貝。\\n',\n",
              " '\\nPokémon!\\n',\n",
              " '\\n神奇寶貝！\\n',\n",
              " '\\nPokémon!!\\n',\n",
              " '\\n神奇寶貝！！\\n',\n",
              " '\\nPokémon!!!\\n',\n",
              " '\\n神奇寶貝！！！\\n',\n",
              " '\\nSeason one and I believe, possibly, episode one.\\n',\n",
              " '\\n第一季，而且是第一集。\\n',\n",
              " \"\\nWhat is Pokémon, if someone doesn't know?\\n\",\n",
              " '\\n如果有人不知道神奇寶貝呢？\\n',\n",
              " '\\nWhat is wrong with their lives?\\n',\n",
              " '\\n他們的人生怎麼了？\\n',\n",
              " '\\nHow do they not know such beauty?\\n',\n",
              " '\\n他們怎麼能不知道如此美物呢？\\n',\n",
              " \"\\nPokémon is this thing that's been going on forever.\\n\",\n",
              " '\\n神奇寶貝是流傳千古的東西。\\n',\n",
              " \"\\nIt's a TV show, a card game.\\n\",\n",
              " '\\n它是電視節目，也是卡牌遊戲。\\n',\n",
              " '\\nA game and a show and some movies.\\n',\n",
              " '\\n它是遊戲、節目、也有做成電影。\\n',\n",
              " '\\nWhen I was seven, I may have had a crush on Mewtwo.\\n',\n",
              " '\\n我七歲時，我超愛超夢。\\n',\n",
              " \"\\nI'm not even kidding. A crush. And, like, how does that happen? I have no idea.\\n\",\n",
              " '\\n沒開玩笑，超哈它。為什麼會這樣？我自己也不知道。\\n',\n",
              " '\\nAnd is this the same opening and theme song from the Pokémon TV show today?\\n',\n",
              " '\\n這跟現在的神奇寶貝是同一首主題曲嗎？\\n',\n",
              " \"\\nI have no idea because I don't really watch it.\\n\",\n",
              " '\\n我不知道，因為我沒在看。\\n',\n",
              " \"\\nIt's a different one.\\n\",\n",
              " '\\n是不同的。\\n',\n",
              " '\\nThe Black and White one is not the same.\\n',\n",
              " '\\n黑白版跟這個不同。\\n',\n",
              " \"\\nThis is the first one, I'm pretty sure.\\n\",\n",
              " '\\n這是初代主題曲，我很確定。\\n',\n",
              " \"\\nBut I love it! It's the old one!\\n\",\n",
              " '\\n但我超愛！超愛舊版！\\n',\n",
              " \"\\nThis one looks more, I guess, organic and drawn, and the new one's just all shiny and buffed up.\\n\",\n",
              " '\\n舊版比較有手繪感；新版的色彩比較亮而且飽滿。\\n',\n",
              " '\\nThe red-haired girl and then the boy—they were different.\\n',\n",
              " '\\n紅髮的女生跟那個男生都不一樣了。\\n',\n",
              " \"\\nThey're totally changed. There's no way... those people don't exist in the modern-day Pokémon.\\n\",\n",
              " '\\n完全不同。在新版裡面，他們都不在了。\\n',\n",
              " '\\nAnd have you ever watched the TV show?\\n',\n",
              " '\\n你有看過這個節目嗎？\\n',\n",
              " '\\nObviously the old ones on Netflix.\\n',\n",
              " '\\n 在 Netflix 上看過。\\n',\n",
              " '\\nI watched it on Netflix.\\n',\n",
              " '\\n我在 Netflix 上看過。\\n',\n",
              " '\\nYeah. Because my brother puts it on!\\n',\n",
              " '\\n有，那是因為我哥哥播的！\\n',\n",
              " '\\nI love Pokémon so much, me and my two friends made a whole group about Pokémon.\\n',\n",
              " '\\n我超愛神奇寶貝，我跟另外兩個朋友組了一個神奇寶貝群。\\n',\n",
              " \"\\nNo, I'm not really much of a Pokémon fan.\\n\",\n",
              " '\\n沒有，其實我不太喜歡神奇寶貝。\\n',\n",
              " \"\\nThat's, like, the first time I've ever seen that really.\\n\",\n",
              " '\\n其實這是我第一次看。\\n',\n",
              " \"\\nCouple, but that was just 'cause I was so bored at home and I had nothing to do, and I was just on the couch eating Doritos and... my sad life.\\n\",\n",
              " '\\n看過幾次，不過是因為我在家無聊才看的，而且我閒閒沒事，我只能在沙發上吃著我的多力多滋，然後… 悲劇人生啊。\\n',\n",
              " '\\nHave you played any of the video games?\\n',\n",
              " '\\n你有玩過他們的電動嗎？\\n',\n",
              " '\\nNo.\\n',\n",
              " '\\n沒有。\\n',\n",
              " \"\\nNo, 'cause I hate them.\\n\",\n",
              " '\\n沒有，因為我討厭它。\\n',\n",
              " '\\nNo.\\n',\n",
              " '\\n沒有。\\n',\n",
              " '\\nYou guys had me play Pokémon Snap.\\n',\n",
              " '\\n你們讓我玩過神奇寶貝照相大師。\\n',\n",
              " '\\nYeah, my brother Darius—he has an account; he has every Pokémon.\\n',\n",
              " '\\n有阿，我哥 Darius 他有一個帳號，全部的神奇寶貝都有。\\n',\n",
              " \"\\nI've beaten two games—Black and White, Black and White 2.\\n\",\n",
              " '\\n我全破過兩個版本——黑白版、黑白 2 版。\\n',\n",
              " '\\nPokémon X.\\n',\n",
              " '\\n神奇寶貝 X 版。\\n',\n",
              " '\\nAlpha Sapphire.\\n',\n",
              " '\\n終極紅寶石版。\\n',\n",
              " '\\nI played the original Emerald; the last gym was the hardest thing of all time.\\n',\n",
              " '\\n我玩過綠寶石版，最後一個道館是史上最難的。\\n',\n",
              " '\\nWhat about Pokémon cards?\\n',\n",
              " '\\n那玩過神奇寶貝卡牌嗎？\\n',\n",
              " '\\nNo, I actually had not started yet.\\n',\n",
              " '\\n沒有，其實我還沒開始玩。\\n',\n",
              " \"\\nI don't really like card games.\\n\",\n",
              " '\\n我不太喜歡卡牌遊戲。\\n',\n",
              " '\\nI like basketball.\\n',\n",
              " '\\n我比較喜歡籃球。\\n',\n",
              " \"\\nI have friends that are girls, and they're really into Pokémon, like, they have all the cards and they collect it.\\n\",\n",
              " '\\n我有些女生朋友，她們超愛神奇寶貝，她們收集了全部的卡片。\\n',\n",
              " \"\\nI just have them for fun, 'cause they're cute.\\n\",\n",
              " '\\n我玩只是單純覺得有趣，因為它們很可愛。\\n',\n",
              " \"\\nI'm one of those people who collect cards and put them in binders.\\n\",\n",
              " '\\n我是那種會收集卡片然後整理起來的人。\\n',\n",
              " '\\nI got Zapdos in a card pack.\\n',\n",
              " '\\n我牌組裡還有閃電鳥。\\n',\n",
              " '\\nYay!\\n',\n",
              " '\\n耶！\\n',\n",
              " '\\nCan you list off the names of Pokémon?\\n',\n",
              " '\\n你可以說出全部的神奇寶貝嗎？\\n',\n",
              " '\\nPi... Pikaku.\\n',\n",
              " '\\n皮… 皮卡哭。\\n',\n",
              " '\\nPikachu.\\n',\n",
              " '\\n皮卡丘。\\n',\n",
              " '\\nOshawott.\\n',\n",
              " '\\n水水獺。\\n',\n",
              " '\\nZekrom.\\n',\n",
              " '\\n捷克羅姆。\\n',\n",
              " '\\nMew and Mewtwo.\\n',\n",
              " '\\n夢幻跟超夢。\\n',\n",
              " '\\nSquirtle.\\n',\n",
              " '\\n傑尼龜。\\n',\n",
              " '\\nKangaskhan.\\n',\n",
              " '\\n袋龍。\\n',\n",
              " '\\nBulbasaur.\\n',\n",
              " '\\n妙蛙種子。\\n',\n",
              " '\\nPidgey, Pidgeotto.\\n',\n",
              " '\\n波波、比比鳥。\\n',\n",
              " '\\nRiolu, Lucario, Eevee, Ninetales, Blastoise.\\n',\n",
              " '\\n利歐路、路卡利歐伊布、九尾、水箭龜。\\n',\n",
              " '\\nCharmander, Charmeleon, Charizard, Wartortle, Snivy, Superior, Servine.\\n',\n",
              " '\\n小火龍、火恐龍、噴火龍、卡咪龜、藤藤蛇、君主蛇、青藤蛇。\\n',\n",
              " '\\nSpearow, Beedrill, Froakie and Chespin, Fennekin, Yveltal, Raichu, Pichu, Gyarados, Magikarp.\\n',\n",
              " '\\n列雀大針鋒、呱呱泡蛙和哈力栗、火狐狸、伊裴爾塔爾、雷丘、皮丘、暴鯉龍、鯉魚王。\\n',\n",
              " \"\\nI can't think of any more.\\n\",\n",
              " '\\n我想不到了。\\n',\n",
              " '\\nPokémon first came on to TV in 1997 and was made because of the success of a game in Japan.\\n',\n",
              " '\\n神奇寶貝在 1997 年首播，因為它的遊戲在日本大獲好評。\\n',\n",
              " \"\\nIt's always made in Japan.\\n\",\n",
              " '\\n永遠都是日本製。\\n',\n",
              " '\\nWhat year were you born?\\n',\n",
              " '\\n你是哪一年出生的？\\n',\n",
              " '\\nI was born in 2002.\\n',\n",
              " '\\n我出生於 2002 年。\\n',\n",
              " '\\n2002, back in the good days.\\n',\n",
              " '\\n2002 年，美好的日子啊。\\n',\n",
              " '\\n2004.\\n',\n",
              " '\\n2004 年。\\n',\n",
              " '\\n2005.\\n',\n",
              " '\\n2005 年。\\n',\n",
              " '\\n2006.\\n',\n",
              " '\\n2006 年。\\n',\n",
              " '\\n2007.\\n',\n",
              " '\\n2007 年。\\n',\n",
              " '\\n2008.\\n',\n",
              " '\\n2008 年。\\n',\n",
              " '\\nSo Pokemon is older than you.\\n',\n",
              " '\\n所以神奇寶貝比你還老。\\n',\n",
              " '\\nWhoa.\\n',\n",
              " '\\n哇。\\n',\n",
              " '\\nI want to be older than Pokémon.\\n',\n",
              " '\\n我想要比神奇寶貝還大。\\n',\n",
              " '\\nSo, Pokémon has been something popular with kids for a very long time. Do kids today still like Pokémon?\\n',\n",
              " '\\n神奇寶貝很受小孩歡迎，而且持續了很長一段時間。現在的小孩還喜歡神奇寶貝嗎？\\n',\n",
              " '\\nYeah.\\n',\n",
              " '\\n喜歡。\\n',\n",
              " \"\\nOh, yeah! I don't know why.\\n\",\n",
              " '\\n喜歡阿！不知道為何。\\n',\n",
              " '\\nI see people, like, with weird Pokémon hats and still playing with the cards and have backpacks of Pikachu.\\n',\n",
              " '\\n我看過有人帶著奇怪的神奇寶貝帽，然後玩神奇寶貝卡牌，還背著皮卡丘背包。\\n',\n",
              " '\\nThere are still people who are obsessed with it.\\n',\n",
              " '\\n還是有些人為之著迷。\\n',\n",
              " '\\nLiterally do YouTube videos about it and go to tournaments.\\n',\n",
              " '\\n製作關於神奇寶貝的影片，還去比賽。\\n',\n",
              " \"\\nI don't know anyone that still watches that show.\\n\",\n",
              " '\\n我不知道還有誰在看這個節目。\\n',\n",
              " \"\\nIt's not as popular as it was, as I was in elementary school.\\n\",\n",
              " '\\n以前比較紅，我讀小學的時候比較紅。\\n',\n",
              " '\\nProbably not as big. But yeah, I bet that there are, like, all little kids know who Pikachu is.\\n',\n",
              " '\\n可能以前比較流行。不過我敢說現在的小孩都知道皮卡丘是什麼。\\n',\n",
              " '\\n- Is there anything else that kids are into these days besides Pokémon? - Yu-Gi-Oh! basically.\\n',\n",
              " '\\n- 現在的小孩還喜歡什麼，除了神奇寶貝之外？- 遊戲王吧\\n',\n",
              " '\\nPogs! No.\\n',\n",
              " '\\n扁扁！沒有啦。\\n',\n",
              " \"\\nIt used to be Five Nights at Freddy's, like, last year.\\n\",\n",
              " \"\\n曾經是 Five Nights at Freddy's ，大概去年吧。 (Five Nights at Freddy's為一款恐怖生存遊戲)\\n\",\n",
              " '\\nMinecraft.\\n',\n",
              " '\\nMinecraft。（當個創世神）\\n',\n",
              " \"\\nMinecraft stuff. That's definitely one.\\n\",\n",
              " '\\nMinecraft 之類的，絕對是。\\n',\n",
              " '\\nA lot of people at my school are like, \"Oh my gosh, I love Minecraft. I want to be Steve for Halloween.\"\\n',\n",
              " '\\n學校裡很多人都在那邊：「天啊，我好愛 Minecraft。我想變成萬聖節裡的 Steve。」\\n',\n",
              " \"\\nWhy do you think Pokémon is still so popular, even though it's something that's been around for 20 years?\\n\",\n",
              " '\\n你認為，為什麼即使過了 20 年神奇寶貝依舊那麼受歡迎呢？\\n',\n",
              " '\\nBecause other boys like it. But some girls do.\\n',\n",
              " '\\n因為男生都喜歡，不過也有一些女生喜歡。\\n',\n",
              " \"\\nThe animation's got better and better each and every year.\\n\",\n",
              " '\\n神奇寶貝動畫每年越做越好。\\n',\n",
              " '\\nPeople love it because of the simplicity.\\n',\n",
              " '\\n大家喜歡是因為它的純真。\\n',\n",
              " \"\\nIt's not just the Pokémon and all the different names and styles of them, but the fact that they do so much better than they did when they only had 151 Pokémon.\\n\",\n",
              " '\\n它不只是神奇寶貝，也不是只有各式各樣的名字和屬性，而是他們越做越好，比只有 151 隻神奇寶貝時還好。\\n',\n",
              " '\\nThey even have Mega Evolutions now.\\n',\n",
              " '\\n現在甚至還有超進化。\\n',\n",
              " \"\\nEvery year, they make a new really, really cool Pokémon and really cool, like, collector's cards.\\n\",\n",
              " '\\n每一年，他們會出更酷的神奇寶貝，還有很酷的卡牌。\\n',\n",
              " \"\\nWhen someone collects something, it makes them, I think that it makes them feel like they're more of a fan.\\n\",\n",
              " '\\n我想他們在收集卡牌的時候會讓他們感覺自己是死忠粉絲。\\n',\n",
              " \"\\nIt's like, try to capture the most out of all your friends.\\n\",\n",
              " '\\n我覺得是想要收服得比朋友都多。\\n',\n",
              " '\\nBe like, \"Okay, I\\'ll battle you for all your Pokémon cards, right now, right here.\"\\n',\n",
              " '\\n像是：「來！現在立刻來決鬥，我要挑戰你所有的卡片。」\\n',\n",
              " \"\\nI always play for keeps. I'm the boss.\\n\",\n",
              " '\\n贏者通收，我每次都是贏家。\\n',\n",
              " '\\nSo when you are older and you have kids, do you hope Pokémon is still popular?\\n',\n",
              " '\\n等到你長大有了小孩，你希望神奇寶貝還流行嗎？\\n',\n",
              " \"\\nHopefully. That'll be a dream.\\n\",\n",
              " '\\n希望囉，這是夢想阿。\\n',\n",
              " \"\\nWhen I'm older, when I have grandkids or something, I could play at my grandkids'.\\n\",\n",
              " '\\n等到我長大，有孫子孫女的時候，我可以在他們家一起玩。\\n',\n",
              " '\\nYeah.\\n',\n",
              " '\\n希望。\\n',\n",
              " '\\nIf I get old and they still like playing Pokémon, I can give them my cards.\\n',\n",
              " '\\n要是我老了他們還在玩神奇寶貝，我可以給他們我的卡牌。\\n',\n",
              " '\\nI really do.\\n',\n",
              " '\\n我由衷的希望。\\n',\n",
              " \"\\nThe video games in general, like for the DS and stuff, the TV show—it's all amazing.\\n\",\n",
              " '\\n大部分的電玩，像是 DS 之類的電視節目，它們都超讚的。\\n',\n",
              " '\\nThanks for watching Kids React.\\n',\n",
              " '\\n感謝收看「當小朋友遇上…」\\n',\n",
              " '\\nIn the comments, let us know what we should react to next.\\n',\n",
              " '\\n留個言，讓我們知道下次要「遇上」什麼。\\n',\n",
              " '\\nSubscribe! We have new videos every week. And you know that you wanna catch them all.\\n',\n",
              " '\\n訂閱我們，我們每周都有新影片，你知道你也想收服他們全部的。\\n',\n",
              " '\\nBye, guys!\\n',\n",
              " '\\n大家掰掰囉！\\n',\n",
              " '\\nBye!\\n',\n",
              " '\\n掰！\\n',\n",
              " \"\\n♪ Catch 'em, catch 'em, gotta catch 'em all ♪\\n\",\n",
              " '\\n♪ 收服，收服，收服他們全部 ♪\\n',\n",
              " \"\\n♪ Gotta catch 'em all ♪\\n\",\n",
              " '\\n♪ 收服他們全部 ♪\\n',\n",
              " '\\n♪ Pokémon, ah! ♪\\n',\n",
              " '\\n♪ 神奇寶貝，啊！ ♪\\n']"
            ]
          },
          "metadata": {},
          "execution_count": 25
        }
      ]
    },
    {
      "cell_type": "code",
      "metadata": {
        "colab": {
          "base_uri": "https://localhost:8080/"
        },
        "id": "Ra_q7OX0cUDJ",
        "outputId": "7403a530-e69f-495b-86f9-8990d2058ccd"
      },
      "source": [
        "text = []\n",
        "for i in range(len(a)):\n",
        "  text.append(re.sub(r\"\\n\", \"\", a[i]))\n",
        "print(text)"
      ],
      "execution_count": 26,
      "outputs": [
        {
          "output_type": "stream",
          "name": "stdout",
          "text": [
            "['[Kids React to Retro TV]', '[小朋友遇上懷舊節目]', '[This episode: Pokémon]', '[本集：神奇寶貝]', \"♪ Gotta catch 'em all, Pokémon ♪\", '♪收服他們，神奇寶貝♪', '♪ (stirring theme music) ♪', '♪(振奮的主題曲)♪', 'Yes!', '好耶！', 'Pokémon.', '神奇寶貝。', 'Pokémon!', '神奇寶貝！', '- ♪ I wanna be the very best ♪ - What am I watching?', '- ♪ 我要邁向巔峰 ♪ - 這是什麼？', '- Pokémon. - ♪ Like no ever was ♪', '- 神奇寶貝 - ♪到達無人能及的境界 ♪', 'Seriously?\\u3000', '認真嗎？', 'This is the old Pokémon theme song.', '- 這是舊的神奇寶貝主題曲。', '♪ To train them is my cause ♪', '♪ 訓練他們是我的宗旨 ♪', 'Yeah!', '耶 !', '♪ I will travel across the land ♪', '♪ 我會橫越大陸 ♪', \"♪ Searching far and wide ♪ - I've never really liked it before.\", '♪ 四處尋找 ♪ - 我從來沒有喜歡過這部。', '♪ Teach Pokémon to understand ♪', '♪ 教導神奇寶貝 ♪', \"♪ The power that's inside ♪\", '♪ 尋找潛藏的力量 ♪', \"♪ Pokémon, gotta catch 'em all ♪\", '♪ 神奇寶貝，我要收服他們全部 ♪', \"♪ It's you and me ♪\", '♪ 你和我 ♪', \"♪ I know it's my destiny ♪\", '♪ 我知道這是我的使命♪', '♪ Pokémon ♪', '♪神奇寶貝♪', \"♪ Oh, you're my best friend ♪\", '♪ 你是我最好的夥伴 ♪', '♪ In a world we must defend ♪ - Bad guys.', '♪ 我們必須保護世界 ♪ - 反派。', 'Team Rocket.', '火箭隊。', 'The animations! I just love it!', '我超愛這部動畫！', \"Seriously, the old ones—they're awesome!\", '尤其是舊版的，他們超讚！', '♪ Our courage will pull us through ♪', '♪勇氣帶領我們越過難關 ♪', '♪ You teach me ♪', '♪ 你教導我 ♪', \"♪ And I'll teach you ♪\", '♪ 我也教導你 ♪', '♪ Pokémon! ♪', '♪ 神奇寶貝！ ♪', '♪ Gotta catch them all! ♪', '♪ 我要收服他們 ♪', \"♪ Gotta catch 'em all! Pokémon! ♪\", '♪ 收服他們 ！神奇寶貝！♪', '- Yeah! - Yes!', '- 耶！- 好耶！', 'This butterfly represents one of my favorite characters.', '有隻蝴蝶是我最愛的神奇寶貝之一。', 'Um... um, guess.', '呃，應該吧。', 'Butterfree?', '巴大蝴？', 'Yay!', '沒錯！', '[Question time]', '[問答時間]', 'Okay, so what was that the theme song for?', '你知道這是什麼的主題曲嗎？', 'Pokémon.', '神奇寶貝。', 'Pokémon.', '神奇寶貝。', 'Pokémon!', '神奇寶貝！', 'Pokémon!!', '神奇寶貝！！', 'Pokémon!!!', '神奇寶貝！！！', 'Season one and I believe, possibly, episode one.', '第一季，而且是第一集。', \"What is Pokémon, if someone doesn't know?\", '如果有人不知道神奇寶貝呢？', 'What is wrong with their lives?', '他們的人生怎麼了？', 'How do they not know such beauty?', '他們怎麼能不知道如此美物呢？', \"Pokémon is this thing that's been going on forever.\", '神奇寶貝是流傳千古的東西。', \"It's a TV show, a card game.\", '它是電視節目，也是卡牌遊戲。', 'A game and a show and some movies.', '它是遊戲、節目、也有做成電影。', 'When I was seven, I may have had a crush on Mewtwo.', '我七歲時，我超愛超夢。', \"I'm not even kidding. A crush. And, like, how does that happen? I have no idea.\", '沒開玩笑，超哈它。為什麼會這樣？我自己也不知道。', 'And is this the same opening and theme song from the Pokémon TV show today?', '這跟現在的神奇寶貝是同一首主題曲嗎？', \"I have no idea because I don't really watch it.\", '我不知道，因為我沒在看。', \"It's a different one.\", '是不同的。', 'The Black and White one is not the same.', '黑白版跟這個不同。', \"This is the first one, I'm pretty sure.\", '這是初代主題曲，我很確定。', \"But I love it! It's the old one!\", '但我超愛！超愛舊版！', \"This one looks more, I guess, organic and drawn, and the new one's just all shiny and buffed up.\", '舊版比較有手繪感；新版的色彩比較亮而且飽滿。', 'The red-haired girl and then the boy—they were different.', '紅髮的女生跟那個男生都不一樣了。', \"They're totally changed. There's no way... those people don't exist in the modern-day Pokémon.\", '完全不同。在新版裡面，他們都不在了。', 'And have you ever watched the TV show?', '你有看過這個節目嗎？', 'Obviously the old ones on Netflix.', ' 在 Netflix 上看過。', 'I watched it on Netflix.', '我在 Netflix 上看過。', 'Yeah. Because my brother puts it on!', '有，那是因為我哥哥播的！', 'I love Pokémon so much, me and my two friends made a whole group about Pokémon.', '我超愛神奇寶貝，我跟另外兩個朋友組了一個神奇寶貝群。', \"No, I'm not really much of a Pokémon fan.\", '沒有，其實我不太喜歡神奇寶貝。', \"That's, like, the first time I've ever seen that really.\", '其實這是我第一次看。', \"Couple, but that was just 'cause I was so bored at home and I had nothing to do, and I was just on the couch eating Doritos and... my sad life.\", '看過幾次，不過是因為我在家無聊才看的，而且我閒閒沒事，我只能在沙發上吃著我的多力多滋，然後… 悲劇人生啊。', 'Have you played any of the video games?', '你有玩過他們的電動嗎？', 'No.', '沒有。', \"No, 'cause I hate them.\", '沒有，因為我討厭它。', 'No.', '沒有。', 'You guys had me play Pokémon Snap.', '你們讓我玩過神奇寶貝照相大師。', 'Yeah, my brother Darius—he has an account; he has every Pokémon.', '有阿，我哥 Darius 他有一個帳號，全部的神奇寶貝都有。', \"I've beaten two games—Black and White, Black and White 2.\", '我全破過兩個版本——黑白版、黑白 2 版。', 'Pokémon X.', '神奇寶貝 X 版。', 'Alpha Sapphire.', '終極紅寶石版。', 'I played the original Emerald; the last gym was the hardest thing of all time.', '我玩過綠寶石版，最後一個道館是史上最難的。', 'What about Pokémon cards?', '那玩過神奇寶貝卡牌嗎？', 'No, I actually had not started yet.', '沒有，其實我還沒開始玩。', \"I don't really like card games.\", '我不太喜歡卡牌遊戲。', 'I like basketball.', '我比較喜歡籃球。', \"I have friends that are girls, and they're really into Pokémon, like, they have all the cards and they collect it.\", '我有些女生朋友，她們超愛神奇寶貝，她們收集了全部的卡片。', \"I just have them for fun, 'cause they're cute.\", '我玩只是單純覺得有趣，因為它們很可愛。', \"I'm one of those people who collect cards and put them in binders.\", '我是那種會收集卡片然後整理起來的人。', 'I got Zapdos in a card pack.', '我牌組裡還有閃電鳥。', 'Yay!', '耶！', 'Can you list off the names of Pokémon?', '你可以說出全部的神奇寶貝嗎？', 'Pi... Pikaku.', '皮… 皮卡哭。', 'Pikachu.', '皮卡丘。', 'Oshawott.', '水水獺。', 'Zekrom.', '捷克羅姆。', 'Mew and Mewtwo.', '夢幻跟超夢。', 'Squirtle.', '傑尼龜。', 'Kangaskhan.', '袋龍。', 'Bulbasaur.', '妙蛙種子。', 'Pidgey, Pidgeotto.', '波波、比比鳥。', 'Riolu, Lucario, Eevee, Ninetales, Blastoise.', '利歐路、路卡利歐伊布、九尾、水箭龜。', 'Charmander, Charmeleon, Charizard, Wartortle, Snivy, Superior, Servine.', '小火龍、火恐龍、噴火龍、卡咪龜、藤藤蛇、君主蛇、青藤蛇。', 'Spearow, Beedrill, Froakie and Chespin, Fennekin, Yveltal, Raichu, Pichu, Gyarados, Magikarp.', '列雀大針鋒、呱呱泡蛙和哈力栗、火狐狸、伊裴爾塔爾、雷丘、皮丘、暴鯉龍、鯉魚王。', \"I can't think of any more.\", '我想不到了。', 'Pokémon first came on to TV in 1997 and was made because of the success of a game in Japan.', '神奇寶貝在 1997 年首播，因為它的遊戲在日本大獲好評。', \"It's always made in Japan.\", '永遠都是日本製。', 'What year were you born?', '你是哪一年出生的？', 'I was born in 2002.', '我出生於 2002 年。', '2002, back in the good days.', '2002 年，美好的日子啊。', '2004.', '2004 年。', '2005.', '2005 年。', '2006.', '2006 年。', '2007.', '2007 年。', '2008.', '2008 年。', 'So Pokemon is older than you.', '所以神奇寶貝比你還老。', 'Whoa.', '哇。', 'I want to be older than Pokémon.', '我想要比神奇寶貝還大。', 'So, Pokémon has been something popular with kids for a very long time. Do kids today still like Pokémon?', '神奇寶貝很受小孩歡迎，而且持續了很長一段時間。現在的小孩還喜歡神奇寶貝嗎？', 'Yeah.', '喜歡。', \"Oh, yeah! I don't know why.\", '喜歡阿！不知道為何。', 'I see people, like, with weird Pokémon hats and still playing with the cards and have backpacks of Pikachu.', '我看過有人帶著奇怪的神奇寶貝帽，然後玩神奇寶貝卡牌，還背著皮卡丘背包。', 'There are still people who are obsessed with it.', '還是有些人為之著迷。', 'Literally do YouTube videos about it and go to tournaments.', '製作關於神奇寶貝的影片，還去比賽。', \"I don't know anyone that still watches that show.\", '我不知道還有誰在看這個節目。', \"It's not as popular as it was, as I was in elementary school.\", '以前比較紅，我讀小學的時候比較紅。', 'Probably not as big. But yeah, I bet that there are, like, all little kids know who Pikachu is.', '可能以前比較流行。不過我敢說現在的小孩都知道皮卡丘是什麼。', '- Is there anything else that kids are into these days besides Pokémon? - Yu-Gi-Oh! basically.', '- 現在的小孩還喜歡什麼，除了神奇寶貝之外？- 遊戲王吧', 'Pogs! No.', '扁扁！沒有啦。', \"It used to be Five Nights at Freddy's, like, last year.\", \"曾經是 Five Nights at Freddy's ，大概去年吧。 (Five Nights at Freddy's為一款恐怖生存遊戲)\", 'Minecraft.', 'Minecraft。（當個創世神）', \"Minecraft stuff. That's definitely one.\", 'Minecraft 之類的，絕對是。', 'A lot of people at my school are like, \"Oh my gosh, I love Minecraft. I want to be Steve for Halloween.\"', '學校裡很多人都在那邊：「天啊，我好愛 Minecraft。我想變成萬聖節裡的 Steve。」', \"Why do you think Pokémon is still so popular, even though it's something that's been around for 20 years?\", '你認為，為什麼即使過了 20 年神奇寶貝依舊那麼受歡迎呢？', 'Because other boys like it. But some girls do.', '因為男生都喜歡，不過也有一些女生喜歡。', \"The animation's got better and better each and every year.\", '神奇寶貝動畫每年越做越好。', 'People love it because of the simplicity.', '大家喜歡是因為它的純真。', \"It's not just the Pokémon and all the different names and styles of them, but the fact that they do so much better than they did when they only had 151 Pokémon.\", '它不只是神奇寶貝，也不是只有各式各樣的名字和屬性，而是他們越做越好，比只有 151 隻神奇寶貝時還好。', 'They even have Mega Evolutions now.', '現在甚至還有超進化。', \"Every year, they make a new really, really cool Pokémon and really cool, like, collector's cards.\", '每一年，他們會出更酷的神奇寶貝，還有很酷的卡牌。', \"When someone collects something, it makes them, I think that it makes them feel like they're more of a fan.\", '我想他們在收集卡牌的時候會讓他們感覺自己是死忠粉絲。', \"It's like, try to capture the most out of all your friends.\", '我覺得是想要收服得比朋友都多。', 'Be like, \"Okay, I\\'ll battle you for all your Pokémon cards, right now, right here.\"', '像是：「來！現在立刻來決鬥，我要挑戰你所有的卡片。」', \"I always play for keeps. I'm the boss.\", '贏者通收，我每次都是贏家。', 'So when you are older and you have kids, do you hope Pokémon is still popular?', '等到你長大有了小孩，你希望神奇寶貝還流行嗎？', \"Hopefully. That'll be a dream.\", '希望囉，這是夢想阿。', \"When I'm older, when I have grandkids or something, I could play at my grandkids'.\", '等到我長大，有孫子孫女的時候，我可以在他們家一起玩。', 'Yeah.', '希望。', 'If I get old and they still like playing Pokémon, I can give them my cards.', '要是我老了他們還在玩神奇寶貝，我可以給他們我的卡牌。', 'I really do.', '我由衷的希望。', \"The video games in general, like for the DS and stuff, the TV show—it's all amazing.\", '大部分的電玩，像是 DS 之類的電視節目，它們都超讚的。', 'Thanks for watching Kids React.', '感謝收看「當小朋友遇上…」', 'In the comments, let us know what we should react to next.', '留個言，讓我們知道下次要「遇上」什麼。', 'Subscribe! We have new videos every week. And you know that you wanna catch them all.', '訂閱我們，我們每周都有新影片，你知道你也想收服他們全部的。', 'Bye, guys!', '大家掰掰囉！', 'Bye!', '掰！', \"♪ Catch 'em, catch 'em, gotta catch 'em all ♪\", '♪ 收服，收服，收服他們全部 ♪', \"♪ Gotta catch 'em all ♪\", '♪ 收服他們全部 ♪', '♪ Pokémon, ah! ♪', '♪ 神奇寶貝，啊！ ♪']\n"
          ]
        }
      ]
    },
    {
      "cell_type": "code",
      "metadata": {
        "colab": {
          "base_uri": "https://localhost:8080/"
        },
        "id": "MkvquDkEcaGr",
        "outputId": "90a0664d-183f-458a-f2a3-c220bfac87e6"
      },
      "source": [
        "text[0] , text[1]"
      ],
      "execution_count": 27,
      "outputs": [
        {
          "output_type": "execute_result",
          "data": {
            "text/plain": [
              "('[Kids React to Retro TV]', '[小朋友遇上懷舊節目]')"
            ]
          },
          "metadata": {},
          "execution_count": 27
        }
      ]
    },
    {
      "cell_type": "code",
      "metadata": {
        "id": "CaGHwZ6bccw-"
      },
      "source": [
        "en = []\n",
        "zh = []\n",
        "\n",
        "for i in range(len(text)):\n",
        "  if i % 2 == 0:\n",
        "    en.append(text[i])\n",
        "  else:\n",
        "    zh.append(text[i])"
      ],
      "execution_count": 28,
      "outputs": []
    },
    {
      "cell_type": "code",
      "metadata": {
        "colab": {
          "base_uri": "https://localhost:8080/"
        },
        "id": "fihtEDUVcfRH",
        "outputId": "67346d63-5a57-445f-ca73-eab0bb7cb3e4"
      },
      "source": [
        "len(en)"
      ],
      "execution_count": 29,
      "outputs": [
        {
          "output_type": "execute_result",
          "data": {
            "text/plain": [
              "157"
            ]
          },
          "metadata": {},
          "execution_count": 29
        }
      ]
    },
    {
      "cell_type": "code",
      "metadata": {
        "colab": {
          "base_uri": "https://localhost:8080/"
        },
        "id": "I4RXt2Sjcfsg",
        "outputId": "3610ed9e-315b-4ecc-847a-bbfd10432d24"
      },
      "source": [
        "len(zh)"
      ],
      "execution_count": 30,
      "outputs": [
        {
          "output_type": "execute_result",
          "data": {
            "text/plain": [
              "157"
            ]
          },
          "metadata": {},
          "execution_count": 30
        }
      ]
    },
    {
      "cell_type": "code",
      "metadata": {
        "id": "SMrwQ3GFcg5F"
      },
      "source": [
        ""
      ],
      "execution_count": 30,
      "outputs": []
    }
  ]
}