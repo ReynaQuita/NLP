{
  "nbformat": 4,
  "nbformat_minor": 0,
  "metadata": {
    "colab": {
      "name": "Scrapping Headlines.ipynb",
      "provenance": [],
      "collapsed_sections": [],
      "authorship_tag": "ABX9TyMwEbPQhDbsZ00nH9K47HR3",
      "include_colab_link": true
    },
    "kernelspec": {
      "name": "python3",
      "display_name": "Python 3"
    },
    "language_info": {
      "name": "python"
    }
  },
  "cells": [
    {
      "cell_type": "markdown",
      "metadata": {
        "id": "view-in-github",
        "colab_type": "text"
      },
      "source": [
        "<a href=\"https://colab.research.google.com/github/ReynaQuita/NLP/blob/main/Scrapping_Headlines.ipynb\" target=\"_parent\"><img src=\"https://colab.research.google.com/assets/colab-badge.svg\" alt=\"Open In Colab\"/></a>"
      ]
    },
    {
      "cell_type": "code",
      "metadata": {
        "colab": {
          "base_uri": "https://localhost:8080/"
        },
        "id": "KMChb2JpcG2A",
        "outputId": "0c5606e4-7bfd-4ca6-82f6-2d6939c4fb52"
      },
      "source": [
        "!pip install goose3"
      ],
      "execution_count": 1,
      "outputs": [
        {
          "output_type": "stream",
          "text": [
            "Collecting goose3\n",
            "  Downloading goose3-3.1.9-py3-none-any.whl (86 kB)\n",
            "\u001b[?25l\r\u001b[K     |███▉                            | 10 kB 19.7 MB/s eta 0:00:01\r\u001b[K     |███████▋                        | 20 kB 13.6 MB/s eta 0:00:01\r\u001b[K     |███████████▍                    | 30 kB 9.3 MB/s eta 0:00:01\r\u001b[K     |███████████████▏                | 40 kB 8.2 MB/s eta 0:00:01\r\u001b[K     |███████████████████             | 51 kB 4.3 MB/s eta 0:00:01\r\u001b[K     |██████████████████████▊         | 61 kB 4.5 MB/s eta 0:00:01\r\u001b[K     |██████████████████████████▌     | 71 kB 4.5 MB/s eta 0:00:01\r\u001b[K     |██████████████████████████████▎ | 81 kB 5.0 MB/s eta 0:00:01\r\u001b[K     |████████████████████████████████| 86 kB 2.7 MB/s \n",
            "\u001b[?25hRequirement already satisfied: beautifulsoup4 in /usr/local/lib/python3.7/dist-packages (from goose3) (4.6.3)\n",
            "Collecting cssselect\n",
            "  Downloading cssselect-1.1.0-py2.py3-none-any.whl (16 kB)\n",
            "Requirement already satisfied: requests in /usr/local/lib/python3.7/dist-packages (from goose3) (2.23.0)\n",
            "Requirement already satisfied: lxml in /usr/local/lib/python3.7/dist-packages (from goose3) (4.2.6)\n",
            "Requirement already satisfied: Pillow in /usr/local/lib/python3.7/dist-packages (from goose3) (7.1.2)\n",
            "Requirement already satisfied: nltk in /usr/local/lib/python3.7/dist-packages (from goose3) (3.2.5)\n",
            "Requirement already satisfied: python-dateutil in /usr/local/lib/python3.7/dist-packages (from goose3) (2.8.1)\n",
            "Requirement already satisfied: jieba in /usr/local/lib/python3.7/dist-packages (from goose3) (0.42.1)\n",
            "Requirement already satisfied: six in /usr/local/lib/python3.7/dist-packages (from nltk->goose3) (1.15.0)\n",
            "Requirement already satisfied: chardet<4,>=3.0.2 in /usr/local/lib/python3.7/dist-packages (from requests->goose3) (3.0.4)\n",
            "Requirement already satisfied: urllib3!=1.25.0,!=1.25.1,<1.26,>=1.21.1 in /usr/local/lib/python3.7/dist-packages (from requests->goose3) (1.24.3)\n",
            "Requirement already satisfied: idna<3,>=2.5 in /usr/local/lib/python3.7/dist-packages (from requests->goose3) (2.10)\n",
            "Requirement already satisfied: certifi>=2017.4.17 in /usr/local/lib/python3.7/dist-packages (from requests->goose3) (2021.5.30)\n",
            "Installing collected packages: cssselect, goose3\n",
            "Successfully installed cssselect-1.1.0 goose3-3.1.9\n"
          ],
          "name": "stdout"
        }
      ]
    },
    {
      "cell_type": "code",
      "metadata": {
        "id": "n0xZRfZEcPHA"
      },
      "source": [
        "from goose3 import Goose"
      ],
      "execution_count": 2,
      "outputs": []
    },
    {
      "cell_type": "code",
      "metadata": {
        "id": "9Fn3hWMEcP44"
      },
      "source": [
        "g = Goose()\n",
        "URL='https://www.oreilly.com/ideas/ethics-in-data-project-design-its-about-planning'\n",
        "article = g.extract(url=URL)"
      ],
      "execution_count": 3,
      "outputs": []
    },
    {
      "cell_type": "code",
      "metadata": {
        "colab": {
          "base_uri": "https://localhost:8080/"
        },
        "id": "mpQ494H5cSB2",
        "outputId": "4b659c49-b38f-4a4f-f732-5a994ec9da36"
      },
      "source": [
        "print(article.title)"
      ],
      "execution_count": 6,
      "outputs": [
        {
          "output_type": "stream",
          "text": [
            "Ethics in data project design: It's about planning\n"
          ],
          "name": "stdout"
        }
      ]
    },
    {
      "cell_type": "code",
      "metadata": {
        "colab": {
          "base_uri": "https://localhost:8080/"
        },
        "id": "TsgsPQfgccUs",
        "outputId": "0120a31a-ddc0-4b7d-a19b-0b71107a88d1"
      },
      "source": [
        "URL='https://babyou.nownews.com/news/heart/300009152604'\n",
        "article = g.extract(url=URL)\n",
        "print(article.title)"
      ],
      "execution_count": 7,
      "outputs": [
        {
          "output_type": "stream",
          "text": [
            "終獲奧運銀牌！鞍馬王子李智凱追夢16年：我接受失敗，但絕不接受未奮鬥過的自己 | 淘心話 | Babyou姊妹淘\n"
          ],
          "name": "stdout"
        }
      ]
    },
    {
      "cell_type": "code",
      "metadata": {
        "colab": {
          "base_uri": "https://localhost:8080/"
        },
        "id": "4UmCGCgSc6BY",
        "outputId": "e5a71670-6386-42cd-c81a-189450227668"
      },
      "source": [
        "URL='https://chinapost.nownews.com/20210729-2676608'\n",
        "article = g.extract(url=URL)\n",
        "print(article.title)"
      ],
      "execution_count": 8,
      "outputs": [
        {
          "output_type": "stream",
          "text": [
            "Famous Taiwanese breakfast cafe opens in Fremont, California\n"
          ],
          "name": "stdout"
        }
      ]
    }
  ]
}
