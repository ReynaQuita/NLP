{
 "cells": [
  {
   "cell_type": "code",
   "execution_count": 1,
   "metadata": {},
   "outputs": [],
   "source": [
    "links = [\n",
    "    'https://chinapost.nownews.com/20210716-2654837',\n",
    "    'https://chinapost.nownews.com/20210716-2654495',\n",
    "    'https://chinapost.nownews.com/20210712-2648271',\n",
    "    'https://chinapost.nownews.com/20210719-2658483',\n",
    "    'https://chinapost.nownews.com/20210719-2654835'\n",
    "]"
   ]
  },
  {
   "cell_type": "code",
   "execution_count": 2,
   "metadata": {},
   "outputs": [],
   "source": [
    "from bs4 import BeautifulSoup\n",
    "from urllib.request import urlopen\n",
    "import re\n",
    "# import nltk\n",
    "import fasttext"
   ]
  },
  {
   "cell_type": "code",
   "execution_count": 3,
   "metadata": {},
   "outputs": [],
   "source": [
    "def zng(paragraph):\n",
    "    for sent in re.findall(u'[^!?。\\.!\\?」]+[!?。\\.\\!\\?]?', paragraph, flags=re.U):\n",
    "        yield sent"
   ]
  },
  {
   "cell_type": "code",
   "execution_count": 4,
   "metadata": {},
   "outputs": [
    {
     "name": "stderr",
     "output_type": "stream",
     "text": [
      "Warning : `load_model` does not return WordVectorModel or SupervisedModel any more, but a `FastText` object which is very similar.\n"
     ]
    }
   ],
   "source": [
    "path_to_pretrained_model = './tmp/lid.176.bin'\n",
    "fmodel = fasttext.load_model(path_to_pretrained_model)"
   ]
  },
  {
   "cell_type": "code",
   "execution_count": 5,
   "metadata": {},
   "outputs": [],
   "source": [
    "def scrap_and_clean_text(link):\n",
    "    source = urlopen(link).read()\n",
    "    soup = BeautifulSoup(source,'lxml')\n",
    "    text = ''\n",
    "    for paragraph in soup.find_all('p'):\n",
    "        text += paragraph.text\n",
    "        \n",
    "    text = re.sub(r'【.*?】+', '', text)\n",
    "    list_text = list(zng(text))\n",
    "    \n",
    "    for i in range(len(list_text)):\n",
    "      if len(list_text[i]) <=3:\n",
    "        list_text[i-1] += list_text[i]\n",
    "\n",
    "    list_text = [x for x in list_text if not len(x) <= 3]\n",
    "    \n",
    "    for i in range(len(list_text)-1):\n",
    "      if list_text[i][0] == ' ':\n",
    "        if list_text[i+1][0] == ' ':\n",
    "            list_text[i-1] += list_text[i] + list_text[i+1]\n",
    "        else:\n",
    "            list_text[i-1] += list_text[i]\n",
    "        \n",
    "    list_text[len(list_text)-2] += list_text[len(list_text)-1]\n",
    "\n",
    "    list_text = [x for x in list_text if not x[0] == ' ']\n",
    "    \n",
    "    for _ in range(5): \n",
    "        for i in range(len(list_text)-1):\n",
    "          lang1 = fmodel.predict(list_text[i])[0][0]\n",
    "          lang2 = fmodel.predict(list_text[i+1])[0][0]\n",
    "          if lang1 == lang2:\n",
    "            list_text[i] += list_text[i+1]\n",
    "            list_text[i+1] = ''\n",
    "        list_text = [x for x in list_text if not x == '']\n",
    "    \n",
    "    \n",
    "    en = []\n",
    "    zh = []\n",
    "    i=0\n",
    "\n",
    "    while i <= len(list_text)-1:\n",
    "        if i % 2 == 0:\n",
    "            zh.append(list_text[i])\n",
    "        else:\n",
    "            en.append(list_text[i])\n",
    "        i += 1\n",
    "    \n",
    "    return en, zh"
   ]
  },
  {
   "cell_type": "code",
   "execution_count": 6,
   "metadata": {},
   "outputs": [],
   "source": [
    "en_all = []\n",
    "zh_all = []\n",
    "\n",
    "for link in links:\n",
    "    en = []\n",
    "    zh = []\n",
    "    en, zh = scrap_and_clean_text(link)\n",
    "    en_all.extend(en)\n",
    "    zh_all.extend(zh)"
   ]
  },
  {
   "cell_type": "code",
   "execution_count": 7,
   "metadata": {},
   "outputs": [
    {
     "data": {
      "text/plain": [
       "43"
      ]
     },
     "execution_count": 7,
     "metadata": {},
     "output_type": "execute_result"
    }
   ],
   "source": [
    "len(en_all)"
   ]
  },
  {
   "cell_type": "code",
   "execution_count": 8,
   "metadata": {},
   "outputs": [
    {
     "data": {
      "text/plain": [
       "43"
      ]
     },
     "execution_count": 8,
     "metadata": {},
     "output_type": "execute_result"
    }
   ],
   "source": [
    "len(zh_all)"
   ]
  },
  {
   "cell_type": "code",
   "execution_count": 9,
   "metadata": {},
   "outputs": [],
   "source": [
    "with open('english_ds.txt', 'w', encoding=\"utf-8\") as filehandle:\n",
    "    for listitem in en_all:\n",
    "        filehandle.write('%s\\n' % listitem)"
   ]
  },
  {
   "cell_type": "code",
   "execution_count": 10,
   "metadata": {},
   "outputs": [],
   "source": [
    "with open('chinese_ds.txt', 'w', encoding=\"utf-8\") as filehandle:\n",
    "    for listitem in zh_all:\n",
    "        filehandle.write('%s\\n' % listitem)"
   ]
  },
  {
   "cell_type": "code",
   "execution_count": null,
   "metadata": {},
   "outputs": [],
   "source": []
  }
 ],
 "metadata": {
  "kernelspec": {
   "display_name": "Python 3",
   "language": "python",
   "name": "python3"
  },
  "language_info": {
   "codemirror_mode": {
    "name": "ipython",
    "version": 3
   },
   "file_extension": ".py",
   "mimetype": "text/x-python",
   "name": "python",
   "nbconvert_exporter": "python",
   "pygments_lexer": "ipython3",
   "version": "3.7.7"
  }
 },
 "nbformat": 4,
 "nbformat_minor": 4
}
