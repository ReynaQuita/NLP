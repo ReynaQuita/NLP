{
 "cells": [
  {
   "cell_type": "code",
   "execution_count": 1,
   "metadata": {},
   "outputs": [],
   "source": [
    "links = [\n",
    "    'https://chinapost.nownews.com/20210716-2654837',\n",
    "    'https://chinapost.nownews.com/20210716-2654495',\n",
    "    'https://chinapost.nownews.com/20210712-2648271',\n",
    "    'https://chinapost.nownews.com/20210719-2658483',\n",
    "    'https://chinapost.nownews.com/20210719-2654835'\n",
    "]"
   ]
  },
  {
   "cell_type": "code",
   "execution_count": 2,
   "metadata": {},
   "outputs": [],
   "source": [
    "from bs4 import BeautifulSoup\n",
    "from urllib.request import urlopen\n",
    "import re\n",
    "import fasttext"
   ]
  },
  {
   "cell_type": "code",
   "execution_count": 3,
   "metadata": {},
   "outputs": [
    {
     "name": "stderr",
     "output_type": "stream",
     "text": [
      "Warning : `load_model` does not return WordVectorModel or SupervisedModel any more, but a `FastText` object which is very similar.\n"
     ]
    }
   ],
   "source": [
    "path_to_pretrained_model = './tmp/lid.176.bin'\n",
    "fmodel = fasttext.load_model(path_to_pretrained_model)"
   ]
  },
  {
   "cell_type": "code",
   "execution_count": 4,
   "metadata": {},
   "outputs": [],
   "source": [
    "def scrap_and_clean_text(link):\n",
    "    source = urlopen(link).read()\n",
    "    soup = BeautifulSoup(source,'lxml')\n",
    "    text = ''\n",
    "    for paragraph in soup.find_all('p'):\n",
    "        text += paragraph.text\n",
    "        \n",
    "    text = re.sub(r'【.*?】+', '', text)\n",
    "    text = re.sub(r\"^\\s+\", \"\", text)\n",
    "    \n",
    "    rx = r'(?:(?<=[.!?。」])|(?<=[.!?][\"”」]))'\n",
    "    list_text = []\n",
    "\n",
    "    for result in re.split(rx, text):\n",
    "        list_text.append(result)\n",
    "    \n",
    "    for i in range(len(list_text)):\n",
    "      if len(list_text[i]) <=3:\n",
    "        list_text[i-1] += list_text[i]\n",
    "\n",
    "    list_text = [x for x in list_text if not len(x) <= 3]\n",
    "    \n",
    "    for _ in range(5):\n",
    "        for i in range(1,len(list_text)):\n",
    "          if list_text[i][0] == ' ':\n",
    "            list_text[i-1] += list_text[i]\n",
    "\n",
    "        list_text = [x for x in list_text if not x[0] == ' ']\n",
    "    \n",
    "    for _ in range(5): \n",
    "        for i in range(len(list_text)-1):\n",
    "          lang1 = fmodel.predict(list_text[i])[0][0]\n",
    "          lang2 = fmodel.predict(list_text[i+1])[0][0]\n",
    "            \n",
    "          if lang1 == '__label__ja':\n",
    "            lang1 = '__label__zh'\n",
    "        \n",
    "          if lang1 == lang2:\n",
    "            list_text[i] += list_text[i+1]\n",
    "            list_text[i+1] = ''\n",
    "        list_text = [x for x in list_text if not x == '']\n",
    "    \n",
    "    \n",
    "    en = []\n",
    "    zh = []\n",
    "    i=0\n",
    "\n",
    "    while i <= len(list_text)-1:\n",
    "        if i % 2 == 0:\n",
    "            zh.append(list_text[i])\n",
    "        else:\n",
    "            en.append(list_text[i])\n",
    "        i += 1\n",
    "    \n",
    "    return en, zh"
   ]
  },
  {
   "cell_type": "code",
   "execution_count": 5,
   "metadata": {},
   "outputs": [],
   "source": [
    "en_all = []\n",
    "zh_all = []\n",
    "\n",
    "for link in links:\n",
    "    en = []\n",
    "    zh = []\n",
    "    en, zh = scrap_and_clean_text(link)\n",
    "    en_all.extend(en)\n",
    "    zh_all.extend(zh)"
   ]
  },
  {
   "cell_type": "code",
   "execution_count": 6,
   "metadata": {},
   "outputs": [
    {
     "data": {
      "text/plain": [
       "43"
      ]
     },
     "execution_count": 6,
     "metadata": {},
     "output_type": "execute_result"
    }
   ],
   "source": [
    "len(en_all)"
   ]
  },
  {
   "cell_type": "code",
   "execution_count": 7,
   "metadata": {},
   "outputs": [
    {
     "data": {
      "text/plain": [
       "43"
      ]
     },
     "execution_count": 7,
     "metadata": {},
     "output_type": "execute_result"
    }
   ],
   "source": [
    "len(zh_all)"
   ]
  },
  {
   "cell_type": "code",
   "execution_count": 8,
   "metadata": {
    "scrolled": true
   },
   "outputs": [
    {
     "data": {
      "text/plain": [
       "['Frontline medical workers have experienced long, stressful working hours since Taiwan entered the Level 3 epidemic warning.Against this backdrop, many people have contacted local medical centers and clinics to express their gratitude, including Taiwan-based Russian YouTuber “Broccoli Vlog” (花椰菜).',\n",
       " 'The popular YouTuber on Friday shared a video of himself and his friends, John and Tony, preparing 300 cinnamon rolls for the staff of Linkou Chang Gung Memorial Hospital (林口長庚紀念醫院).',\n",
       " 'Speaking about the two-day preparation, John explained that he stayed in mainland China for 13 years before coming to Taiwan. Upon arrival here, he discovered numerous cultural differences and kept track of them in a notebook.',\n",
       " 'He remarked that some Chinese characters “look the same” but they have a “different pronunciation.” After finding his marks here, he said with a smile that he has had a better understanding of Taiwan.',\n",
       " 'One of his friends, who helped contact the hospital, stressed that Taiwan medical personnel is going through some tough times. It is important to give them the courage to continue their mission, she said.',\n",
       " 'At the end of the video, they packed the 300 cinnamon rolls and sent them to the hospital. Their kind deeds show that they care for Taiwanese people even though most foreigners in Taiwan cannot apply for government subsidies and grants during the pandemic.',\n",
       " 'Will COVID-19 vaccines work if I have a weak immune system? Probably not as well as they do in healthy people, but the shots should offer some protection.',\n",
       " 'It’s why vaccinations are still recommended for people with immune systems weakened by disease or certain medications. It’s also important that your family, friends, and caregivers get vaccinated, which will make it far less likely that they pass on the virus.',\n",
       " 'About 3% of U.S. adults have weakened immune systems.',\n",
       " 'COVID-19 shots weren’t studied in large numbers of people with weak immune systems. But limited data and experience with flu and pneumonia vaccines suggest they won’t work as well as they do in others.',\n",
       " '“It’s prudent to use all the precautions you were using before you were vaccinated,” said Dr. Ajit Limaye, a transplant expert at the University of Washington Medicine in Seattle.',\n",
       " 'Although most cancer patients should get vaccinated as soon as they can, people getting stem cell transplants or CAR T-cell therapy should wait at least three months after treatment to get vaccinated, according to guidance from the National Comprehensive Cancer Network. That delay will make sure the vaccines work as well as they can.',\n",
       " 'For transplant recipients, researchers are looking at whether an extra dose might make the vaccines more effective.',\n",
       " 'French guidelines recommend a third COVID-19 dose for the immunocompromised, including organ recipients. Israel recently began giving an extra dose of the Pfizer vaccine to transplant patients and others with weak immune systems.',\n",
       " 'Some U.S. transplant recipients seek out a third dose on their own in hopes of more protection even though the federal government hasn’t authorized extra vaccinations.',\n",
       " 'Japanese award-winning coffee master Yoshiyuki Nakamura (仲村良行) recently collaborated with Taiwanese brand Drink Like A Local (根本在旅行) to give free coffee packets to Taiwanese medical workers.',\n",
       " 'Following Japan’s second donation of AstraZeneca (AZ) vaccines to Taiwan on July 8, the friendship between Taiwan and Japan deepened even more.',\n",
       " 'Other than medical support, Taiwan has also received emotional support from Japan. Yoshiyuki Nakamura, a Japanese coffee expert, recently gifted 500 packs of coffee from his brand to Taiwanese medical workers.',\n",
       " 'Nakamura is the runner-up of the 2018 World Coffee Roasting Championship (WCRC) and the owner of an Okinawa-based coffee brand, Mame Pole Pole Coffee Roasters (豆ポレポレ).',\n",
       " 'The coffee champion collaborated with Taiwanese brand Drink Like A Local (根本在旅行) and began handing out packets of coffee to medical workers since the beginning of the Level 3 epidemic warning.',\n",
       " 'Nakamura has visited Taiwan a few times to attend coffee events and competitions in the past.According to ETtoday, the coffee champion enjoyed Taiwan because of the friendly nature of the Taiwanese people, and he was also impressed by the quality of the locally produced coffee.',\n",
       " 'Nakamura expressed that he was encouraged by Drink Like a Local, who had been continuously giving coffee to medical workers since the Level 3 epidemic warning started.',\n",
       " 'Speaking to The China Post, Yang Pang Yan (楊邦彥), the owner of Drink Like a Local, the coffee gifting event has received much positive feedback from friends and customers and attracted many that were interested in joining to help the cause.Yang will be expanding this service to the police after July 12, as the Level 3 epidemic warning has been extended again.',\n",
       " 'Nakamura has said that he hoped through coffee, medical workers can relax while also working hard.When asked about Nakamura’s next steps regarding Taiwan, Yang said Nakamura would like to visit Taiwan again after the pandemic to travel and connect with the local coffee industry.',\n",
       " 'For Taiwanese people, it’s a common habit to wear a helmet whenever traveling on a motorcycle or scooter. Nevertheless, the unruly hair after the removal of helmets remains a headache that still haunts many.',\n",
       " 'A social media user recently shared a photo in a\\xa0Facebook group showing a woman was in the passenger seat of a scooter with a peculiar-looking helmet.At first glance, there doesn’t seem to be anything wrong with it. However, upon closer inspection, there appeared to be a conspicuous hole drilled on the top of the helmet.The woman’s hair bun was then able to jot out of the hole for fresh air.',\n",
       " 'According to local Chinese-language media and social media users, the woman in the photo is quite famous in the Chaozhou Area of Pingtung County.Local media reported that the eighty-year-old claims to be the Taoism medium of Zhongtan Yuanshuai (中壇元帥), also known as the Marshal of Central Altar; therefore, the bun on top of her head has to remain intact at all times.She even often complements her bun with exquisite accessories.',\n",
       " 'Local media also reported that the woman’s son helped alter the helmet to accommodate his mother’s insistent hairstyle. This helmet enables the woman to wear it yet protect her bun from getting disheveled.',\n",
       " 'The picture immediately went viral with one social media user commenting humorously that the helmet was only “slightly safe,” while another quipped that the woman was perming her hair through “photosynthesis.”',\n",
       " 'A female social media user even valued the practical purpose of such a move, pointing out that it’s troublesome to adjust her hairstyle every time she takes off her helmet.',\n",
       " 'According to Taiwan’s Road Traffic Management and Penalty Act, should a driver or passengers of a motorcycle fail to wear a helmet as required by regulations, the driver shall be fined NT$500.',\n",
       " 'Data from the National Police Agency, Ministry of the Interior, show that police in Pingtung County issued over thirty thousand tickets for violations against helmet-related regulations in 2020. The violations include helmets with signs of damages, loosening, or alterations.',\n",
       " 'Japan is known for all things cute and quirky, and also for being a country that places courtesy above all; therefore, it came as quite a surprise when Japanese media recently reported the deaths of several cats at the hands of a serial cat killer.',\n",
       " 'Yuichiro Hirata, a 49-year-old Japanese man who has previously been accused of killing over a dozen cats with an air gun, came forward admitting to many other cases on July 15.',\n",
       " 'Hirata, a part-time employee, told the police, “I have killed approximately 100 cats.”',\n",
       " 'In the latest allegations, the police have accused Hirata of shooting a cat in the leg in a Yachiyo City parking lot last November, which reportedly broke the cat’s leg.',\n",
       " '“I felt like I had conquered a vulnerable cat,” Hirata stated.',\n",
       " 'Last December, Hirata was arrested for killing another cat with his air gun at a housing complex also in Yachiyo City.',\n",
       " 'He was suspected of violating the Animal Protection Law and the Swords and Firearms Control Law. He later admitted to these allegations.',\n",
       " 'News of the serial cat killer finally being brought to justice is not enough to appease social media users, however, and many are bent on seeing Hirata receiving some sort of retribution.',\n",
       " 'A Facebook user was so mad that he thought Hirata “needs to be put down.”',\n",
       " '“Needs to be out of society. Incarceration, mental evaluation, lifelong treatment, therapy, and continuous monitoring of his whereabouts at all times,” commented another social media user.',\n",
       " 'Although Hirata has finally admitted to his crime, that will not bring back the lives of more than a hundred innocent cats. His acts of brutality are unforgivable, but we can only hope that justice is served so that these cats may rest in peace.']"
      ]
     },
     "execution_count": 8,
     "metadata": {},
     "output_type": "execute_result"
    }
   ],
   "source": [
    "en_all"
   ]
  },
  {
   "cell_type": "code",
   "execution_count": 9,
   "metadata": {
    "scrolled": true
   },
   "outputs": [
    {
     "data": {
      "text/plain": [
       "['隨著三級警戒不斷延長，前線醫護人員的壓力也不斷增加，也因此許多人為了感謝辛苦的醫療人員以各種方式表達小心意替他們加油打氣。',\n",
       " '來自俄羅斯的台灣YouTuber 「花椰菜」於上週五 (9日)，與他的朋友們Jony和Tony決定手做300個肉桂捲送給林口長庚紀念醫院。',\n",
       " '在製作的過程中，John透露他之前在中國住了13年，剛來台灣的時候還有許多不適應的地方，為此他還準備了一本筆記專門紀錄兩地的文化差異。',\n",
       " '他解釋道，很多字在兩地寫起來一樣，但是唸法卻不盡相同，久而久之，現在他已經相當適應台灣的生活。',\n",
       " '另外一位好友則說道，台灣的醫護人員正在經歷一段辛苦的時期，如果能夠透過自己的行動帶給他們鼓勵的話，那樣非常值得。',\n",
       " '影片的結尾，他們將300個肉桂捲裝箱送到醫院門口。雖然在疫情期間外國人無法獲得補助，但是他們依舊願意為台灣的疫情盡一份力，而這善良的舉動也感動了無數網友。',\n",
       " '如果我的免疫力低，疫苗對我會有效嗎？對於較缺乏抵抗力的族群，疫苗效果也許沒有一般正常人來得好，但是仍會提供一定程度的保護力。',\n",
       " '這也是為什麼免疫系統因疾病或因服用特殊藥物下降的人仍應接種疫苗，而周遭的親朋好友是否接種疫苗，也會成為能否成功阻止病毒擴散的重要關鍵。',\n",
       " '在美國，大約3%的成人免疫力低弱，其中包括愛滋病(HIV or AIDS)病患、器官移植者、癌症病患，以及患有類風濕性關節炎 (rheumatoid arthritis)、發炎性腸道疾病 (inflammatory bowel disease)、紅斑性狼瘡 (lupus)等自體免疫疾等病患。',\n",
       " 'COVID-19疫苗雖沒有針對大批免疫系統衰弱的族群做過研究，然而從過去流感疫苗與肺炎疫苗有限的資料和經驗可判斷，疫苗接種效果可能不如身體較為健康的一般大眾。這也意味著免疫力不足的民眾外出時仍應戴口罩並避免人群接觸，做好防護措施。',\n",
       " '位於西雅圖華盛頓大學醫學院的器官移植專家Ajit Limaye醫師指出：「接種疫苗後仍需保持未接種前的防疫習慣 (例如保持社交距離和戴口罩)，才能真正降低感染風險。」',\n",
       " '雖然大部分的癌症患者都應盡快接種疫苗，但是根據美國國家癌症資訊網所述，接受骨髓移植 (stem cell transplant) 或CAR-T細胞治療 (CAR T-cell therapy)病患應該在治療三個月後再接種，才能確保疫苗達到最大效果。',\n",
       " '而學者仍在研究多施打一劑疫苗是否能對接受器官移植的病患產生較好的保護效果。',\n",
       " '法國建議針對器官移植等免疫功能低下的病患施打第三劑疫苗，而以色列最近也針對該族群多施打一劑輝瑞(Pfizer)疫苗。',\n",
       " '在美國，即便政府尚未正式授權，已有部分接受器官移植治療的民眾為了尋求更高的保護力，正在找尋接種第三劑的管道。',\n",
       " '日本咖啡大師仲村良行日前與臺灣品牌「根本在旅行」合作，贈送臺灣醫護人員免費咖啡包，在疫情期間為他們打打氣。',\n",
       " '繼日本於7月8日捐贈臺灣第二批AZ疫苗，臺日友好關係更加顯著。',\n",
       " '日本除了給予臺灣醫療協助，更是撫慰了臺灣人的心，而咖啡專家仲村良行近期更是贈送臺灣醫護人員自家品牌500包咖啡。',\n",
       " '仲村良行於2018年世界盃烘豆大賽(World Coffee Roasting Championship, WCRC)榮獲亞軍，目前於日本沖繩經營Mame Pole Pole Coffee Roasters (豆ポレポレ)。',\n",
       " '這位咖啡冠軍與臺灣品牌「根本在旅行」合作，自三級警戒啟動後便開始分送咖啡包至醫護人員手中。',\n",
       " '仲村良行曾經多次造訪台灣，參與咖啡相關活動與競賽。據ETtoday報導，這位咖啡冠軍認為臺灣的迷人之處，在於天性友善的臺灣人，而台灣優良的在地咖啡也讓他留下深刻印象。',\n",
       " '仲村良行說明本次行動的靈感來自於「根本在旅行」，因這個台灣品牌自三級警戒以來，不曾停下腳步向醫護人員分送咖啡。',\n",
       " '與The China Post訪談中，根本在旅行經營者楊邦彥提到，咖啡分送活動廣受各方好評，許多人也紛紛加入分送行列。因為三級警戒再被延長，楊邦彥計畫於7月12日開始將這項服務擴展至警察人員。',\n",
       " '仲村良行希望醫護人員面對繁重工作，能夠喝口咖啡稍稍放鬆。關於之後在臺灣有什麼計劃，仲村良行則表示期待疫情過後再次造訪臺灣，與臺灣咖啡產業互相交流。',\n",
       " '對臺灣人來說，騎車戴安全帽是極為平常的事，但是脫去安全帽後凌亂不堪的頭髮，仍然是民眾的一大煩惱之一。',\n",
       " '一位網友日前在臉書社團「路上觀察學院」分享了一張照片，照片中一名婦人搭乘機車，雖然佩帶安全帽，但安全帽頭頂處卻鑿了大洞，高聳髮髻也從洞口突出向外透氣。',\n",
       " '綜合媒體報導和網友所述，這位婦人在屏東潮州一帶非常有名，已經80多歲的她聲稱自己是太子爺起乩，必須隨時保持完好髮髻造型，平時更會在髮髻上添加各式飾品，別具巧思。',\n",
       " '據報導，這位婦人的兒子因為母親對於髮型十分堅持，特別在安全帽上加工，讓母親外出配戴安全帽不至於毀損髮型。',\n",
       " '照片分享後立即得到網友熱烈回響，其中有人在貼文下方幽默留言，「微安全」、「光合作用燙頭髮」。',\n",
       " '更有女性網友認為對於每次配戴安全帽都必須重新整理髮型一事，這樣的小設計非常實用。',\n",
       " '根據我國「道路交通管理處罰條例」，凡是機車駕駛人或是乘客皆必須配戴安全帽，違者處以新臺幣500元罰鍰。',\n",
       " '然而，根據內政部警政署數據，屏東縣警方2020年整年取締超過三萬多件未依規定配戴安全帽，其中也包含安全帽出現毀損、鬆脫或變更之情事。',\n",
       " '眾所周知，日本文化離不開「可愛」、「古怪」等字眼，而日本社會更是以「禮貌」聞名，因此當日本媒體報導有好幾隻貓咪都死在連環貓殺手的手裡時，震驚了許多網友。',\n",
       " '兇手平田雄一郎 （Yuichiro Hirata）是一名49歲的日本男性，此前曾被指控使用氣槍殺死數十隻貓咪，他在週四(7月15日)坦誠罪行，並承認自己是許多類似案件的幕後黑手。',\n",
       " '擔任兼職員工的平田向警方坦誠，「我大概殺了一百多隻貓。」',\n",
       " '最新的指控中，警方表示平田於去年11月在八千代市的一個停車場裡開槍打中一隻貓咪，據報導他的惡行導致無辜的小貓斷了腿。',\n",
       " '平田表示：「我覺得我征服了那隻手無寸鐵的貓咪。」',\n",
       " '去年12月，平田因使用氣槍在八千代市的一個住宅區裡再次犯案而遭逮捕。',\n",
       " '平田事後承認自己的行為違反了日本動物保護法和刀槍管制法。',\n",
       " '然而，雖然貓咪連環殺手已經繩之以法，卻難以平息網路上燃燒的熊熊烈火，許多網友表示想看到平田得到應有的報應。',\n",
       " '一名臉書用戶還氣得留言表示平田「不應該活著。」',\n",
       " '另一名網友則認為平田「應該與社會隔絕。要吃牢飯、做心理鑒定、要接受一輩子的治療，而且要時時刻刻都追蹤他的所在位置。」',\n",
       " '雖然平田已認罪，但這也換不回來一百條無辜的性命。平田殘暴的行為，論誰都無法寬恕，我們只能希望他受到法律制裁，為死去的貓咪帶來一絲慰藉。']"
      ]
     },
     "execution_count": 9,
     "metadata": {},
     "output_type": "execute_result"
    }
   ],
   "source": [
    "zh_all"
   ]
  },
  {
   "cell_type": "code",
   "execution_count": 10,
   "metadata": {},
   "outputs": [],
   "source": [
    "with open('english_ds.txt', 'w', encoding=\"utf-8\") as filehandle:\n",
    "    for listitem in en_all:\n",
    "        filehandle.write('%s\\n' % listitem)"
   ]
  },
  {
   "cell_type": "code",
   "execution_count": 11,
   "metadata": {},
   "outputs": [],
   "source": [
    "with open('chinese_ds.txt', 'w', encoding=\"utf-8\") as filehandle:\n",
    "    for listitem in zh_all:\n",
    "        filehandle.write('%s\\n' % listitem)"
   ]
  },
  {
   "cell_type": "code",
   "execution_count": null,
   "metadata": {},
   "outputs": [],
   "source": []
  }
 ],
 "metadata": {
  "kernelspec": {
   "display_name": "Python 3",
   "language": "python",
   "name": "python3"
  },
  "language_info": {
   "codemirror_mode": {
    "name": "ipython",
    "version": 3
   },
   "file_extension": ".py",
   "mimetype": "text/x-python",
   "name": "python",
   "nbconvert_exporter": "python",
   "pygments_lexer": "ipython3",
   "version": "3.7.7"
  }
 },
 "nbformat": 4,
 "nbformat_minor": 4
}
