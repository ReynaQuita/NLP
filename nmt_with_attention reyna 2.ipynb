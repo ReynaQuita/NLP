{
 "cells": [
  {
   "cell_type": "markdown",
   "metadata": {
    "id": "s_qNSzzyaCbD"
   },
   "source": [
    "##### Copyright 2019 The TensorFlow Authors."
   ]
  },
  {
   "cell_type": "code",
   "execution_count": 1,
   "metadata": {
    "cellView": "form",
    "id": "jmjh290raIky"
   },
   "outputs": [],
   "source": [
    "#@title Licensed under the Apache License, Version 2.0 (the \"License\");\n",
    "# you may not use this file except in compliance with the License.\n",
    "# You may obtain a copy of the License at\n",
    "#\n",
    "# https://www.apache.org/licenses/LICENSE-2.0\n",
    "#\n",
    "# Unless required by applicable law or agreed to in writing, software\n",
    "# distributed under the License is distributed on an \"AS IS\" BASIS,\n",
    "# WITHOUT WARRANTIES OR CONDITIONS OF ANY KIND, either express or implied.\n",
    "# See the License for the specific language governing permissions and\n",
    "# limitations under the License."
   ]
  },
  {
   "cell_type": "markdown",
   "metadata": {
    "id": "J0Qjg6vuaHNt"
   },
   "source": [
    "# Neural machine translation with attention"
   ]
  },
  {
   "cell_type": "markdown",
   "metadata": {
    "id": "AOpGoE2T-YXS"
   },
   "source": [
    "<table class=\"tfo-notebook-buttons\" align=\"left\">\n",
    "  <td>\n",
    "    <a target=\"_blank\" href=\"https://www.tensorflow.org/tutorials/text/nmt_with_attention\">\n",
    "    <img src=\"https://www.tensorflow.org/images/tf_logo_32px.png\" />\n",
    "    View on TensorFlow.org</a>\n",
    "  </td>\n",
    "  <td>\n",
    "    <a target=\"_blank\" href=\"https://colab.research.google.com/github/tensorflow/docs/blob/master/site/en/tutorials/text/nmt_with_attention.ipynb\">\n",
    "    <img src=\"https://www.tensorflow.org/images/colab_logo_32px.png\" />\n",
    "    Run in Google Colab</a>\n",
    "  </td>\n",
    "  <td>\n",
    "    <a target=\"_blank\" href=\"https://github.com/tensorflow/docs/blob/master/site/en/tutorials/text/nmt_with_attention.ipynb\">\n",
    "    <img src=\"https://www.tensorflow.org/images/GitHub-Mark-32px.png\" />\n",
    "    View source on GitHub</a>\n",
    "  </td>\n",
    "  <td>\n",
    "    <a href=\"https://storage.googleapis.com/tensorflow_docs/docs/site/en/tutorials/text/nmt_with_attention.ipynb\"><img src=\"https://www.tensorflow.org/images/download_logo_32px.png\" />Download notebook</a>\n",
    "  </td>\n",
    "</table>"
   ]
  },
  {
   "cell_type": "markdown",
   "metadata": {
    "id": "CiwtNgENbx2g"
   },
   "source": [
    "This notebook trains a sequence to sequence (seq2seq) model for Spanish to English translation. This is an advanced example that assumes some knowledge of sequence to sequence models.\n",
    "\n",
    "After training the model in this notebook, you will be able to input a Spanish sentence, such as *\"¿todavia estan en casa?\"*, and return the English translation: *\"are you still at home?\"*\n",
    "\n",
    "The translation quality is reasonable for a toy example, but the generated attention plot is perhaps more interesting. This shows which parts of the input sentence has the model's attention while translating:\n",
    "\n",
    "<img src=\"https://tensorflow.org/images/spanish-english.png\" alt=\"spanish-english attention plot\">\n",
    "\n",
    "Note: This example takes approximately 10 minutes to run on a single P100 GPU."
   ]
  },
  {
   "cell_type": "code",
   "execution_count": 2,
   "metadata": {
    "id": "tnxXKDjq3jEL"
   },
   "outputs": [],
   "source": [
    "import tensorflow as tf\n",
    "import tensorflow_datasets as tfds\n",
    "\n",
    "import matplotlib.pyplot as plt\n",
    "import matplotlib.ticker as ticker\n",
    "# from sklearn.model_selection import train_test_split\n",
    "\n",
    "import unicodedata\n",
    "import re\n",
    "import numpy as np\n",
    "import os\n",
    "import io\n",
    "import time\n",
    "\n",
    "# from nltk import ngrams\n",
    "# from collections import Counter\n",
    "import  nltk.translate.bleu_score as bleu"
   ]
  },
  {
   "cell_type": "markdown",
   "metadata": {
    "id": "wfodePkj3jEa"
   },
   "source": [
    "## Download and prepare the dataset\n",
    "\n",
    "We'll use a language dataset provided by http://www.manythings.org/anki/. This dataset contains language translation pairs in the format:\n",
    "\n",
    "```\n",
    "May I borrow this book?\t¿Puedo tomar prestado este libro?\n",
    "```\n",
    "\n",
    "There are a variety of languages available, but we'll use the English-Spanish dataset. For convenience, we've hosted a copy of this dataset on Google Cloud, but you can also download your own copy. After downloading the dataset, here are the steps we'll take to prepare the data:\n",
    "\n",
    "1. Add a *start* and *end* token to each sentence.\n",
    "2. Clean the sentences by removing special characters.\n",
    "3. Create a word index and reverse word index (dictionaries mapping from word → id and id → word).\n",
    "4. Pad each sentence to a maximum length."
   ]
  },
  {
   "cell_type": "code",
   "execution_count": 3,
   "metadata": {},
   "outputs": [],
   "source": [
    "examples, metadata = tfds.load('ted_hrlr_translate/pt_to_en', with_info=True,\n",
    "                               as_supervised=True)\n",
    "train_examples, val_examples = examples['train'], examples['validation']"
   ]
  },
  {
   "cell_type": "code",
   "execution_count": 4,
   "metadata": {
    "id": "rd0jw-eC3jEh"
   },
   "outputs": [],
   "source": [
    "# Converts the unicode file to ascii\n",
    "# def unicode_to_ascii(s):\n",
    "#   return ''.join(c for c in unicodedata.normalize('NFD', s)\n",
    "#       if unicodedata.category(c) != 'Mn')\n",
    "\n",
    "\n",
    "def preprocess_sentence(w):\n",
    "#   w = unicode_to_ascii(w.lower().strip())\n",
    "  w = w.lower().strip()\n",
    "\n",
    "  # creating a space between a word and the punctuation following it\n",
    "  # eg: \"he is a boy.\" => \"he is a boy .\"\n",
    "  # Reference:- https://stackoverflow.com/questions/3645931/python-padding-punctuation-with-white-spaces-keeping-punctuation\n",
    "  w = re.sub(r\"([?.!,¿])\", r\" \\1 \", w)\n",
    "  w = re.sub(r'[\" \"]+', \" \", w)\n",
    "\n",
    "  # replacing everything with space except (a-z, A-Z, \".\", \"?\", \"!\", \",\")\n",
    "  w = re.sub(r\"[^a-zA-Z?.!,¿]+\", \" \", w)\n",
    "\n",
    "  w = w.strip()\n",
    "\n",
    "  # adding a start and an end token to the sentence\n",
    "  # so that the model know when to start and stop predicting.\n",
    "  w = '<start> ' + w + ' <end>'\n",
    "  return w"
   ]
  },
  {
   "cell_type": "code",
   "execution_count": 5,
   "metadata": {
    "id": "opI2GzOt479E"
   },
   "outputs": [
    {
     "name": "stdout",
     "output_type": "stream",
     "text": [
      "<start> may i borrow this book ? <end>\n",
      "b'<start> \\xc2\\xbf puedo tomar prestado este libro ? <end>'\n"
     ]
    }
   ],
   "source": [
    "en_sentence = u\"May I borrow this book?\"\n",
    "sp_sentence = u\"¿Puedo tomar prestado este libro?\"\n",
    "print(preprocess_sentence(en_sentence))\n",
    "print(preprocess_sentence(sp_sentence).encode('utf-8'))"
   ]
  },
  {
   "cell_type": "code",
   "execution_count": 6,
   "metadata": {},
   "outputs": [],
   "source": [
    "# type(en_sentence)"
   ]
  },
  {
   "cell_type": "code",
   "execution_count": 7,
   "metadata": {
    "id": "OHn4Dct23jEm"
   },
   "outputs": [],
   "source": [
    "# 1. Remove the accents\n",
    "# 2. Clean the sentences\n",
    "# 3. Return word pairs in the format: [ENGLISH, SPANISH]\n",
    "# def create_dataset(path, num_examples1, num_examples2):\n",
    "#   lines = io.open(path, encoding='UTF-8').read().strip().split('\\n')\n",
    "\n",
    "#   word_pairs = [[preprocess_sentence(w) for w in l.split('\\t')]  for l in lines[num_examples1:num_examples2]]\n",
    "\n",
    "#   return zip(*word_pairs)"
   ]
  },
  {
   "cell_type": "code",
   "execution_count": 8,
   "metadata": {},
   "outputs": [],
   "source": [
    "def create_dataset(examples, num1,num2):\n",
    "#   lines = io.open(path, encoding='UTF-8').read().strip().split('\\n')\n",
    "\n",
    "  word_pairs = [[preprocess_sentence(pt_.numpy().decode(\"utf-8\", \"ignore\")), preprocess_sentence(en_.numpy().decode(\"utf-8\", \"ignore\"))]  for pt_, en_ in examples]\n",
    "  word_pairs = word_pairs[num1:num2]\n",
    "  return zip(*word_pairs)"
   ]
  },
  {
   "cell_type": "code",
   "execution_count": 9,
   "metadata": {
    "id": "cTbSbBz55QtF"
   },
   "outputs": [
    {
     "name": "stdout",
     "output_type": "stream",
     "text": [
      "<start> os meus alunos t m problemas , problemas sociais , emocionais e econ micos , que voc s nem podem imaginar . <end>\n",
      "<start> my students have problems social , emotional and economic problems you could never imagine . <end>\n"
     ]
    }
   ],
   "source": [
    "pt, en = create_dataset(train_examples,None,None)\n",
    "print(pt[-1])\n",
    "print(en[-1])"
   ]
  },
  {
   "cell_type": "code",
   "execution_count": 10,
   "metadata": {},
   "outputs": [],
   "source": [
    "# len(pt)"
   ]
  },
  {
   "cell_type": "code",
   "execution_count": 11,
   "metadata": {},
   "outputs": [],
   "source": [
    "# pt = pt[0:30000]\n",
    "# en = en[0:30000]"
   ]
  },
  {
   "cell_type": "code",
   "execution_count": 12,
   "metadata": {
    "id": "bIOn8RCNDJXG"
   },
   "outputs": [],
   "source": [
    "def tokenize(lang):\n",
    "  lang_tokenizer = tf.keras.preprocessing.text.Tokenizer(\n",
    "      filters='')\n",
    "  lang_tokenizer.fit_on_texts(lang)\n",
    "\n",
    "  tensor = lang_tokenizer.texts_to_sequences(lang)\n",
    "\n",
    "  tensor = tf.keras.preprocessing.sequence.pad_sequences(tensor,\n",
    "                                                         padding='post')\n",
    "\n",
    "  return tensor, lang_tokenizer"
   ]
  },
  {
   "cell_type": "code",
   "execution_count": 13,
   "metadata": {
    "id": "eAY9k49G3jE_"
   },
   "outputs": [],
   "source": [
    "def load_dataset(examples,num1,num2):\n",
    "  # creating cleaned input, output pairs\n",
    "  inp_lang, targ_lang = create_dataset(examples,num1,num2)\n",
    "\n",
    "  input_tensor, inp_lang_tokenizer = tokenize(inp_lang)\n",
    "  target_tensor, targ_lang_tokenizer = tokenize(targ_lang)\n",
    "\n",
    "  return input_tensor, target_tensor, inp_lang_tokenizer, targ_lang_tokenizer"
   ]
  },
  {
   "cell_type": "markdown",
   "metadata": {
    "id": "GOi42V79Ydlr"
   },
   "source": [
    "### Limit the size of the dataset to experiment faster (optional)\n",
    "\n",
    "Training on the complete dataset of >100,000 sentences will take a long time. To train faster, we can limit the size of the dataset to 30,000 sentences (of course, translation quality degrades with less data):"
   ]
  },
  {
   "cell_type": "code",
   "execution_count": 14,
   "metadata": {
    "id": "cnxC7q-j3jFD"
   },
   "outputs": [],
   "source": [
    "# Try experimenting with the size of that dataset\n",
    "# num_examples = 30000\n",
    "num1 =0\n",
    "num2 = 30000\n",
    "input_tensor, target_tensor, inp_lang, targ_lang = load_dataset(train_examples,num1,num2)\n",
    "\n",
    "# Calculate max_length of the target tensors\n",
    "max_length_targ, max_length_inp = target_tensor.shape[1], input_tensor.shape[1]"
   ]
  },
  {
   "cell_type": "code",
   "execution_count": 15,
   "metadata": {},
   "outputs": [
    {
     "name": "stdout",
     "output_type": "stream",
     "text": [
      "30000 30000\n"
     ]
    }
   ],
   "source": [
    "input_tensor_train = input_tensor\n",
    "target_tensor_train = target_tensor\n",
    "\n",
    "print(len(input_tensor_train), len(target_tensor_train))"
   ]
  },
  {
   "cell_type": "code",
   "execution_count": 16,
   "metadata": {},
   "outputs": [
    {
     "data": {
      "text/plain": [
       "array([[   3,    9,   44, ...,    0,    0,    0],\n",
       "       [   3,   25,    9, ...,    0,    0,    0],\n",
       "       [   3,   25,   61, ...,    0,    0,    0],\n",
       "       ...,\n",
       "       [   3,   30,  161, ...,    0,    0,    0],\n",
       "       [   3,  216,   13, ...,    0,    0,    0],\n",
       "       [   3,   15, 5956, ...,    0,    0,    0]])"
      ]
     },
     "execution_count": 16,
     "metadata": {},
     "output_type": "execute_result"
    }
   ],
   "source": [
    "input_tensor_train"
   ]
  },
  {
   "cell_type": "code",
   "execution_count": 17,
   "metadata": {},
   "outputs": [],
   "source": [
    "# input_tensor_test, target_tensor_test, inp_lang_test, targ_lang_test = load_dataset(path_to_file, 5000, 5500)"
   ]
  },
  {
   "cell_type": "code",
   "execution_count": 18,
   "metadata": {},
   "outputs": [],
   "source": [
    "# print(len(input_tensor_test), len(target_tensor_test))"
   ]
  },
  {
   "cell_type": "code",
   "execution_count": 19,
   "metadata": {
    "id": "4QILQkOs3jFG"
   },
   "outputs": [],
   "source": [
    "# # Creating training and validation sets using an 80-20 split\n",
    "# input_tensor_train, input_tensor_val, target_tensor_train, target_tensor_val = train_test_split(input_tensor, target_tensor, test_size=0.2)\n",
    "\n",
    "# # Show length\n",
    "# print(len(input_tensor_train), len(target_tensor_train), len(input_tensor_val), len(target_tensor_val))"
   ]
  },
  {
   "cell_type": "code",
   "execution_count": 20,
   "metadata": {
    "id": "lJPmLZGMeD5q"
   },
   "outputs": [],
   "source": [
    "# def convert(lang, tensor):\n",
    "#   output_sentence = []\n",
    "#   for t in tensor:\n",
    "#     if t!=0:\n",
    "#       print (\"%d ----> %s\" % (t, lang.index_word[t]))\n",
    "#       output_sentence.append(lang.index_word[t])\n",
    "        \n",
    "#   return ' '.join(output_sentence)"
   ]
  },
  {
   "cell_type": "code",
   "execution_count": 21,
   "metadata": {
    "id": "VXukARTDd7MT"
   },
   "outputs": [],
   "source": [
    "# print (\"Input Language; index to word mapping\")\n",
    "# convert(inp_lang, input_tensor_train[0])\n",
    "# print ()\n",
    "# print (\"Target Language; index to word mapping\")\n",
    "# convert(targ_lang, target_tensor_train[0])"
   ]
  },
  {
   "cell_type": "code",
   "execution_count": 22,
   "metadata": {},
   "outputs": [],
   "source": [
    "# convert(targ_lang, target_tensor_train[10])"
   ]
  },
  {
   "cell_type": "markdown",
   "metadata": {
    "id": "rgCLkfv5uO3d"
   },
   "source": [
    "### Create a tf.data dataset"
   ]
  },
  {
   "cell_type": "code",
   "execution_count": 23,
   "metadata": {
    "id": "TqHsArVZ3jFS"
   },
   "outputs": [],
   "source": [
    "BUFFER_SIZE = len(input_tensor_train)\n",
    "BATCH_SIZE = 4\n",
    "steps_per_epoch = len(input_tensor_train)//BATCH_SIZE\n",
    "embedding_dim = 16 #100\n",
    "units = 64 #1024\n",
    "vocab_inp_size = len(inp_lang.word_index)+1\n",
    "vocab_tar_size = len(targ_lang.word_index)+1\n",
    "\n",
    "dataset = tf.data.Dataset.from_tensor_slices((input_tensor_train, target_tensor_train)).shuffle(BUFFER_SIZE)\n",
    "dataset = dataset.batch(BATCH_SIZE, drop_remainder=True)"
   ]
  },
  {
   "cell_type": "code",
   "execution_count": 24,
   "metadata": {
    "id": "qc6-NK1GtWQt"
   },
   "outputs": [
    {
     "data": {
      "text/plain": [
       "(TensorShape([4, 165]), TensorShape([4, 137]))"
      ]
     },
     "execution_count": 24,
     "metadata": {},
     "output_type": "execute_result"
    }
   ],
   "source": [
    "example_input_batch, example_target_batch = next(iter(dataset))\n",
    "example_input_batch.shape, example_target_batch.shape"
   ]
  },
  {
   "cell_type": "markdown",
   "metadata": {
    "id": "TNfHIF71ulLu"
   },
   "source": [
    "## Write the encoder and decoder model\n",
    "\n",
    "Implement an encoder-decoder model with attention which you can read about in the TensorFlow [Neural Machine Translation (seq2seq) tutorial](https://github.com/tensorflow/nmt). This example uses a more recent set of APIs. This notebook implements the [attention equations](https://github.com/tensorflow/nmt#background-on-the-attention-mechanism) from the seq2seq tutorial. The following diagram shows that each input words is assigned a weight by the attention mechanism which is then used by the decoder to predict the next word in the sentence. The below picture and formulas are an example of attention mechanism from [Luong's paper](https://arxiv.org/abs/1508.04025v5). \n",
    "\n",
    "<img src=\"https://www.tensorflow.org/images/seq2seq/attention_mechanism.jpg\" width=\"500\" alt=\"attention mechanism\">\n",
    "\n",
    "The input is put through an encoder model which gives us the encoder output of shape *(batch_size, max_length, hidden_size)* and the encoder hidden state of shape *(batch_size, hidden_size)*.\n",
    "\n",
    "Here are the equations that are implemented:\n",
    "\n",
    "<img src=\"https://www.tensorflow.org/images/seq2seq/attention_equation_0.jpg\" alt=\"attention equation 0\" width=\"800\">\n",
    "<img src=\"https://www.tensorflow.org/images/seq2seq/attention_equation_1.jpg\" alt=\"attention equation 1\" width=\"800\">\n",
    "\n",
    "This tutorial uses [Bahdanau attention](https://arxiv.org/pdf/1409.0473.pdf) for the encoder. Let's decide on notation before writing the simplified form:\n",
    "\n",
    "* FC = Fully connected (dense) layer\n",
    "* EO = Encoder output\n",
    "* H = hidden state\n",
    "* X = input to the decoder\n",
    "\n",
    "And the pseudo-code:\n",
    "\n",
    "* `score = FC(tanh(FC(EO) + FC(H)))`\n",
    "* `attention weights = softmax(score, axis = 1)`. Softmax by default is applied on the last axis but here we want to apply it on the *1st axis*, since the shape of score is *(batch_size, max_length, hidden_size)*. `Max_length` is the length of our input. Since we are trying to assign a weight to each input, softmax should be applied on that axis.\n",
    "* `context vector = sum(attention weights * EO, axis = 1)`. Same reason as above for choosing axis as 1.\n",
    "* `embedding output` = The input to the decoder X is passed through an embedding layer.\n",
    "* `merged vector = concat(embedding output, context vector)`\n",
    "* This merged vector is then given to the GRU\n",
    "\n",
    "The shapes of all the vectors at each step have been specified in the comments in the code:"
   ]
  },
  {
   "cell_type": "code",
   "execution_count": 25,
   "metadata": {
    "id": "nZ2rI24i3jFg"
   },
   "outputs": [],
   "source": [
    "class Encoder(tf.keras.Model):\n",
    "  def __init__(self, vocab_size, embedding_dim, enc_units, batch_sz):\n",
    "    super(Encoder, self).__init__()\n",
    "    self.batch_sz = batch_sz\n",
    "    self.enc_units = enc_units\n",
    "    self.embedding = tf.keras.layers.Embedding(vocab_size, embedding_dim)\n",
    "    self.gru = tf.keras.layers.GRU(self.enc_units,\n",
    "                                   return_sequences=True,\n",
    "                                   return_state=True,\n",
    "                                   recurrent_initializer='glorot_uniform')\n",
    "\n",
    "  def call(self, x, hidden):\n",
    "    x = self.embedding(x)\n",
    "    output, state = self.gru(x, initial_state = hidden)\n",
    "    return output, state\n",
    "\n",
    "  def initialize_hidden_state(self):\n",
    "    return tf.zeros((self.batch_sz, self.enc_units))"
   ]
  },
  {
   "cell_type": "code",
   "execution_count": 26,
   "metadata": {
    "id": "60gSVh05Jl6l"
   },
   "outputs": [
    {
     "name": "stdout",
     "output_type": "stream",
     "text": [
      "Encoder output shape: (batch size, sequence length, units) (4, 165, 64)\n",
      "Encoder Hidden state shape: (batch size, units) (4, 64)\n"
     ]
    }
   ],
   "source": [
    "encoder = Encoder(vocab_inp_size, embedding_dim, units, BATCH_SIZE)\n",
    "\n",
    "# sample input\n",
    "sample_hidden = encoder.initialize_hidden_state()\n",
    "sample_output, sample_hidden = encoder(example_input_batch, sample_hidden)\n",
    "print ('Encoder output shape: (batch size, sequence length, units) {}'.format(sample_output.shape))\n",
    "print ('Encoder Hidden state shape: (batch size, units) {}'.format(sample_hidden.shape))"
   ]
  },
  {
   "cell_type": "code",
   "execution_count": 27,
   "metadata": {
    "id": "umohpBN2OM94"
   },
   "outputs": [],
   "source": [
    "class BahdanauAttention(tf.keras.layers.Layer):\n",
    "  def __init__(self, units):\n",
    "    super(BahdanauAttention, self).__init__()\n",
    "    self.W1 = tf.keras.layers.Dense(units)\n",
    "    self.W2 = tf.keras.layers.Dense(units)\n",
    "    self.V = tf.keras.layers.Dense(1)\n",
    "\n",
    "  def call(self, query, values):\n",
    "    # query hidden state shape == (batch_size, hidden size)\n",
    "    # query_with_time_axis shape == (batch_size, 1, hidden size)\n",
    "    # values shape == (batch_size, max_len, hidden size)\n",
    "    # we are doing this to broadcast addition along the time axis to calculate the score\n",
    "    query_with_time_axis = tf.expand_dims(query, 1)\n",
    "\n",
    "    # score shape == (batch_size, max_length, 1)\n",
    "    # we get 1 at the last axis because we are applying score to self.V\n",
    "    # the shape of the tensor before applying self.V is (batch_size, max_length, units)\n",
    "    score = self.V(tf.nn.tanh(\n",
    "        self.W1(query_with_time_axis) + self.W2(values)))\n",
    "\n",
    "    # attention_weights shape == (batch_size, max_length, 1)\n",
    "    attention_weights = tf.nn.softmax(score, axis=1)\n",
    "\n",
    "    # context_vector shape after sum == (batch_size, hidden_size)\n",
    "    context_vector = attention_weights * values\n",
    "    context_vector = tf.reduce_sum(context_vector, axis=1)\n",
    "\n",
    "    return context_vector, attention_weights"
   ]
  },
  {
   "cell_type": "code",
   "execution_count": 28,
   "metadata": {
    "id": "k534zTHiDjQU"
   },
   "outputs": [
    {
     "name": "stdout",
     "output_type": "stream",
     "text": [
      "Attention result shape: (batch size, units) (4, 64)\n",
      "Attention weights shape: (batch_size, sequence_length, 1) (4, 165, 1)\n"
     ]
    }
   ],
   "source": [
    "attention_layer = BahdanauAttention(10)\n",
    "attention_result, attention_weights = attention_layer(sample_hidden, sample_output)\n",
    "\n",
    "print(\"Attention result shape: (batch size, units) {}\".format(attention_result.shape))\n",
    "print(\"Attention weights shape: (batch_size, sequence_length, 1) {}\".format(attention_weights.shape))"
   ]
  },
  {
   "cell_type": "code",
   "execution_count": 29,
   "metadata": {
    "id": "yJ_B3mhW3jFk"
   },
   "outputs": [],
   "source": [
    "class Decoder(tf.keras.Model):\n",
    "  def __init__(self, vocab_size, embedding_dim, dec_units, batch_sz):\n",
    "    super(Decoder, self).__init__()\n",
    "    self.batch_sz = batch_sz\n",
    "    self.dec_units = dec_units\n",
    "    self.embedding = tf.keras.layers.Embedding(vocab_size, embedding_dim)\n",
    "    self.gru = tf.keras.layers.GRU(self.dec_units,\n",
    "                                   return_sequences=True,\n",
    "                                   return_state=True,\n",
    "                                   recurrent_initializer='glorot_uniform')\n",
    "    self.fc = tf.keras.layers.Dense(vocab_size)\n",
    "\n",
    "    # used for attention\n",
    "    self.attention = BahdanauAttention(self.dec_units)\n",
    "\n",
    "  def call(self, x, hidden, enc_output):\n",
    "    # enc_output shape == (batch_size, max_length, hidden_size)\n",
    "    context_vector, attention_weights = self.attention(hidden, enc_output)\n",
    "\n",
    "    # x shape after passing through embedding == (batch_size, 1, embedding_dim)\n",
    "    x = self.embedding(x)\n",
    "\n",
    "    # x shape after concatenation == (batch_size, 1, embedding_dim + hidden_size)\n",
    "    x = tf.concat([tf.expand_dims(context_vector, 1), x], axis=-1)\n",
    "\n",
    "    # passing the concatenated vector to the GRU\n",
    "    output, state = self.gru(x)\n",
    "\n",
    "    # output shape == (batch_size * 1, hidden_size)\n",
    "    output = tf.reshape(output, (-1, output.shape[2]))\n",
    "\n",
    "    # output shape == (batch_size, vocab)\n",
    "    x = self.fc(output)\n",
    "\n",
    "    return x, state, attention_weights"
   ]
  },
  {
   "cell_type": "code",
   "execution_count": 30,
   "metadata": {
    "id": "P5UY8wko3jFp"
   },
   "outputs": [
    {
     "name": "stdout",
     "output_type": "stream",
     "text": [
      "Decoder output shape: (batch_size, vocab size) (4, 20847)\n"
     ]
    }
   ],
   "source": [
    "decoder = Decoder(vocab_tar_size, embedding_dim, units, BATCH_SIZE)\n",
    "\n",
    "sample_decoder_output, _, _ = decoder(tf.random.uniform((BATCH_SIZE, 1)),\n",
    "                                      sample_hidden, sample_output)\n",
    "\n",
    "print ('Decoder output shape: (batch_size, vocab size) {}'.format(sample_decoder_output.shape))"
   ]
  },
  {
   "cell_type": "markdown",
   "metadata": {
    "id": "_ch_71VbIRfK"
   },
   "source": [
    "## Define the optimizer and the loss function"
   ]
  },
  {
   "cell_type": "code",
   "execution_count": 31,
   "metadata": {
    "id": "WmTHr5iV3jFr"
   },
   "outputs": [],
   "source": [
    "optimizer = tf.keras.optimizers.Adam()\n",
    "loss_object = tf.keras.losses.SparseCategoricalCrossentropy(\n",
    "    from_logits=True, reduction='none')\n",
    "\n",
    "def loss_function(real, pred):\n",
    "  mask = tf.math.logical_not(tf.math.equal(real, 0))\n",
    "  loss_ = loss_object(real, pred)\n",
    "\n",
    "  mask = tf.cast(mask, dtype=loss_.dtype)\n",
    "  loss_ *= mask\n",
    "\n",
    "  return tf.reduce_mean(loss_)"
   ]
  },
  {
   "cell_type": "markdown",
   "metadata": {
    "id": "DMVWzzsfNl4e"
   },
   "source": [
    "## Checkpoints (Object-based saving)"
   ]
  },
  {
   "cell_type": "code",
   "execution_count": 32,
   "metadata": {
    "id": "Zj8bXQTgNwrF"
   },
   "outputs": [],
   "source": [
    "checkpoint_dir = './training_checkpoints'\n",
    "checkpoint_prefix = os.path.join(checkpoint_dir, \"ckpt\")\n",
    "checkpoint = tf.train.Checkpoint(optimizer=optimizer,\n",
    "                                 encoder=encoder,\n",
    "                                 decoder=decoder)"
   ]
  },
  {
   "cell_type": "markdown",
   "metadata": {
    "id": "hpObfY22IddU"
   },
   "source": [
    "## Training\n",
    "\n",
    "1. Pass the *input* through the *encoder* which return *encoder output* and the *encoder hidden state*.\n",
    "2. The encoder output, encoder hidden state and the decoder input (which is the *start token*) is passed to the decoder.\n",
    "3. The decoder returns the *predictions* and the *decoder hidden state*.\n",
    "4. The decoder hidden state is then passed back into the model and the predictions are used to calculate the loss.\n",
    "5. Use *teacher forcing* to decide the next input to the decoder.\n",
    "6. *Teacher forcing* is the technique where the *target word* is passed as the *next input* to the decoder.\n",
    "7. The final step is to calculate the gradients and apply it to the optimizer and backpropagate."
   ]
  },
  {
   "cell_type": "code",
   "execution_count": 33,
   "metadata": {},
   "outputs": [],
   "source": [
    "train_loss = tf.keras.metrics.Mean(name='train_loss')\n",
    "# train_accuracy = tf.keras.metrics.SparseCategoricalAccuracy(\n",
    "#     name='train_accuracy')"
   ]
  },
  {
   "cell_type": "code",
   "execution_count": 34,
   "metadata": {
    "id": "sC9ArXSsVfqn"
   },
   "outputs": [],
   "source": [
    "@tf.function\n",
    "def train_step(inp, targ, enc_hidden):\n",
    "  loss = 0\n",
    "\n",
    "  with tf.GradientTape() as tape:\n",
    "    enc_output, enc_hidden = encoder(inp, enc_hidden)\n",
    "\n",
    "    dec_hidden = enc_hidden\n",
    "\n",
    "    dec_input = tf.expand_dims([targ_lang.word_index['<start>']] * BATCH_SIZE, 1)\n",
    "\n",
    "    # Teacher forcing - feeding the target as the next input\n",
    "    for t in range(1, targ.shape[1]):\n",
    "      # passing enc_output to the decoder\n",
    "      predictions, dec_hidden, _ = decoder(dec_input, dec_hidden, enc_output)\n",
    "\n",
    "      loss += loss_function(targ[:, t], predictions)\n",
    "\n",
    "      # using teacher forcing\n",
    "      dec_input = tf.expand_dims(targ[:, t], 1)\n",
    "\n",
    "  batch_loss = (loss / int(targ.shape[1]))\n",
    "\n",
    "  variables = encoder.trainable_variables + decoder.trainable_variables\n",
    "\n",
    "  gradients = tape.gradient(loss, variables)\n",
    "\n",
    "  optimizer.apply_gradients(zip(gradients, variables))\n",
    "\n",
    "  return batch_loss"
   ]
  },
  {
   "cell_type": "code",
   "execution_count": 35,
   "metadata": {
    "id": "ddefjBMa3jF0",
    "scrolled": true
   },
   "outputs": [
    {
     "name": "stdout",
     "output_type": "stream",
     "text": [
      "Epoch 1 Batch 0 Loss 1.4700\n",
      "Epoch 1 Batch 100 Loss 0.8479\n",
      "Epoch 1 Batch 200 Loss 0.9519\n",
      "Epoch 1 Batch 300 Loss 0.5723\n",
      "Epoch 1 Batch 400 Loss 0.9170\n",
      "Epoch 1 Batch 500 Loss 1.4269\n",
      "Epoch 1 Batch 600 Loss 1.5227\n",
      "Epoch 1 Batch 700 Loss 0.9392\n",
      "Epoch 1 Batch 800 Loss 0.9810\n",
      "Epoch 1 Batch 900 Loss 1.2328\n",
      "Epoch 1 Batch 1000 Loss 1.7890\n",
      "Epoch 1 Batch 1100 Loss 1.1159\n",
      "Epoch 1 Batch 1200 Loss 0.7002\n",
      "Epoch 1 Batch 1300 Loss 0.4777\n",
      "Epoch 1 Batch 1400 Loss 0.7485\n",
      "Epoch 1 Batch 1500 Loss 1.3388\n",
      "Epoch 1 Batch 1600 Loss 1.4194\n",
      "Epoch 1 Batch 1700 Loss 0.4661\n",
      "Epoch 1 Batch 1800 Loss 0.4669\n",
      "Epoch 1 Batch 1900 Loss 0.6479\n",
      "Epoch 1 Batch 2000 Loss 1.1194\n",
      "Epoch 1 Batch 2100 Loss 0.9814\n",
      "Epoch 1 Batch 2200 Loss 0.6581\n",
      "Epoch 1 Batch 2300 Loss 0.7974\n",
      "Epoch 1 Batch 2400 Loss 0.5485\n",
      "Epoch 1 Batch 2500 Loss 0.8351\n",
      "Epoch 1 Batch 2600 Loss 0.9269\n",
      "Epoch 1 Batch 2700 Loss 0.8286\n",
      "Epoch 1 Batch 2800 Loss 0.6556\n",
      "Epoch 1 Batch 2900 Loss 0.8485\n",
      "Epoch 1 Batch 3000 Loss 1.1158\n",
      "Epoch 1 Batch 3100 Loss 1.5682\n",
      "Epoch 1 Batch 3200 Loss 0.5274\n",
      "Epoch 1 Batch 3300 Loss 0.5522\n",
      "Epoch 1 Batch 3400 Loss 1.0779\n",
      "Epoch 1 Batch 3500 Loss 0.6101\n",
      "Epoch 1 Batch 3600 Loss 0.3994\n",
      "Epoch 1 Batch 3700 Loss 0.4633\n",
      "Epoch 1 Batch 3800 Loss 0.3787\n",
      "Epoch 1 Batch 3900 Loss 1.3113\n",
      "Epoch 1 Batch 4000 Loss 1.2382\n",
      "Epoch 1 Batch 4100 Loss 0.4834\n",
      "Epoch 1 Batch 4200 Loss 1.4702\n",
      "Epoch 1 Batch 4300 Loss 0.5865\n",
      "Epoch 1 Batch 4400 Loss 0.3809\n",
      "Epoch 1 Batch 4500 Loss 0.8502\n",
      "Epoch 1 Batch 4600 Loss 1.0760\n",
      "Epoch 1 Batch 4700 Loss 0.7759\n",
      "Epoch 1 Batch 4800 Loss 1.0490\n",
      "Epoch 1 Batch 4900 Loss 0.6678\n",
      "Epoch 1 Batch 5000 Loss 0.6821\n",
      "Epoch 1 Batch 5100 Loss 0.4991\n",
      "Epoch 1 Batch 5200 Loss 0.4729\n",
      "Epoch 1 Batch 5300 Loss 0.6153\n",
      "Epoch 1 Batch 5400 Loss 0.8976\n",
      "Epoch 1 Batch 5500 Loss 0.4443\n",
      "Epoch 1 Batch 5600 Loss 0.8251\n",
      "Epoch 1 Batch 5700 Loss 0.8275\n",
      "Epoch 1 Batch 5800 Loss 0.4325\n",
      "Epoch 1 Batch 5900 Loss 0.3982\n",
      "Epoch 1 Batch 6000 Loss 1.1119\n",
      "Epoch 1 Batch 6100 Loss 0.6865\n",
      "Epoch 1 Batch 6200 Loss 1.0334\n",
      "Epoch 1 Batch 6300 Loss 0.6897\n",
      "Epoch 1 Batch 6400 Loss 0.4301\n",
      "Epoch 1 Batch 6500 Loss 0.7746\n",
      "Epoch 1 Batch 6600 Loss 0.3149\n",
      "Epoch 1 Batch 6700 Loss 0.2904\n",
      "Epoch 1 Batch 6800 Loss 0.8674\n",
      "Epoch 1 Batch 6900 Loss 0.9204\n",
      "Epoch 1 Batch 7000 Loss 0.6332\n",
      "Epoch 1 Batch 7100 Loss 1.5745\n",
      "Epoch 1 Batch 7200 Loss 0.6119\n",
      "Epoch 1 Batch 7300 Loss 0.4669\n",
      "Epoch 1 Batch 7400 Loss 0.5069\n",
      "Epoch 1 Loss 0.7764\n",
      "Time taken for 1 epoch 1484.3329010009766 sec\n",
      "\n",
      "Epoch 2 Batch 0 Loss 0.7488\n",
      "Epoch 2 Batch 100 Loss 0.8206\n",
      "Epoch 2 Batch 200 Loss 0.5057\n",
      "Epoch 2 Batch 300 Loss 0.7719\n",
      "Epoch 2 Batch 400 Loss 0.6071\n",
      "Epoch 2 Batch 500 Loss 0.3049\n",
      "Epoch 2 Batch 600 Loss 0.8868\n",
      "Epoch 2 Batch 700 Loss 0.4706\n",
      "Epoch 2 Batch 800 Loss 1.2162\n",
      "Epoch 2 Batch 900 Loss 1.3454\n",
      "Epoch 2 Batch 1000 Loss 0.6054\n",
      "Epoch 2 Batch 1100 Loss 1.4840\n",
      "Epoch 2 Batch 1200 Loss 0.5910\n",
      "Epoch 2 Batch 1300 Loss 0.5856\n",
      "Epoch 2 Batch 1400 Loss 1.1666\n",
      "Epoch 2 Batch 1500 Loss 0.3961\n",
      "Epoch 2 Batch 1600 Loss 0.3875\n",
      "Epoch 2 Batch 1700 Loss 1.3122\n",
      "Epoch 2 Batch 1800 Loss 0.5369\n",
      "Epoch 2 Batch 1900 Loss 0.6136\n",
      "Epoch 2 Batch 2000 Loss 0.6475\n",
      "Epoch 2 Batch 2100 Loss 0.3471\n",
      "Epoch 2 Batch 2200 Loss 0.4272\n",
      "Epoch 2 Batch 2300 Loss 0.8531\n",
      "Epoch 2 Batch 2400 Loss 0.7521\n",
      "Epoch 2 Batch 2500 Loss 0.7599\n",
      "Epoch 2 Batch 2600 Loss 0.5532\n",
      "Epoch 2 Batch 2700 Loss 0.5922\n",
      "Epoch 2 Batch 2800 Loss 0.2703\n",
      "Epoch 2 Batch 2900 Loss 0.9495\n",
      "Epoch 2 Batch 3000 Loss 0.5420\n",
      "Epoch 2 Batch 3100 Loss 0.4710\n",
      "Epoch 2 Batch 3200 Loss 0.9628\n",
      "Epoch 2 Batch 3300 Loss 0.5098\n",
      "Epoch 2 Batch 3400 Loss 0.4826\n",
      "Epoch 2 Batch 3500 Loss 0.4347\n",
      "Epoch 2 Batch 3600 Loss 0.5014\n",
      "Epoch 2 Batch 3700 Loss 0.7591\n",
      "Epoch 2 Batch 3800 Loss 0.5020\n",
      "Epoch 2 Batch 3900 Loss 0.8952\n",
      "Epoch 2 Batch 4000 Loss 0.4291\n",
      "Epoch 2 Batch 4100 Loss 0.9464\n",
      "Epoch 2 Batch 4200 Loss 1.0154\n",
      "Epoch 2 Batch 4300 Loss 1.1227\n",
      "Epoch 2 Batch 4400 Loss 1.4027\n",
      "Epoch 2 Batch 4500 Loss 0.2838\n",
      "Epoch 2 Batch 4600 Loss 1.0475\n",
      "Epoch 2 Batch 4700 Loss 0.8249\n",
      "Epoch 2 Batch 4800 Loss 0.4504\n",
      "Epoch 2 Batch 4900 Loss 1.0029\n",
      "Epoch 2 Batch 5000 Loss 0.5587\n",
      "Epoch 2 Batch 5100 Loss 0.5706\n",
      "Epoch 2 Batch 5200 Loss 0.7680\n",
      "Epoch 2 Batch 5300 Loss 0.7616\n",
      "Epoch 2 Batch 5400 Loss 0.4803\n",
      "Epoch 2 Batch 5500 Loss 0.7667\n",
      "Epoch 2 Batch 5600 Loss 0.5666\n",
      "Epoch 2 Batch 5700 Loss 0.7990\n",
      "Epoch 2 Batch 5800 Loss 0.6493\n",
      "Epoch 2 Batch 5900 Loss 0.4689\n",
      "Epoch 2 Batch 6000 Loss 0.5079\n",
      "Epoch 2 Batch 6100 Loss 0.6318\n",
      "Epoch 2 Batch 6200 Loss 0.9038\n",
      "Epoch 2 Batch 6300 Loss 0.5973\n",
      "Epoch 2 Batch 6400 Loss 0.7513\n",
      "Epoch 2 Batch 6500 Loss 1.1958\n",
      "Epoch 2 Batch 6600 Loss 0.6650\n",
      "Epoch 2 Batch 6700 Loss 0.6708\n",
      "Epoch 2 Batch 6800 Loss 1.0692\n",
      "Epoch 2 Batch 6900 Loss 0.2972\n",
      "Epoch 2 Batch 7000 Loss 0.6956\n",
      "Epoch 2 Batch 7100 Loss 0.7220\n",
      "Epoch 2 Batch 7200 Loss 1.0133\n",
      "Epoch 2 Batch 7300 Loss 0.4158\n",
      "Epoch 2 Batch 7400 Loss 0.8692\n",
      "Epoch 2 Loss 0.6847\n",
      "Time taken for 1 epoch 1300.2570419311523 sec\n",
      "\n"
     ]
    }
   ],
   "source": [
    "EPOCHS = 2\n",
    "\n",
    "for epoch in range(EPOCHS):\n",
    "  start = time.time()\n",
    "\n",
    "  enc_hidden = encoder.initialize_hidden_state()\n",
    "  total_loss = 0\n",
    "\n",
    "  for (batch, (inp, targ)) in enumerate(dataset.take(steps_per_epoch)):\n",
    "    batch_loss = train_step(inp, targ, enc_hidden)\n",
    "    total_loss += batch_loss\n",
    "\n",
    "    if batch % 100 == 0:\n",
    "      print('Epoch {} Batch {} Loss {:.4f}'.format(epoch + 1,\n",
    "                                                   batch,\n",
    "                                                   batch_loss.numpy()))\n",
    "  # saving (checkpoint) the model every 2 epochs\n",
    "  if (epoch + 1) % 2 == 0:\n",
    "    checkpoint.save(file_prefix = checkpoint_prefix)\n",
    "\n",
    "  print('Epoch {} Loss {:.4f}'.format(epoch + 1,\n",
    "                                      total_loss / steps_per_epoch))\n",
    "  print('Time taken for 1 epoch {} sec\\n'.format(time.time() - start))"
   ]
  },
  {
   "cell_type": "code",
   "execution_count": 51,
   "metadata": {},
   "outputs": [
    {
     "data": {
      "text/plain": [
       "46.4"
      ]
     },
     "execution_count": 51,
     "metadata": {},
     "output_type": "execute_result"
    }
   ],
   "source": [
    "(1484+1300)/60"
   ]
  },
  {
   "cell_type": "markdown",
   "metadata": {
    "id": "mU3Ce8M6I3rz"
   },
   "source": [
    "## Translate\n",
    "\n",
    "* The evaluate function is similar to the training loop, except we don't use *teacher forcing* here. The input to the decoder at each time step is its previous predictions along with the hidden state and the encoder output.\n",
    "* Stop predicting when the model predicts the *end token*.\n",
    "* And store the *attention weights for every time step*.\n",
    "\n",
    "Note: The encoder output is calculated only once for one input."
   ]
  },
  {
   "cell_type": "code",
   "execution_count": 52,
   "metadata": {
    "id": "EbQpyYs13jF_"
   },
   "outputs": [],
   "source": [
    "def evaluate(sentence):\n",
    "  attention_plot = np.zeros((max_length_targ, max_length_inp))\n",
    "\n",
    "  sentence = preprocess_sentence(sentence)\n",
    "\n",
    "  inputs = [inp_lang.word_index[i] for i in sentence.split(' ')]\n",
    "  inputs = tf.keras.preprocessing.sequence.pad_sequences([inputs],\n",
    "                                                         maxlen=max_length_inp,\n",
    "                                                         padding='post')\n",
    "  inputs = tf.convert_to_tensor(inputs)\n",
    "\n",
    "  result = ''\n",
    "\n",
    "  hidden = [tf.zeros((1, units))]\n",
    "  enc_out, enc_hidden = encoder(inputs, hidden)\n",
    "\n",
    "  dec_hidden = enc_hidden\n",
    "  dec_input = tf.expand_dims([targ_lang.word_index['<start>']], 0)\n",
    "\n",
    "  for t in range(max_length_targ):\n",
    "    predictions, dec_hidden, attention_weights = decoder(dec_input,\n",
    "                                                         dec_hidden,\n",
    "                                                         enc_out)\n",
    "\n",
    "    # storing the attention weights to plot later on\n",
    "    attention_weights = tf.reshape(attention_weights, (-1, ))\n",
    "    attention_plot[t] = attention_weights.numpy()\n",
    "\n",
    "    predicted_id = tf.argmax(predictions[0]).numpy()\n",
    "\n",
    "    result += targ_lang.index_word[predicted_id] + ' '\n",
    "\n",
    "    if targ_lang.index_word[predicted_id] == '<end>':\n",
    "      return result, sentence, attention_plot\n",
    "\n",
    "    # the predicted ID is fed back into the model\n",
    "    dec_input = tf.expand_dims([predicted_id], 0)\n",
    "\n",
    "  return result, sentence, attention_plot"
   ]
  },
  {
   "cell_type": "code",
   "execution_count": 53,
   "metadata": {
    "id": "s5hQWlbN3jGF"
   },
   "outputs": [],
   "source": [
    "# function for plotting the attention weights\n",
    "def plot_attention(attention, sentence, predicted_sentence):\n",
    "  fig = plt.figure(figsize=(10,10))\n",
    "  ax = fig.add_subplot(1, 1, 1)\n",
    "  ax.matshow(attention, cmap='viridis')\n",
    "\n",
    "  fontdict = {'fontsize': 14}\n",
    "\n",
    "  ax.set_xticklabels([''] + sentence, fontdict=fontdict, rotation=90)\n",
    "  ax.set_yticklabels([''] + predicted_sentence, fontdict=fontdict)\n",
    "\n",
    "  ax.xaxis.set_major_locator(ticker.MultipleLocator(1))\n",
    "  ax.yaxis.set_major_locator(ticker.MultipleLocator(1))\n",
    "\n",
    "  plt.show()"
   ]
  },
  {
   "cell_type": "code",
   "execution_count": 54,
   "metadata": {
    "id": "sl9zUHzg3jGI"
   },
   "outputs": [],
   "source": [
    "def translate(sentence):\n",
    "  result, sentence, attention_plot = evaluate(sentence)\n",
    "\n",
    "  print('Input: %s' % (sentence))\n",
    "  print('Predicted translation: {}'.format(result))\n",
    "\n",
    "  attention_plot = attention_plot[:len(result.split(' ')), :len(sentence.split(' '))]\n",
    "  plot_attention(attention_plot, sentence.split(' '), result.split(' '))"
   ]
  },
  {
   "cell_type": "markdown",
   "metadata": {
    "id": "n250XbnjOaqP"
   },
   "source": [
    "## Restore the latest checkpoint and test"
   ]
  },
  {
   "cell_type": "code",
   "execution_count": 55,
   "metadata": {
    "id": "UJpT9D5_OgP6"
   },
   "outputs": [
    {
     "data": {
      "text/plain": [
       "<tensorflow.python.training.tracking.util.CheckpointLoadStatus at 0x1a507358e48>"
      ]
     },
     "execution_count": 55,
     "metadata": {},
     "output_type": "execute_result"
    }
   ],
   "source": [
    "# restoring the latest checkpoint in checkpoint_dir\n",
    "checkpoint.restore(tf.train.latest_checkpoint(checkpoint_dir))"
   ]
  },
  {
   "cell_type": "code",
   "execution_count": 56,
   "metadata": {},
   "outputs": [
    {
     "data": {
      "text/plain": [
       "{'.': 1,\n",
       " ',': 2,\n",
       " '<start>': 3,\n",
       " '<end>': 4,\n",
       " 'o': 5,\n",
       " 'a': 6,\n",
       " 'de': 7,\n",
       " 'que': 8,\n",
       " 'e': 9,\n",
       " 'n': 10,\n",
       " 's': 11,\n",
       " 'um': 12,\n",
       " 'uma': 13,\n",
       " 'para': 14,\n",
       " 'os': 15,\n",
       " 'se': 16,\n",
       " 'em': 17,\n",
       " 'as': 18,\n",
       " 'do': 19,\n",
       " 'com': 20,\n",
       " 'da': 21,\n",
       " 'm': 22,\n",
       " 'como': 23,\n",
       " 'no': 24,\n",
       " 'mas': 25,\n",
       " 'por': 26,\n",
       " '?': 27,\n",
       " 'na': 28,\n",
       " 'mais': 29,\n",
       " 'eu': 30,\n",
       " 'es': 31,\n",
       " 'est': 32,\n",
       " 'nos': 33,\n",
       " 'muito': 34,\n",
       " 'isso': 35,\n",
       " 'isto': 36,\n",
       " 'ser': 37,\n",
       " 'ou': 38,\n",
       " 'pessoas': 39,\n",
       " 'me': 40,\n",
       " 't': 41,\n",
       " 'dos': 42,\n",
       " 'ao': 43,\n",
       " 'quando': 44,\n",
       " 'fazer': 45,\n",
       " 'h': 46,\n",
       " 'ncia': 47,\n",
       " 'porque': 48,\n",
       " 'foi': 49,\n",
       " 'ent': 50,\n",
       " 'esta': 51,\n",
       " 'vel': 52,\n",
       " 'era': 53,\n",
       " 'das': 54,\n",
       " 'este': 55,\n",
       " 'todos': 56,\n",
       " 'anos': 57,\n",
       " 'temos': 58,\n",
       " 'ele': 59,\n",
       " 'sobre': 60,\n",
       " 'eles': 61,\n",
       " 'c': 62,\n",
       " 'v': 63,\n",
       " 'ver': 64,\n",
       " 'tamb': 65,\n",
       " 'aqui': 66,\n",
       " 'agora': 67,\n",
       " 'mundo': 68,\n",
       " 'tem': 69,\n",
       " 'ter': 70,\n",
       " 'minha': 71,\n",
       " 'mesmo': 72,\n",
       " 'meu': 73,\n",
       " 'podem': 74,\n",
       " 'bem': 75,\n",
       " 'ria': 76,\n",
       " 'come': 77,\n",
       " 'forma': 78,\n",
       " 'podemos': 79,\n",
       " 'mos': 80,\n",
       " 'voc': 81,\n",
       " 'pode': 82,\n",
       " 'coisas': 83,\n",
       " 'vida': 84,\n",
       " 'pr': 85,\n",
       " 'apenas': 86,\n",
       " 'onde': 87,\n",
       " 'rio': 88,\n",
       " 'l': 89,\n",
       " 'vamos': 90,\n",
       " 'depois': 91,\n",
       " 'sua': 92,\n",
       " 'vos': 93,\n",
       " 'assim': 94,\n",
       " 'at': 95,\n",
       " 'p': 96,\n",
       " 'tempo': 97,\n",
       " 'vez': 98,\n",
       " 'risos': 99,\n",
       " 'nossa': 100,\n",
       " 'estava': 101,\n",
       " 'tudo': 102,\n",
       " 'tinha': 103,\n",
       " 'num': 104,\n",
       " 'coisa': 105,\n",
       " 'd': 106,\n",
       " 'j': 107,\n",
       " 'dia': 108,\n",
       " 'aplausos': 109,\n",
       " 'dizer': 110,\n",
       " 'seu': 111,\n",
       " 'numa': 112,\n",
       " 'f': 113,\n",
       " 'hist': 114,\n",
       " 'estamos': 115,\n",
       " 'algo': 116,\n",
       " 'cada': 117,\n",
       " 'nas': 118,\n",
       " 'ela': 119,\n",
       " 'ar': 120,\n",
       " 'veis': 121,\n",
       " 'nosso': 122,\n",
       " 'ainda': 123,\n",
       " 'estas': 124,\n",
       " 'parte': 125,\n",
       " 'hoje': 126,\n",
       " 'tica': 127,\n",
       " 'disse': 128,\n",
       " 'tr': 129,\n",
       " 'amos': 130,\n",
       " 'estes': 131,\n",
       " 'grande': 132,\n",
       " 'todo': 133,\n",
       " 'pelo': 134,\n",
       " 'realmente': 135,\n",
       " 'tipo': 136,\n",
       " 'todas': 137,\n",
       " 'vou': 138,\n",
       " 'verdade': 139,\n",
       " 'falar': 140,\n",
       " 'pela': 141,\n",
       " 'faz': 142,\n",
       " 'portanto': 143,\n",
       " 'qualquer': 144,\n",
       " 'pa': 145,\n",
       " 'vezes': 146,\n",
       " 'problema': 147,\n",
       " 'sem': 148,\n",
       " 'aos': 149,\n",
       " 'ir': 150,\n",
       " 'milh': 151,\n",
       " 'lo': 152,\n",
       " 'entre': 153,\n",
       " 'quero': 154,\n",
       " 'poder': 155,\n",
       " 'vai': 156,\n",
       " 'dois': 157,\n",
       " 'seus': 158,\n",
       " 'sempre': 159,\n",
       " 'pouco': 160,\n",
       " 'tenho': 161,\n",
       " 'melhor': 162,\n",
       " 'trabalho': 163,\n",
       " 'outra': 164,\n",
       " 'exemplo': 165,\n",
       " 'toda': 166,\n",
       " 'primeiro': 167,\n",
       " 'rias': 168,\n",
       " 'outros': 169,\n",
       " 'alguns': 170,\n",
       " 'crian': 171,\n",
       " 'cil': 172,\n",
       " 'menos': 173,\n",
       " 'durante': 174,\n",
       " 'essa': 175,\n",
       " 'muitas': 176,\n",
       " 'nunca': 177,\n",
       " 'ideia': 178,\n",
       " 'rios': 179,\n",
       " 'talvez': 180,\n",
       " 'nossos': 181,\n",
       " 'maior': 182,\n",
       " 'quem': 183,\n",
       " 'pensar': 184,\n",
       " 'ano': 185,\n",
       " 'obrigado': 186,\n",
       " 'muitos': 187,\n",
       " 'mim': 188,\n",
       " 'estou': 189,\n",
       " 'estar': 190,\n",
       " 'neste': 191,\n",
       " 'sistema': 192,\n",
       " 'qual': 193,\n",
       " 'duas': 194,\n",
       " 'nossas': 195,\n",
       " 'esse': 196,\n",
       " 'lado': 197,\n",
       " 'informa': 198,\n",
       " 'outro': 199,\n",
       " 'casa': 200,\n",
       " 'antes': 201,\n",
       " 'outras': 202,\n",
       " 'elas': 203,\n",
       " 'suas': 204,\n",
       " 'diferentes': 205,\n",
       " 'lhe': 206,\n",
       " 'precisamos': 207,\n",
       " 'facto': 208,\n",
       " 'pol': 209,\n",
       " 'sica': 210,\n",
       " 'importante': 211,\n",
       " 'sa': 212,\n",
       " 'algumas': 213,\n",
       " 'cio': 214,\n",
       " 'dar': 215,\n",
       " 'nem': 216,\n",
       " 'sou': 217,\n",
       " 'eram': 218,\n",
       " 'mulheres': 219,\n",
       " 'usar': 220,\n",
       " 'rebro': 221,\n",
       " 'qu': 222,\n",
       " 'criar': 223,\n",
       " 'quest': 224,\n",
       " 'algu': 225,\n",
       " 'tentar': 226,\n",
       " 'meus': 227,\n",
       " 'ncias': 228,\n",
       " 'nova': 229,\n",
       " 'dias': 230,\n",
       " 'claro': 231,\n",
       " 'penso': 232,\n",
       " 'quer': 233,\n",
       " 'primeira': 234,\n",
       " '!': 235,\n",
       " 'pessoa': 236,\n",
       " 'significa': 237,\n",
       " 'enquanto': 238,\n",
       " 'atrav': 239,\n",
       " 'seja': 240,\n",
       " 'momento': 241,\n",
       " 'experi': 242,\n",
       " 'dif': 243,\n",
       " 'sabem': 244,\n",
       " 'foram': 245,\n",
       " 'nica': 246,\n",
       " 'raz': 247,\n",
       " 'dados': 248,\n",
       " 'cerca': 249,\n",
       " 'am': 250,\n",
       " 'volta': 251,\n",
       " 'espa': 252,\n",
       " 'mesma': 253,\n",
       " 'bom': 254,\n",
       " 'diferente': 255,\n",
       " 'tecnologia': 256,\n",
       " 'la': 257,\n",
       " 'somos': 258,\n",
       " 'alguma': 259,\n",
       " 'dentro': 260,\n",
       " 'sim': 261,\n",
       " 'nada': 262,\n",
       " 'for': 263,\n",
       " 'tico': 264,\n",
       " 'r': 265,\n",
       " 'disso': 266,\n",
       " 'quase': 267,\n",
       " 'esp': 268,\n",
       " 'novo': 269,\n",
       " 'seria': 270,\n",
       " 'gua': 271,\n",
       " 'acontece': 272,\n",
       " 'sabemos': 273,\n",
       " 'sei': 274,\n",
       " 'fam': 275,\n",
       " 'mero': 276,\n",
       " 'acho': 277,\n",
       " 'parece': 278,\n",
       " 'quanto': 279,\n",
       " 'certo': 280,\n",
       " 'lia': 281,\n",
       " 'diz': 282,\n",
       " 'mil': 283,\n",
       " 'desta': 284,\n",
       " 'estavam': 285,\n",
       " 'realidade': 286,\n",
       " 'los': 287,\n",
       " 'energia': 288,\n",
       " 'encontrar': 289,\n",
       " 'poss': 290,\n",
       " 'futuro': 291,\n",
       " 'fazem': 292,\n",
       " 'maneira': 293,\n",
       " 'mostrar': 294,\n",
       " 'essas': 295,\n",
       " 'fora': 296,\n",
       " 'mudar': 297,\n",
       " 'trabalhar': 298,\n",
       " 'lugar': 299,\n",
       " 'nesta': 300,\n",
       " 'palavras': 301,\n",
       " 'aquilo': 302,\n",
       " 'simples': 303,\n",
       " 'acontecer': 304,\n",
       " 'ci': 305,\n",
       " 'terra': 306,\n",
       " 'dinheiro': 307,\n",
       " 'sido': 308,\n",
       " 'ses': 309,\n",
       " 'altura': 310,\n",
       " 'doen': 311,\n",
       " 'cie': 312,\n",
       " 'tal': 313,\n",
       " 'constru': 314,\n",
       " 'feito': 315,\n",
       " 'desde': 316,\n",
       " 'modo': 317,\n",
       " 'lhes': 318,\n",
       " 'rela': 319,\n",
       " 'havia': 320,\n",
       " 'resposta': 321,\n",
       " 'mudan': 322,\n",
       " 'escola': 323,\n",
       " 'bastante': 324,\n",
       " 'existem': 325,\n",
       " 'meio': 326,\n",
       " 'imagem': 327,\n",
       " 'vossa': 328,\n",
       " 'tinham': 329,\n",
       " 'existe': 330,\n",
       " 'ponto': 331,\n",
       " 'ali': 332,\n",
       " 'posso': 333,\n",
       " 'pequeno': 334,\n",
       " 'ca': 335,\n",
       " 'cidade': 336,\n",
       " 'deste': 337,\n",
       " 'maioria': 338,\n",
       " 'ningu': 339,\n",
       " 'lares': 340,\n",
       " 'passado': 341,\n",
       " 'luz': 342,\n",
       " 'vemos': 343,\n",
       " 'simplesmente': 344,\n",
       " 'uns': 345,\n",
       " 'deles': 346,\n",
       " 'queremos': 347,\n",
       " 'mal': 348,\n",
       " 'fico': 349,\n",
       " 'internet': 350,\n",
       " 'dio': 351,\n",
       " 'quatro': 352,\n",
       " 'construir': 353,\n",
       " 'ajudar': 354,\n",
       " 'ticas': 355,\n",
       " 'homem': 356,\n",
       " 'fui': 357,\n",
       " 'fazemos': 358,\n",
       " 'nico': 359,\n",
       " 'contar': 360,\n",
       " 'al': 361,\n",
       " 'cios': 362,\n",
       " 'obrigada': 363,\n",
       " 'fez': 364,\n",
       " 'ticos': 365,\n",
       " 'funciona': 366,\n",
       " 'aconteceu': 367,\n",
       " 'ssemos': 368,\n",
       " 'problemas': 369,\n",
       " 'fa': 370,\n",
       " 'interessante': 371,\n",
       " 'amigos': 372,\n",
       " 'cinco': 373,\n",
       " 'queria': 374,\n",
       " 'humano': 375,\n",
       " 'acerca': 376,\n",
       " 'vidas': 377,\n",
       " 'tornar': 378,\n",
       " 'humanos': 379,\n",
       " 'frente': 380,\n",
       " 'culo': 381,\n",
       " 'caso': 382,\n",
       " 'si': 383,\n",
       " 'sala': 384,\n",
       " 'esses': 385,\n",
       " 'vosso': 386,\n",
       " 'sociedade': 387,\n",
       " 'corpo': 388,\n",
       " 'contra': 389,\n",
       " 'quais': 390,\n",
       " 'saber': 391,\n",
       " 'podia': 392,\n",
       " 'segundo': 393,\n",
       " 'estado': 394,\n",
       " 'pequena': 395,\n",
       " 'olhar': 396,\n",
       " 'completamente': 397,\n",
       " 'grandes': 398,\n",
       " 'ok': 399,\n",
       " 'las': 400,\n",
       " 'fim': 401,\n",
       " 'homens': 402,\n",
       " 'aprender': 403,\n",
       " 'longo': 404,\n",
       " 'gente': 405,\n",
       " 'provavelmente': 406,\n",
       " 'novas': 407,\n",
       " 'aquele': 408,\n",
       " 'viver': 409,\n",
       " 'caminho': 410,\n",
       " 'deo': 411,\n",
       " 'poderia': 412,\n",
       " 'guerra': 413,\n",
       " 'g': 414,\n",
       " 'not': 415,\n",
       " 'tanto': 416,\n",
       " 'in': 417,\n",
       " 'computador': 418,\n",
       " 'real': 419,\n",
       " 'processo': 420,\n",
       " 'conseguimos': 421,\n",
       " 'boa': 422,\n",
       " 'milhares': 423,\n",
       " 'comunidade': 424,\n",
       " 'querem': 425,\n",
       " 'conseguem': 426,\n",
       " 'empresas': 427,\n",
       " 'chamado': 428,\n",
       " 'stico': 429,\n",
       " 'carro': 430,\n",
       " 'pergunta': 431,\n",
       " 'perceber': 432,\n",
       " 'pai': 433,\n",
       " 'ficar': 434,\n",
       " 'nio': 435,\n",
       " 'matem': 436,\n",
       " 'meses': 437,\n",
       " 'aquela': 438,\n",
       " 'comecei': 439,\n",
       " 'estados': 440,\n",
       " 'arte': 441,\n",
       " 'partir': 442,\n",
       " 'lulas': 443,\n",
       " 'frica': 444,\n",
       " 'melhores': 445,\n",
       " 'causa': 446,\n",
       " 'medo': 447,\n",
       " 'cia': 448,\n",
       " 'algum': 449,\n",
       " 'sentido': 450,\n",
       " 'muita': 451,\n",
       " 'passar': 452,\n",
       " 'preciso': 453,\n",
       " 'rea': 454,\n",
       " 'local': 455,\n",
       " 'chegar': 456,\n",
       " 'fiz': 457,\n",
       " 'imaginem': 458,\n",
       " 'fosse': 459,\n",
       " 'gr': 460,\n",
       " 'fica': 461,\n",
       " 'projeto': 462,\n",
       " 'mulher': 463,\n",
       " 'minhas': 464,\n",
       " 'b': 465,\n",
       " 'incr': 466,\n",
       " 'grupo': 467,\n",
       " 'pelos': 468,\n",
       " 'tarde': 469,\n",
       " 'termos': 470,\n",
       " 'econ': 471,\n",
       " 'stica': 472,\n",
       " 'noite': 473,\n",
       " 'chama': 474,\n",
       " 'carros': 475,\n",
       " 'formas': 476,\n",
       " 'tamanho': 477,\n",
       " 'metros': 478,\n",
       " 'imagens': 479,\n",
       " 'livro': 480,\n",
       " 'economia': 481,\n",
       " 'aqueles': 482,\n",
       " 'jovens': 483,\n",
       " 'atr': 484,\n",
       " 'global': 485,\n",
       " 'eua': 486,\n",
       " 'filhos': 487,\n",
       " 'diferen': 488,\n",
       " 'fizemos': 489,\n",
       " 'vis': 490,\n",
       " 'edif': 491,\n",
       " 'modelo': 492,\n",
       " 'olhos': 493,\n",
       " 'ind': 494,\n",
       " 'solu': 495,\n",
       " 'sabia': 496,\n",
       " 'rede': 497,\n",
       " 'enorme': 498,\n",
       " 'palavra': 499,\n",
       " 'padr': 500,\n",
       " 'ideias': 501,\n",
       " 'tipos': 502,\n",
       " 'viol': 503,\n",
       " 'liga': 504,\n",
       " 'pais': 505,\n",
       " 'desenvolvimento': 506,\n",
       " 'governo': 507,\n",
       " 'digo': 508,\n",
       " 'dele': 509,\n",
       " 'rica': 510,\n",
       " 'destas': 511,\n",
       " 'tive': 512,\n",
       " 'cidades': 513,\n",
       " 'horas': 514,\n",
       " 'certa': 515,\n",
       " 'juntos': 516,\n",
       " 'mica': 517,\n",
       " 'sabe': 518,\n",
       " 'te': 519,\n",
       " 'chamada': 520,\n",
       " 'descobrir': 521,\n",
       " 'nhamos': 522,\n",
       " 'cabe': 523,\n",
       " 'logo': 524,\n",
       " 'social': 525,\n",
       " 'seguran': 526,\n",
       " 'popula': 527,\n",
       " 'comida': 528,\n",
       " 'situa': 529,\n",
       " 'neg': 530,\n",
       " 'maiores': 531,\n",
       " 'teve': 532,\n",
       " 'nome': 533,\n",
       " 'natureza': 534,\n",
       " 'universo': 535,\n",
       " 'humana': 536,\n",
       " 'avan': 537,\n",
       " 'prio': 538,\n",
       " 'fant': 539,\n",
       " 'educa': 540,\n",
       " 'sociais': 541,\n",
       " 'adn': 542,\n",
       " 'planeta': 543,\n",
       " 'voltar': 544,\n",
       " 'porqu': 545,\n",
       " 'base': 546,\n",
       " 'seguir': 547,\n",
       " 'nia': 548,\n",
       " 'mico': 549,\n",
       " 'destes': 550,\n",
       " 'ora': 551,\n",
       " 'ambiente': 552,\n",
       " 'tornou': 553,\n",
       " 'dizem': 554,\n",
       " 'dela': 555,\n",
       " 'ajuda': 556,\n",
       " 'segunda': 557,\n",
       " 'deixar': 558,\n",
       " 'pelas': 559,\n",
       " 'conjunto': 560,\n",
       " 'pria': 561,\n",
       " 'pe': 562,\n",
       " 'deixem': 563,\n",
       " 'torna': 564,\n",
       " 'levar': 565,\n",
       " 'houve': 566,\n",
       " 'serem': 567,\n",
       " 'compreender': 568,\n",
       " 'minutos': 569,\n",
       " 'som': 570,\n",
       " 'unidos': 571,\n",
       " 'pensem': 572,\n",
       " 'irm': 573,\n",
       " 'seguinte': 574,\n",
       " 'papel': 575,\n",
       " 'mundial': 576,\n",
       " 'conseguir': 577,\n",
       " 'pensei': 578,\n",
       " 'ouvir': 579,\n",
       " 'voz': 580,\n",
       " 'vem': 581,\n",
       " 'cr': 582,\n",
       " 'professores': 583,\n",
       " 'basicamente': 584,\n",
       " 'cancro': 585,\n",
       " 'ximo': 586,\n",
       " 'animais': 587,\n",
       " 'baixo': 588,\n",
       " 'natural': 589,\n",
       " 'oportunidade': 590,\n",
       " 'ltimos': 591,\n",
       " 'sucesso': 592,\n",
       " 'an': 593,\n",
       " 'cias': 594,\n",
       " 'capacidade': 595,\n",
       " 'meros': 596,\n",
       " 'necess': 597,\n",
       " 'locais': 598,\n",
       " 'medida': 599,\n",
       " 'delas': 600,\n",
       " 'final': 601,\n",
       " 'usando': 602,\n",
       " 'seis': 603,\n",
       " 'empresa': 604,\n",
       " 'vi': 605,\n",
       " 'certeza': 606,\n",
       " 'valor': 607,\n",
       " 'nenhum': 608,\n",
       " 'culas': 609,\n",
       " 'conhecimento': 610,\n",
       " 'escala': 611,\n",
       " 'ap': 612,\n",
       " 'idade': 613,\n",
       " 'ia': 614,\n",
       " 'ferramentas': 615,\n",
       " 'semana': 616,\n",
       " 'ted': 617,\n",
       " 'cient': 618,\n",
       " 'campo': 619,\n",
       " 'tecnologias': 620,\n",
       " 'laborat': 621,\n",
       " 'demasiado': 622,\n",
       " 'decis': 623,\n",
       " 'gica': 624,\n",
       " 'gera': 625,\n",
       " 'lan': 626,\n",
       " 'deus': 627,\n",
       " 'sejam': 628,\n",
       " 'sistemas': 629,\n",
       " 'nios': 630,\n",
       " 'cria': 631,\n",
       " 'entanto': 632,\n",
       " 'cima': 633,\n",
       " 'confian': 634,\n",
       " 'importantes': 635,\n",
       " 'blico': 636,\n",
       " 'livros': 637,\n",
       " 'haver': 638,\n",
       " 'escrever': 639,\n",
       " 'cultura': 640,\n",
       " 'disto': 641,\n",
       " 'pensamos': 642,\n",
       " 'pequenos': 643,\n",
       " 'perto': 644,\n",
       " 'devido': 645,\n",
       " 'partilhar': 646,\n",
       " 'finalmente': 647,\n",
       " 'hora': 648,\n",
       " 'sentir': 649,\n",
       " 'iria': 650,\n",
       " 'conta': 651,\n",
       " 'comum': 652,\n",
       " 'mi': 653,\n",
       " 'institui': 654,\n",
       " 'sob': 655,\n",
       " 'dessa': 656,\n",
       " 'trata': 657,\n",
       " 'aplica': 658,\n",
       " 'mente': 659,\n",
       " 'linha': 660,\n",
       " 'dico': 661,\n",
       " 'manter': 662,\n",
       " 'mar': 663,\n",
       " 'ndia': 664,\n",
       " 'reas': 665,\n",
       " 'passa': 666,\n",
       " 'pensam': 667,\n",
       " 'filho': 668,\n",
       " 'vejam': 669,\n",
       " 'dan': 670,\n",
       " 'di': 671,\n",
       " 'longe': 672,\n",
       " 'rob': 673,\n",
       " 'ltima': 674,\n",
       " 'universidade': 675,\n",
       " 'parar': 676,\n",
       " 'semanas': 677,\n",
       " 'nenhuma': 678,\n",
       " 'gosto': 679,\n",
       " 'movimento': 680,\n",
       " 'fizeram': 681,\n",
       " 'centenas': 682,\n",
       " 'stria': 683,\n",
       " 'europa': 684,\n",
       " 'cento': 685,\n",
       " 'aram': 686,\n",
       " 'china': 687,\n",
       " 'pontos': 688,\n",
       " 'pessoal': 689,\n",
       " 'colocar': 690,\n",
       " 'resultado': 691,\n",
       " 'viagem': 692,\n",
       " 'estrutura': 693,\n",
       " 'acesso': 694,\n",
       " 'estudantes': 695,\n",
       " 'gostaria': 696,\n",
       " 'capaz': 697,\n",
       " 'vossos': 698,\n",
       " 'sair': 699,\n",
       " 'imaginar': 700,\n",
       " 'fundo': 701,\n",
       " 'prote': 702,\n",
       " 'carbono': 703,\n",
       " 'controlo': 704,\n",
       " 'redes': 705,\n",
       " 'crescimento': 706,\n",
       " 'norte': 707,\n",
       " 'disseram': 708,\n",
       " 'servi': 709,\n",
       " 'equipa': 710,\n",
       " 'perguntar': 711,\n",
       " 'tivemos': 712,\n",
       " 'descobrimos': 713,\n",
       " 'mo': 714,\n",
       " 'quina': 715,\n",
       " 'prios': 716,\n",
       " 'organiza': 717,\n",
       " 'rie': 718,\n",
       " 'acredito': 719,\n",
       " 'per': 720,\n",
       " 'amor': 721,\n",
       " 'tio': 722,\n",
       " 'u': 723,\n",
       " 'capazes': 724,\n",
       " 'totalmente': 725,\n",
       " 'vista': 726,\n",
       " 'umas': 727,\n",
       " 'neur': 728,\n",
       " 'novos': 729,\n",
       " 'suficiente': 730,\n",
       " 'design': 731,\n",
       " 'estudo': 732,\n",
       " 'aprendizagem': 733,\n",
       " 'ltimo': 734,\n",
       " 'apesar': 735,\n",
       " 'deve': 736,\n",
       " 'el': 737,\n",
       " 'partes': 738,\n",
       " 'amigo': 739,\n",
       " 'resultados': 740,\n",
       " 'sico': 741,\n",
       " 'continuar': 742,\n",
       " 'quantidade': 743,\n",
       " 'precisam': 744,\n",
       " 'aten': 745,\n",
       " 'acabar': 746,\n",
       " 'pois': 747,\n",
       " 'pesquisa': 748,\n",
       " 'cora': 749,\n",
       " 'leo': 750,\n",
       " 'impacto': 751,\n",
       " 'mesmos': 752,\n",
       " 'sol': 753,\n",
       " 'passo': 754,\n",
       " 'rapidamente': 755,\n",
       " 'teoria': 756,\n",
       " 'nisso': 757,\n",
       " 'normal': 758,\n",
       " 'av': 759,\n",
       " 'resolver': 760,\n",
       " 'morte': 761,\n",
       " 'desafio': 762,\n",
       " 'obter': 763,\n",
       " 'mensagem': 764,\n",
       " 'pio': 765,\n",
       " 'is': 766,\n",
       " 'precisa': 767,\n",
       " 'cor': 768,\n",
       " 'risco': 769,\n",
       " 'seres': 770,\n",
       " 'sete': 771,\n",
       " 'centro': 772,\n",
       " 'alunos': 773,\n",
       " 'especial': 774,\n",
       " 'direito': 775,\n",
       " 'programa': 776,\n",
       " 'perguntas': 777,\n",
       " 'rua': 778,\n",
       " 'foto': 779,\n",
       " 'li': 780,\n",
       " 'direitos': 781,\n",
       " 'culos': 782,\n",
       " 'computadores': 783,\n",
       " 'ler': 784,\n",
       " 'google': 785,\n",
       " 'permite': 786,\n",
       " 'passe': 787,\n",
       " 'colegas': 788,\n",
       " 'mostra': 789,\n",
       " 'esperan': 790,\n",
       " 'aumentar': 791,\n",
       " 'fiquei': 792,\n",
       " 'fotografia': 793,\n",
       " 'sul': 794,\n",
       " 'entrar': 795,\n",
       " 'comigo': 796,\n",
       " 'evolu': 797,\n",
       " 'revolu': 798,\n",
       " 'mudou': 799,\n",
       " 'devemos': 800,\n",
       " 'embora': 801,\n",
       " 'procura': 802,\n",
       " 'nisto': 803,\n",
       " 'cl': 804,\n",
       " 'nicos': 805,\n",
       " 'escolas': 806,\n",
       " 'geral': 807,\n",
       " 'extraordin': 808,\n",
       " 'xima': 809,\n",
       " 'cientistas': 810,\n",
       " 'jovem': 811,\n",
       " 'telem': 812,\n",
       " 'consigo': 813,\n",
       " 'mercado': 814,\n",
       " 'dist': 815,\n",
       " 'leva': 816,\n",
       " 'cies': 817,\n",
       " 'lugares': 818,\n",
       " 'boas': 819,\n",
       " 'beb': 820,\n",
       " 'alcan': 821,\n",
       " 'indiv': 822,\n",
       " 'online': 823,\n",
       " 'comunica': 824,\n",
       " 'materiais': 825,\n",
       " 'ensinar': 826,\n",
       " 'material': 827,\n",
       " 'devem': 828,\n",
       " 'uso': 829,\n",
       " 'novamente': 830,\n",
       " 'pequenas': 831,\n",
       " 'pobres': 832,\n",
       " 'normalmente': 833,\n",
       " 'resto': 834,\n",
       " 'sangue': 835,\n",
       " 'nessa': 836,\n",
       " 'mem': 837,\n",
       " 'grupos': 838,\n",
       " 'consegue': 839,\n",
       " 'humanidade': 840,\n",
       " 'dicos': 841,\n",
       " 'hip': 842,\n",
       " 'funcionar': 843,\n",
       " 'dessas': 844,\n",
       " 'possam': 845,\n",
       " 'especialmente': 846,\n",
       " 'comportamento': 847,\n",
       " 'amea': 848,\n",
       " 'visto': 849,\n",
       " 'ado': 850,\n",
       " 'lidar': 851,\n",
       " 'fun': 852,\n",
       " 'regras': 853,\n",
       " 'recursos': 854,\n",
       " 'andar': 855,\n",
       " 'teria': 856,\n",
       " 'naquele': 857,\n",
       " 'ficam': 858,\n",
       " 'particular': 859,\n",
       " 'espero': 860,\n",
       " 'posi': 861,\n",
       " 'lias': 862,\n",
       " 'nesse': 863,\n",
       " 'alta': 864,\n",
       " 'metade': 865,\n",
       " 'crescer': 866,\n",
       " 'tirar': 867,\n",
       " 'princ': 868,\n",
       " 'chamamos': 869,\n",
       " 'condi': 870,\n",
       " 'tu': 871,\n",
       " 'petr': 872,\n",
       " 'tenha': 873,\n",
       " 'sexo': 874,\n",
       " 'exatamente': 875,\n",
       " 'iorque': 876,\n",
       " 'peda': 877,\n",
       " 'aula': 878,\n",
       " 'religi': 879,\n",
       " 'ch': 880,\n",
       " 'rus': 881,\n",
       " 'vir': 882,\n",
       " 'nuclear': 883,\n",
       " 'aprendi': 884,\n",
       " 'chave': 885,\n",
       " 'ngua': 886,\n",
       " 'podiam': 887,\n",
       " 'cidad': 888,\n",
       " 'via': 889,\n",
       " 'custo': 890,\n",
       " 'inova': 891,\n",
       " 'pegar': 892,\n",
       " 'superf': 893,\n",
       " 'mental': 894,\n",
       " 'terem': 895,\n",
       " 'tenham': 896,\n",
       " 'fomos': 897,\n",
       " 'sequer': 898,\n",
       " 'esquerda': 899,\n",
       " 'fazia': 900,\n",
       " 'usam': 901,\n",
       " 'plano': 902,\n",
       " 'vejo': 903,\n",
       " 'us': 904,\n",
       " 'cara': 905,\n",
       " 'deres': 906,\n",
       " 'espera': 907,\n",
       " 'fotos': 908,\n",
       " 'sociedades': 909,\n",
       " 'mapa': 910,\n",
       " 'contr': 911,\n",
       " 'conversa': 912,\n",
       " 'altera': 913,\n",
       " 'professor': 914,\n",
       " 'pre': 915,\n",
       " 'pior': 916,\n",
       " 'ficou': 917,\n",
       " 'tomar': 918,\n",
       " 'consci': 919,\n",
       " 'naquela': 920,\n",
       " 'procurar': 921,\n",
       " 'efeito': 922,\n",
       " 'digital': 923,\n",
       " 'primeiros': 924,\n",
       " 'lula': 925,\n",
       " 'possamos': 926,\n",
       " 'sensa': 927,\n",
       " 'conseguia': 928,\n",
       " 'presente': 929,\n",
       " 'pedir': 930,\n",
       " 'tivesse': 931,\n",
       " 'exactamente': 932,\n",
       " 'mol': 933,\n",
       " 'linguagem': 934,\n",
       " 'recentemente': 935,\n",
       " 'explicar': 936,\n",
       " 'repente': 937,\n",
       " 'sticas': 938,\n",
       " 'liberdade': 939,\n",
       " 'possa': 940,\n",
       " 'precis': 941,\n",
       " 'desenvolver': 942,\n",
       " 'correr': 943,\n",
       " 'produtos': 944,\n",
       " 'clim': 945,\n",
       " 'bons': 946,\n",
       " 'palestra': 947,\n",
       " 'ambos': 948,\n",
       " 'forte': 949,\n",
       " 'errado': 950,\n",
       " 'ensino': 951,\n",
       " 'produzir': 952,\n",
       " 'levou': 953,\n",
       " 'topo': 954,\n",
       " 'prias': 955,\n",
       " 'oh': 956,\n",
       " 'dispon': 957,\n",
       " 'part': 958,\n",
       " 'principal': 959,\n",
       " 'gico': 960,\n",
       " 'km': 961,\n",
       " 'projecto': 962,\n",
       " 'sorte': 963,\n",
       " 'timas': 964,\n",
       " 'ingl': 965,\n",
       " 'micos': 966,\n",
       " 'gen': 967,\n",
       " 'teste': 968,\n",
       " 'genes': 969,\n",
       " 'veem': 970,\n",
       " 'adoro': 971,\n",
       " 'qualidade': 972,\n",
       " 'velocidade': 973,\n",
       " 'media': 974,\n",
       " 'dor': 975,\n",
       " 'tua': 976,\n",
       " 'prazo': 977,\n",
       " 'animal': 978,\n",
       " 'melhorar': 979,\n",
       " 'usamos': 980,\n",
       " 'caixa': 981,\n",
       " 'massa': 982,\n",
       " 'desse': 983,\n",
       " 'comprar': 984,\n",
       " 'pobreza': 985,\n",
       " 'metro': 986,\n",
       " 'custos': 987,\n",
       " 'respostas': 988,\n",
       " 'ex': 989,\n",
       " 'blica': 990,\n",
       " 'aquelas': 991,\n",
       " 'mau': 992,\n",
       " 'vivemos': 993,\n",
       " 'emprego': 994,\n",
       " 'i': 995,\n",
       " 'oito': 996,\n",
       " 'regi': 997,\n",
       " 'odo': 998,\n",
       " 'can': 999,\n",
       " 'mec': 1000,\n",
       " ...}"
      ]
     },
     "execution_count": 56,
     "metadata": {},
     "output_type": "execute_result"
    }
   ],
   "source": [
    "inp_lang.word_index"
   ]
  },
  {
   "cell_type": "code",
   "execution_count": 57,
   "metadata": {
    "id": "WrAM0FDomq3E",
    "scrolled": false
   },
   "outputs": [
    {
     "name": "stdout",
     "output_type": "stream",
     "text": [
      "Input: <start> problema que temos que resolver . <end>\n",
      "Predicted translation: it s a lot of the world . <end> \n"
     ]
    },
    {
     "data": {
      "image/png": "[encoded data removed]",
      "text/plain": [
       "<Figure size 720x720 with 1 Axes>"
      ]
     },
     "metadata": {
      "needs_background": "light"
     },
     "output_type": "display_data"
    }
   ],
   "source": [
    "translate(\"problema que temos que resolver.\")"
   ]
  },
  {
   "cell_type": "code",
   "execution_count": 58,
   "metadata": {},
   "outputs": [
    {
     "name": "stdout",
     "output_type": "stream",
     "text": [
      "Input: <start> este um problema que temos que resolver . <end>\n",
      "Predicted translation: this is a lot of this . <end> \n"
     ]
    },
    {
     "data": {
      "image/png": "[encoded data removed]",
      "text/plain": [
       "<Figure size 720x720 with 1 Axes>"
      ]
     },
     "metadata": {
      "needs_background": "light"
     },
     "output_type": "display_data"
    }
   ],
   "source": [
    "translate(\"este é um problema que temos que resolver.\")"
   ]
  },
  {
   "cell_type": "code",
   "execution_count": 59,
   "metadata": {
    "id": "zSx2iM36EZQZ"
   },
   "outputs": [
    {
     "name": "stdout",
     "output_type": "stream",
     "text": [
      "Input: <start> os meus vizinhos ouviram sobre esta ideia . <end>\n",
      "Predicted translation: what i ve been a little bit at this . <end> \n"
     ]
    },
    {
     "data": {
      "image/png": "[encoded data removed]",
      "text/plain": [
       "<Figure size 720x720 with 1 Axes>"
      ]
     },
     "metadata": {
      "needs_background": "light"
     },
     "output_type": "display_data"
    }
   ],
   "source": [
    "translate(\"os meus vizinhos ouviram sobre esta ideia.\")"
   ]
  },
  {
   "cell_type": "code",
   "execution_count": 60,
   "metadata": {
    "id": "A3LLCx3ZE0Ls"
   },
   "outputs": [
    {
     "name": "stdout",
     "output_type": "stream",
     "text": [
      "Input: <start> os meus alunos t m problemas <end>\n",
      "Predicted translation: what we re not a lot of the world . <end> \n"
     ]
    },
    {
     "data": {
      "image/png": "[encoded data removed]",
      "text/plain": [
       "<Figure size 720x720 with 1 Axes>"
      ]
     },
     "metadata": {
      "needs_background": "light"
     },
     "output_type": "display_data"
    }
   ],
   "source": [
    "translate(\"os meus alunos t m problemas\")"
   ]
  },
  {
   "cell_type": "markdown",
   "metadata": {
    "id": "RTe5P5ioMJwN"
   },
   "source": [
    "## Next steps\n",
    "\n",
    "* [Download a different dataset](http://www.manythings.org/anki/) to experiment with translations, for example, English to German, or English to French.\n",
    "* Experiment with training on a larger dataset, or using more epochs\n"
   ]
  },
  {
   "cell_type": "code",
   "execution_count": 61,
   "metadata": {},
   "outputs": [],
   "source": [
    "inp_lang_val, targ_lang_val = create_dataset(val_examples,None,None)"
   ]
  },
  {
   "cell_type": "code",
   "execution_count": 62,
   "metadata": {},
   "outputs": [
    {
     "data": {
      "text/plain": [
       "'<start> estava sempre preocupado em ser apanhado e enviado de volta . <end>'"
      ]
     },
     "execution_count": 62,
     "metadata": {},
     "output_type": "execute_result"
    }
   ],
   "source": [
    "inp_lang_val[1]"
   ]
  },
  {
   "cell_type": "code",
   "execution_count": 63,
   "metadata": {},
   "outputs": [
    {
     "data": {
      "text/plain": [
       "'<start> i was always worried about being caught and sent back . <end>'"
      ]
     },
     "execution_count": 63,
     "metadata": {},
     "output_type": "execute_result"
    }
   ],
   "source": [
    "targ_lang_val[1]"
   ]
  },
  {
   "cell_type": "code",
   "execution_count": 102,
   "metadata": {},
   "outputs": [
    {
     "name": "stdout",
     "output_type": "stream",
     "text": [
      "Input: <start> tinham comido peixe com batatas fritas ? <end>\n",
      "Predicted Translation: he was the world is not ? <end> \n",
      "Real translation: did they eat fish and chips ? <end>\n",
      "BLEU Score:  0.25\n",
      "--------------------------------------------------------------------------------\n",
      "Input: <start> estava sempre preocupado em ser apanhado e enviado de volta . <end>\n",
      "Predicted Translation: he was not been to the world . <end> \n",
      "Real translation: i was always worried about being caught and sent back . <end>\n",
      "BLEU Score:  0.23884377019126307\n",
      "--------------------------------------------------------------------------------\n",
      "Input: <start> e , na minha opini o , uma cura n o s para mim , mas para toda a gente . <end>\n"
     ]
    },
    {
     "name": "stderr",
     "output_type": "stream",
     "text": [
      "C:\\Users\\user\\Anaconda3\\envs\\tf-gpu-env\\lib\\site-packages\\nltk\\translate\\bleu_score.py:516: UserWarning: \n",
      "The hypothesis contains 0 counts of 3-gram overlaps.\n",
      "Therefore the BLEU score evaluates to 0, independently of\n",
      "how many N-gram overlaps of lower order it contains.\n",
      "Consider using lower n-gram order or use SmoothingFunction()\n",
      "  warnings.warn(_msg)\n",
      "C:\\Users\\user\\Anaconda3\\envs\\tf-gpu-env\\lib\\site-packages\\nltk\\translate\\bleu_score.py:516: UserWarning: \n",
      "The hypothesis contains 0 counts of 4-gram overlaps.\n",
      "Therefore the BLEU score evaluates to 0, independently of\n",
      "how many N-gram overlaps of lower order it contains.\n",
      "Consider using lower n-gram order or use SmoothingFunction()\n",
      "  warnings.warn(_msg)\n"
     ]
    },
    {
     "name": "stdout",
     "output_type": "stream",
     "text": [
      "Predicted Translation: he was the first , i m going to be a lot of the world . <end> \n",
      "Real translation: and from what i feel , it s a cure for me , but for us all . <end>\n",
      "BLEU Score:  0.26147346041258107\n",
      "--------------------------------------------------------------------------------\n",
      "Input: <start> quando n o conseguia adormecer devido ao intenso frio , ou s dores da fome , eu esperava que , na manh seguinte , a minha irm voltasse para me acordar com a minha comida preferida . <end>\n",
      "Predicted Translation: he was not not been a lot of the world , and i was a lot of the world , and i was a lot of the world , and i was a lot of the world , and i was a lot of the world , and i was a lot of the world , and i was a lot of the world , and i was a lot of the world , and i was a lot of the world , and i was a lot of the world , and i was a lot of the world , and i was a lot of the world , and i was a lot of the world , and i was a lot of the world , and i was a lot of the world , \n",
      "Real translation: when i could not fall asleep from bitter cold or hunger pains , i hoped that , the next morning , my sister would come back to wake me up with my favorite food . <end>\n",
      "BLEU Score:  0.051094890510948905\n",
      "--------------------------------------------------------------------------------\n",
      "Input: <start> a voz delas torna se a minha voz e a minha identidade . <end>\n",
      "Predicted Translation: he s not not like what i m going to be a lot of the world . <end> \n",
      "Real translation: and their voice becomes my voice and identity . <end>\n",
      "BLEU Score:  0.11111111111111109\n",
      "--------------------------------------------------------------------------------\n",
      "Input: <start> se pensarmos mais profundamente em coisas como estas , a resposta bvia das pessoas deve ser aquele , ok , isso soa mal , mas n o me afeta realmente porque sou um cidad o legal . <end>\n"
     ]
    },
    {
     "name": "stderr",
     "output_type": "stream",
     "text": [
      "C:\\Users\\user\\Anaconda3\\envs\\tf-gpu-env\\lib\\site-packages\\nltk\\translate\\bleu_score.py:516: UserWarning: \n",
      "The hypothesis contains 0 counts of 2-gram overlaps.\n",
      "Therefore the BLEU score evaluates to 0, independently of\n",
      "how many N-gram overlaps of lower order it contains.\n",
      "Consider using lower n-gram order or use SmoothingFunction()\n",
      "  warnings.warn(_msg)\n"
     ]
    },
    {
     "name": "stdout",
     "output_type": "stream",
     "text": [
      "Predicted Translation: he was not been a lot of the world , and i m going to be a lot of the world , and i m going to be a lot of the world , and i m going to be a lot of the world , and i m going to be a lot of the world , and i m going to be a lot of the world , and i m going to be a lot of the world , and i m going to be a lot of the world , and i m going to be a lot of the world , and i m going to be a lot of the world , and i m going to be a lot of the world , and i m going to be a \n",
      "Real translation: now when we think deeper about things like these , the obvious response from people should be that , okay , that sounds bad , but that does n t really affect me because i m a legal citizen . <end>\n",
      "BLEU Score:  0.06569343065693431\n",
      "--------------------------------------------------------------------------------\n",
      "Input: <start> um trabalho em desenvolvimento de uma hist ria pessoal para uma hist ria global . <end>\n",
      "Predicted Translation: he s a lot of the world is a lot of a lot of the world . <end> \n",
      "Real translation: it s a work in progress from a personal story to a global history . <end>\n",
      "BLEU Score:  0.3333333333333333\n",
      "--------------------------------------------------------------------------------\n",
      "Input: <start> foi incr vel que as pessoas tenham come ado a partilhar os seus pensamentos sobre o trabalho . <end>\n",
      "Predicted Translation: he was a lot of the world is the world . <end> \n",
      "Real translation: it was amazing that people started to share their thoughts about the work with me . <end>\n",
      "BLEU Score:  0.2197468767334812\n",
      "--------------------------------------------------------------------------------\n",
      "Input: <start> at na coreia do norte eu era um estudante med ocre . <end>\n",
      "Predicted Translation: he was the first of the world , and i was a lot of the world . <end> \n",
      "Real translation: even in north korea , i was an f student . <end>\n",
      "BLEU Score:  0.2777777777777778\n",
      "--------------------------------------------------------------------------------\n",
      "Input: <start> chamamos a isto a miss o zero . <end>\n",
      "Predicted Translation: he was this is the world . <end> \n",
      "Real translation: we call this mission zero . <end>\n",
      "BLEU Score:  0.375\n",
      "--------------------------------------------------------------------------------\n",
      "Input: <start> sou artista , e informa o p blica no meu trabalho . <end>\n",
      "Predicted Translation: he was to see the world . <end> \n",
      "Real translation: i m an artist , i use several forms of open source technologies and open information in my practice . <end>\n",
      "BLEU Score:  0.049227918801048515\n",
      "--------------------------------------------------------------------------------\n",
      "Input: <start> sem piada nenhuma . <end>\n",
      "Predicted Translation: he s not not . <end> \n",
      "Real translation: and without the humor . <end>\n",
      "BLEU Score:  0.3333333333333333\n",
      "--------------------------------------------------------------------------------\n",
      "Input: <start> e estas s o as quest es com que temos de nos preocupar durante os pr ximos anos . <end>\n",
      "Predicted Translation: he was a lot of the world is a lot of the world . <end> \n",
      "Real translation: and these are the questions that we have to worry about for the next years . <end>\n",
      "BLEU Score:  0.233379551744786\n",
      "--------------------------------------------------------------------------------\n",
      "Input: <start> se forem um f sico de part culas , v o querer saber o que acontece quando fazemos chocar coisas umas contra as outras . <end>\n",
      "Predicted Translation: he was a lot of the world is a lot of the world . <end> \n",
      "Real translation: if you re a particle physicist , you want to know what happens when we smash things together . <end>\n",
      "BLEU Score:  0.14330626211475786\n",
      "--------------------------------------------------------------------------------\n",
      "Input: <start> no futuro , a maioria do crime ir acontecer online . <end>\n",
      "Predicted Translation: he was a lot of the world , the world is the world . <end> \n",
      "Real translation: in the future , the majority of crime will be happening online . <end>\n",
      "BLEU Score:  0.4\n",
      "--------------------------------------------------------------------------------\n"
     ]
    }
   ],
   "source": [
    "bleuplus = 0\n",
    "bleu_ = 0\n",
    "\n",
    "for i in [0,1,5,70,80,101,6,99,87,999,105,33,45,89,96]: #0,1,5\n",
    "    pt_test = inp_lang_val[i]\n",
    "    print('Input: {}'.format(pt_test))\n",
    "#     pt_test = pt_.numpy().decode(\"utf-8\", \"ignore\")\n",
    "    result, sentence, _ = evaluate(pt_test)\n",
    "# #     predicted = translate(pt_test)\n",
    "    result = result\n",
    "    print('Predicted Translation: {}'.format(result))\n",
    "    en_test = targ_lang_val[i].split(' ', 1)[1]\n",
    "    print('Real translation: {}'.format(en_test))\n",
    "    bleu_ = bleu.sentence_bleu([en_test.split()], result.split(), weights=(1,0,0,0))\n",
    "    print(\"BLEU Score: \", bleu_)\n",
    "    print(\"----\" *20)\n",
    "\n",
    "    bleuplus += bleu_"
   ]
  },
  {
   "cell_type": "code",
   "execution_count": 103,
   "metadata": {},
   "outputs": [
    {
     "data": {
      "text/plain": [
       "0.22288811444809045"
      ]
     },
     "execution_count": 103,
     "metadata": {},
     "output_type": "execute_result"
    }
   ],
   "source": [
    "bleuplus/15"
   ]
  },
  {
   "cell_type": "code",
   "execution_count": null,
   "metadata": {},
   "outputs": [],
   "source": []
  }
 ],
 "metadata": {
  "accelerator": "GPU",
  "colab": {
   "collapsed_sections": [],
   "name": "nmt_with_attention.ipynb",
   "toc_visible": true
  },
  "kernelspec": {
   "display_name": "Python 3",
   "language": "python",
   "name": "python3"
  },
  "language_info": {
   "codemirror_mode": {
    "name": "ipython",
    "version": 3
   },
   "file_extension": ".py",
   "mimetype": "text/x-python",
   "name": "python",
   "nbconvert_exporter": "python",
   "pygments_lexer": "ipython3",
   "version": "3.7.7"
  }
 },
 "nbformat": 4,
 "nbformat_minor": 1
}
